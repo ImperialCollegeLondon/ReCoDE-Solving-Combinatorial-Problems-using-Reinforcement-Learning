{
 "cells": [
  {
   "cell_type": "code",
   "execution_count": null,
   "id": "e2b63bb2",
   "metadata": {},
   "outputs": [
    {
     "data": {
      "application/vnd.jupyter.widget-view+json": {
       "model_id": "fb5f7be16a0549d789178927ecb30d19",
       "version_major": 2,
       "version_minor": 0
      },
      "text/plain": [
       "VBox(children=(HBox(children=(Button(button_style='success', description='Run Tests', icon='check', style=Butt…"
      ]
     },
     "metadata": {},
     "output_type": "display_data"
    }
   ],
   "source": [
    "from src.internal import make_tester\n",
    "\n",
    "# Stubbed function - a student is to implement such a function\n",
    "def square(x):\n",
    "    return x * x      # sample solution\n",
    "\n",
    "# Case definitions\n",
    "cases = [\n",
    "    (3, 9, \"positive integer\"),\n",
    "    (-2, 4, \"negative integer\"),\n",
    "    (0, 0, \"zero\"),              \n",
    "    (10, 100)                     # optional description omitted\n",
    "]\n",
    "\n",
    "# Display\n",
    "tester_widget = make_tester(square, cases)\n",
    "display(tester_widget)"
   ]
  },
  {
   "cell_type": "code",
   "execution_count": null,
   "id": "3499cec5",
   "metadata": {},
   "outputs": [
    {
     "data": {
      "application/vnd.jupyter.widget-view+json": {
       "model_id": "0e3731a30edc4df99b86f774221c6bd1",
       "version_major": 2,
       "version_minor": 0
      },
      "text/plain": [
       "VBox(children=(HBox(children=(Button(button_style='success', description='Run Tests', icon='check', style=Butt…"
      ]
     },
     "metadata": {},
     "output_type": "display_data"
    }
   ],
   "source": [
    "def add(a, b, c=0):\n",
    "    return a + b + c\n",
    "\n",
    "cases = [\n",
    "    ((2, 3), 5, \"two args via tuple\"),\n",
    "    ((1, 2, 3), 6, \"three args via tuple\"),\n",
    "    ({\"a\": 4, \"b\": 5}, 9, \"kwargs via dict\"),\n",
    "]\n",
    "\n",
    "display(make_tester(add, cases))"
   ]
  }
 ],
 "metadata": {
  "kernelspec": {
   "display_name": ".venv",
   "language": "python",
   "name": "python3"
  },
  "language_info": {
   "codemirror_mode": {
    "name": "ipython",
    "version": 3
   },
   "file_extension": ".py",
   "mimetype": "text/x-python",
   "name": "python",
   "nbconvert_exporter": "python",
   "pygments_lexer": "ipython3",
   "version": "3.12.7"
  }
 },
 "nbformat": 4,
 "nbformat_minor": 5
}
