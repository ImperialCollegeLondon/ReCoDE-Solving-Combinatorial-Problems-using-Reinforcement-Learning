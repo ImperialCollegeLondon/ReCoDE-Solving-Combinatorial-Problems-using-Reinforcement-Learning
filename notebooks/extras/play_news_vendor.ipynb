{
 "cells": [
  {
   "cell_type": "code",
   "execution_count": 3,
   "id": "a23a45f6",
   "metadata": {},
   "outputs": [],
   "source": [
    "import gymnasium as gym\n",
    "import src.environments.news_vendor as nv"
   ]
  },
  {
   "cell_type": "code",
   "execution_count": 4,
   "id": "19291c6b",
   "metadata": {},
   "outputs": [
    {
     "name": "stdout",
     "output_type": "stream",
     "text": [
      "News Vendor  —  arrows adjust order (↑ +10, ↓ -10, → +100, ← -100),\n",
      "Digits build an exact number, Backspace deletes,\n",
      "Enter/Space submits the order, r resets, Esc/q quits.\n",
      "t= 1  order=   20  reward=-725.58\n",
      "t= 2  order=    0  reward=-798.44\n",
      "t= 3  order=    0  reward=-798.44\n",
      "t= 4  order=    0  reward=-919.42\n",
      "t= 5  order=    0  reward=-854.89\n"
     ]
    }
   ],
   "source": [
    "# ── 1.  Make the env in HUMAN‑render mode ───────────────────────────────────────\n",
    "env = gym.make(\"NewsVendor-v0\", render_mode=\"human\")\n",
    "obs = env.reset()\n",
    "\n",
    "# Pygame handle (the renderer keeps the pygame module reference internally)\n",
    "pygame = env.unwrapped._renderer._pg      # note: renderer attribute is “_pg”, not “_pygame”\n",
    "clock = pygame.time.Clock()\n",
    "\n",
    "running = True\n",
    "pending_order = 0.0                       # order you’re composing this turn\n",
    "high = env.action_space.high[0]           # = config.max_order_quantity\n",
    "\n",
    "print(\n",
    "    \"News Vendor  —  arrows adjust order (↑ +10, ↓ -10, → +100, ← -100),\\n\"\n",
    "    \"Digits build an exact number, Backspace deletes,\\n\"\n",
    "    \"Enter/Space submits the order, r resets, Esc/q quits.\"\n",
    ")\n",
    "\n",
    "# ── 2.  Main event loop ─────────────────────────────────────────────────────────\n",
    "while running:\n",
    "    # Draw current state every frame\n",
    "    env.render()\n",
    "\n",
    "    for event in pygame.event.get():\n",
    "        if event.type == pygame.QUIT:\n",
    "            running = False\n",
    "\n",
    "        elif event.type == pygame.KEYDOWN:\n",
    "            k = event.key\n",
    "\n",
    "            # —— Meta controls ——\n",
    "            if k in (pygame.K_ESCAPE, pygame.K_q):\n",
    "                running = False\n",
    "            elif k == pygame.K_r:                 # hard reset\n",
    "                obs, info = env.reset()\n",
    "                pending_order = 0.0\n",
    "\n",
    "            # —— Incremental adjustments ——\n",
    "            elif k == pygame.K_UP:                # +10\n",
    "                pending_order += 10\n",
    "            elif k == pygame.K_DOWN:              # −10\n",
    "                pending_order -= 10\n",
    "            elif k == pygame.K_RIGHT:             # +100\n",
    "                pending_order += 100\n",
    "            elif k == pygame.K_LEFT:              # −100\n",
    "                pending_order -= 100\n",
    "\n",
    "            # —— Build exact quantity with digits ——\n",
    "            elif pygame.K_0 <= k <= pygame.K_9:\n",
    "                digit = k - pygame.K_0\n",
    "                pending_order = pending_order * 10 + digit\n",
    "            elif k == pygame.K_BACKSPACE:\n",
    "                pending_order = int(pending_order // 10)\n",
    "\n",
    "            # —— Submit the order ——\n",
    "            elif k in (pygame.K_RETURN, pygame.K_SPACE):\n",
    "                qty = max(0.0, min(pending_order, high))     # clip to action bounds\n",
    "                obs, reward, terminated, truncated, info = env.step(qty)\n",
    "                print(f\"t={env.unwrapped.current_step:2d}  order={qty:5.0f}  reward={reward:7.2f}\")\n",
    "                pending_order = 0.0\n",
    "\n",
    "                if terminated or truncated:\n",
    "                    print(\"Episode finished – press 'r' to play again.\")\n",
    "\n",
    "    # Keep ‘pending_order’ legal & show it in the title bar\n",
    "    pending_order = max(0.0, min(pending_order, high))\n",
    "    pygame.display.set_caption(f\"News Vendor — pending order: {int(pending_order)}\")\n",
    "\n",
    "    clock.tick(30)   # keep event loop responsive (30 fps cap)\n",
    "\n",
    "env.close()"
   ]
  }
 ],
 "metadata": {
  "kernelspec": {
   "display_name": ".venv",
   "language": "python",
   "name": "python3"
  },
  "language_info": {
   "codemirror_mode": {
    "name": "ipython",
    "version": 3
   },
   "file_extension": ".py",
   "mimetype": "text/x-python",
   "name": "python",
   "nbconvert_exporter": "python",
   "pygments_lexer": "ipython3",
   "version": "3.12.7"
  }
 },
 "nbformat": 4,
 "nbformat_minor": 5
}
