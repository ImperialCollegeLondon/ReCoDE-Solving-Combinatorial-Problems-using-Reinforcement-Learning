{
 "cells": [
  {
   "cell_type": "markdown",
   "id": "a4441096",
   "metadata": {},
   "source": [
    "# 3. Experiments"
   ]
  },
  {
   "cell_type": "code",
   "execution_count": null,
   "id": "e5c3f26b",
   "metadata": {},
   "outputs": [],
   "source": [
    "from environments import MontyHallEnv, MontyHallDiscreteWrapper\n",
    "from src.rl import QLearningConfig, QLearningAgent\n",
    "\n",
    "import os\n",
    "import gymnasium as gym\n",
    "import wandb\n",
    "import numpy as np\n",
    "import matplotlib.pyplot as plt"
   ]
  },
  {
   "cell_type": "markdown",
   "id": "33944f2d",
   "metadata": {},
   "source": [
    "# Environments defined with Gymnasium\n",
    "Recall that Reinforcement Learning needs an environment to act in. It takes actions in this environment, learning what the optimal action is for each environment state it observes based on a reward it receives. Environments are independent of the algorithm being used.\n",
    "\n",
    "`Gymnasium` (https://gymnasium.farama.org/index.html) is the most popular library for defining environment classes and provides a lot of helpful wrappers, as well as an unified and clearly defined interface that all environments follow. It is a fork (continuation) of OpenAI's `Gym`, note that the original `Gym` is no longer maintained by anyone. Sometimes, people refer to `Gym` when they mean `Gymnasium` as a shorthand, or in older posts/literature used `Gym` when it was the main library.\n",
    "\n",
    "Here, we intend to run the environment initially, to get a feel for how our implemented algorithm (Tabular Q Learning) works in practice with the Gymnasium interface on a provided environment, Monty Hall.\n",
    "\n",
    "# Monty Hall environment\n",
    "The Monty Hall is a well-known problem that originated from a game show, it can be stated as follows:\n",
    "> Suppose you're on a game show, and you're given the choice of three doors: Behind one door is a car; behind the others, goats. You pick a door, say No. 1, and the host, who knows what's behind the doors, opens another door, say No. 3, which has a goat. He then says to you, \"Do you want to pick door No. 2?\" Is it to your advantage to switch your choice?"
   ]
  },
  {
   "cell_type": "markdown",
   "id": "11915960",
   "metadata": {},
   "source": [
    "<p align=\"center\">\n",
    "  <img src=\"data:image/png;base64,iVBORw0KGgoAAAANSUhEUgAAAQQAAACgCAYAAADq8hJGAAAAAXNSR0IArs4c6QAAAARnQU1BAACxjwv8YQUAAAAJcEhZcwAADsMAAA7DAcdvqGQAAAfHSURBVHhe7ds9ixRZFIfxVlE0UPEFFVzcwd7AYdd1cEcR2ReMFKONBCNDERFEEE3NTAzUzGhyMz+EgTiDKGqmmAm+zTe4yy3ow8y/1t2SM+d0W/0Ev8Dp8g51D/exrekZHDhwoABANdAvAJheBAGAIQgADEEAYAgCAEMQABiCAMAQBACGIAAwBAGAIQgADEEAYAgCAEMQABiCAMAQBACGIAAwBAGAIQgATOcgDAaDqaL376Xr953ev5eu33d6/1kIwlfo/Xvp+n2n9++l6/ed3n+Wbw7C8vJyr0UNZLTu3wvLvRa9fwsLC70WtX9dEQQRNRCC4EMQchAEETUQguBDEHIQBBE1EILgQxByEAQRNRCC4EMQchAEETUQguBDEHIQBBE1EILgQxByEAQRNRCC4EMQchAEETUQguBDEHIQBBE1EILgQxByEAQRNRCC4EMQchAEETUQguBDEHIQBBE1EILgQxByEAQRNRCC4EMQchAEETUQguBDEHIQBBE1EILgQxByEAQRNRCC4EMQchAEETUQguBDEHIQBBE1EILgQxByEAQRNRCC4EMQchAEETUQguBDEHIQBBE1EILgQxByEAQRNRCC4EMQchAEETUQguBDEHIQBBE1EILgQxByEAQRNRCC4EMQchAEETUQguBDEHIQBBE1EILgQxByEAQRNRCC4EMQchAEETUQguBDEHIQBBE1EILgQxByEAQRNRCC4EMQchAEETUQguBDEHIQBBE1EILgQxByEAQRNRCC4EMQchAEETUQguBDEHIQBBE1EILgQxByEAQRNRCC4EMQchAEETUQguBDEHJMXBCePXtWrl69Wo4ePVp27txZNm7cWHbt2lXm5ubKlStXypMnT1p/Zy1FDYQg+BCEHBMThA8fPjQHfsOGDfa9/k19/fLly+Xz58+tNdZC1EBG6+oB6pvo/dMD1DdR+9fVRATh48eP5fTp063D/1/OnTvXWmctRA1ktK4eoL6J3j89QH0TtX9dTUQQ6r/4Kw97/X73798vL1++bN45vH79uty9e7fs2bNn1XV1A3Utr6iBjNbVA9Q30funB6hvovavq7EHYWlpqXlOMFp/OByWN2/etK6rnj9/3jxXGF178uTJ1jVeUQMhCD4EIcfYg3D9+nVbu3r06FHrmpXu3LlTDh8+3KgPHtf6WULUQAiCD0HIMfYgzM/Pr9qEL1++tK7JFDUQguBDEHKMPQh79+61teuDRX292r59u12j3r1717reI2ogo3X1APVN9P7pAeqbqP3rauxB2Lx5s619/vz51usVQfh+RO+fHqC+idq/rsYehJU/OThz5kzr9YogfD+i908PUN9E7V9XYw/C8ePHbe3du3f/70PCt2/flnXr1hGECRW9f3qA+iZq/7oaexBu3Lhha1cPHjxoXbPSvXv3Vl1PECZL9P7pAeqbqP3rauxBePHiRdm0aZOtXz9n8Pjx49Z11dOnT5t3EaNrK4IwWaL3Tw9Q30TtX1djD0J17dq1VYd869at5datW80HkeonFV+9elVu375dduzYseq6iiBMluj90wPUN1H719VEBOHTp0+df5ehfqrx7Nmz9meCMFmi908PUN9E7V9XExGEqv6C08WLF8v69evte6ktW7Y0m/bw4UP7GkGYLNH7pweob6L2r6uJCcJIfX5w6dKlMjs7W7Zt29Y8X5iZmSkXLlwoi4uLzTX1Jw03b95svH//vrWGR9RACIIPQcgxcUEYt6iBEAQfgpCDIIiogRAEH4KQgyCIqIEQBB+CkIMgiKiBEAQfgpCDIIiogRAEH4KQgyCIqIEQBB+CkIMgiKiBEAQfgpCDIIiogRAEH4KQgyCIqIEQBB+CkIMgiKiBEAQfgpCDIIiogRAEH4KQgyCIqIEQBB+CkIMgiKiBEAQfgpCDIIiogRAEH4KQgyCIqIEQBB+CkIMgiKiBEAQfgpCDIIiogRAEH4KQgyCIqIEQBB+CkIMgiKiBEAQfgpCDIIiogRAEH4KQgyCIqIEQBB+CkIMgiKiBEAQfgpCDIIiogRAEH4KQgyCIqIEQBB+CkIMgiKiBEAQfgpCDIIiogRAEH4KQgyCIqIEQBB+CkIMgiKiBEAQfgpCDIIiogRAEH4KQgyCIqIEQBB+CkIMgiKiBEAQfgpCDIIiogRAEH4KQgyCIqIEQBB+CkIMgiKiBEAQfgpCDIIiogRAEH4KQgyCIqIEQBB+CkIMgiKiBEAQfgpCDIIiogRAEH4KQgyCIqIEQBB+CkIMgiKiBEAQfgpDjm4MwLfT+vXT9vtP799L1+07vPwtB+Aq9fy9dv+/0/r10/b7T+8/SOQgA+o8gADAEAYAhCAAMQQBgCAIAQxAAGIIAwBAEAIYgADAEAYAhCAAMQQBgCAIAQxAAGIIAwBAEAIYgADAEAYAhCAAMQQBgCAIAQxAAGIIAwBAEAIYgADAEAYAhCAAMQQBgCAIAQxAAGIIAwBAEAGZw8ODB1hcBTJ/agsGhQ7OtFwBMn9qCwa9H5lovAJg+tQWDP/46VYbDn1ovApgew+Gw1BYMZn85UuaPnWhdAGB61AbUFgz2/TBTfjt2ovkC7xSA6VLfGdSzXxtQW9AEYd/+H8vsz0fK73+eav4fUR8u8NMHoJ/q2a5nvJ71eubr2d+3f6YJwj8pUIQI2WZU5gAAAABJRU5ErkJggg==\" alt=\"Monty Hall Environment\" />\n",
    "</p> "
   ]
  },
  {
   "cell_type": "markdown",
   "id": "1911dd92",
   "metadata": {},
   "source": [
    "Overall in this notebook, our aim is to learn whether it is optimal or not to actually switch or remain. We can see this by rolling out our policy.\n",
    "\n",
    "You can also play this environment yourself in the notebook: `notebooks/extra/play_monty_hall.ipynb` before proceeding here."
   ]
  },
  {
   "cell_type": "markdown",
   "id": "39f9d22b",
   "metadata": {},
   "source": [
    "## Creating the configuration for the algorithm, an agent class, and instantiating the environment"
   ]
  },
  {
   "cell_type": "code",
   "execution_count": null,
   "id": "6b2f2f13",
   "metadata": {},
   "outputs": [],
   "source": [
    "# 1) Let us create a default config and default Q Learning Agent\n",
    "config = QLearningConfig(\n",
    "    learning_rate=0.1,\n",
    "    discount_factor=0.99,\n",
    "    epsilon_start=1.0,\n",
    "    epsilon_decay=0.9985,\n",
    "    epsilon_min=0.05,\n",
    "    max_steps_per_episode=100,\n",
    "    video_dir=\"exports/monty_hall\",\n",
    ")\n",
    "\n",
    "# 2) Create an instance of the Monty Hall environment\n",
    "env = gym.make(\n",
    "    \"MontyHall-v0\",\n",
    "    n_doors=3,\n",
    "    n_cars=1,\n",
    "    render_mode=\"rgb_array\",\n",
    ")\n",
    "\n",
    "# 2a) Tabular Q Learning requires a Discrete action space: not MultiDiscrete\n",
    "env = MontyHallDiscreteWrapper(env)\n",
    "\n",
    "# 3) An instance of Tabular Q Learning\n",
    "agent = QLearningAgent(env, config)\n",
    "\n",
    "# 4) Train for 500 episodes\n",
    "num_episodes = 500\n",
    "episode_rewards, converged_episode, converged_time = agent.train(\n",
    "    episodes=num_episodes,\n",
    "    log_interval=10,\n",
    ")\n",
    "\n",
    "# 4) Print out what happened each episode\n",
    "for i, r in enumerate(episode_rewards, start=1):\n",
    "    print(f\"Episode {i:2d} → Reward: {r:+.1f}\")\n",
    "\n",
    "if converged_episode != -1:\n",
    "    print(f\"\\nConverged at episode {converged_episode} after {converged_time:.2f}s\")\n",
    "else:\n",
    "    print(\"\\nDid not converge within 10 episodes.\")\n",
    "\n",
    "# 5) See the policy\n",
    "print(\"\\nRunning 10 test episodes with the trained policy:\")\n",
    "agent.test(episodes=10)\n",
    "\n",
    "env.close()"
   ]
  },
  {
   "cell_type": "markdown",
   "id": "84a9805a",
   "metadata": {},
   "source": [
    "# Visualisation of Training\n",
    "Here, we want to visualise how well our training went in terms of the reward achieved throughout the episodes encountered by our training algorithm. The best way to do this is quite simple: plot the training so far."
   ]
  },
  {
   "cell_type": "code",
   "execution_count": null,
   "id": "0afe5b41",
   "metadata": {},
   "outputs": [],
   "source": [
    "dpi     = 120       # figure resolution\n",
    "\n",
    "r = np.asarray(episode_rewards, dtype=float)\n",
    "\n",
    "cumsum = np.cumsum(np.insert(r, 0, 0))\n",
    "smooth = (cumsum[num_episodes:] - cumsum[:-num_episodes]) / num_episodes\n",
    "episodes_smooth = np.arange(len(smooth)) + num_episodes//2 + 1\n",
    "\n",
    "plt.figure(figsize=(10, 5), dpi=dpi)\n",
    "plt.plot(range(1, len(r) + 1), r, alpha=0.25, label='Episode reward')\n",
    "\n",
    "plt.title('Training Performance: Episode Rewards', fontsize=14)\n",
    "plt.xlabel('Episode')\n",
    "plt.ylabel('Reward')\n",
    "plt.legend(frameon=False)\n",
    "plt.grid(alpha=0.3)\n",
    "plt.tight_layout()\n",
    "plt.show()"
   ]
  },
  {
   "cell_type": "markdown",
   "id": "96aa10cd",
   "metadata": {},
   "source": [
    "# Hyperparameter tuning\n",
    "Some Reinforcement Learning algorithms have an abundance of parameters; especially in the territory of Deep Reinforcement Learning, where you could tune the batch size and even the neural network layout, amongst the learning rate and exploration rate.\n",
    "\n",
    "Therefore, it is important that we are able to systematically tune these hyperparameters in an automated fashion, as the number of combinations of parameters and interdependent effects are too numerous to manually tune (aside from setting a good starting point). Tuning is an art in and of itself, and is a form of optimization. Luckily, many libraries exist for finding the optimal set of hyperparameters, using various different approaches such as genetic algorithms, in order to explore and exploit areas of the tuning state space that are promising automatically.\n",
    "\n",
    "## How does it work?\n",
    "Exactly how hyperparameter tuning chooses to select combinations of parameters, continue runs (also known as *sweeps*, each sweep having an unique combination of parameters) or stop early, is an art in and of itself. There are many methods and algorithms that are out of scope for this project, although it should be noted that we are not simply enumerating all possible parameters as in a grid search, for example instead we can choose to use a random search or Bayes search.\n",
    "\n",
    "What we define is a tunable parameter, such as the following:\n",
    "```python\n",
    "        learning_rate   = dict(min=1e-5,  max=1e-2,  distribution=\"log_uniform_values\"),\n",
    "```\n",
    "* **What it is:** a rule for the hyperparameter tuning library, stating it should *try out different learning-rates* during a hyperparameter sweep.\n",
    "* **The range:** it may pick anything between **0.00001** and **0.01**.\n",
    "* **How the picks are made:** not evenly spaced, but **log-uniformly**.\n",
    "\n",
    "  * Think “pick a random exponent” rather than “pick a random number.”\n",
    "  * Each order of magnitude (10⁻⁵ → 10⁻⁴ → 10⁻³ → 10⁻²) is equally likely.\n",
    "\n",
    "Why log-uniform?\n",
    "\n",
    "1. With learning rates, what matters is usually the *order of magnitude*, not the exact decimal.\n",
    "2. A log-uniform draw therefore spends just as much effort exploring tiny values (which often work best) as it does larger ones.\n",
    "\n",
    "In short: *“Try lots of learning-rates between 0.000 01 and 0.01, giving every magnitude the same chance, because we don’t yet know which size step the optimiser will like.”*\n",
    "\n",
    "This is just one tunable parameter, and the problem of hyperparameter tuning is you have to select values for multiple hyperparameters at the same time, where hyperparameters are not always independent of each other, and you have limited compute time to run these experiments in. This is why specialised algorithms exist just for hyperparameter tuning.\n",
    "\n",
    "## Why is hyperparameter tuning needed?\n",
    "Finding the best set of hyperparameters allows converging (achieving the optimal/best performance) in a quicker fashion. It is possible that a default set of hyperparameters could converge to an optimal policy, but take 1000 times longer than using a set of optimal hyperparameters. Sometimes, without optimal hyperparameters it can also be easy for the policy to appear it has converged but it has converged to a sub-optimal policy instead of the policy that produces the best reward.\n",
    "\n",
    "## Weights and Biases\n",
    "Weights and Biases (referred to commonly as W&B or WandB) is a standard tool used in both industry and academia for tracking (and storing) the results of experiments. In other words, Weights and Biases is an end-to-end developer platform that keeps every experiment, dataset, model checkpoint, and evaluation in a single, searchable workspace.\n",
    "\n",
    "Specifically, we use it both as a hyperparameter tuning library and storing the results of experiments based on these hyperparameters.\n",
    "\n",
    "You can find more information at: https://docs.wandb.ai/quickstart/"
   ]
  },
  {
   "cell_type": "code",
   "execution_count": null,
   "id": "921bdc89",
   "metadata": {},
   "outputs": [],
   "source": [
    "wandb.login() # See https://docs.wandb.ai/quickstart/"
   ]
  },
  {
   "cell_type": "code",
   "execution_count": null,
   "id": "65082f81",
   "metadata": {},
   "outputs": [],
   "source": [
    "def train_sweep() -> None:\n",
    "    \"\"\"  One full training run driven by a set of hyper-parameters coming\n",
    "    from wandb.config. Logs metrics to W&B at the end of every episode.\n",
    "    \"\"\"\n",
    "    with wandb.init(project=\"montyhall-ql\") as run:\n",
    "        cfg = run.config\n",
    "\n",
    "        # 1. Converting the Weight & Biases Config -> Q Learning Config\n",
    "        qcfg = QLearningConfig(\n",
    "            learning_rate   = cfg.learning_rate,\n",
    "            discount_factor = cfg.discount_factor,\n",
    "            epsilon_start   = 1.0,\n",
    "            epsilon_decay   = cfg.epsilon_decay,\n",
    "            epsilon_min     = 0.05,\n",
    "            max_steps_per_episode = 100,\n",
    "            video_dir       = None\n",
    "        )\n",
    "\n",
    "        # 2️) Create env & agent\n",
    "        env  = gym.make(\"MontyHall-v0\", n_doors=3, n_cars=1, render_mode=None)\n",
    "        env  = MontyHallDiscreteWrapper(env)\n",
    "        agent = QLearningAgent(env, qcfg)\n",
    "\n",
    "        # 3️) Run training loop\n",
    "        episode_rewards, converged_ep, converged_t = agent.train(\n",
    "            episodes     = 500,\n",
    "            log_interval = 25,\n",
    "        )\n",
    "\n",
    "        # 4️) Log summary metrics & clean up\n",
    "        wandb.log({\n",
    "            \"best_reward\"      : max(episode_rewards),\n",
    "            \"converged_episode\": converged_ep,\n",
    "            \"train_time_sec\"   : converged_t,\n",
    "        })\n",
    "        env.close()"
   ]
  },
  {
   "cell_type": "code",
   "execution_count": null,
   "id": "980b469b",
   "metadata": {},
   "outputs": [],
   "source": [
    "sweep_config = dict(\n",
    "    name   = \"montyhall-bayes\",\n",
    "    method = \"bayes\",                      # The search method used: grid | random | bayes. Random & Bayes work best.\n",
    "    metric = dict(name=\"best_reward\", goal=\"maximize\"),\n",
    "    parameters = dict(\n",
    "        learning_rate   = dict(min=1e-5,  max=1e-2,  distribution=\"log_uniform_values\"),\n",
    "        discount_factor = dict(min=0.8,   max=0.999, distribution=\"uniform\"),\n",
    "        epsilon_decay   = dict(min=0.95,  max=0.9999,distribution=\"uniform\"),\n",
    "    ),\n",
    "    early_terminate = dict(type=\"hyperband\", min_iter=10),\n",
    ")\n",
    "\n",
    "sweep_id = wandb.sweep(sweep_config, project=\"montyhall-ql\")\n",
    "wandb.agent(sweep_id, function=train_sweep, count=30) # 30 trials"
   ]
  },
  {
   "cell_type": "markdown",
   "id": "a76f92f8",
   "metadata": {},
   "source": [
    "# Viewing the results\n",
    "If you navigate to the sweep URL on Weights & Biases (wandb.ai), you'll see the data logged in various formats such as table and graphs, where you can visualise the hyperparameter space. You should see something like the following:"
   ]
  },
  {
   "cell_type": "markdown",
   "id": "072d1831",
   "metadata": {},
   "source": [
    "![wandb dashboard](data:image/png;base64,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)"
   ]
  },
  {
   "cell_type": "markdown",
   "id": "2e4884af",
   "metadata": {},
   "source": [
    "Explore this dashboard fully for more information on how the tuning and sweeps went.\n",
    "\n",
    "We can programmatically print the best hyperparameters as below:"
   ]
  },
  {
   "cell_type": "code",
   "execution_count": null,
   "id": "33934220",
   "metadata": {},
   "outputs": [],
   "source": [
    "api   = wandb.Api()\n",
    "sweep = api.sweep(f\"{os.getenv(\"WANDB_ENTITY\")}/montyhall-ql/{sweep_id}\")\n",
    "best  = max(sweep.runs, key=lambda r: r.summary.get(\"best_reward\", float(\"-inf\")))\n",
    "\n",
    "\n",
    "\n",
    "# ── 2. Rank runs: highest reward FIRST, then earliest convergence ────────\n",
    "def sort_key(run):\n",
    "    # Reward: want *larger* → negate so larger becomes “smaller” for sort()\n",
    "    reward = -run.summary.get(\"best_reward\", float(\"-inf\"))\n",
    "    # Convergence episode: want *smaller*\n",
    "    conv_ep = run.summary.get(\"converged_episode\", float(\"inf\"))\n",
    "    return (reward, conv_ep)\n",
    "\n",
    "best_run = min(sweep.runs, key=sort_key)\n",
    "\n",
    "# ── 3. Print the winner’s details ────────────────────────────────────────\n",
    "print(f\"🏆  {best_run.name}\")\n",
    "print(f\"   • best_reward       : {best_run.summary['best_reward']}\")\n",
    "print(f\"   • converged_episode : {best_run.summary['converged_episode']}\")\n",
    "print(f\"   • hyperparams:\", {k: best_run.config[k] for k in ('learning_rate',\n",
    "                                                    'discount_factor',\n",
    "                                                    'epsilon_decay')})"
   ]
  },
  {
   "cell_type": "markdown",
   "id": "0a834d17",
   "metadata": {},
   "source": [
    "# Conclusion\n",
    "\n",
    "In this notebook, we learnt the following:\n",
    "* Instantiating environments with the Gymnasium library\n",
    "* Deployed our previously implemented Reinforcement Learning algorithm, Tabular Q Learning, on the aforementioned environment \n",
    "* How to visualise training performance through plotting with Matplotlib\n",
    "* How to perform hyperparameter tuning\n",
    "* Followed best practices for experiment tracking and storage of results in an archival manner\n",
    "\n",
    "Following this notebook, we will learn the process of environment creation in Notebook 4. This allows solving any arbitrary combinatorial problem, allowing you to formally define a model of the \"problem space\" for any problem you can think of.\n",
    "\n",
    "# Extension\n",
    "---\n",
    "\n",
    "## Extension 1. Optimal General Solution to Monty Hall\n",
    "As an extension to this, you can consider the following task:\n",
    "> Based on our trained RL algorithm, using optimal hyperparameters above, how often is it optimal to switch or stay with the first selected door? \n",
    "\n",
    "You can do this by using the `.test()` method and collecting some basic statistics using the rolled-out policy."
   ]
  }
 ],
 "metadata": {
  "kernelspec": {
   "display_name": ".venv",
   "language": "python",
   "name": "python3"
  },
  "language_info": {
   "codemirror_mode": {
    "name": "ipython",
    "version": 3
   },
   "file_extension": ".py",
   "mimetype": "text/x-python",
   "name": "python",
   "nbconvert_exporter": "python",
   "pygments_lexer": "ipython3",
   "version": "3.12.7"
  }
 },
 "nbformat": 4,
 "nbformat_minor": 5
}
