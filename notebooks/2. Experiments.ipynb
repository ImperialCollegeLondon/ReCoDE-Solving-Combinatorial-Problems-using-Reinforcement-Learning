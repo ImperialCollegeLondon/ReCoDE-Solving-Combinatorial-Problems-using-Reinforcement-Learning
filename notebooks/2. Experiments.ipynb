{
 "cells": [
  {
   "cell_type": "markdown",
   "id": "a4441096",
   "metadata": {},
   "source": [
    "# Experiments"
   ]
  },
  {
   "cell_type": "code",
   "execution_count": null,
   "id": "e5c3f26b",
   "metadata": {},
   "outputs": [],
   "source": [
    "from environments import MontyHallEnv, MontyHallDiscreteWrapper\n",
    "from src.rl import QLearningConfig, QLearningAgent\n",
    "\n",
    "import os\n",
    "import gymnasium as gym\n",
    "import wandb\n",
    "import numpy as np\n",
    "import matplotlib.pyplot as plt"
   ]
  },
  {
   "cell_type": "markdown",
   "id": "33944f2d",
   "metadata": {},
   "source": [
    "# Environments defined with Gymnasium\n",
    "Recall that Reinforcement Learning needs an environment to act in. It takes actions in this environment, learning what the optimal action is for each environment state it observes based on a reward it receives. Environments are independent of the algorithm being used.\n",
    "\n",
    "`Gymnasium` (https://gymnasium.farama.org/index.html) is the most popular library for defining environment classes and provides a lot of helpful wrappers, as well as an unified and clearly defined interface that all environments follow. It is a fork (continuation) of OpenAI's `Gym`, note that the original `Gym` is no longer maintained by anyone. Sometimes, people refer to `Gym` when they mean `Gymnasium` as a shorthand, or in older posts/literature used `Gym` when it was the main library.\n",
    "\n",
    "Here, we intend to run the environment initially, to get a feel for how our implemented algorithm (Tabular Q Learning) works in practice with the Gymnasium interface on a provided environment, Monty Hall.\n",
    "\n",
    "# Monty Hall environment\n",
    "The Monty Hall is a well-known problem that originated from a game show, it can be stated as follows:\n",
    "> Suppose you're on a game show, and you're given the choice of three doors: Behind one door is a car; behind the others, goats. You pick a door, say No. 1, and the host, who knows what's behind the doors, opens another door, say No. 3, which has a goat. He then says to you, \"Do you want to pick door No. 2?\" Is it to your advantage to switch your choice?\n",
    "\n",
    "<p align=\"center\">\n",
    "  <img src=\"assets/monty_hall.png\" alt=\"Monty Hall Environment\" />\n",
    "</p> \n",
    "\n",
    "Overall in this notebook, our aim is to learn whether it is optimal or not to actually switch or remain. We can see this by rolling out our policy.\n",
    "\n",
    "You can also play this environment yourself in the notebook: `notebooks/extra/play_monty_hall.ipynb` before proceeding here."
   ]
  },
  {
   "cell_type": "markdown",
   "id": "39f9d22b",
   "metadata": {},
   "source": [
    "## Creating the configuration for the algorithm, an agent class, and instantiating the environment"
   ]
  },
  {
   "cell_type": "code",
   "execution_count": null,
   "id": "6b2f2f13",
   "metadata": {},
   "outputs": [
    {
     "name": "stderr",
     "output_type": "stream",
     "text": [
      "c:\\Projects\\amethyst\\Solving-Combinatorial-Problems-using-Reinforcement-Learning\\.venv\\Lib\\site-packages\\gymnasium\\wrappers\\rendering.py:283: UserWarning: \u001b[33mWARN: Overwriting existing videos at c:\\Projects\\amethyst\\Solving-Combinatorial-Problems-using-Reinforcement-Learning\\exports\\monty_hall folder (try specifying a different `video_folder` for the `RecordVideo` wrapper if this is not desired)\u001b[0m\n",
      "  logger.warn(\n",
      "\u001b[32m2025-07-08 12:22:53.437\u001b[0m | \u001b[1mINFO    \u001b[0m | \u001b[36msrc.rl.tabular_q_learning\u001b[0m:\u001b[36mtrain\u001b[0m:\u001b[36m225\u001b[0m - \u001b[1mEpisode    10 | R: +0.0 | ε: 0.985\u001b[0m\n",
      "\u001b[32m2025-07-08 12:22:53.455\u001b[0m | \u001b[1mINFO    \u001b[0m | \u001b[36msrc.rl.tabular_q_learning\u001b[0m:\u001b[36mtrain\u001b[0m:\u001b[36m225\u001b[0m - \u001b[1mEpisode    20 | R: +1.0 | ε: 0.970\u001b[0m\n",
      "\u001b[32m2025-07-08 12:22:53.469\u001b[0m | \u001b[1mINFO    \u001b[0m | \u001b[36msrc.rl.tabular_q_learning\u001b[0m:\u001b[36mtrain\u001b[0m:\u001b[36m225\u001b[0m - \u001b[1mEpisode    30 | R: +1.0 | ε: 0.956\u001b[0m\n",
      "\u001b[32m2025-07-08 12:22:53.484\u001b[0m | \u001b[1mINFO    \u001b[0m | \u001b[36msrc.rl.tabular_q_learning\u001b[0m:\u001b[36mtrain\u001b[0m:\u001b[36m225\u001b[0m - \u001b[1mEpisode    40 | R: +0.0 | ε: 0.942\u001b[0m\n",
      "\u001b[32m2025-07-08 12:22:53.501\u001b[0m | \u001b[1mINFO    \u001b[0m | \u001b[36msrc.rl.tabular_q_learning\u001b[0m:\u001b[36mtrain\u001b[0m:\u001b[36m225\u001b[0m - \u001b[1mEpisode    50 | R: +1.0 | ε: 0.928\u001b[0m\n",
      "\u001b[32m2025-07-08 12:22:53.517\u001b[0m | \u001b[1mINFO    \u001b[0m | \u001b[36msrc.rl.tabular_q_learning\u001b[0m:\u001b[36mtrain\u001b[0m:\u001b[36m225\u001b[0m - \u001b[1mEpisode    60 | R: +0.0 | ε: 0.914\u001b[0m\n",
      "\u001b[32m2025-07-08 12:22:53.532\u001b[0m | \u001b[1mINFO    \u001b[0m | \u001b[36msrc.rl.tabular_q_learning\u001b[0m:\u001b[36mtrain\u001b[0m:\u001b[36m225\u001b[0m - \u001b[1mEpisode    70 | R: +1.0 | ε: 0.900\u001b[0m\n",
      "\u001b[32m2025-07-08 12:22:53.548\u001b[0m | \u001b[1mINFO    \u001b[0m | \u001b[36msrc.rl.tabular_q_learning\u001b[0m:\u001b[36mtrain\u001b[0m:\u001b[36m225\u001b[0m - \u001b[1mEpisode    80 | R: +1.0 | ε: 0.887\u001b[0m\n",
      "\u001b[32m2025-07-08 12:22:53.565\u001b[0m | \u001b[1mINFO    \u001b[0m | \u001b[36msrc.rl.tabular_q_learning\u001b[0m:\u001b[36mtrain\u001b[0m:\u001b[36m225\u001b[0m - \u001b[1mEpisode    90 | R: +0.0 | ε: 0.874\u001b[0m\n",
      "\u001b[32m2025-07-08 12:22:53.581\u001b[0m | \u001b[1mINFO    \u001b[0m | \u001b[36msrc.rl.tabular_q_learning\u001b[0m:\u001b[36mtrain\u001b[0m:\u001b[36m225\u001b[0m - \u001b[1mEpisode   100 | R: +0.0 | ε: 0.861\u001b[0m\n",
      "\u001b[32m2025-07-08 12:22:53.645\u001b[0m | \u001b[1mINFO    \u001b[0m | \u001b[36msrc.rl.tabular_q_learning\u001b[0m:\u001b[36mtrain\u001b[0m:\u001b[36m225\u001b[0m - \u001b[1mEpisode   110 | R: +0.0 | ε: 0.848\u001b[0m\n",
      "\u001b[32m2025-07-08 12:22:53.661\u001b[0m | \u001b[1mINFO    \u001b[0m | \u001b[36msrc.rl.tabular_q_learning\u001b[0m:\u001b[36mtrain\u001b[0m:\u001b[36m225\u001b[0m - \u001b[1mEpisode   120 | R: +1.0 | ε: 0.835\u001b[0m\n",
      "\u001b[32m2025-07-08 12:22:53.677\u001b[0m | \u001b[1mINFO    \u001b[0m | \u001b[36msrc.rl.tabular_q_learning\u001b[0m:\u001b[36mtrain\u001b[0m:\u001b[36m225\u001b[0m - \u001b[1mEpisode   130 | R: +1.0 | ε: 0.823\u001b[0m\n",
      "\u001b[32m2025-07-08 12:22:53.694\u001b[0m | \u001b[1mINFO    \u001b[0m | \u001b[36msrc.rl.tabular_q_learning\u001b[0m:\u001b[36mtrain\u001b[0m:\u001b[36m225\u001b[0m - \u001b[1mEpisode   140 | R: +1.0 | ε: 0.810\u001b[0m\n",
      "\u001b[32m2025-07-08 12:22:53.711\u001b[0m | \u001b[1mINFO    \u001b[0m | \u001b[36msrc.rl.tabular_q_learning\u001b[0m:\u001b[36mtrain\u001b[0m:\u001b[36m225\u001b[0m - \u001b[1mEpisode   150 | R: +1.0 | ε: 0.798\u001b[0m\n",
      "\u001b[32m2025-07-08 12:22:53.728\u001b[0m | \u001b[1mINFO    \u001b[0m | \u001b[36msrc.rl.tabular_q_learning\u001b[0m:\u001b[36mtrain\u001b[0m:\u001b[36m225\u001b[0m - \u001b[1mEpisode   160 | R: +1.0 | ε: 0.786\u001b[0m\n",
      "\u001b[32m2025-07-08 12:22:53.743\u001b[0m | \u001b[1mINFO    \u001b[0m | \u001b[36msrc.rl.tabular_q_learning\u001b[0m:\u001b[36mtrain\u001b[0m:\u001b[36m225\u001b[0m - \u001b[1mEpisode   170 | R: +1.0 | ε: 0.775\u001b[0m\n",
      "\u001b[32m2025-07-08 12:22:53.759\u001b[0m | \u001b[1mINFO    \u001b[0m | \u001b[36msrc.rl.tabular_q_learning\u001b[0m:\u001b[36mtrain\u001b[0m:\u001b[36m225\u001b[0m - \u001b[1mEpisode   180 | R: +0.0 | ε: 0.763\u001b[0m\n",
      "\u001b[32m2025-07-08 12:22:53.776\u001b[0m | \u001b[1mINFO    \u001b[0m | \u001b[36msrc.rl.tabular_q_learning\u001b[0m:\u001b[36mtrain\u001b[0m:\u001b[36m225\u001b[0m - \u001b[1mEpisode   190 | R: +1.0 | ε: 0.752\u001b[0m\n",
      "\u001b[32m2025-07-08 12:22:53.794\u001b[0m | \u001b[1mINFO    \u001b[0m | \u001b[36msrc.rl.tabular_q_learning\u001b[0m:\u001b[36mtrain\u001b[0m:\u001b[36m225\u001b[0m - \u001b[1mEpisode   200 | R: +1.0 | ε: 0.741\u001b[0m\n",
      "\u001b[32m2025-07-08 12:22:53.857\u001b[0m | \u001b[1mINFO    \u001b[0m | \u001b[36msrc.rl.tabular_q_learning\u001b[0m:\u001b[36mtrain\u001b[0m:\u001b[36m225\u001b[0m - \u001b[1mEpisode   210 | R: +0.0 | ε: 0.730\u001b[0m\n",
      "\u001b[32m2025-07-08 12:22:53.874\u001b[0m | \u001b[1mINFO    \u001b[0m | \u001b[36msrc.rl.tabular_q_learning\u001b[0m:\u001b[36mtrain\u001b[0m:\u001b[36m225\u001b[0m - \u001b[1mEpisode   220 | R: +1.0 | ε: 0.719\u001b[0m\n",
      "\u001b[32m2025-07-08 12:22:53.890\u001b[0m | \u001b[1mINFO    \u001b[0m | \u001b[36msrc.rl.tabular_q_learning\u001b[0m:\u001b[36mtrain\u001b[0m:\u001b[36m225\u001b[0m - \u001b[1mEpisode   230 | R: +0.0 | ε: 0.708\u001b[0m\n",
      "\u001b[32m2025-07-08 12:22:53.906\u001b[0m | \u001b[1mINFO    \u001b[0m | \u001b[36msrc.rl.tabular_q_learning\u001b[0m:\u001b[36mtrain\u001b[0m:\u001b[36m225\u001b[0m - \u001b[1mEpisode   240 | R: +1.0 | ε: 0.697\u001b[0m\n",
      "\u001b[32m2025-07-08 12:22:53.921\u001b[0m | \u001b[1mINFO    \u001b[0m | \u001b[36msrc.rl.tabular_q_learning\u001b[0m:\u001b[36mtrain\u001b[0m:\u001b[36m225\u001b[0m - \u001b[1mEpisode   250 | R: +1.0 | ε: 0.687\u001b[0m\n",
      "\u001b[32m2025-07-08 12:22:53.927\u001b[0m | \u001b[1mINFO    \u001b[0m | \u001b[36msrc.rl.tabular_q_learning\u001b[0m:\u001b[36mtest\u001b[0m:\u001b[36m269\u001b[0m - \u001b[1mTest Episode   1 | Reward: +1.0\u001b[0m\n",
      "\u001b[32m2025-07-08 12:22:53.930\u001b[0m | \u001b[1mINFO    \u001b[0m | \u001b[36msrc.rl.tabular_q_learning\u001b[0m:\u001b[36mtest\u001b[0m:\u001b[36m269\u001b[0m - \u001b[1mTest Episode   2 | Reward: +1.0\u001b[0m\n",
      "\u001b[32m2025-07-08 12:22:53.933\u001b[0m | \u001b[1mINFO    \u001b[0m | \u001b[36msrc.rl.tabular_q_learning\u001b[0m:\u001b[36mtest\u001b[0m:\u001b[36m269\u001b[0m - \u001b[1mTest Episode   3 | Reward: +1.0\u001b[0m\n",
      "\u001b[32m2025-07-08 12:22:53.937\u001b[0m | \u001b[1mINFO    \u001b[0m | \u001b[36msrc.rl.tabular_q_learning\u001b[0m:\u001b[36mtest\u001b[0m:\u001b[36m269\u001b[0m - \u001b[1mTest Episode   4 | Reward: +1.0\u001b[0m\n",
      "\u001b[32m2025-07-08 12:22:53.940\u001b[0m | \u001b[1mINFO    \u001b[0m | \u001b[36msrc.rl.tabular_q_learning\u001b[0m:\u001b[36mtest\u001b[0m:\u001b[36m269\u001b[0m - \u001b[1mTest Episode   5 | Reward: +1.0\u001b[0m\n",
      "\u001b[32m2025-07-08 12:22:53.944\u001b[0m | \u001b[1mINFO    \u001b[0m | \u001b[36msrc.rl.tabular_q_learning\u001b[0m:\u001b[36mtest\u001b[0m:\u001b[36m269\u001b[0m - \u001b[1mTest Episode   6 | Reward: +1.0\u001b[0m\n",
      "\u001b[32m2025-07-08 12:22:53.947\u001b[0m | \u001b[1mINFO    \u001b[0m | \u001b[36msrc.rl.tabular_q_learning\u001b[0m:\u001b[36mtest\u001b[0m:\u001b[36m269\u001b[0m - \u001b[1mTest Episode   7 | Reward: +1.0\u001b[0m\n",
      "\u001b[32m2025-07-08 12:22:53.951\u001b[0m | \u001b[1mINFO    \u001b[0m | \u001b[36msrc.rl.tabular_q_learning\u001b[0m:\u001b[36mtest\u001b[0m:\u001b[36m269\u001b[0m - \u001b[1mTest Episode   8 | Reward: +1.0\u001b[0m\n",
      "\u001b[32m2025-07-08 12:22:53.954\u001b[0m | \u001b[1mINFO    \u001b[0m | \u001b[36msrc.rl.tabular_q_learning\u001b[0m:\u001b[36mtest\u001b[0m:\u001b[36m269\u001b[0m - \u001b[1mTest Episode   9 | Reward: +1.0\u001b[0m\n",
      "\u001b[32m2025-07-08 12:22:53.958\u001b[0m | \u001b[1mINFO    \u001b[0m | \u001b[36msrc.rl.tabular_q_learning\u001b[0m:\u001b[36mtest\u001b[0m:\u001b[36m269\u001b[0m - \u001b[1mTest Episode  10 | Reward: +1.0\u001b[0m\n"
     ]
    },
    {
     "name": "stdout",
     "output_type": "stream",
     "text": [
      "Episode  1 → Reward: +0.0\n",
      "Episode  2 → Reward: +1.0\n",
      "Episode  3 → Reward: +0.0\n",
      "Episode  4 → Reward: +1.0\n",
      "Episode  5 → Reward: +1.0\n",
      "Episode  6 → Reward: +1.0\n",
      "Episode  7 → Reward: +1.0\n",
      "Episode  8 → Reward: +1.0\n",
      "Episode  9 → Reward: +0.0\n",
      "Episode 10 → Reward: +0.0\n",
      "Episode 11 → Reward: +1.0\n",
      "Episode 12 → Reward: +1.0\n",
      "Episode 13 → Reward: +1.0\n",
      "Episode 14 → Reward: +1.0\n",
      "Episode 15 → Reward: +1.0\n",
      "Episode 16 → Reward: +1.0\n",
      "Episode 17 → Reward: +1.0\n",
      "Episode 18 → Reward: +1.0\n",
      "Episode 19 → Reward: +1.0\n",
      "Episode 20 → Reward: +1.0\n",
      "Episode 21 → Reward: +0.0\n",
      "Episode 22 → Reward: +0.0\n",
      "Episode 23 → Reward: +1.0\n",
      "Episode 24 → Reward: +1.0\n",
      "Episode 25 → Reward: +0.0\n",
      "Episode 26 → Reward: +1.0\n",
      "Episode 27 → Reward: +0.0\n",
      "Episode 28 → Reward: +0.0\n",
      "Episode 29 → Reward: +1.0\n",
      "Episode 30 → Reward: +1.0\n",
      "Episode 31 → Reward: +1.0\n",
      "Episode 32 → Reward: +0.0\n",
      "Episode 33 → Reward: +0.0\n",
      "Episode 34 → Reward: +0.0\n",
      "Episode 35 → Reward: +1.0\n",
      "Episode 36 → Reward: +1.0\n",
      "Episode 37 → Reward: +0.0\n",
      "Episode 38 → Reward: +0.0\n",
      "Episode 39 → Reward: +1.0\n",
      "Episode 40 → Reward: +0.0\n",
      "Episode 41 → Reward: +1.0\n",
      "Episode 42 → Reward: +1.0\n",
      "Episode 43 → Reward: +0.0\n",
      "Episode 44 → Reward: +0.0\n",
      "Episode 45 → Reward: +0.0\n",
      "Episode 46 → Reward: +1.0\n",
      "Episode 47 → Reward: +1.0\n",
      "Episode 48 → Reward: +0.0\n",
      "Episode 49 → Reward: +0.0\n",
      "Episode 50 → Reward: +1.0\n",
      "Episode 51 → Reward: +1.0\n",
      "Episode 52 → Reward: +0.0\n",
      "Episode 53 → Reward: +0.0\n",
      "Episode 54 → Reward: +1.0\n",
      "Episode 55 → Reward: +1.0\n",
      "Episode 56 → Reward: +1.0\n",
      "Episode 57 → Reward: +1.0\n",
      "Episode 58 → Reward: +1.0\n",
      "Episode 59 → Reward: +1.0\n",
      "Episode 60 → Reward: +0.0\n",
      "Episode 61 → Reward: +1.0\n",
      "Episode 62 → Reward: +1.0\n",
      "Episode 63 → Reward: +0.0\n",
      "Episode 64 → Reward: +1.0\n",
      "Episode 65 → Reward: +1.0\n",
      "Episode 66 → Reward: +1.0\n",
      "Episode 67 → Reward: +1.0\n",
      "Episode 68 → Reward: +1.0\n",
      "Episode 69 → Reward: +1.0\n",
      "Episode 70 → Reward: +1.0\n",
      "Episode 71 → Reward: +1.0\n",
      "Episode 72 → Reward: +0.0\n",
      "Episode 73 → Reward: +1.0\n",
      "Episode 74 → Reward: +0.0\n",
      "Episode 75 → Reward: +1.0\n",
      "Episode 76 → Reward: +0.0\n",
      "Episode 77 → Reward: +1.0\n",
      "Episode 78 → Reward: +1.0\n",
      "Episode 79 → Reward: +1.0\n",
      "Episode 80 → Reward: +1.0\n",
      "Episode 81 → Reward: +0.0\n",
      "Episode 82 → Reward: +1.0\n",
      "Episode 83 → Reward: +0.0\n",
      "Episode 84 → Reward: +1.0\n",
      "Episode 85 → Reward: +0.0\n",
      "Episode 86 → Reward: +0.0\n",
      "Episode 87 → Reward: +1.0\n",
      "Episode 88 → Reward: +1.0\n",
      "Episode 89 → Reward: +0.0\n",
      "Episode 90 → Reward: +0.0\n",
      "Episode 91 → Reward: +0.0\n",
      "Episode 92 → Reward: +0.0\n",
      "Episode 93 → Reward: +1.0\n",
      "Episode 94 → Reward: +1.0\n",
      "Episode 95 → Reward: +0.0\n",
      "Episode 96 → Reward: +0.0\n",
      "Episode 97 → Reward: +1.0\n",
      "Episode 98 → Reward: +0.0\n",
      "Episode 99 → Reward: +0.0\n",
      "Episode 100 → Reward: +0.0\n",
      "Episode 101 → Reward: +1.0\n",
      "Episode 102 → Reward: +1.0\n",
      "Episode 103 → Reward: +1.0\n",
      "Episode 104 → Reward: +0.0\n",
      "Episode 105 → Reward: +1.0\n",
      "Episode 106 → Reward: +0.0\n",
      "Episode 107 → Reward: +0.0\n",
      "Episode 108 → Reward: +1.0\n",
      "Episode 109 → Reward: +0.0\n",
      "Episode 110 → Reward: +0.0\n",
      "Episode 111 → Reward: +0.0\n",
      "Episode 112 → Reward: +1.0\n",
      "Episode 113 → Reward: +1.0\n",
      "Episode 114 → Reward: +1.0\n",
      "Episode 115 → Reward: +1.0\n",
      "Episode 116 → Reward: +1.0\n",
      "Episode 117 → Reward: +1.0\n",
      "Episode 118 → Reward: +1.0\n",
      "Episode 119 → Reward: +0.0\n",
      "Episode 120 → Reward: +1.0\n",
      "Episode 121 → Reward: +0.0\n",
      "Episode 122 → Reward: +1.0\n",
      "Episode 123 → Reward: +1.0\n",
      "Episode 124 → Reward: +1.0\n",
      "Episode 125 → Reward: +0.0\n",
      "Episode 126 → Reward: +0.0\n",
      "Episode 127 → Reward: +1.0\n",
      "Episode 128 → Reward: +1.0\n",
      "Episode 129 → Reward: +0.0\n",
      "Episode 130 → Reward: +1.0\n",
      "Episode 131 → Reward: +1.0\n",
      "Episode 132 → Reward: +0.0\n",
      "Episode 133 → Reward: +0.0\n",
      "Episode 134 → Reward: +1.0\n",
      "Episode 135 → Reward: +1.0\n",
      "Episode 136 → Reward: +0.0\n",
      "Episode 137 → Reward: +1.0\n",
      "Episode 138 → Reward: +1.0\n",
      "Episode 139 → Reward: +1.0\n",
      "Episode 140 → Reward: +1.0\n",
      "Episode 141 → Reward: +0.0\n",
      "Episode 142 → Reward: +1.0\n",
      "Episode 143 → Reward: +1.0\n",
      "Episode 144 → Reward: +1.0\n",
      "Episode 145 → Reward: +1.0\n",
      "Episode 146 → Reward: +1.0\n",
      "Episode 147 → Reward: +1.0\n",
      "Episode 148 → Reward: +0.0\n",
      "Episode 149 → Reward: +1.0\n",
      "Episode 150 → Reward: +1.0\n",
      "Episode 151 → Reward: +0.0\n",
      "Episode 152 → Reward: +1.0\n",
      "Episode 153 → Reward: +0.0\n",
      "Episode 154 → Reward: +1.0\n",
      "Episode 155 → Reward: +1.0\n",
      "Episode 156 → Reward: +1.0\n",
      "Episode 157 → Reward: +1.0\n",
      "Episode 158 → Reward: +1.0\n",
      "Episode 159 → Reward: +1.0\n",
      "Episode 160 → Reward: +1.0\n",
      "Episode 161 → Reward: +1.0\n",
      "Episode 162 → Reward: +1.0\n",
      "Episode 163 → Reward: +0.0\n",
      "Episode 164 → Reward: +1.0\n",
      "Episode 165 → Reward: +1.0\n",
      "Episode 166 → Reward: +0.0\n",
      "Episode 167 → Reward: +1.0\n",
      "Episode 168 → Reward: +1.0\n",
      "Episode 169 → Reward: +1.0\n",
      "Episode 170 → Reward: +1.0\n",
      "Episode 171 → Reward: +1.0\n",
      "Episode 172 → Reward: +1.0\n",
      "Episode 173 → Reward: +1.0\n",
      "Episode 174 → Reward: +0.0\n",
      "Episode 175 → Reward: +1.0\n",
      "Episode 176 → Reward: +0.0\n",
      "Episode 177 → Reward: +1.0\n",
      "Episode 178 → Reward: +0.0\n",
      "Episode 179 → Reward: +0.0\n",
      "Episode 180 → Reward: +0.0\n",
      "Episode 181 → Reward: +1.0\n",
      "Episode 182 → Reward: +1.0\n",
      "Episode 183 → Reward: +1.0\n",
      "Episode 184 → Reward: +0.0\n",
      "Episode 185 → Reward: +1.0\n",
      "Episode 186 → Reward: +1.0\n",
      "Episode 187 → Reward: +0.0\n",
      "Episode 188 → Reward: +1.0\n",
      "Episode 189 → Reward: +0.0\n",
      "Episode 190 → Reward: +1.0\n",
      "Episode 191 → Reward: +1.0\n",
      "Episode 192 → Reward: +1.0\n",
      "Episode 193 → Reward: +1.0\n",
      "Episode 194 → Reward: +0.0\n",
      "Episode 195 → Reward: +0.0\n",
      "Episode 196 → Reward: +1.0\n",
      "Episode 197 → Reward: +0.0\n",
      "Episode 198 → Reward: +1.0\n",
      "Episode 199 → Reward: +0.0\n",
      "Episode 200 → Reward: +1.0\n",
      "Episode 201 → Reward: +1.0\n",
      "Episode 202 → Reward: +1.0\n",
      "Episode 203 → Reward: +0.0\n",
      "Episode 204 → Reward: +0.0\n",
      "Episode 205 → Reward: +0.0\n",
      "Episode 206 → Reward: +1.0\n",
      "Episode 207 → Reward: +0.0\n",
      "Episode 208 → Reward: +1.0\n",
      "Episode 209 → Reward: +1.0\n",
      "Episode 210 → Reward: +0.0\n",
      "Episode 211 → Reward: +0.0\n",
      "Episode 212 → Reward: +1.0\n",
      "Episode 213 → Reward: +0.0\n",
      "Episode 214 → Reward: +0.0\n",
      "Episode 215 → Reward: +1.0\n",
      "Episode 216 → Reward: +1.0\n",
      "Episode 217 → Reward: +1.0\n",
      "Episode 218 → Reward: +1.0\n",
      "Episode 219 → Reward: +1.0\n",
      "Episode 220 → Reward: +1.0\n",
      "Episode 221 → Reward: +1.0\n",
      "Episode 222 → Reward: +1.0\n",
      "Episode 223 → Reward: +0.0\n",
      "Episode 224 → Reward: +1.0\n",
      "Episode 225 → Reward: +0.0\n",
      "Episode 226 → Reward: +1.0\n",
      "Episode 227 → Reward: +1.0\n",
      "Episode 228 → Reward: +1.0\n",
      "Episode 229 → Reward: +1.0\n",
      "Episode 230 → Reward: +0.0\n",
      "Episode 231 → Reward: +1.0\n",
      "Episode 232 → Reward: +0.0\n",
      "Episode 233 → Reward: +1.0\n",
      "Episode 234 → Reward: +1.0\n",
      "Episode 235 → Reward: +0.0\n",
      "Episode 236 → Reward: +0.0\n",
      "Episode 237 → Reward: +1.0\n",
      "Episode 238 → Reward: +1.0\n",
      "Episode 239 → Reward: +0.0\n",
      "Episode 240 → Reward: +1.0\n",
      "Episode 241 → Reward: +1.0\n",
      "Episode 242 → Reward: +1.0\n",
      "Episode 243 → Reward: +1.0\n",
      "Episode 244 → Reward: +1.0\n",
      "Episode 245 → Reward: +0.0\n",
      "Episode 246 → Reward: +0.0\n",
      "Episode 247 → Reward: +1.0\n",
      "Episode 248 → Reward: +0.0\n",
      "Episode 249 → Reward: +1.0\n",
      "Episode 250 → Reward: +1.0\n",
      "\n",
      "Did not converge within 10 episodes.\n",
      "\n",
      "Running 10 test episodes with the greedy policy:\n"
     ]
    }
   ],
   "source": [
    "# 1) Let us create a default config and default Q Learning Agent\n",
    "config = QLearningConfig(\n",
    "    learning_rate=0.1,\n",
    "    discount_factor=0.99,\n",
    "    epsilon_start=1.0,\n",
    "    epsilon_decay=0.9985,\n",
    "    epsilon_min=0.05,\n",
    "    max_steps_per_episode=100,\n",
    "    video_dir=\"exports/monty_hall\",\n",
    ")\n",
    "\n",
    "# 2) Create an instance of the Monty Hall environment\n",
    "env = gym.make(\n",
    "    \"MontyHall-v0\",\n",
    "    n_doors=3,\n",
    "    n_cars=1,\n",
    "    render_mode=\"rgb_array\",\n",
    ")\n",
    "\n",
    "# 2a) Tabular Q Learning requires a Discrete action space: not MultiDiscrete\n",
    "env = MontyHallDiscreteWrapper(env)\n",
    "\n",
    "# 3) An instance of Tabular Q Learning\n",
    "agent = QLearningAgent(env, config)\n",
    "\n",
    "# 4) Train for 500 episodes\n",
    "num_episodes = 500\n",
    "episode_rewards, converged_episode, converged_time = agent.train(\n",
    "    episodes=num_episodes,\n",
    "    log_interval=10,\n",
    ")\n",
    "\n",
    "# 4) Print out what happened each episode\n",
    "for i, r in enumerate(episode_rewards, start=1):\n",
    "    print(f\"Episode {i:2d} → Reward: {r:+.1f}\")\n",
    "\n",
    "if converged_episode != -1:\n",
    "    print(f\"\\nConverged at episode {converged_episode} after {converged_time:.2f}s\")\n",
    "else:\n",
    "    print(\"\\nDid not converge within 10 episodes.\")\n",
    "\n",
    "# 5) See the policy\n",
    "print(\"\\nRunning 10 test episodes with the trained policy:\")\n",
    "agent.test(episodes=10)\n",
    "\n",
    "env.close()"
   ]
  },
  {
   "cell_type": "markdown",
   "id": "84a9805a",
   "metadata": {},
   "source": [
    "# Visualisation of Training\n",
    "Here, we want to visualise how well our training went in terms of the reward achieved throughout the episodes encountered by our training algorithm. The best way to do this is quite simple: plot the training so far."
   ]
  },
  {
   "cell_type": "code",
   "execution_count": 9,
   "id": "0afe5b41",
   "metadata": {},
   "outputs": [
    {
     "data": {
      "image/png": "[encoded data removed]",
      "text/plain": [
       "<Figure size 1200x600 with 1 Axes>"
      ]
     },
     "metadata": {},
     "output_type": "display_data"
    }
   ],
   "source": [
    "dpi     = 120       # figure resolution\n",
    "\n",
    "r = np.asarray(episode_rewards, dtype=float)\n",
    "\n",
    "cumsum = np.cumsum(np.insert(r, 0, 0))\n",
    "smooth = (cumsum[num_episodes:] - cumsum[:-num_episodes]) / num_episodes\n",
    "episodes_smooth = np.arange(len(smooth)) + num_episodes//2 + 1\n",
    "\n",
    "plt.figure(figsize=(10, 5), dpi=dpi)\n",
    "plt.plot(range(1, len(r) + 1), r, alpha=0.25, label='Episode reward')\n",
    "\n",
    "plt.title('Training Performance: Episode Rewards', fontsize=14)\n",
    "plt.xlabel('Episode')\n",
    "plt.ylabel('Reward')\n",
    "plt.legend(frameon=False)\n",
    "plt.grid(alpha=0.3)\n",
    "plt.tight_layout()\n",
    "plt.show()"
   ]
  },
  {
   "cell_type": "markdown",
   "id": "96aa10cd",
   "metadata": {},
   "source": [
    "# Hyperparameter tuning\n",
    "Some Reinforcement Learning algorithms have an abundance of parameters; especially in the territory of Deep Reinforcement Learning, where you could tune the batch size and even the neural network layout, amongst the learning rate and exploration rate.\n",
    "\n",
    "Therefore, it is important that we are able to systematically tune these hyperparameters in an automated fashion, as the number of combinations of parameters and interdependent effects are too numerous to manually tune (aside from setting a good starting point). Tuning is an art in and of itself, and is a form of optimization. Luckily, many libraries exist for finding the optimal set of hyperparameters, using various different approaches such as genetic algorithms, in order to explore and exploit areas of the tuning state space that are promising automatically.\n",
    "\n",
    "## How does it work?\n",
    "Exactly how hyperparameter tuning chooses to select combinations of parameters, continue runs (also known as *sweeps*, each sweep having an unique combination of parameters) or stop early, is an art in and of itself. There are many methods and algorithms that are out of scope for this project, although it should be noted that we are not simply enumerating all possible parameters as in a grid search, for example instead we can choose to use a random search or Bayes search.\n",
    "\n",
    "What we define is a tunable parameter, such as the following:\n",
    "```python\n",
    "        learning_rate   = dict(min=1e-5,  max=1e-2,  distribution=\"log_uniform_values\"),\n",
    "```\n",
    "* **What it is:** a rule for the hyperparameter tuning library, stating it should *try out different learning-rates* during a hyperparameter sweep.\n",
    "* **The range:** it may pick anything between **0.00001** and **0.01**.\n",
    "* **How the picks are made:** not evenly spaced, but **log-uniformly**.\n",
    "\n",
    "  * Think “pick a random exponent” rather than “pick a random number.”\n",
    "  * Each order of magnitude (10⁻⁵ → 10⁻⁴ → 10⁻³ → 10⁻²) is equally likely.\n",
    "\n",
    "Why log-uniform?\n",
    "\n",
    "1. With learning rates, what matters is usually the *order of magnitude*, not the exact decimal.\n",
    "2. A log-uniform draw therefore spends just as much effort exploring tiny values (which often work best) as it does larger ones.\n",
    "\n",
    "In short: *“Try lots of learning-rates between 0.000 01 and 0.01, giving every magnitude the same chance, because we don’t yet know which size step the optimiser will like.”*\n",
    "\n",
    "This is just one tunable parameter, and the problem of hyperparameter tuning is you have to select values for multiple hyperparameters at the same time, where hyperparameters are not always independent of each other, and you have limited compute time to run these experiments in. This is why specialised algorithms exist just for hyperparameter tuning.\n",
    "\n",
    "## Weights and Biases\n",
    "Weights and Biases (referred to commonly as W&B or WandB) is a standard tool used in both industry and academia for tracking (and storing) the results of experiments. In other words, Weights and Biases is an end-to-end developer platform that keeps every experiment, dataset, model checkpoint, and evaluation in a single, searchable workspace.\n",
    "\n",
    "Specifically, we use it both as a hyperparameter tuning library and storing the results of experiments based on these hyperparameters.\n",
    "\n",
    "You can find more information at: https://docs.wandb.ai/quickstart/"
   ]
  },
  {
   "cell_type": "code",
   "execution_count": 10,
   "id": "921bdc89",
   "metadata": {},
   "outputs": [
    {
     "data": {
      "text/plain": [
       "True"
      ]
     },
     "execution_count": 10,
     "metadata": {},
     "output_type": "execute_result"
    }
   ],
   "source": [
    "wandb.login() # See https://docs.wandb.ai/quickstart/"
   ]
  },
  {
   "cell_type": "code",
   "execution_count": null,
   "id": "65082f81",
   "metadata": {},
   "outputs": [],
   "source": [
    "def train_sweep() -> None:\n",
    "    \"\"\"  One full training run driven by a set of hyper-parameters coming\n",
    "    from wandb.config. Logs metrics to W&B at the end of every episode.\n",
    "    \"\"\"\n",
    "    with wandb.init(project=\"montyhall-ql\") as run:\n",
    "        cfg = run.config\n",
    "\n",
    "        # 1. Converting the Weight & Biases Config -> Q Learning Config\n",
    "        qcfg = QLearningConfig(\n",
    "            learning_rate   = cfg.learning_rate,\n",
    "            discount_factor = cfg.discount_factor,\n",
    "            epsilon_start   = 1.0,\n",
    "            epsilon_decay   = cfg.epsilon_decay,\n",
    "            epsilon_min     = 0.05,\n",
    "            max_steps_per_episode = 100,\n",
    "            video_dir       = None\n",
    "        )\n",
    "\n",
    "        # 2️) Create env & agent\n",
    "        env  = gym.make(\"MontyHall-v0\", n_doors=3, n_cars=1, render_mode=None)\n",
    "        env  = MontyHallDiscreteWrapper(env)\n",
    "        agent = QLearningAgent(env, qcfg)\n",
    "\n",
    "        # 3️) Run training loop\n",
    "        episode_rewards, converged_ep, converged_t = agent.train(\n",
    "            episodes     = 500,\n",
    "            log_interval = 25,\n",
    "        )\n",
    "\n",
    "        # 4️) Log summary metrics & clean up\n",
    "        wandb.log({\n",
    "            \"best_reward\"      : max(episode_rewards),\n",
    "            \"converged_episode\": converged_ep,\n",
    "            \"train_time_sec\"   : converged_t,\n",
    "        })\n",
    "        env.close()"
   ]
  },
  {
   "cell_type": "code",
   "execution_count": 12,
   "id": "980b469b",
   "metadata": {},
   "outputs": [
    {
     "name": "stdout",
     "output_type": "stream",
     "text": [
      "Create sweep with ID: y9nid08r\n",
      "Sweep URL: https://wandb.ai/nightly/montyhall-ql/sweeps/y9nid08r\n"
     ]
    },
    {
     "name": "stderr",
     "output_type": "stream",
     "text": [
      "\u001b[34m\u001b[1mwandb\u001b[0m: Agent Starting Run: 8mf1qhxb with config:\n",
      "\u001b[34m\u001b[1mwandb\u001b[0m: \tdiscount_factor: 0.9320140640787922\n",
      "\u001b[34m\u001b[1mwandb\u001b[0m: \tepsilon_decay: 0.9633270345394872\n",
      "\u001b[34m\u001b[1mwandb\u001b[0m: \tlearning_rate: 0.00016903027448374191\n"
     ]
    },
    {
     "data": {
      "text/html": [
       "Ignoring project 'montyhall-ql' when running a sweep."
      ],
      "text/plain": [
       "<IPython.core.display.HTML object>"
      ]
     },
     "metadata": {},
     "output_type": "display_data"
    },
    {
     "data": {
      "text/html": [
       "Tracking run with wandb version 0.19.11"
      ],
      "text/plain": [
       "<IPython.core.display.HTML object>"
      ]
     },
     "metadata": {},
     "output_type": "display_data"
    },
    {
     "data": {
      "text/html": [
       "Run data is saved locally in <code>c:\\Projects\\amethyst\\Solving-Combinatorial-Problems-using-Reinforcement-Learning\\wandb\\run-20250708_122257-8mf1qhxb</code>"
      ],
      "text/plain": [
       "<IPython.core.display.HTML object>"
      ]
     },
     "metadata": {},
     "output_type": "display_data"
    },
    {
     "data": {
      "text/html": [
       "Syncing run <strong><a href='https://wandb.ai/nightly/montyhall-ql/runs/8mf1qhxb' target=\"_blank\">logical-sweep-1</a></strong> to <a href='https://wandb.ai/nightly/montyhall-ql' target=\"_blank\">Weights & Biases</a> (<a href='https://wandb.me/developer-guide' target=\"_blank\">docs</a>)<br>Sweep page: <a href='https://wandb.ai/nightly/montyhall-ql/sweeps/y9nid08r' target=\"_blank\">https://wandb.ai/nightly/montyhall-ql/sweeps/y9nid08r</a>"
      ],
      "text/plain": [
       "<IPython.core.display.HTML object>"
      ]
     },
     "metadata": {},
     "output_type": "display_data"
    },
    {
     "data": {
      "text/html": [
       " View project at <a href='https://wandb.ai/nightly/montyhall-ql' target=\"_blank\">https://wandb.ai/nightly/montyhall-ql</a>"
      ],
      "text/plain": [
       "<IPython.core.display.HTML object>"
      ]
     },
     "metadata": {},
     "output_type": "display_data"
    },
    {
     "data": {
      "text/html": [
       " View sweep at <a href='https://wandb.ai/nightly/montyhall-ql/sweeps/y9nid08r' target=\"_blank\">https://wandb.ai/nightly/montyhall-ql/sweeps/y9nid08r</a>"
      ],
      "text/plain": [
       "<IPython.core.display.HTML object>"
      ]
     },
     "metadata": {},
     "output_type": "display_data"
    },
    {
     "data": {
      "text/html": [
       " View run at <a href='https://wandb.ai/nightly/montyhall-ql/runs/8mf1qhxb' target=\"_blank\">https://wandb.ai/nightly/montyhall-ql/runs/8mf1qhxb</a>"
      ],
      "text/plain": [
       "<IPython.core.display.HTML object>"
      ]
     },
     "metadata": {},
     "output_type": "display_data"
    },
    {
     "name": "stderr",
     "output_type": "stream",
     "text": [
      "\u001b[32m2025-07-08 12:22:57.648\u001b[0m | \u001b[1mINFO    \u001b[0m | \u001b[36msrc.rl.tabular_q_learning\u001b[0m:\u001b[36mtrain\u001b[0m:\u001b[36m225\u001b[0m - \u001b[1mEpisode    25 | R: +0.0 | ε: 0.393\u001b[0m\n",
      "\u001b[32m2025-07-08 12:22:57.658\u001b[0m | \u001b[1mINFO    \u001b[0m | \u001b[36msrc.rl.tabular_q_learning\u001b[0m:\u001b[36mtrain\u001b[0m:\u001b[36m225\u001b[0m - \u001b[1mEpisode    50 | R: +1.0 | ε: 0.154\u001b[0m\n",
      "\u001b[32m2025-07-08 12:22:57.662\u001b[0m | \u001b[1mINFO    \u001b[0m | \u001b[36msrc.rl.tabular_q_learning\u001b[0m:\u001b[36mtrain\u001b[0m:\u001b[36m225\u001b[0m - \u001b[1mEpisode    75 | R: +1.0 | ε: 0.061\u001b[0m\n",
      "\u001b[32m2025-07-08 12:22:57.664\u001b[0m | \u001b[1mINFO    \u001b[0m | \u001b[36msrc.rl.tabular_q_learning\u001b[0m:\u001b[36mtrain\u001b[0m:\u001b[36m225\u001b[0m - \u001b[1mEpisode   100 | R: +1.0 | ε: 0.050\u001b[0m\n",
      "\u001b[32m2025-07-08 12:22:57.671\u001b[0m | \u001b[1mINFO    \u001b[0m | \u001b[36msrc.rl.tabular_q_learning\u001b[0m:\u001b[36mtrain\u001b[0m:\u001b[36m225\u001b[0m - \u001b[1mEpisode   125 | R: +1.0 | ε: 0.050\u001b[0m\n",
      "\u001b[32m2025-07-08 12:22:57.679\u001b[0m | \u001b[1mINFO    \u001b[0m | \u001b[36msrc.rl.tabular_q_learning\u001b[0m:\u001b[36mtrain\u001b[0m:\u001b[36m225\u001b[0m - \u001b[1mEpisode   150 | R: +1.0 | ε: 0.050\u001b[0m\n",
      "\u001b[32m2025-07-08 12:22:57.685\u001b[0m | \u001b[1mINFO    \u001b[0m | \u001b[36msrc.rl.tabular_q_learning\u001b[0m:\u001b[36mtrain\u001b[0m:\u001b[36m225\u001b[0m - \u001b[1mEpisode   175 | R: +1.0 | ε: 0.050\u001b[0m\n",
      "\u001b[32m2025-07-08 12:22:57.690\u001b[0m | \u001b[1mINFO    \u001b[0m | \u001b[36msrc.rl.tabular_q_learning\u001b[0m:\u001b[36mtrain\u001b[0m:\u001b[36m225\u001b[0m - \u001b[1mEpisode   200 | R: +1.0 | ε: 0.050\u001b[0m\n",
      "\u001b[32m2025-07-08 12:22:57.696\u001b[0m | \u001b[1mINFO    \u001b[0m | \u001b[36msrc.rl.tabular_q_learning\u001b[0m:\u001b[36mtrain\u001b[0m:\u001b[36m225\u001b[0m - \u001b[1mEpisode   225 | R: +1.0 | ε: 0.050\u001b[0m\n",
      "\u001b[32m2025-07-08 12:22:57.704\u001b[0m | \u001b[1mINFO    \u001b[0m | \u001b[36msrc.rl.tabular_q_learning\u001b[0m:\u001b[36mtrain\u001b[0m:\u001b[36m225\u001b[0m - \u001b[1mEpisode   250 | R: +1.0 | ε: 0.050\u001b[0m\n",
      "\u001b[32m2025-07-08 12:22:57.708\u001b[0m | \u001b[1mINFO    \u001b[0m | \u001b[36msrc.rl.tabular_q_learning\u001b[0m:\u001b[36mtrain\u001b[0m:\u001b[36m225\u001b[0m - \u001b[1mEpisode   275 | R: +1.0 | ε: 0.050\u001b[0m\n",
      "\u001b[32m2025-07-08 12:22:57.713\u001b[0m | \u001b[1mINFO    \u001b[0m | \u001b[36msrc.rl.tabular_q_learning\u001b[0m:\u001b[36mtrain\u001b[0m:\u001b[36m225\u001b[0m - \u001b[1mEpisode   300 | R: +1.0 | ε: 0.050\u001b[0m\n",
      "\u001b[32m2025-07-08 12:22:57.722\u001b[0m | \u001b[1mINFO    \u001b[0m | \u001b[36msrc.rl.tabular_q_learning\u001b[0m:\u001b[36mtrain\u001b[0m:\u001b[36m225\u001b[0m - \u001b[1mEpisode   325 | R: +1.0 | ε: 0.050\u001b[0m\n",
      "\u001b[32m2025-07-08 12:22:57.729\u001b[0m | \u001b[1mINFO    \u001b[0m | \u001b[36msrc.rl.tabular_q_learning\u001b[0m:\u001b[36mtrain\u001b[0m:\u001b[36m225\u001b[0m - \u001b[1mEpisode   350 | R: +1.0 | ε: 0.050\u001b[0m\n",
      "\u001b[32m2025-07-08 12:22:57.734\u001b[0m | \u001b[1mINFO    \u001b[0m | \u001b[36msrc.rl.tabular_q_learning\u001b[0m:\u001b[36mtrain\u001b[0m:\u001b[36m225\u001b[0m - \u001b[1mEpisode   375 | R: +1.0 | ε: 0.050\u001b[0m\n",
      "\u001b[32m2025-07-08 12:22:57.737\u001b[0m | \u001b[1mINFO    \u001b[0m | \u001b[36msrc.rl.tabular_q_learning\u001b[0m:\u001b[36mtrain\u001b[0m:\u001b[36m225\u001b[0m - \u001b[1mEpisode   400 | R: +1.0 | ε: 0.050\u001b[0m\n",
      "\u001b[32m2025-07-08 12:22:57.744\u001b[0m | \u001b[1mINFO    \u001b[0m | \u001b[36msrc.rl.tabular_q_learning\u001b[0m:\u001b[36mtrain\u001b[0m:\u001b[36m225\u001b[0m - \u001b[1mEpisode   425 | R: +1.0 | ε: 0.050\u001b[0m\n",
      "\u001b[32m2025-07-08 12:22:57.750\u001b[0m | \u001b[1mINFO    \u001b[0m | \u001b[36msrc.rl.tabular_q_learning\u001b[0m:\u001b[36mtrain\u001b[0m:\u001b[36m225\u001b[0m - \u001b[1mEpisode   450 | R: +1.0 | ε: 0.050\u001b[0m\n",
      "\u001b[32m2025-07-08 12:22:57.757\u001b[0m | \u001b[1mINFO    \u001b[0m | \u001b[36msrc.rl.tabular_q_learning\u001b[0m:\u001b[36mtrain\u001b[0m:\u001b[36m225\u001b[0m - \u001b[1mEpisode   475 | R: +1.0 | ε: 0.050\u001b[0m\n",
      "\u001b[32m2025-07-08 12:22:57.761\u001b[0m | \u001b[1mINFO    \u001b[0m | \u001b[36msrc.rl.tabular_q_learning\u001b[0m:\u001b[36mtrain\u001b[0m:\u001b[36m225\u001b[0m - \u001b[1mEpisode   500 | R: +1.0 | ε: 0.050\u001b[0m\n"
     ]
    },
    {
     "data": {
      "text/html": [],
      "text/plain": [
       "<IPython.core.display.HTML object>"
      ]
     },
     "metadata": {},
     "output_type": "display_data"
    },
    {
     "data": {
      "text/html": [
       "<br>    <style><br>        .wandb-row {<br>            display: flex;<br>            flex-direction: row;<br>            flex-wrap: wrap;<br>            justify-content: flex-start;<br>            width: 100%;<br>        }<br>        .wandb-col {<br>            display: flex;<br>            flex-direction: column;<br>            flex-basis: 100%;<br>            flex: 1;<br>            padding: 10px;<br>        }<br>    </style><br><div class=\"wandb-row\"><div class=\"wandb-col\"><h3>Run history:</h3><br/><table class=\"wandb\"><tr><td>best_reward</td><td>▁</td></tr><tr><td>converged_episode</td><td>▁</td></tr><tr><td>train_time_sec</td><td>▁</td></tr></table><br/></div><div class=\"wandb-col\"><h3>Run summary:</h3><br/><table class=\"wandb\"><tr><td>best_reward</td><td>1</td></tr><tr><td>converged_episode</td><td>-1</td></tr><tr><td>train_time_sec</td><td>0</td></tr></table><br/></div></div>"
      ],
      "text/plain": [
       "<IPython.core.display.HTML object>"
      ]
     },
     "metadata": {},
     "output_type": "display_data"
    },
    {
     "data": {
      "text/html": [
       " View run <strong style=\"color:#cdcd00\">logical-sweep-1</strong> at: <a href='https://wandb.ai/nightly/montyhall-ql/runs/8mf1qhxb' target=\"_blank\">https://wandb.ai/nightly/montyhall-ql/runs/8mf1qhxb</a><br> View project at: <a href='https://wandb.ai/nightly/montyhall-ql' target=\"_blank\">https://wandb.ai/nightly/montyhall-ql</a><br>Synced 5 W&B file(s), 0 media file(s), 0 artifact file(s) and 0 other file(s)"
      ],
      "text/plain": [
       "<IPython.core.display.HTML object>"
      ]
     },
     "metadata": {},
     "output_type": "display_data"
    },
    {
     "data": {
      "text/html": [
       "Find logs at: <code>.\\wandb\\run-20250708_122257-8mf1qhxb\\logs</code>"
      ],
      "text/plain": [
       "<IPython.core.display.HTML object>"
      ]
     },
     "metadata": {},
     "output_type": "display_data"
    },
    {
     "name": "stderr",
     "output_type": "stream",
     "text": [
      "\u001b[34m\u001b[1mwandb\u001b[0m: Agent Starting Run: ygdc599v with config:\n",
      "\u001b[34m\u001b[1mwandb\u001b[0m: \tdiscount_factor: 0.8474526132290809\n",
      "\u001b[34m\u001b[1mwandb\u001b[0m: \tepsilon_decay: 0.9890755151144568\n",
      "\u001b[34m\u001b[1mwandb\u001b[0m: \tlearning_rate: 3.177791935133551e-05\n"
     ]
    },
    {
     "data": {
      "text/html": [
       "Ignoring project 'montyhall-ql' when running a sweep."
      ],
      "text/plain": [
       "<IPython.core.display.HTML object>"
      ]
     },
     "metadata": {},
     "output_type": "display_data"
    },
    {
     "data": {
      "text/html": [
       "Tracking run with wandb version 0.19.11"
      ],
      "text/plain": [
       "<IPython.core.display.HTML object>"
      ]
     },
     "metadata": {},
     "output_type": "display_data"
    },
    {
     "data": {
      "text/html": [
       "Run data is saved locally in <code>c:\\Projects\\amethyst\\Solving-Combinatorial-Problems-using-Reinforcement-Learning\\wandb\\run-20250708_122302-ygdc599v</code>"
      ],
      "text/plain": [
       "<IPython.core.display.HTML object>"
      ]
     },
     "metadata": {},
     "output_type": "display_data"
    },
    {
     "data": {
      "text/html": [
       "Syncing run <strong><a href='https://wandb.ai/nightly/montyhall-ql/runs/ygdc599v' target=\"_blank\">sweepy-sweep-2</a></strong> to <a href='https://wandb.ai/nightly/montyhall-ql' target=\"_blank\">Weights & Biases</a> (<a href='https://wandb.me/developer-guide' target=\"_blank\">docs</a>)<br>Sweep page: <a href='https://wandb.ai/nightly/montyhall-ql/sweeps/y9nid08r' target=\"_blank\">https://wandb.ai/nightly/montyhall-ql/sweeps/y9nid08r</a>"
      ],
      "text/plain": [
       "<IPython.core.display.HTML object>"
      ]
     },
     "metadata": {},
     "output_type": "display_data"
    },
    {
     "data": {
      "text/html": [
       " View project at <a href='https://wandb.ai/nightly/montyhall-ql' target=\"_blank\">https://wandb.ai/nightly/montyhall-ql</a>"
      ],
      "text/plain": [
       "<IPython.core.display.HTML object>"
      ]
     },
     "metadata": {},
     "output_type": "display_data"
    },
    {
     "data": {
      "text/html": [
       " View sweep at <a href='https://wandb.ai/nightly/montyhall-ql/sweeps/y9nid08r' target=\"_blank\">https://wandb.ai/nightly/montyhall-ql/sweeps/y9nid08r</a>"
      ],
      "text/plain": [
       "<IPython.core.display.HTML object>"
      ]
     },
     "metadata": {},
     "output_type": "display_data"
    },
    {
     "data": {
      "text/html": [
       " View run at <a href='https://wandb.ai/nightly/montyhall-ql/runs/ygdc599v' target=\"_blank\">https://wandb.ai/nightly/montyhall-ql/runs/ygdc599v</a>"
      ],
      "text/plain": [
       "<IPython.core.display.HTML object>"
      ]
     },
     "metadata": {},
     "output_type": "display_data"
    },
    {
     "name": "stderr",
     "output_type": "stream",
     "text": [
      "\u001b[32m2025-07-08 12:23:02.919\u001b[0m | \u001b[1mINFO    \u001b[0m | \u001b[36msrc.rl.tabular_q_learning\u001b[0m:\u001b[36mtrain\u001b[0m:\u001b[36m225\u001b[0m - \u001b[1mEpisode    25 | R: +0.0 | ε: 0.760\u001b[0m\n",
      "\u001b[32m2025-07-08 12:23:02.927\u001b[0m | \u001b[1mINFO    \u001b[0m | \u001b[36msrc.rl.tabular_q_learning\u001b[0m:\u001b[36mtrain\u001b[0m:\u001b[36m225\u001b[0m - \u001b[1mEpisode    50 | R: +1.0 | ε: 0.577\u001b[0m\n",
      "\u001b[32m2025-07-08 12:23:02.932\u001b[0m | \u001b[1mINFO    \u001b[0m | \u001b[36msrc.rl.tabular_q_learning\u001b[0m:\u001b[36mtrain\u001b[0m:\u001b[36m225\u001b[0m - \u001b[1mEpisode    75 | R: +1.0 | ε: 0.439\u001b[0m\n",
      "\u001b[32m2025-07-08 12:23:02.937\u001b[0m | \u001b[1mINFO    \u001b[0m | \u001b[36msrc.rl.tabular_q_learning\u001b[0m:\u001b[36mtrain\u001b[0m:\u001b[36m225\u001b[0m - \u001b[1mEpisode   100 | R: +1.0 | ε: 0.333\u001b[0m\n",
      "\u001b[32m2025-07-08 12:23:02.941\u001b[0m | \u001b[1mINFO    \u001b[0m | \u001b[36msrc.rl.tabular_q_learning\u001b[0m:\u001b[36mtrain\u001b[0m:\u001b[36m225\u001b[0m - \u001b[1mEpisode   125 | R: +1.0 | ε: 0.253\u001b[0m\n",
      "\u001b[32m2025-07-08 12:23:02.948\u001b[0m | \u001b[1mINFO    \u001b[0m | \u001b[36msrc.rl.tabular_q_learning\u001b[0m:\u001b[36mtrain\u001b[0m:\u001b[36m225\u001b[0m - \u001b[1mEpisode   150 | R: +1.0 | ε: 0.192\u001b[0m\n",
      "\u001b[32m2025-07-08 12:23:02.955\u001b[0m | \u001b[1mINFO    \u001b[0m | \u001b[36msrc.rl.tabular_q_learning\u001b[0m:\u001b[36mtrain\u001b[0m:\u001b[36m225\u001b[0m - \u001b[1mEpisode   175 | R: +1.0 | ε: 0.146\u001b[0m\n",
      "\u001b[32m2025-07-08 12:23:02.960\u001b[0m | \u001b[1mINFO    \u001b[0m | \u001b[36msrc.rl.tabular_q_learning\u001b[0m:\u001b[36mtrain\u001b[0m:\u001b[36m225\u001b[0m - \u001b[1mEpisode   200 | R: +1.0 | ε: 0.111\u001b[0m\n",
      "\u001b[32m2025-07-08 12:23:02.969\u001b[0m | \u001b[1mINFO    \u001b[0m | \u001b[36msrc.rl.tabular_q_learning\u001b[0m:\u001b[36mtrain\u001b[0m:\u001b[36m225\u001b[0m - \u001b[1mEpisode   225 | R: +1.0 | ε: 0.084\u001b[0m\n",
      "\u001b[32m2025-07-08 12:23:02.975\u001b[0m | \u001b[1mINFO    \u001b[0m | \u001b[36msrc.rl.tabular_q_learning\u001b[0m:\u001b[36mtrain\u001b[0m:\u001b[36m225\u001b[0m - \u001b[1mEpisode   250 | R: +1.0 | ε: 0.064\u001b[0m\n",
      "\u001b[32m2025-07-08 12:23:02.979\u001b[0m | \u001b[1mINFO    \u001b[0m | \u001b[36msrc.rl.tabular_q_learning\u001b[0m:\u001b[36mtrain\u001b[0m:\u001b[36m225\u001b[0m - \u001b[1mEpisode   275 | R: +1.0 | ε: 0.050\u001b[0m\n",
      "\u001b[32m2025-07-08 12:23:02.983\u001b[0m | \u001b[1mINFO    \u001b[0m | \u001b[36msrc.rl.tabular_q_learning\u001b[0m:\u001b[36mtrain\u001b[0m:\u001b[36m225\u001b[0m - \u001b[1mEpisode   300 | R: +1.0 | ε: 0.050\u001b[0m\n",
      "\u001b[32m2025-07-08 12:23:02.990\u001b[0m | \u001b[1mINFO    \u001b[0m | \u001b[36msrc.rl.tabular_q_learning\u001b[0m:\u001b[36mtrain\u001b[0m:\u001b[36m225\u001b[0m - \u001b[1mEpisode   325 | R: +1.0 | ε: 0.050\u001b[0m\n",
      "\u001b[32m2025-07-08 12:23:02.999\u001b[0m | \u001b[1mINFO    \u001b[0m | \u001b[36msrc.rl.tabular_q_learning\u001b[0m:\u001b[36mtrain\u001b[0m:\u001b[36m225\u001b[0m - \u001b[1mEpisode   350 | R: +1.0 | ε: 0.050\u001b[0m\n",
      "\u001b[32m2025-07-08 12:23:02.999\u001b[0m | \u001b[32m\u001b[1mSUCCESS \u001b[0m | \u001b[36msrc.rl.tabular_q_learning\u001b[0m:\u001b[36mtrain\u001b[0m:\u001b[36m236\u001b[0m - \u001b[32m\u001b[1mConverged at episode 350 after 0.09s\u001b[0m\n",
      "\u001b[32m2025-07-08 12:23:03.003\u001b[0m | \u001b[1mINFO    \u001b[0m | \u001b[36msrc.rl.tabular_q_learning\u001b[0m:\u001b[36mtrain\u001b[0m:\u001b[36m225\u001b[0m - \u001b[1mEpisode   375 | R: +1.0 | ε: 0.050\u001b[0m\n",
      "\u001b[32m2025-07-08 12:23:03.010\u001b[0m | \u001b[1mINFO    \u001b[0m | \u001b[36msrc.rl.tabular_q_learning\u001b[0m:\u001b[36mtrain\u001b[0m:\u001b[36m225\u001b[0m - \u001b[1mEpisode   400 | R: +1.0 | ε: 0.050\u001b[0m\n",
      "\u001b[32m2025-07-08 12:23:03.011\u001b[0m | \u001b[1mINFO    \u001b[0m | \u001b[36msrc.rl.tabular_q_learning\u001b[0m:\u001b[36mtrain\u001b[0m:\u001b[36m225\u001b[0m - \u001b[1mEpisode   425 | R: +1.0 | ε: 0.050\u001b[0m\n",
      "\u001b[32m2025-07-08 12:23:03.017\u001b[0m | \u001b[1mINFO    \u001b[0m | \u001b[36msrc.rl.tabular_q_learning\u001b[0m:\u001b[36mtrain\u001b[0m:\u001b[36m225\u001b[0m - \u001b[1mEpisode   450 | R: +1.0 | ε: 0.050\u001b[0m\n",
      "\u001b[32m2025-07-08 12:23:03.024\u001b[0m | \u001b[1mINFO    \u001b[0m | \u001b[36msrc.rl.tabular_q_learning\u001b[0m:\u001b[36mtrain\u001b[0m:\u001b[36m225\u001b[0m - \u001b[1mEpisode   475 | R: +1.0 | ε: 0.050\u001b[0m\n",
      "\u001b[32m2025-07-08 12:23:03.030\u001b[0m | \u001b[1mINFO    \u001b[0m | \u001b[36msrc.rl.tabular_q_learning\u001b[0m:\u001b[36mtrain\u001b[0m:\u001b[36m225\u001b[0m - \u001b[1mEpisode   500 | R: +1.0 | ε: 0.050\u001b[0m\n"
     ]
    },
    {
     "data": {
      "text/html": [],
      "text/plain": [
       "<IPython.core.display.HTML object>"
      ]
     },
     "metadata": {},
     "output_type": "display_data"
    },
    {
     "data": {
      "text/html": [
       "<br>    <style><br>        .wandb-row {<br>            display: flex;<br>            flex-direction: row;<br>            flex-wrap: wrap;<br>            justify-content: flex-start;<br>            width: 100%;<br>        }<br>        .wandb-col {<br>            display: flex;<br>            flex-direction: column;<br>            flex-basis: 100%;<br>            flex: 1;<br>            padding: 10px;<br>        }<br>    </style><br><div class=\"wandb-row\"><div class=\"wandb-col\"><h3>Run history:</h3><br/><table class=\"wandb\"><tr><td>best_reward</td><td>▁</td></tr><tr><td>converged_episode</td><td>▁</td></tr><tr><td>train_time_sec</td><td>▁</td></tr></table><br/></div><div class=\"wandb-col\"><h3>Run summary:</h3><br/><table class=\"wandb\"><tr><td>best_reward</td><td>1</td></tr><tr><td>converged_episode</td><td>350</td></tr><tr><td>train_time_sec</td><td>0.08517</td></tr></table><br/></div></div>"
      ],
      "text/plain": [
       "<IPython.core.display.HTML object>"
      ]
     },
     "metadata": {},
     "output_type": "display_data"
    },
    {
     "data": {
      "text/html": [
       " View run <strong style=\"color:#cdcd00\">sweepy-sweep-2</strong> at: <a href='https://wandb.ai/nightly/montyhall-ql/runs/ygdc599v' target=\"_blank\">https://wandb.ai/nightly/montyhall-ql/runs/ygdc599v</a><br> View project at: <a href='https://wandb.ai/nightly/montyhall-ql' target=\"_blank\">https://wandb.ai/nightly/montyhall-ql</a><br>Synced 5 W&B file(s), 0 media file(s), 0 artifact file(s) and 0 other file(s)"
      ],
      "text/plain": [
       "<IPython.core.display.HTML object>"
      ]
     },
     "metadata": {},
     "output_type": "display_data"
    },
    {
     "data": {
      "text/html": [
       "Find logs at: <code>.\\wandb\\run-20250708_122302-ygdc599v\\logs</code>"
      ],
      "text/plain": [
       "<IPython.core.display.HTML object>"
      ]
     },
     "metadata": {},
     "output_type": "display_data"
    },
    {
     "name": "stderr",
     "output_type": "stream",
     "text": [
      "\u001b[34m\u001b[1mwandb\u001b[0m: Agent Starting Run: 973470kf with config:\n",
      "\u001b[34m\u001b[1mwandb\u001b[0m: \tdiscount_factor: 0.8161558277950575\n",
      "\u001b[34m\u001b[1mwandb\u001b[0m: \tepsilon_decay: 0.9600894354382998\n",
      "\u001b[34m\u001b[1mwandb\u001b[0m: \tlearning_rate: 0.008715191304648226\n"
     ]
    },
    {
     "data": {
      "text/html": [
       "Ignoring project 'montyhall-ql' when running a sweep."
      ],
      "text/plain": [
       "<IPython.core.display.HTML object>"
      ]
     },
     "metadata": {},
     "output_type": "display_data"
    },
    {
     "data": {
      "text/html": [
       "Tracking run with wandb version 0.19.11"
      ],
      "text/plain": [
       "<IPython.core.display.HTML object>"
      ]
     },
     "metadata": {},
     "output_type": "display_data"
    },
    {
     "data": {
      "text/html": [
       "Run data is saved locally in <code>c:\\Projects\\amethyst\\Solving-Combinatorial-Problems-using-Reinforcement-Learning\\wandb\\run-20250708_122307-973470kf</code>"
      ],
      "text/plain": [
       "<IPython.core.display.HTML object>"
      ]
     },
     "metadata": {},
     "output_type": "display_data"
    },
    {
     "data": {
      "text/html": [
       "Syncing run <strong><a href='https://wandb.ai/nightly/montyhall-ql/runs/973470kf' target=\"_blank\">lucky-sweep-3</a></strong> to <a href='https://wandb.ai/nightly/montyhall-ql' target=\"_blank\">Weights & Biases</a> (<a href='https://wandb.me/developer-guide' target=\"_blank\">docs</a>)<br>Sweep page: <a href='https://wandb.ai/nightly/montyhall-ql/sweeps/y9nid08r' target=\"_blank\">https://wandb.ai/nightly/montyhall-ql/sweeps/y9nid08r</a>"
      ],
      "text/plain": [
       "<IPython.core.display.HTML object>"
      ]
     },
     "metadata": {},
     "output_type": "display_data"
    },
    {
     "data": {
      "text/html": [
       " View project at <a href='https://wandb.ai/nightly/montyhall-ql' target=\"_blank\">https://wandb.ai/nightly/montyhall-ql</a>"
      ],
      "text/plain": [
       "<IPython.core.display.HTML object>"
      ]
     },
     "metadata": {},
     "output_type": "display_data"
    },
    {
     "data": {
      "text/html": [
       " View sweep at <a href='https://wandb.ai/nightly/montyhall-ql/sweeps/y9nid08r' target=\"_blank\">https://wandb.ai/nightly/montyhall-ql/sweeps/y9nid08r</a>"
      ],
      "text/plain": [
       "<IPython.core.display.HTML object>"
      ]
     },
     "metadata": {},
     "output_type": "display_data"
    },
    {
     "data": {
      "text/html": [
       " View run at <a href='https://wandb.ai/nightly/montyhall-ql/runs/973470kf' target=\"_blank\">https://wandb.ai/nightly/montyhall-ql/runs/973470kf</a>"
      ],
      "text/plain": [
       "<IPython.core.display.HTML object>"
      ]
     },
     "metadata": {},
     "output_type": "display_data"
    },
    {
     "name": "stderr",
     "output_type": "stream",
     "text": [
      "\u001b[32m2025-07-08 12:23:08.275\u001b[0m | \u001b[1mINFO    \u001b[0m | \u001b[36msrc.rl.tabular_q_learning\u001b[0m:\u001b[36mtrain\u001b[0m:\u001b[36m225\u001b[0m - \u001b[1mEpisode    25 | R: +0.0 | ε: 0.361\u001b[0m\n",
      "\u001b[32m2025-07-08 12:23:08.281\u001b[0m | \u001b[1mINFO    \u001b[0m | \u001b[36msrc.rl.tabular_q_learning\u001b[0m:\u001b[36mtrain\u001b[0m:\u001b[36m225\u001b[0m - \u001b[1mEpisode    50 | R: +1.0 | ε: 0.130\u001b[0m\n",
      "\u001b[32m2025-07-08 12:23:08.286\u001b[0m | \u001b[1mINFO    \u001b[0m | \u001b[36msrc.rl.tabular_q_learning\u001b[0m:\u001b[36mtrain\u001b[0m:\u001b[36m225\u001b[0m - \u001b[1mEpisode    75 | R: +1.0 | ε: 0.050\u001b[0m\n",
      "\u001b[32m2025-07-08 12:23:08.292\u001b[0m | \u001b[1mINFO    \u001b[0m | \u001b[36msrc.rl.tabular_q_learning\u001b[0m:\u001b[36mtrain\u001b[0m:\u001b[36m225\u001b[0m - \u001b[1mEpisode   100 | R: +1.0 | ε: 0.050\u001b[0m\n",
      "\u001b[32m2025-07-08 12:23:08.297\u001b[0m | \u001b[1mINFO    \u001b[0m | \u001b[36msrc.rl.tabular_q_learning\u001b[0m:\u001b[36mtrain\u001b[0m:\u001b[36m225\u001b[0m - \u001b[1mEpisode   125 | R: +1.0 | ε: 0.050\u001b[0m\n",
      "\u001b[32m2025-07-08 12:23:08.304\u001b[0m | \u001b[32m\u001b[1mSUCCESS \u001b[0m | \u001b[36msrc.rl.tabular_q_learning\u001b[0m:\u001b[36mtrain\u001b[0m:\u001b[36m236\u001b[0m - \u001b[32m\u001b[1mConverged at episode 144 after 0.03s\u001b[0m\n",
      "\u001b[32m2025-07-08 12:23:08.306\u001b[0m | \u001b[1mINFO    \u001b[0m | \u001b[36msrc.rl.tabular_q_learning\u001b[0m:\u001b[36mtrain\u001b[0m:\u001b[36m225\u001b[0m - \u001b[1mEpisode   150 | R: +1.0 | ε: 0.050\u001b[0m\n",
      "\u001b[32m2025-07-08 12:23:08.312\u001b[0m | \u001b[1mINFO    \u001b[0m | \u001b[36msrc.rl.tabular_q_learning\u001b[0m:\u001b[36mtrain\u001b[0m:\u001b[36m225\u001b[0m - \u001b[1mEpisode   175 | R: +1.0 | ε: 0.050\u001b[0m\n",
      "\u001b[32m2025-07-08 12:23:08.317\u001b[0m | \u001b[1mINFO    \u001b[0m | \u001b[36msrc.rl.tabular_q_learning\u001b[0m:\u001b[36mtrain\u001b[0m:\u001b[36m225\u001b[0m - \u001b[1mEpisode   200 | R: +1.0 | ε: 0.050\u001b[0m\n",
      "\u001b[32m2025-07-08 12:23:08.321\u001b[0m | \u001b[1mINFO    \u001b[0m | \u001b[36msrc.rl.tabular_q_learning\u001b[0m:\u001b[36mtrain\u001b[0m:\u001b[36m225\u001b[0m - \u001b[1mEpisode   225 | R: +1.0 | ε: 0.050\u001b[0m\n",
      "\u001b[32m2025-07-08 12:23:08.325\u001b[0m | \u001b[1mINFO    \u001b[0m | \u001b[36msrc.rl.tabular_q_learning\u001b[0m:\u001b[36mtrain\u001b[0m:\u001b[36m225\u001b[0m - \u001b[1mEpisode   250 | R: +1.0 | ε: 0.050\u001b[0m\n",
      "\u001b[32m2025-07-08 12:23:08.331\u001b[0m | \u001b[1mINFO    \u001b[0m | \u001b[36msrc.rl.tabular_q_learning\u001b[0m:\u001b[36mtrain\u001b[0m:\u001b[36m225\u001b[0m - \u001b[1mEpisode   275 | R: +1.0 | ε: 0.050\u001b[0m\n",
      "\u001b[32m2025-07-08 12:23:08.336\u001b[0m | \u001b[1mINFO    \u001b[0m | \u001b[36msrc.rl.tabular_q_learning\u001b[0m:\u001b[36mtrain\u001b[0m:\u001b[36m225\u001b[0m - \u001b[1mEpisode   300 | R: +1.0 | ε: 0.050\u001b[0m\n",
      "\u001b[32m2025-07-08 12:23:08.344\u001b[0m | \u001b[1mINFO    \u001b[0m | \u001b[36msrc.rl.tabular_q_learning\u001b[0m:\u001b[36mtrain\u001b[0m:\u001b[36m225\u001b[0m - \u001b[1mEpisode   325 | R: +1.0 | ε: 0.050\u001b[0m\n",
      "\u001b[32m2025-07-08 12:23:08.349\u001b[0m | \u001b[1mINFO    \u001b[0m | \u001b[36msrc.rl.tabular_q_learning\u001b[0m:\u001b[36mtrain\u001b[0m:\u001b[36m225\u001b[0m - \u001b[1mEpisode   350 | R: +1.0 | ε: 0.050\u001b[0m\n",
      "\u001b[32m2025-07-08 12:23:08.353\u001b[0m | \u001b[1mINFO    \u001b[0m | \u001b[36msrc.rl.tabular_q_learning\u001b[0m:\u001b[36mtrain\u001b[0m:\u001b[36m225\u001b[0m - \u001b[1mEpisode   375 | R: +1.0 | ε: 0.050\u001b[0m\n",
      "\u001b[32m2025-07-08 12:23:08.356\u001b[0m | \u001b[1mINFO    \u001b[0m | \u001b[36msrc.rl.tabular_q_learning\u001b[0m:\u001b[36mtrain\u001b[0m:\u001b[36m225\u001b[0m - \u001b[1mEpisode   400 | R: +1.0 | ε: 0.050\u001b[0m\n",
      "\u001b[32m2025-07-08 12:23:08.363\u001b[0m | \u001b[1mINFO    \u001b[0m | \u001b[36msrc.rl.tabular_q_learning\u001b[0m:\u001b[36mtrain\u001b[0m:\u001b[36m225\u001b[0m - \u001b[1mEpisode   425 | R: +1.0 | ε: 0.050\u001b[0m\n",
      "\u001b[32m2025-07-08 12:23:08.368\u001b[0m | \u001b[1mINFO    \u001b[0m | \u001b[36msrc.rl.tabular_q_learning\u001b[0m:\u001b[36mtrain\u001b[0m:\u001b[36m225\u001b[0m - \u001b[1mEpisode   450 | R: +1.0 | ε: 0.050\u001b[0m\n",
      "\u001b[32m2025-07-08 12:23:08.373\u001b[0m | \u001b[1mINFO    \u001b[0m | \u001b[36msrc.rl.tabular_q_learning\u001b[0m:\u001b[36mtrain\u001b[0m:\u001b[36m225\u001b[0m - \u001b[1mEpisode   475 | R: +1.0 | ε: 0.050\u001b[0m\n",
      "\u001b[32m2025-07-08 12:23:08.377\u001b[0m | \u001b[1mINFO    \u001b[0m | \u001b[36msrc.rl.tabular_q_learning\u001b[0m:\u001b[36mtrain\u001b[0m:\u001b[36m225\u001b[0m - \u001b[1mEpisode   500 | R: +1.0 | ε: 0.050\u001b[0m\n"
     ]
    },
    {
     "data": {
      "text/html": [],
      "text/plain": [
       "<IPython.core.display.HTML object>"
      ]
     },
     "metadata": {},
     "output_type": "display_data"
    },
    {
     "data": {
      "text/html": [
       "<br>    <style><br>        .wandb-row {<br>            display: flex;<br>            flex-direction: row;<br>            flex-wrap: wrap;<br>            justify-content: flex-start;<br>            width: 100%;<br>        }<br>        .wandb-col {<br>            display: flex;<br>            flex-direction: column;<br>            flex-basis: 100%;<br>            flex: 1;<br>            padding: 10px;<br>        }<br>    </style><br><div class=\"wandb-row\"><div class=\"wandb-col\"><h3>Run history:</h3><br/><table class=\"wandb\"><tr><td>best_reward</td><td>▁</td></tr><tr><td>converged_episode</td><td>▁</td></tr><tr><td>train_time_sec</td><td>▁</td></tr></table><br/></div><div class=\"wandb-col\"><h3>Run summary:</h3><br/><table class=\"wandb\"><tr><td>best_reward</td><td>1</td></tr><tr><td>converged_episode</td><td>144</td></tr><tr><td>train_time_sec</td><td>0.0338</td></tr></table><br/></div></div>"
      ],
      "text/plain": [
       "<IPython.core.display.HTML object>"
      ]
     },
     "metadata": {},
     "output_type": "display_data"
    },
    {
     "data": {
      "text/html": [
       " View run <strong style=\"color:#cdcd00\">lucky-sweep-3</strong> at: <a href='https://wandb.ai/nightly/montyhall-ql/runs/973470kf' target=\"_blank\">https://wandb.ai/nightly/montyhall-ql/runs/973470kf</a><br> View project at: <a href='https://wandb.ai/nightly/montyhall-ql' target=\"_blank\">https://wandb.ai/nightly/montyhall-ql</a><br>Synced 5 W&B file(s), 0 media file(s), 0 artifact file(s) and 0 other file(s)"
      ],
      "text/plain": [
       "<IPython.core.display.HTML object>"
      ]
     },
     "metadata": {},
     "output_type": "display_data"
    },
    {
     "data": {
      "text/html": [
       "Find logs at: <code>.\\wandb\\run-20250708_122307-973470kf\\logs</code>"
      ],
      "text/plain": [
       "<IPython.core.display.HTML object>"
      ]
     },
     "metadata": {},
     "output_type": "display_data"
    },
    {
     "name": "stderr",
     "output_type": "stream",
     "text": [
      "\u001b[34m\u001b[1mwandb\u001b[0m: Agent Starting Run: sggo0bq5 with config:\n",
      "\u001b[34m\u001b[1mwandb\u001b[0m: \tdiscount_factor: 0.9039003345618832\n",
      "\u001b[34m\u001b[1mwandb\u001b[0m: \tepsilon_decay: 0.9809869964329752\n",
      "\u001b[34m\u001b[1mwandb\u001b[0m: \tlearning_rate: 9.388592504444144e-05\n"
     ]
    },
    {
     "data": {
      "text/html": [
       "Ignoring project 'montyhall-ql' when running a sweep."
      ],
      "text/plain": [
       "<IPython.core.display.HTML object>"
      ]
     },
     "metadata": {},
     "output_type": "display_data"
    },
    {
     "data": {
      "text/html": [
       "Tracking run with wandb version 0.19.11"
      ],
      "text/plain": [
       "<IPython.core.display.HTML object>"
      ]
     },
     "metadata": {},
     "output_type": "display_data"
    },
    {
     "data": {
      "text/html": [
       "Run data is saved locally in <code>c:\\Projects\\amethyst\\Solving-Combinatorial-Problems-using-Reinforcement-Learning\\wandb\\run-20250708_122313-sggo0bq5</code>"
      ],
      "text/plain": [
       "<IPython.core.display.HTML object>"
      ]
     },
     "metadata": {},
     "output_type": "display_data"
    },
    {
     "data": {
      "text/html": [
       "Syncing run <strong><a href='https://wandb.ai/nightly/montyhall-ql/runs/sggo0bq5' target=\"_blank\">sage-sweep-4</a></strong> to <a href='https://wandb.ai/nightly/montyhall-ql' target=\"_blank\">Weights & Biases</a> (<a href='https://wandb.me/developer-guide' target=\"_blank\">docs</a>)<br>Sweep page: <a href='https://wandb.ai/nightly/montyhall-ql/sweeps/y9nid08r' target=\"_blank\">https://wandb.ai/nightly/montyhall-ql/sweeps/y9nid08r</a>"
      ],
      "text/plain": [
       "<IPython.core.display.HTML object>"
      ]
     },
     "metadata": {},
     "output_type": "display_data"
    },
    {
     "data": {
      "text/html": [
       " View project at <a href='https://wandb.ai/nightly/montyhall-ql' target=\"_blank\">https://wandb.ai/nightly/montyhall-ql</a>"
      ],
      "text/plain": [
       "<IPython.core.display.HTML object>"
      ]
     },
     "metadata": {},
     "output_type": "display_data"
    },
    {
     "data": {
      "text/html": [
       " View sweep at <a href='https://wandb.ai/nightly/montyhall-ql/sweeps/y9nid08r' target=\"_blank\">https://wandb.ai/nightly/montyhall-ql/sweeps/y9nid08r</a>"
      ],
      "text/plain": [
       "<IPython.core.display.HTML object>"
      ]
     },
     "metadata": {},
     "output_type": "display_data"
    },
    {
     "data": {
      "text/html": [
       " View run at <a href='https://wandb.ai/nightly/montyhall-ql/runs/sggo0bq5' target=\"_blank\">https://wandb.ai/nightly/montyhall-ql/runs/sggo0bq5</a>"
      ],
      "text/plain": [
       "<IPython.core.display.HTML object>"
      ]
     },
     "metadata": {},
     "output_type": "display_data"
    },
    {
     "name": "stderr",
     "output_type": "stream",
     "text": [
      "\u001b[32m2025-07-08 12:23:13.810\u001b[0m | \u001b[1mINFO    \u001b[0m | \u001b[36msrc.rl.tabular_q_learning\u001b[0m:\u001b[36mtrain\u001b[0m:\u001b[36m225\u001b[0m - \u001b[1mEpisode    25 | R: +1.0 | ε: 0.619\u001b[0m\n",
      "\u001b[32m2025-07-08 12:23:13.816\u001b[0m | \u001b[1mINFO    \u001b[0m | \u001b[36msrc.rl.tabular_q_learning\u001b[0m:\u001b[36mtrain\u001b[0m:\u001b[36m225\u001b[0m - \u001b[1mEpisode    50 | R: +1.0 | ε: 0.383\u001b[0m\n",
      "\u001b[32m2025-07-08 12:23:13.821\u001b[0m | \u001b[1mINFO    \u001b[0m | \u001b[36msrc.rl.tabular_q_learning\u001b[0m:\u001b[36mtrain\u001b[0m:\u001b[36m225\u001b[0m - \u001b[1mEpisode    75 | R: +1.0 | ε: 0.237\u001b[0m\n",
      "\u001b[32m2025-07-08 12:23:13.821\u001b[0m | \u001b[1mINFO    \u001b[0m | \u001b[36msrc.rl.tabular_q_learning\u001b[0m:\u001b[36mtrain\u001b[0m:\u001b[36m225\u001b[0m - \u001b[1mEpisode   100 | R: +1.0 | ε: 0.147\u001b[0m\n",
      "\u001b[32m2025-07-08 12:23:13.832\u001b[0m | \u001b[1mINFO    \u001b[0m | \u001b[36msrc.rl.tabular_q_learning\u001b[0m:\u001b[36mtrain\u001b[0m:\u001b[36m225\u001b[0m - \u001b[1mEpisode   125 | R: +1.0 | ε: 0.091\u001b[0m\n",
      "\u001b[32m2025-07-08 12:23:13.836\u001b[0m | \u001b[1mINFO    \u001b[0m | \u001b[36msrc.rl.tabular_q_learning\u001b[0m:\u001b[36mtrain\u001b[0m:\u001b[36m225\u001b[0m - \u001b[1mEpisode   150 | R: +1.0 | ε: 0.056\u001b[0m\n",
      "\u001b[32m2025-07-08 12:23:13.845\u001b[0m | \u001b[1mINFO    \u001b[0m | \u001b[36msrc.rl.tabular_q_learning\u001b[0m:\u001b[36mtrain\u001b[0m:\u001b[36m225\u001b[0m - \u001b[1mEpisode   175 | R: +1.0 | ε: 0.050\u001b[0m\n",
      "\u001b[32m2025-07-08 12:23:13.850\u001b[0m | \u001b[32m\u001b[1mSUCCESS \u001b[0m | \u001b[36msrc.rl.tabular_q_learning\u001b[0m:\u001b[36mtrain\u001b[0m:\u001b[36m236\u001b[0m - \u001b[32m\u001b[1mConverged at episode 198 after 0.05s\u001b[0m\n",
      "\u001b[32m2025-07-08 12:23:13.851\u001b[0m | \u001b[1mINFO    \u001b[0m | \u001b[36msrc.rl.tabular_q_learning\u001b[0m:\u001b[36mtrain\u001b[0m:\u001b[36m225\u001b[0m - \u001b[1mEpisode   200 | R: +1.0 | ε: 0.050\u001b[0m\n",
      "\u001b[32m2025-07-08 12:23:13.855\u001b[0m | \u001b[1mINFO    \u001b[0m | \u001b[36msrc.rl.tabular_q_learning\u001b[0m:\u001b[36mtrain\u001b[0m:\u001b[36m225\u001b[0m - \u001b[1mEpisode   225 | R: +1.0 | ε: 0.050\u001b[0m\n",
      "\u001b[32m2025-07-08 12:23:13.861\u001b[0m | \u001b[1mINFO    \u001b[0m | \u001b[36msrc.rl.tabular_q_learning\u001b[0m:\u001b[36mtrain\u001b[0m:\u001b[36m225\u001b[0m - \u001b[1mEpisode   250 | R: +1.0 | ε: 0.050\u001b[0m\n",
      "\u001b[32m2025-07-08 12:23:13.868\u001b[0m | \u001b[1mINFO    \u001b[0m | \u001b[36msrc.rl.tabular_q_learning\u001b[0m:\u001b[36mtrain\u001b[0m:\u001b[36m225\u001b[0m - \u001b[1mEpisode   275 | R: +1.0 | ε: 0.050\u001b[0m\n",
      "\u001b[32m2025-07-08 12:23:13.873\u001b[0m | \u001b[1mINFO    \u001b[0m | \u001b[36msrc.rl.tabular_q_learning\u001b[0m:\u001b[36mtrain\u001b[0m:\u001b[36m225\u001b[0m - \u001b[1mEpisode   300 | R: +1.0 | ε: 0.050\u001b[0m\n",
      "\u001b[32m2025-07-08 12:23:13.877\u001b[0m | \u001b[1mINFO    \u001b[0m | \u001b[36msrc.rl.tabular_q_learning\u001b[0m:\u001b[36mtrain\u001b[0m:\u001b[36m225\u001b[0m - \u001b[1mEpisode   325 | R: +1.0 | ε: 0.050\u001b[0m\n",
      "\u001b[32m2025-07-08 12:23:13.883\u001b[0m | \u001b[1mINFO    \u001b[0m | \u001b[36msrc.rl.tabular_q_learning\u001b[0m:\u001b[36mtrain\u001b[0m:\u001b[36m225\u001b[0m - \u001b[1mEpisode   350 | R: +1.0 | ε: 0.050\u001b[0m\n",
      "\u001b[32m2025-07-08 12:23:13.884\u001b[0m | \u001b[1mINFO    \u001b[0m | \u001b[36msrc.rl.tabular_q_learning\u001b[0m:\u001b[36mtrain\u001b[0m:\u001b[36m225\u001b[0m - \u001b[1mEpisode   375 | R: +1.0 | ε: 0.050\u001b[0m\n",
      "\u001b[32m2025-07-08 12:23:13.894\u001b[0m | \u001b[1mINFO    \u001b[0m | \u001b[36msrc.rl.tabular_q_learning\u001b[0m:\u001b[36mtrain\u001b[0m:\u001b[36m225\u001b[0m - \u001b[1mEpisode   400 | R: +1.0 | ε: 0.050\u001b[0m\n",
      "\u001b[32m2025-07-08 12:23:13.898\u001b[0m | \u001b[1mINFO    \u001b[0m | \u001b[36msrc.rl.tabular_q_learning\u001b[0m:\u001b[36mtrain\u001b[0m:\u001b[36m225\u001b[0m - \u001b[1mEpisode   425 | R: +1.0 | ε: 0.050\u001b[0m\n",
      "\u001b[32m2025-07-08 12:23:13.904\u001b[0m | \u001b[1mINFO    \u001b[0m | \u001b[36msrc.rl.tabular_q_learning\u001b[0m:\u001b[36mtrain\u001b[0m:\u001b[36m225\u001b[0m - \u001b[1mEpisode   450 | R: +1.0 | ε: 0.050\u001b[0m\n",
      "\u001b[32m2025-07-08 12:23:13.908\u001b[0m | \u001b[1mINFO    \u001b[0m | \u001b[36msrc.rl.tabular_q_learning\u001b[0m:\u001b[36mtrain\u001b[0m:\u001b[36m225\u001b[0m - \u001b[1mEpisode   475 | R: +1.0 | ε: 0.050\u001b[0m\n",
      "\u001b[32m2025-07-08 12:23:13.912\u001b[0m | \u001b[1mINFO    \u001b[0m | \u001b[36msrc.rl.tabular_q_learning\u001b[0m:\u001b[36mtrain\u001b[0m:\u001b[36m225\u001b[0m - \u001b[1mEpisode   500 | R: +1.0 | ε: 0.050\u001b[0m\n"
     ]
    },
    {
     "data": {
      "text/html": [],
      "text/plain": [
       "<IPython.core.display.HTML object>"
      ]
     },
     "metadata": {},
     "output_type": "display_data"
    },
    {
     "data": {
      "text/html": [
       "<br>    <style><br>        .wandb-row {<br>            display: flex;<br>            flex-direction: row;<br>            flex-wrap: wrap;<br>            justify-content: flex-start;<br>            width: 100%;<br>        }<br>        .wandb-col {<br>            display: flex;<br>            flex-direction: column;<br>            flex-basis: 100%;<br>            flex: 1;<br>            padding: 10px;<br>        }<br>    </style><br><div class=\"wandb-row\"><div class=\"wandb-col\"><h3>Run history:</h3><br/><table class=\"wandb\"><tr><td>best_reward</td><td>▁</td></tr><tr><td>converged_episode</td><td>▁</td></tr><tr><td>train_time_sec</td><td>▁</td></tr></table><br/></div><div class=\"wandb-col\"><h3>Run summary:</h3><br/><table class=\"wandb\"><tr><td>best_reward</td><td>1</td></tr><tr><td>converged_episode</td><td>198</td></tr><tr><td>train_time_sec</td><td>0.04517</td></tr></table><br/></div></div>"
      ],
      "text/plain": [
       "<IPython.core.display.HTML object>"
      ]
     },
     "metadata": {},
     "output_type": "display_data"
    },
    {
     "data": {
      "text/html": [
       " View run <strong style=\"color:#cdcd00\">sage-sweep-4</strong> at: <a href='https://wandb.ai/nightly/montyhall-ql/runs/sggo0bq5' target=\"_blank\">https://wandb.ai/nightly/montyhall-ql/runs/sggo0bq5</a><br> View project at: <a href='https://wandb.ai/nightly/montyhall-ql' target=\"_blank\">https://wandb.ai/nightly/montyhall-ql</a><br>Synced 5 W&B file(s), 0 media file(s), 0 artifact file(s) and 0 other file(s)"
      ],
      "text/plain": [
       "<IPython.core.display.HTML object>"
      ]
     },
     "metadata": {},
     "output_type": "display_data"
    },
    {
     "data": {
      "text/html": [
       "Find logs at: <code>.\\wandb\\run-20250708_122313-sggo0bq5\\logs</code>"
      ],
      "text/plain": [
       "<IPython.core.display.HTML object>"
      ]
     },
     "metadata": {},
     "output_type": "display_data"
    },
    {
     "name": "stderr",
     "output_type": "stream",
     "text": [
      "\u001b[34m\u001b[1mwandb\u001b[0m: Agent Starting Run: skm83985 with config:\n",
      "\u001b[34m\u001b[1mwandb\u001b[0m: \tdiscount_factor: 0.9355906775637972\n",
      "\u001b[34m\u001b[1mwandb\u001b[0m: \tepsilon_decay: 0.978703190032942\n",
      "\u001b[34m\u001b[1mwandb\u001b[0m: \tlearning_rate: 2.7068078789549587e-05\n"
     ]
    },
    {
     "data": {
      "text/html": [
       "Ignoring project 'montyhall-ql' when running a sweep."
      ],
      "text/plain": [
       "<IPython.core.display.HTML object>"
      ]
     },
     "metadata": {},
     "output_type": "display_data"
    },
    {
     "data": {
      "text/html": [
       "Tracking run with wandb version 0.19.11"
      ],
      "text/plain": [
       "<IPython.core.display.HTML object>"
      ]
     },
     "metadata": {},
     "output_type": "display_data"
    },
    {
     "data": {
      "text/html": [
       "Run data is saved locally in <code>c:\\Projects\\amethyst\\Solving-Combinatorial-Problems-using-Reinforcement-Learning\\wandb\\run-20250708_122317-skm83985</code>"
      ],
      "text/plain": [
       "<IPython.core.display.HTML object>"
      ]
     },
     "metadata": {},
     "output_type": "display_data"
    },
    {
     "data": {
      "text/html": [
       "Syncing run <strong><a href='https://wandb.ai/nightly/montyhall-ql/runs/skm83985' target=\"_blank\">colorful-sweep-5</a></strong> to <a href='https://wandb.ai/nightly/montyhall-ql' target=\"_blank\">Weights & Biases</a> (<a href='https://wandb.me/developer-guide' target=\"_blank\">docs</a>)<br>Sweep page: <a href='https://wandb.ai/nightly/montyhall-ql/sweeps/y9nid08r' target=\"_blank\">https://wandb.ai/nightly/montyhall-ql/sweeps/y9nid08r</a>"
      ],
      "text/plain": [
       "<IPython.core.display.HTML object>"
      ]
     },
     "metadata": {},
     "output_type": "display_data"
    },
    {
     "data": {
      "text/html": [
       " View project at <a href='https://wandb.ai/nightly/montyhall-ql' target=\"_blank\">https://wandb.ai/nightly/montyhall-ql</a>"
      ],
      "text/plain": [
       "<IPython.core.display.HTML object>"
      ]
     },
     "metadata": {},
     "output_type": "display_data"
    },
    {
     "data": {
      "text/html": [
       " View sweep at <a href='https://wandb.ai/nightly/montyhall-ql/sweeps/y9nid08r' target=\"_blank\">https://wandb.ai/nightly/montyhall-ql/sweeps/y9nid08r</a>"
      ],
      "text/plain": [
       "<IPython.core.display.HTML object>"
      ]
     },
     "metadata": {},
     "output_type": "display_data"
    },
    {
     "data": {
      "text/html": [
       " View run at <a href='https://wandb.ai/nightly/montyhall-ql/runs/skm83985' target=\"_blank\">https://wandb.ai/nightly/montyhall-ql/runs/skm83985</a>"
      ],
      "text/plain": [
       "<IPython.core.display.HTML object>"
      ]
     },
     "metadata": {},
     "output_type": "display_data"
    },
    {
     "name": "stderr",
     "output_type": "stream",
     "text": [
      "\u001b[32m2025-07-08 12:23:18.469\u001b[0m | \u001b[1mINFO    \u001b[0m | \u001b[36msrc.rl.tabular_q_learning\u001b[0m:\u001b[36mtrain\u001b[0m:\u001b[36m225\u001b[0m - \u001b[1mEpisode    25 | R: +0.0 | ε: 0.584\u001b[0m\n",
      "\u001b[32m2025-07-08 12:23:18.476\u001b[0m | \u001b[1mINFO    \u001b[0m | \u001b[36msrc.rl.tabular_q_learning\u001b[0m:\u001b[36mtrain\u001b[0m:\u001b[36m225\u001b[0m - \u001b[1mEpisode    50 | R: +1.0 | ε: 0.341\u001b[0m\n",
      "\u001b[32m2025-07-08 12:23:18.482\u001b[0m | \u001b[1mINFO    \u001b[0m | \u001b[36msrc.rl.tabular_q_learning\u001b[0m:\u001b[36mtrain\u001b[0m:\u001b[36m225\u001b[0m - \u001b[1mEpisode    75 | R: +1.0 | ε: 0.199\u001b[0m\n",
      "\u001b[32m2025-07-08 12:23:18.487\u001b[0m | \u001b[1mINFO    \u001b[0m | \u001b[36msrc.rl.tabular_q_learning\u001b[0m:\u001b[36mtrain\u001b[0m:\u001b[36m225\u001b[0m - \u001b[1mEpisode   100 | R: +1.0 | ε: 0.116\u001b[0m\n",
      "\u001b[32m2025-07-08 12:23:18.495\u001b[0m | \u001b[1mINFO    \u001b[0m | \u001b[36msrc.rl.tabular_q_learning\u001b[0m:\u001b[36mtrain\u001b[0m:\u001b[36m225\u001b[0m - \u001b[1mEpisode   125 | R: +1.0 | ε: 0.068\u001b[0m\n",
      "\u001b[32m2025-07-08 12:23:18.502\u001b[0m | \u001b[1mINFO    \u001b[0m | \u001b[36msrc.rl.tabular_q_learning\u001b[0m:\u001b[36mtrain\u001b[0m:\u001b[36m225\u001b[0m - \u001b[1mEpisode   150 | R: +1.0 | ε: 0.050\u001b[0m\n",
      "\u001b[32m2025-07-08 12:23:18.508\u001b[0m | \u001b[1mINFO    \u001b[0m | \u001b[36msrc.rl.tabular_q_learning\u001b[0m:\u001b[36mtrain\u001b[0m:\u001b[36m225\u001b[0m - \u001b[1mEpisode   175 | R: +1.0 | ε: 0.050\u001b[0m\n",
      "\u001b[32m2025-07-08 12:23:18.516\u001b[0m | \u001b[1mINFO    \u001b[0m | \u001b[36msrc.rl.tabular_q_learning\u001b[0m:\u001b[36mtrain\u001b[0m:\u001b[36m225\u001b[0m - \u001b[1mEpisode   200 | R: +1.0 | ε: 0.050\u001b[0m\n",
      "\u001b[32m2025-07-08 12:23:18.523\u001b[0m | \u001b[1mINFO    \u001b[0m | \u001b[36msrc.rl.tabular_q_learning\u001b[0m:\u001b[36mtrain\u001b[0m:\u001b[36m225\u001b[0m - \u001b[1mEpisode   225 | R: +1.0 | ε: 0.050\u001b[0m\n",
      "\u001b[32m2025-07-08 12:23:18.528\u001b[0m | \u001b[1mINFO    \u001b[0m | \u001b[36msrc.rl.tabular_q_learning\u001b[0m:\u001b[36mtrain\u001b[0m:\u001b[36m225\u001b[0m - \u001b[1mEpisode   250 | R: +1.0 | ε: 0.050\u001b[0m\n",
      "\u001b[32m2025-07-08 12:23:18.535\u001b[0m | \u001b[1mINFO    \u001b[0m | \u001b[36msrc.rl.tabular_q_learning\u001b[0m:\u001b[36mtrain\u001b[0m:\u001b[36m225\u001b[0m - \u001b[1mEpisode   275 | R: +1.0 | ε: 0.050\u001b[0m\n",
      "\u001b[32m2025-07-08 12:23:18.538\u001b[0m | \u001b[1mINFO    \u001b[0m | \u001b[36msrc.rl.tabular_q_learning\u001b[0m:\u001b[36mtrain\u001b[0m:\u001b[36m225\u001b[0m - \u001b[1mEpisode   300 | R: +1.0 | ε: 0.050\u001b[0m\n",
      "\u001b[32m2025-07-08 12:23:18.549\u001b[0m | \u001b[1mINFO    \u001b[0m | \u001b[36msrc.rl.tabular_q_learning\u001b[0m:\u001b[36mtrain\u001b[0m:\u001b[36m225\u001b[0m - \u001b[1mEpisode   325 | R: +1.0 | ε: 0.050\u001b[0m\n",
      "\u001b[32m2025-07-08 12:23:18.556\u001b[0m | \u001b[1mINFO    \u001b[0m | \u001b[36msrc.rl.tabular_q_learning\u001b[0m:\u001b[36mtrain\u001b[0m:\u001b[36m225\u001b[0m - \u001b[1mEpisode   350 | R: +1.0 | ε: 0.050\u001b[0m\n",
      "\u001b[32m2025-07-08 12:23:18.559\u001b[0m | \u001b[1mINFO    \u001b[0m | \u001b[36msrc.rl.tabular_q_learning\u001b[0m:\u001b[36mtrain\u001b[0m:\u001b[36m225\u001b[0m - \u001b[1mEpisode   375 | R: +1.0 | ε: 0.050\u001b[0m\n",
      "\u001b[32m2025-07-08 12:23:18.565\u001b[0m | \u001b[32m\u001b[1mSUCCESS \u001b[0m | \u001b[36msrc.rl.tabular_q_learning\u001b[0m:\u001b[36mtrain\u001b[0m:\u001b[36m236\u001b[0m - \u001b[32m\u001b[1mConverged at episode 394 after 0.10s\u001b[0m\n",
      "\u001b[32m2025-07-08 12:23:18.565\u001b[0m | \u001b[1mINFO    \u001b[0m | \u001b[36msrc.rl.tabular_q_learning\u001b[0m:\u001b[36mtrain\u001b[0m:\u001b[36m225\u001b[0m - \u001b[1mEpisode   400 | R: +1.0 | ε: 0.050\u001b[0m\n",
      "\u001b[32m2025-07-08 12:23:18.572\u001b[0m | \u001b[1mINFO    \u001b[0m | \u001b[36msrc.rl.tabular_q_learning\u001b[0m:\u001b[36mtrain\u001b[0m:\u001b[36m225\u001b[0m - \u001b[1mEpisode   425 | R: +1.0 | ε: 0.050\u001b[0m\n",
      "\u001b[32m2025-07-08 12:23:18.577\u001b[0m | \u001b[1mINFO    \u001b[0m | \u001b[36msrc.rl.tabular_q_learning\u001b[0m:\u001b[36mtrain\u001b[0m:\u001b[36m225\u001b[0m - \u001b[1mEpisode   450 | R: +1.0 | ε: 0.050\u001b[0m\n",
      "\u001b[32m2025-07-08 12:23:18.583\u001b[0m | \u001b[1mINFO    \u001b[0m | \u001b[36msrc.rl.tabular_q_learning\u001b[0m:\u001b[36mtrain\u001b[0m:\u001b[36m225\u001b[0m - \u001b[1mEpisode   475 | R: +1.0 | ε: 0.050\u001b[0m\n",
      "\u001b[32m2025-07-08 12:23:18.587\u001b[0m | \u001b[1mINFO    \u001b[0m | \u001b[36msrc.rl.tabular_q_learning\u001b[0m:\u001b[36mtrain\u001b[0m:\u001b[36m225\u001b[0m - \u001b[1mEpisode   500 | R: +1.0 | ε: 0.050\u001b[0m\n"
     ]
    },
    {
     "data": {
      "text/html": [],
      "text/plain": [
       "<IPython.core.display.HTML object>"
      ]
     },
     "metadata": {},
     "output_type": "display_data"
    },
    {
     "data": {
      "text/html": [
       "<br>    <style><br>        .wandb-row {<br>            display: flex;<br>            flex-direction: row;<br>            flex-wrap: wrap;<br>            justify-content: flex-start;<br>            width: 100%;<br>        }<br>        .wandb-col {<br>            display: flex;<br>            flex-direction: column;<br>            flex-basis: 100%;<br>            flex: 1;<br>            padding: 10px;<br>        }<br>    </style><br><div class=\"wandb-row\"><div class=\"wandb-col\"><h3>Run history:</h3><br/><table class=\"wandb\"><tr><td>best_reward</td><td>▁</td></tr><tr><td>converged_episode</td><td>▁</td></tr><tr><td>train_time_sec</td><td>▁</td></tr></table><br/></div><div class=\"wandb-col\"><h3>Run summary:</h3><br/><table class=\"wandb\"><tr><td>best_reward</td><td>1</td></tr><tr><td>converged_episode</td><td>394</td></tr><tr><td>train_time_sec</td><td>0.10381</td></tr></table><br/></div></div>"
      ],
      "text/plain": [
       "<IPython.core.display.HTML object>"
      ]
     },
     "metadata": {},
     "output_type": "display_data"
    },
    {
     "data": {
      "text/html": [
       " View run <strong style=\"color:#cdcd00\">colorful-sweep-5</strong> at: <a href='https://wandb.ai/nightly/montyhall-ql/runs/skm83985' target=\"_blank\">https://wandb.ai/nightly/montyhall-ql/runs/skm83985</a><br> View project at: <a href='https://wandb.ai/nightly/montyhall-ql' target=\"_blank\">https://wandb.ai/nightly/montyhall-ql</a><br>Synced 5 W&B file(s), 0 media file(s), 0 artifact file(s) and 0 other file(s)"
      ],
      "text/plain": [
       "<IPython.core.display.HTML object>"
      ]
     },
     "metadata": {},
     "output_type": "display_data"
    },
    {
     "data": {
      "text/html": [
       "Find logs at: <code>.\\wandb\\run-20250708_122317-skm83985\\logs</code>"
      ],
      "text/plain": [
       "<IPython.core.display.HTML object>"
      ]
     },
     "metadata": {},
     "output_type": "display_data"
    },
    {
     "name": "stderr",
     "output_type": "stream",
     "text": [
      "\u001b[34m\u001b[1mwandb\u001b[0m: Agent Starting Run: 1ipqno1n with config:\n",
      "\u001b[34m\u001b[1mwandb\u001b[0m: \tdiscount_factor: 0.8957504481780244\n",
      "\u001b[34m\u001b[1mwandb\u001b[0m: \tepsilon_decay: 0.9605790595898612\n",
      "\u001b[34m\u001b[1mwandb\u001b[0m: \tlearning_rate: 3.352588858972616e-05\n"
     ]
    },
    {
     "data": {
      "text/html": [
       "Ignoring project 'montyhall-ql' when running a sweep."
      ],
      "text/plain": [
       "<IPython.core.display.HTML object>"
      ]
     },
     "metadata": {},
     "output_type": "display_data"
    },
    {
     "data": {
      "text/html": [
       "Tracking run with wandb version 0.19.11"
      ],
      "text/plain": [
       "<IPython.core.display.HTML object>"
      ]
     },
     "metadata": {},
     "output_type": "display_data"
    },
    {
     "data": {
      "text/html": [
       "Run data is saved locally in <code>c:\\Projects\\amethyst\\Solving-Combinatorial-Problems-using-Reinforcement-Learning\\wandb\\run-20250708_122323-1ipqno1n</code>"
      ],
      "text/plain": [
       "<IPython.core.display.HTML object>"
      ]
     },
     "metadata": {},
     "output_type": "display_data"
    },
    {
     "data": {
      "text/html": [
       "Syncing run <strong><a href='https://wandb.ai/nightly/montyhall-ql/runs/1ipqno1n' target=\"_blank\">eternal-sweep-6</a></strong> to <a href='https://wandb.ai/nightly/montyhall-ql' target=\"_blank\">Weights & Biases</a> (<a href='https://wandb.me/developer-guide' target=\"_blank\">docs</a>)<br>Sweep page: <a href='https://wandb.ai/nightly/montyhall-ql/sweeps/y9nid08r' target=\"_blank\">https://wandb.ai/nightly/montyhall-ql/sweeps/y9nid08r</a>"
      ],
      "text/plain": [
       "<IPython.core.display.HTML object>"
      ]
     },
     "metadata": {},
     "output_type": "display_data"
    },
    {
     "data": {
      "text/html": [
       " View project at <a href='https://wandb.ai/nightly/montyhall-ql' target=\"_blank\">https://wandb.ai/nightly/montyhall-ql</a>"
      ],
      "text/plain": [
       "<IPython.core.display.HTML object>"
      ]
     },
     "metadata": {},
     "output_type": "display_data"
    },
    {
     "data": {
      "text/html": [
       " View sweep at <a href='https://wandb.ai/nightly/montyhall-ql/sweeps/y9nid08r' target=\"_blank\">https://wandb.ai/nightly/montyhall-ql/sweeps/y9nid08r</a>"
      ],
      "text/plain": [
       "<IPython.core.display.HTML object>"
      ]
     },
     "metadata": {},
     "output_type": "display_data"
    },
    {
     "data": {
      "text/html": [
       " View run at <a href='https://wandb.ai/nightly/montyhall-ql/runs/1ipqno1n' target=\"_blank\">https://wandb.ai/nightly/montyhall-ql/runs/1ipqno1n</a>"
      ],
      "text/plain": [
       "<IPython.core.display.HTML object>"
      ]
     },
     "metadata": {},
     "output_type": "display_data"
    },
    {
     "name": "stderr",
     "output_type": "stream",
     "text": [
      "\u001b[32m2025-07-08 12:23:23.710\u001b[0m | \u001b[1mINFO    \u001b[0m | \u001b[36msrc.rl.tabular_q_learning\u001b[0m:\u001b[36mtrain\u001b[0m:\u001b[36m225\u001b[0m - \u001b[1mEpisode    25 | R: +1.0 | ε: 0.366\u001b[0m\n",
      "\u001b[32m2025-07-08 12:23:23.716\u001b[0m | \u001b[1mINFO    \u001b[0m | \u001b[36msrc.rl.tabular_q_learning\u001b[0m:\u001b[36mtrain\u001b[0m:\u001b[36m225\u001b[0m - \u001b[1mEpisode    50 | R: +1.0 | ε: 0.134\u001b[0m\n",
      "\u001b[32m2025-07-08 12:23:23.721\u001b[0m | \u001b[1mINFO    \u001b[0m | \u001b[36msrc.rl.tabular_q_learning\u001b[0m:\u001b[36mtrain\u001b[0m:\u001b[36m225\u001b[0m - \u001b[1mEpisode    75 | R: +1.0 | ε: 0.050\u001b[0m\n",
      "\u001b[32m2025-07-08 12:23:23.727\u001b[0m | \u001b[1mINFO    \u001b[0m | \u001b[36msrc.rl.tabular_q_learning\u001b[0m:\u001b[36mtrain\u001b[0m:\u001b[36m225\u001b[0m - \u001b[1mEpisode   100 | R: +1.0 | ε: 0.050\u001b[0m\n",
      "\u001b[32m2025-07-08 12:23:23.733\u001b[0m | \u001b[1mINFO    \u001b[0m | \u001b[36msrc.rl.tabular_q_learning\u001b[0m:\u001b[36mtrain\u001b[0m:\u001b[36m225\u001b[0m - \u001b[1mEpisode   125 | R: +1.0 | ε: 0.050\u001b[0m\n",
      "\u001b[32m2025-07-08 12:23:23.734\u001b[0m | \u001b[32m\u001b[1mSUCCESS \u001b[0m | \u001b[36msrc.rl.tabular_q_learning\u001b[0m:\u001b[36mtrain\u001b[0m:\u001b[36m236\u001b[0m - \u001b[32m\u001b[1mConverged at episode 125 after 0.03s\u001b[0m\n",
      "\u001b[32m2025-07-08 12:23:23.739\u001b[0m | \u001b[1mINFO    \u001b[0m | \u001b[36msrc.rl.tabular_q_learning\u001b[0m:\u001b[36mtrain\u001b[0m:\u001b[36m225\u001b[0m - \u001b[1mEpisode   150 | R: +1.0 | ε: 0.050\u001b[0m\n",
      "\u001b[32m2025-07-08 12:23:23.747\u001b[0m | \u001b[1mINFO    \u001b[0m | \u001b[36msrc.rl.tabular_q_learning\u001b[0m:\u001b[36mtrain\u001b[0m:\u001b[36m225\u001b[0m - \u001b[1mEpisode   175 | R: +1.0 | ε: 0.050\u001b[0m\n",
      "\u001b[32m2025-07-08 12:23:23.752\u001b[0m | \u001b[1mINFO    \u001b[0m | \u001b[36msrc.rl.tabular_q_learning\u001b[0m:\u001b[36mtrain\u001b[0m:\u001b[36m225\u001b[0m - \u001b[1mEpisode   200 | R: +1.0 | ε: 0.050\u001b[0m\n",
      "\u001b[32m2025-07-08 12:23:23.757\u001b[0m | \u001b[1mINFO    \u001b[0m | \u001b[36msrc.rl.tabular_q_learning\u001b[0m:\u001b[36mtrain\u001b[0m:\u001b[36m225\u001b[0m - \u001b[1mEpisode   225 | R: +1.0 | ε: 0.050\u001b[0m\n",
      "\u001b[32m2025-07-08 12:23:23.761\u001b[0m | \u001b[1mINFO    \u001b[0m | \u001b[36msrc.rl.tabular_q_learning\u001b[0m:\u001b[36mtrain\u001b[0m:\u001b[36m225\u001b[0m - \u001b[1mEpisode   250 | R: +1.0 | ε: 0.050\u001b[0m\n",
      "\u001b[32m2025-07-08 12:23:23.766\u001b[0m | \u001b[1mINFO    \u001b[0m | \u001b[36msrc.rl.tabular_q_learning\u001b[0m:\u001b[36mtrain\u001b[0m:\u001b[36m225\u001b[0m - \u001b[1mEpisode   275 | R: +1.0 | ε: 0.050\u001b[0m\n",
      "\u001b[32m2025-07-08 12:23:23.774\u001b[0m | \u001b[1mINFO    \u001b[0m | \u001b[36msrc.rl.tabular_q_learning\u001b[0m:\u001b[36mtrain\u001b[0m:\u001b[36m225\u001b[0m - \u001b[1mEpisode   300 | R: +1.0 | ε: 0.050\u001b[0m\n",
      "\u001b[32m2025-07-08 12:23:23.780\u001b[0m | \u001b[1mINFO    \u001b[0m | \u001b[36msrc.rl.tabular_q_learning\u001b[0m:\u001b[36mtrain\u001b[0m:\u001b[36m225\u001b[0m - \u001b[1mEpisode   325 | R: +1.0 | ε: 0.050\u001b[0m\n",
      "\u001b[32m2025-07-08 12:23:23.785\u001b[0m | \u001b[1mINFO    \u001b[0m | \u001b[36msrc.rl.tabular_q_learning\u001b[0m:\u001b[36mtrain\u001b[0m:\u001b[36m225\u001b[0m - \u001b[1mEpisode   350 | R: +1.0 | ε: 0.050\u001b[0m\n",
      "\u001b[32m2025-07-08 12:23:23.790\u001b[0m | \u001b[1mINFO    \u001b[0m | \u001b[36msrc.rl.tabular_q_learning\u001b[0m:\u001b[36mtrain\u001b[0m:\u001b[36m225\u001b[0m - \u001b[1mEpisode   375 | R: +1.0 | ε: 0.050\u001b[0m\n",
      "\u001b[32m2025-07-08 12:23:23.794\u001b[0m | \u001b[1mINFO    \u001b[0m | \u001b[36msrc.rl.tabular_q_learning\u001b[0m:\u001b[36mtrain\u001b[0m:\u001b[36m225\u001b[0m - \u001b[1mEpisode   400 | R: +1.0 | ε: 0.050\u001b[0m\n",
      "\u001b[32m2025-07-08 12:23:23.800\u001b[0m | \u001b[1mINFO    \u001b[0m | \u001b[36msrc.rl.tabular_q_learning\u001b[0m:\u001b[36mtrain\u001b[0m:\u001b[36m225\u001b[0m - \u001b[1mEpisode   425 | R: +1.0 | ε: 0.050\u001b[0m\n",
      "\u001b[32m2025-07-08 12:23:23.805\u001b[0m | \u001b[1mINFO    \u001b[0m | \u001b[36msrc.rl.tabular_q_learning\u001b[0m:\u001b[36mtrain\u001b[0m:\u001b[36m225\u001b[0m - \u001b[1mEpisode   450 | R: +1.0 | ε: 0.050\u001b[0m\n",
      "\u001b[32m2025-07-08 12:23:23.805\u001b[0m | \u001b[1mINFO    \u001b[0m | \u001b[36msrc.rl.tabular_q_learning\u001b[0m:\u001b[36mtrain\u001b[0m:\u001b[36m225\u001b[0m - \u001b[1mEpisode   475 | R: +1.0 | ε: 0.050\u001b[0m\n",
      "\u001b[32m2025-07-08 12:23:23.814\u001b[0m | \u001b[1mINFO    \u001b[0m | \u001b[36msrc.rl.tabular_q_learning\u001b[0m:\u001b[36mtrain\u001b[0m:\u001b[36m225\u001b[0m - \u001b[1mEpisode   500 | R: +1.0 | ε: 0.050\u001b[0m\n"
     ]
    },
    {
     "data": {
      "text/html": [],
      "text/plain": [
       "<IPython.core.display.HTML object>"
      ]
     },
     "metadata": {},
     "output_type": "display_data"
    },
    {
     "data": {
      "text/html": [
       "<br>    <style><br>        .wandb-row {<br>            display: flex;<br>            flex-direction: row;<br>            flex-wrap: wrap;<br>            justify-content: flex-start;<br>            width: 100%;<br>        }<br>        .wandb-col {<br>            display: flex;<br>            flex-direction: column;<br>            flex-basis: 100%;<br>            flex: 1;<br>            padding: 10px;<br>        }<br>    </style><br><div class=\"wandb-row\"><div class=\"wandb-col\"><h3>Run history:</h3><br/><table class=\"wandb\"><tr><td>best_reward</td><td>▁</td></tr><tr><td>converged_episode</td><td>▁</td></tr><tr><td>train_time_sec</td><td>▁</td></tr></table><br/></div><div class=\"wandb-col\"><h3>Run summary:</h3><br/><table class=\"wandb\"><tr><td>best_reward</td><td>1</td></tr><tr><td>converged_episode</td><td>125</td></tr><tr><td>train_time_sec</td><td>0.02829</td></tr></table><br/></div></div>"
      ],
      "text/plain": [
       "<IPython.core.display.HTML object>"
      ]
     },
     "metadata": {},
     "output_type": "display_data"
    },
    {
     "data": {
      "text/html": [
       " View run <strong style=\"color:#cdcd00\">eternal-sweep-6</strong> at: <a href='https://wandb.ai/nightly/montyhall-ql/runs/1ipqno1n' target=\"_blank\">https://wandb.ai/nightly/montyhall-ql/runs/1ipqno1n</a><br> View project at: <a href='https://wandb.ai/nightly/montyhall-ql' target=\"_blank\">https://wandb.ai/nightly/montyhall-ql</a><br>Synced 5 W&B file(s), 0 media file(s), 0 artifact file(s) and 0 other file(s)"
      ],
      "text/plain": [
       "<IPython.core.display.HTML object>"
      ]
     },
     "metadata": {},
     "output_type": "display_data"
    },
    {
     "data": {
      "text/html": [
       "Find logs at: <code>.\\wandb\\run-20250708_122323-1ipqno1n\\logs</code>"
      ],
      "text/plain": [
       "<IPython.core.display.HTML object>"
      ]
     },
     "metadata": {},
     "output_type": "display_data"
    },
    {
     "name": "stderr",
     "output_type": "stream",
     "text": [
      "\u001b[34m\u001b[1mwandb\u001b[0m: Agent Starting Run: f2ig7rqg with config:\n",
      "\u001b[34m\u001b[1mwandb\u001b[0m: \tdiscount_factor: 0.973098241342839\n",
      "\u001b[34m\u001b[1mwandb\u001b[0m: \tepsilon_decay: 0.958624007966254\n",
      "\u001b[34m\u001b[1mwandb\u001b[0m: \tlearning_rate: 7.927510557954355e-05\n"
     ]
    },
    {
     "data": {
      "text/html": [
       "Ignoring project 'montyhall-ql' when running a sweep."
      ],
      "text/plain": [
       "<IPython.core.display.HTML object>"
      ]
     },
     "metadata": {},
     "output_type": "display_data"
    },
    {
     "data": {
      "text/html": [
       "Tracking run with wandb version 0.19.11"
      ],
      "text/plain": [
       "<IPython.core.display.HTML object>"
      ]
     },
     "metadata": {},
     "output_type": "display_data"
    },
    {
     "data": {
      "text/html": [
       "Run data is saved locally in <code>c:\\Projects\\amethyst\\Solving-Combinatorial-Problems-using-Reinforcement-Learning\\wandb\\run-20250708_122329-f2ig7rqg</code>"
      ],
      "text/plain": [
       "<IPython.core.display.HTML object>"
      ]
     },
     "metadata": {},
     "output_type": "display_data"
    },
    {
     "data": {
      "text/html": [
       "Syncing run <strong><a href='https://wandb.ai/nightly/montyhall-ql/runs/f2ig7rqg' target=\"_blank\">earthy-sweep-7</a></strong> to <a href='https://wandb.ai/nightly/montyhall-ql' target=\"_blank\">Weights & Biases</a> (<a href='https://wandb.me/developer-guide' target=\"_blank\">docs</a>)<br>Sweep page: <a href='https://wandb.ai/nightly/montyhall-ql/sweeps/y9nid08r' target=\"_blank\">https://wandb.ai/nightly/montyhall-ql/sweeps/y9nid08r</a>"
      ],
      "text/plain": [
       "<IPython.core.display.HTML object>"
      ]
     },
     "metadata": {},
     "output_type": "display_data"
    },
    {
     "data": {
      "text/html": [
       " View project at <a href='https://wandb.ai/nightly/montyhall-ql' target=\"_blank\">https://wandb.ai/nightly/montyhall-ql</a>"
      ],
      "text/plain": [
       "<IPython.core.display.HTML object>"
      ]
     },
     "metadata": {},
     "output_type": "display_data"
    },
    {
     "data": {
      "text/html": [
       " View sweep at <a href='https://wandb.ai/nightly/montyhall-ql/sweeps/y9nid08r' target=\"_blank\">https://wandb.ai/nightly/montyhall-ql/sweeps/y9nid08r</a>"
      ],
      "text/plain": [
       "<IPython.core.display.HTML object>"
      ]
     },
     "metadata": {},
     "output_type": "display_data"
    },
    {
     "data": {
      "text/html": [
       " View run at <a href='https://wandb.ai/nightly/montyhall-ql/runs/f2ig7rqg' target=\"_blank\">https://wandb.ai/nightly/montyhall-ql/runs/f2ig7rqg</a>"
      ],
      "text/plain": [
       "<IPython.core.display.HTML object>"
      ]
     },
     "metadata": {},
     "output_type": "display_data"
    },
    {
     "name": "stderr",
     "output_type": "stream",
     "text": [
      "\u001b[32m2025-07-08 12:23:29.940\u001b[0m | \u001b[1mINFO    \u001b[0m | \u001b[36msrc.rl.tabular_q_learning\u001b[0m:\u001b[36mtrain\u001b[0m:\u001b[36m225\u001b[0m - \u001b[1mEpisode    25 | R: +1.0 | ε: 0.348\u001b[0m\n",
      "\u001b[32m2025-07-08 12:23:29.947\u001b[0m | \u001b[1mINFO    \u001b[0m | \u001b[36msrc.rl.tabular_q_learning\u001b[0m:\u001b[36mtrain\u001b[0m:\u001b[36m225\u001b[0m - \u001b[1mEpisode    50 | R: +1.0 | ε: 0.121\u001b[0m\n",
      "\u001b[32m2025-07-08 12:23:29.953\u001b[0m | \u001b[1mINFO    \u001b[0m | \u001b[36msrc.rl.tabular_q_learning\u001b[0m:\u001b[36mtrain\u001b[0m:\u001b[36m225\u001b[0m - \u001b[1mEpisode    75 | R: +1.0 | ε: 0.050\u001b[0m\n",
      "\u001b[32m2025-07-08 12:23:29.959\u001b[0m | \u001b[1mINFO    \u001b[0m | \u001b[36msrc.rl.tabular_q_learning\u001b[0m:\u001b[36mtrain\u001b[0m:\u001b[36m225\u001b[0m - \u001b[1mEpisode   100 | R: +1.0 | ε: 0.050\u001b[0m\n",
      "\u001b[32m2025-07-08 12:23:29.967\u001b[0m | \u001b[1mINFO    \u001b[0m | \u001b[36msrc.rl.tabular_q_learning\u001b[0m:\u001b[36mtrain\u001b[0m:\u001b[36m225\u001b[0m - \u001b[1mEpisode   125 | R: +1.0 | ε: 0.050\u001b[0m\n",
      "\u001b[32m2025-07-08 12:23:29.974\u001b[0m | \u001b[1mINFO    \u001b[0m | \u001b[36msrc.rl.tabular_q_learning\u001b[0m:\u001b[36mtrain\u001b[0m:\u001b[36m225\u001b[0m - \u001b[1mEpisode   150 | R: +1.0 | ε: 0.050\u001b[0m\n",
      "\u001b[32m2025-07-08 12:23:29.977\u001b[0m | \u001b[1mINFO    \u001b[0m | \u001b[36msrc.rl.tabular_q_learning\u001b[0m:\u001b[36mtrain\u001b[0m:\u001b[36m225\u001b[0m - \u001b[1mEpisode   175 | R: +1.0 | ε: 0.050\u001b[0m\n",
      "\u001b[32m2025-07-08 12:23:29.987\u001b[0m | \u001b[1mINFO    \u001b[0m | \u001b[36msrc.rl.tabular_q_learning\u001b[0m:\u001b[36mtrain\u001b[0m:\u001b[36m225\u001b[0m - \u001b[1mEpisode   200 | R: +1.0 | ε: 0.050\u001b[0m\n",
      "\u001b[32m2025-07-08 12:23:29.996\u001b[0m | \u001b[1mINFO    \u001b[0m | \u001b[36msrc.rl.tabular_q_learning\u001b[0m:\u001b[36mtrain\u001b[0m:\u001b[36m225\u001b[0m - \u001b[1mEpisode   225 | R: +1.0 | ε: 0.050\u001b[0m\n",
      "\u001b[32m2025-07-08 12:23:29.999\u001b[0m | \u001b[32m\u001b[1mSUCCESS \u001b[0m | \u001b[36msrc.rl.tabular_q_learning\u001b[0m:\u001b[36mtrain\u001b[0m:\u001b[36m236\u001b[0m - \u001b[32m\u001b[1mConverged at episode 234 after 0.07s\u001b[0m\n",
      "\u001b[32m2025-07-08 12:23:29.999\u001b[0m | \u001b[1mINFO    \u001b[0m | \u001b[36msrc.rl.tabular_q_learning\u001b[0m:\u001b[36mtrain\u001b[0m:\u001b[36m225\u001b[0m - \u001b[1mEpisode   250 | R: +1.0 | ε: 0.050\u001b[0m\n",
      "\u001b[32m2025-07-08 12:23:30.008\u001b[0m | \u001b[1mINFO    \u001b[0m | \u001b[36msrc.rl.tabular_q_learning\u001b[0m:\u001b[36mtrain\u001b[0m:\u001b[36m225\u001b[0m - \u001b[1mEpisode   275 | R: +1.0 | ε: 0.050\u001b[0m\n",
      "\u001b[32m2025-07-08 12:23:30.014\u001b[0m | \u001b[1mINFO    \u001b[0m | \u001b[36msrc.rl.tabular_q_learning\u001b[0m:\u001b[36mtrain\u001b[0m:\u001b[36m225\u001b[0m - \u001b[1mEpisode   300 | R: +1.0 | ε: 0.050\u001b[0m\n",
      "\u001b[32m2025-07-08 12:23:30.018\u001b[0m | \u001b[1mINFO    \u001b[0m | \u001b[36msrc.rl.tabular_q_learning\u001b[0m:\u001b[36mtrain\u001b[0m:\u001b[36m225\u001b[0m - \u001b[1mEpisode   325 | R: +1.0 | ε: 0.050\u001b[0m\n",
      "\u001b[32m2025-07-08 12:23:30.026\u001b[0m | \u001b[1mINFO    \u001b[0m | \u001b[36msrc.rl.tabular_q_learning\u001b[0m:\u001b[36mtrain\u001b[0m:\u001b[36m225\u001b[0m - \u001b[1mEpisode   350 | R: +1.0 | ε: 0.050\u001b[0m\n",
      "\u001b[32m2025-07-08 12:23:30.033\u001b[0m | \u001b[1mINFO    \u001b[0m | \u001b[36msrc.rl.tabular_q_learning\u001b[0m:\u001b[36mtrain\u001b[0m:\u001b[36m225\u001b[0m - \u001b[1mEpisode   375 | R: +1.0 | ε: 0.050\u001b[0m\n",
      "\u001b[32m2025-07-08 12:23:30.041\u001b[0m | \u001b[1mINFO    \u001b[0m | \u001b[36msrc.rl.tabular_q_learning\u001b[0m:\u001b[36mtrain\u001b[0m:\u001b[36m225\u001b[0m - \u001b[1mEpisode   400 | R: +1.0 | ε: 0.050\u001b[0m\n",
      "\u001b[32m2025-07-08 12:23:30.049\u001b[0m | \u001b[1mINFO    \u001b[0m | \u001b[36msrc.rl.tabular_q_learning\u001b[0m:\u001b[36mtrain\u001b[0m:\u001b[36m225\u001b[0m - \u001b[1mEpisode   425 | R: +1.0 | ε: 0.050\u001b[0m\n",
      "\u001b[32m2025-07-08 12:23:30.053\u001b[0m | \u001b[1mINFO    \u001b[0m | \u001b[36msrc.rl.tabular_q_learning\u001b[0m:\u001b[36mtrain\u001b[0m:\u001b[36m225\u001b[0m - \u001b[1mEpisode   450 | R: +1.0 | ε: 0.050\u001b[0m\n",
      "\u001b[32m2025-07-08 12:23:30.058\u001b[0m | \u001b[1mINFO    \u001b[0m | \u001b[36msrc.rl.tabular_q_learning\u001b[0m:\u001b[36mtrain\u001b[0m:\u001b[36m225\u001b[0m - \u001b[1mEpisode   475 | R: +1.0 | ε: 0.050\u001b[0m\n",
      "\u001b[32m2025-07-08 12:23:30.064\u001b[0m | \u001b[1mINFO    \u001b[0m | \u001b[36msrc.rl.tabular_q_learning\u001b[0m:\u001b[36mtrain\u001b[0m:\u001b[36m225\u001b[0m - \u001b[1mEpisode   500 | R: +1.0 | ε: 0.050\u001b[0m\n"
     ]
    },
    {
     "data": {
      "text/html": [],
      "text/plain": [
       "<IPython.core.display.HTML object>"
      ]
     },
     "metadata": {},
     "output_type": "display_data"
    },
    {
     "data": {
      "text/html": [
       "<br>    <style><br>        .wandb-row {<br>            display: flex;<br>            flex-direction: row;<br>            flex-wrap: wrap;<br>            justify-content: flex-start;<br>            width: 100%;<br>        }<br>        .wandb-col {<br>            display: flex;<br>            flex-direction: column;<br>            flex-basis: 100%;<br>            flex: 1;<br>            padding: 10px;<br>        }<br>    </style><br><div class=\"wandb-row\"><div class=\"wandb-col\"><h3>Run history:</h3><br/><table class=\"wandb\"><tr><td>best_reward</td><td>▁</td></tr><tr><td>converged_episode</td><td>▁</td></tr><tr><td>train_time_sec</td><td>▁</td></tr></table><br/></div><div class=\"wandb-col\"><h3>Run summary:</h3><br/><table class=\"wandb\"><tr><td>best_reward</td><td>1</td></tr><tr><td>converged_episode</td><td>234</td></tr><tr><td>train_time_sec</td><td>0.06613</td></tr></table><br/></div></div>"
      ],
      "text/plain": [
       "<IPython.core.display.HTML object>"
      ]
     },
     "metadata": {},
     "output_type": "display_data"
    },
    {
     "data": {
      "text/html": [
       " View run <strong style=\"color:#cdcd00\">earthy-sweep-7</strong> at: <a href='https://wandb.ai/nightly/montyhall-ql/runs/f2ig7rqg' target=\"_blank\">https://wandb.ai/nightly/montyhall-ql/runs/f2ig7rqg</a><br> View project at: <a href='https://wandb.ai/nightly/montyhall-ql' target=\"_blank\">https://wandb.ai/nightly/montyhall-ql</a><br>Synced 5 W&B file(s), 0 media file(s), 0 artifact file(s) and 0 other file(s)"
      ],
      "text/plain": [
       "<IPython.core.display.HTML object>"
      ]
     },
     "metadata": {},
     "output_type": "display_data"
    },
    {
     "data": {
      "text/html": [
       "Find logs at: <code>.\\wandb\\run-20250708_122329-f2ig7rqg\\logs</code>"
      ],
      "text/plain": [
       "<IPython.core.display.HTML object>"
      ]
     },
     "metadata": {},
     "output_type": "display_data"
    },
    {
     "name": "stderr",
     "output_type": "stream",
     "text": [
      "\u001b[34m\u001b[1mwandb\u001b[0m: Agent Starting Run: t6c30wis with config:\n",
      "\u001b[34m\u001b[1mwandb\u001b[0m: \tdiscount_factor: 0.9820689429587048\n",
      "\u001b[34m\u001b[1mwandb\u001b[0m: \tepsilon_decay: 0.953033581574832\n",
      "\u001b[34m\u001b[1mwandb\u001b[0m: \tlearning_rate: 1.3530857682055183e-05\n"
     ]
    },
    {
     "data": {
      "text/html": [
       "Ignoring project 'montyhall-ql' when running a sweep."
      ],
      "text/plain": [
       "<IPython.core.display.HTML object>"
      ]
     },
     "metadata": {},
     "output_type": "display_data"
    },
    {
     "data": {
      "text/html": [
       "Tracking run with wandb version 0.19.11"
      ],
      "text/plain": [
       "<IPython.core.display.HTML object>"
      ]
     },
     "metadata": {},
     "output_type": "display_data"
    },
    {
     "data": {
      "text/html": [
       "Run data is saved locally in <code>c:\\Projects\\amethyst\\Solving-Combinatorial-Problems-using-Reinforcement-Learning\\wandb\\run-20250708_122334-t6c30wis</code>"
      ],
      "text/plain": [
       "<IPython.core.display.HTML object>"
      ]
     },
     "metadata": {},
     "output_type": "display_data"
    },
    {
     "data": {
      "text/html": [
       "Syncing run <strong><a href='https://wandb.ai/nightly/montyhall-ql/runs/t6c30wis' target=\"_blank\">robust-sweep-8</a></strong> to <a href='https://wandb.ai/nightly/montyhall-ql' target=\"_blank\">Weights & Biases</a> (<a href='https://wandb.me/developer-guide' target=\"_blank\">docs</a>)<br>Sweep page: <a href='https://wandb.ai/nightly/montyhall-ql/sweeps/y9nid08r' target=\"_blank\">https://wandb.ai/nightly/montyhall-ql/sweeps/y9nid08r</a>"
      ],
      "text/plain": [
       "<IPython.core.display.HTML object>"
      ]
     },
     "metadata": {},
     "output_type": "display_data"
    },
    {
     "data": {
      "text/html": [
       " View project at <a href='https://wandb.ai/nightly/montyhall-ql' target=\"_blank\">https://wandb.ai/nightly/montyhall-ql</a>"
      ],
      "text/plain": [
       "<IPython.core.display.HTML object>"
      ]
     },
     "metadata": {},
     "output_type": "display_data"
    },
    {
     "data": {
      "text/html": [
       " View sweep at <a href='https://wandb.ai/nightly/montyhall-ql/sweeps/y9nid08r' target=\"_blank\">https://wandb.ai/nightly/montyhall-ql/sweeps/y9nid08r</a>"
      ],
      "text/plain": [
       "<IPython.core.display.HTML object>"
      ]
     },
     "metadata": {},
     "output_type": "display_data"
    },
    {
     "data": {
      "text/html": [
       " View run at <a href='https://wandb.ai/nightly/montyhall-ql/runs/t6c30wis' target=\"_blank\">https://wandb.ai/nightly/montyhall-ql/runs/t6c30wis</a>"
      ],
      "text/plain": [
       "<IPython.core.display.HTML object>"
      ]
     },
     "metadata": {},
     "output_type": "display_data"
    },
    {
     "name": "stderr",
     "output_type": "stream",
     "text": [
      "\u001b[32m2025-07-08 12:23:35.449\u001b[0m | \u001b[1mINFO    \u001b[0m | \u001b[36msrc.rl.tabular_q_learning\u001b[0m:\u001b[36mtrain\u001b[0m:\u001b[36m225\u001b[0m - \u001b[1mEpisode    25 | R: +1.0 | ε: 0.300\u001b[0m\n",
      "\u001b[32m2025-07-08 12:23:35.457\u001b[0m | \u001b[1mINFO    \u001b[0m | \u001b[36msrc.rl.tabular_q_learning\u001b[0m:\u001b[36mtrain\u001b[0m:\u001b[36m225\u001b[0m - \u001b[1mEpisode    50 | R: +1.0 | ε: 0.090\u001b[0m\n",
      "\u001b[32m2025-07-08 12:23:35.461\u001b[0m | \u001b[1mINFO    \u001b[0m | \u001b[36msrc.rl.tabular_q_learning\u001b[0m:\u001b[36mtrain\u001b[0m:\u001b[36m225\u001b[0m - \u001b[1mEpisode    75 | R: +1.0 | ε: 0.050\u001b[0m\n",
      "\u001b[32m2025-07-08 12:23:35.464\u001b[0m | \u001b[1mINFO    \u001b[0m | \u001b[36msrc.rl.tabular_q_learning\u001b[0m:\u001b[36mtrain\u001b[0m:\u001b[36m225\u001b[0m - \u001b[1mEpisode   100 | R: +1.0 | ε: 0.050\u001b[0m\n",
      "\u001b[32m2025-07-08 12:23:35.470\u001b[0m | \u001b[32m\u001b[1mSUCCESS \u001b[0m | \u001b[36msrc.rl.tabular_q_learning\u001b[0m:\u001b[36mtrain\u001b[0m:\u001b[36m236\u001b[0m - \u001b[32m\u001b[1mConverged at episode 121 after 0.03s\u001b[0m\n",
      "\u001b[32m2025-07-08 12:23:35.470\u001b[0m | \u001b[1mINFO    \u001b[0m | \u001b[36msrc.rl.tabular_q_learning\u001b[0m:\u001b[36mtrain\u001b[0m:\u001b[36m225\u001b[0m - \u001b[1mEpisode   125 | R: +1.0 | ε: 0.050\u001b[0m\n",
      "\u001b[32m2025-07-08 12:23:35.477\u001b[0m | \u001b[1mINFO    \u001b[0m | \u001b[36msrc.rl.tabular_q_learning\u001b[0m:\u001b[36mtrain\u001b[0m:\u001b[36m225\u001b[0m - \u001b[1mEpisode   150 | R: +1.0 | ε: 0.050\u001b[0m\n",
      "\u001b[32m2025-07-08 12:23:35.486\u001b[0m | \u001b[1mINFO    \u001b[0m | \u001b[36msrc.rl.tabular_q_learning\u001b[0m:\u001b[36mtrain\u001b[0m:\u001b[36m225\u001b[0m - \u001b[1mEpisode   175 | R: +1.0 | ε: 0.050\u001b[0m\n",
      "\u001b[32m2025-07-08 12:23:35.491\u001b[0m | \u001b[1mINFO    \u001b[0m | \u001b[36msrc.rl.tabular_q_learning\u001b[0m:\u001b[36mtrain\u001b[0m:\u001b[36m225\u001b[0m - \u001b[1mEpisode   200 | R: +1.0 | ε: 0.050\u001b[0m\n",
      "\u001b[32m2025-07-08 12:23:35.496\u001b[0m | \u001b[1mINFO    \u001b[0m | \u001b[36msrc.rl.tabular_q_learning\u001b[0m:\u001b[36mtrain\u001b[0m:\u001b[36m225\u001b[0m - \u001b[1mEpisode   225 | R: +1.0 | ε: 0.050\u001b[0m\n",
      "\u001b[32m2025-07-08 12:23:35.500\u001b[0m | \u001b[1mINFO    \u001b[0m | \u001b[36msrc.rl.tabular_q_learning\u001b[0m:\u001b[36mtrain\u001b[0m:\u001b[36m225\u001b[0m - \u001b[1mEpisode   250 | R: +1.0 | ε: 0.050\u001b[0m\n",
      "\u001b[32m2025-07-08 12:23:35.506\u001b[0m | \u001b[1mINFO    \u001b[0m | \u001b[36msrc.rl.tabular_q_learning\u001b[0m:\u001b[36mtrain\u001b[0m:\u001b[36m225\u001b[0m - \u001b[1mEpisode   275 | R: +1.0 | ε: 0.050\u001b[0m\n",
      "\u001b[32m2025-07-08 12:23:35.512\u001b[0m | \u001b[1mINFO    \u001b[0m | \u001b[36msrc.rl.tabular_q_learning\u001b[0m:\u001b[36mtrain\u001b[0m:\u001b[36m225\u001b[0m - \u001b[1mEpisode   300 | R: +1.0 | ε: 0.050\u001b[0m\n",
      "\u001b[32m2025-07-08 12:23:35.517\u001b[0m | \u001b[1mINFO    \u001b[0m | \u001b[36msrc.rl.tabular_q_learning\u001b[0m:\u001b[36mtrain\u001b[0m:\u001b[36m225\u001b[0m - \u001b[1mEpisode   325 | R: +1.0 | ε: 0.050\u001b[0m\n",
      "\u001b[32m2025-07-08 12:23:35.523\u001b[0m | \u001b[1mINFO    \u001b[0m | \u001b[36msrc.rl.tabular_q_learning\u001b[0m:\u001b[36mtrain\u001b[0m:\u001b[36m225\u001b[0m - \u001b[1mEpisode   350 | R: +1.0 | ε: 0.050\u001b[0m\n",
      "\u001b[32m2025-07-08 12:23:35.525\u001b[0m | \u001b[1mINFO    \u001b[0m | \u001b[36msrc.rl.tabular_q_learning\u001b[0m:\u001b[36mtrain\u001b[0m:\u001b[36m225\u001b[0m - \u001b[1mEpisode   375 | R: +1.0 | ε: 0.050\u001b[0m\n",
      "\u001b[32m2025-07-08 12:23:35.532\u001b[0m | \u001b[1mINFO    \u001b[0m | \u001b[36msrc.rl.tabular_q_learning\u001b[0m:\u001b[36mtrain\u001b[0m:\u001b[36m225\u001b[0m - \u001b[1mEpisode   400 | R: +1.0 | ε: 0.050\u001b[0m\n",
      "\u001b[32m2025-07-08 12:23:35.537\u001b[0m | \u001b[1mINFO    \u001b[0m | \u001b[36msrc.rl.tabular_q_learning\u001b[0m:\u001b[36mtrain\u001b[0m:\u001b[36m225\u001b[0m - \u001b[1mEpisode   425 | R: +1.0 | ε: 0.050\u001b[0m\n",
      "\u001b[32m2025-07-08 12:23:35.541\u001b[0m | \u001b[1mINFO    \u001b[0m | \u001b[36msrc.rl.tabular_q_learning\u001b[0m:\u001b[36mtrain\u001b[0m:\u001b[36m225\u001b[0m - \u001b[1mEpisode   450 | R: +1.0 | ε: 0.050\u001b[0m\n",
      "\u001b[32m2025-07-08 12:23:35.546\u001b[0m | \u001b[1mINFO    \u001b[0m | \u001b[36msrc.rl.tabular_q_learning\u001b[0m:\u001b[36mtrain\u001b[0m:\u001b[36m225\u001b[0m - \u001b[1mEpisode   475 | R: +1.0 | ε: 0.050\u001b[0m\n",
      "\u001b[32m2025-07-08 12:23:35.553\u001b[0m | \u001b[1mINFO    \u001b[0m | \u001b[36msrc.rl.tabular_q_learning\u001b[0m:\u001b[36mtrain\u001b[0m:\u001b[36m225\u001b[0m - \u001b[1mEpisode   500 | R: +1.0 | ε: 0.050\u001b[0m\n"
     ]
    },
    {
     "data": {
      "text/html": [],
      "text/plain": [
       "<IPython.core.display.HTML object>"
      ]
     },
     "metadata": {},
     "output_type": "display_data"
    },
    {
     "data": {
      "text/html": [
       "<br>    <style><br>        .wandb-row {<br>            display: flex;<br>            flex-direction: row;<br>            flex-wrap: wrap;<br>            justify-content: flex-start;<br>            width: 100%;<br>        }<br>        .wandb-col {<br>            display: flex;<br>            flex-direction: column;<br>            flex-basis: 100%;<br>            flex: 1;<br>            padding: 10px;<br>        }<br>    </style><br><div class=\"wandb-row\"><div class=\"wandb-col\"><h3>Run history:</h3><br/><table class=\"wandb\"><tr><td>best_reward</td><td>▁</td></tr><tr><td>converged_episode</td><td>▁</td></tr><tr><td>train_time_sec</td><td>▁</td></tr></table><br/></div><div class=\"wandb-col\"><h3>Run summary:</h3><br/><table class=\"wandb\"><tr><td>best_reward</td><td>1</td></tr><tr><td>converged_episode</td><td>121</td></tr><tr><td>train_time_sec</td><td>0.02551</td></tr></table><br/></div></div>"
      ],
      "text/plain": [
       "<IPython.core.display.HTML object>"
      ]
     },
     "metadata": {},
     "output_type": "display_data"
    },
    {
     "data": {
      "text/html": [
       " View run <strong style=\"color:#cdcd00\">robust-sweep-8</strong> at: <a href='https://wandb.ai/nightly/montyhall-ql/runs/t6c30wis' target=\"_blank\">https://wandb.ai/nightly/montyhall-ql/runs/t6c30wis</a><br> View project at: <a href='https://wandb.ai/nightly/montyhall-ql' target=\"_blank\">https://wandb.ai/nightly/montyhall-ql</a><br>Synced 5 W&B file(s), 0 media file(s), 0 artifact file(s) and 0 other file(s)"
      ],
      "text/plain": [
       "<IPython.core.display.HTML object>"
      ]
     },
     "metadata": {},
     "output_type": "display_data"
    },
    {
     "data": {
      "text/html": [
       "Find logs at: <code>.\\wandb\\run-20250708_122334-t6c30wis\\logs</code>"
      ],
      "text/plain": [
       "<IPython.core.display.HTML object>"
      ]
     },
     "metadata": {},
     "output_type": "display_data"
    },
    {
     "name": "stderr",
     "output_type": "stream",
     "text": [
      "\u001b[34m\u001b[1mwandb\u001b[0m: Agent Starting Run: zzqzwicq with config:\n",
      "\u001b[34m\u001b[1mwandb\u001b[0m: \tdiscount_factor: 0.9640415021108276\n",
      "\u001b[34m\u001b[1mwandb\u001b[0m: \tepsilon_decay: 0.9650623685265648\n",
      "\u001b[34m\u001b[1mwandb\u001b[0m: \tlearning_rate: 0.00018055466600221004\n"
     ]
    },
    {
     "data": {
      "text/html": [
       "Ignoring project 'montyhall-ql' when running a sweep."
      ],
      "text/plain": [
       "<IPython.core.display.HTML object>"
      ]
     },
     "metadata": {},
     "output_type": "display_data"
    },
    {
     "data": {
      "text/html": [
       "Tracking run with wandb version 0.19.11"
      ],
      "text/plain": [
       "<IPython.core.display.HTML object>"
      ]
     },
     "metadata": {},
     "output_type": "display_data"
    },
    {
     "data": {
      "text/html": [
       "Run data is saved locally in <code>c:\\Projects\\amethyst\\Solving-Combinatorial-Problems-using-Reinforcement-Learning\\wandb\\run-20250708_122340-zzqzwicq</code>"
      ],
      "text/plain": [
       "<IPython.core.display.HTML object>"
      ]
     },
     "metadata": {},
     "output_type": "display_data"
    },
    {
     "data": {
      "text/html": [
       "Syncing run <strong><a href='https://wandb.ai/nightly/montyhall-ql/runs/zzqzwicq' target=\"_blank\">easy-sweep-9</a></strong> to <a href='https://wandb.ai/nightly/montyhall-ql' target=\"_blank\">Weights & Biases</a> (<a href='https://wandb.me/developer-guide' target=\"_blank\">docs</a>)<br>Sweep page: <a href='https://wandb.ai/nightly/montyhall-ql/sweeps/y9nid08r' target=\"_blank\">https://wandb.ai/nightly/montyhall-ql/sweeps/y9nid08r</a>"
      ],
      "text/plain": [
       "<IPython.core.display.HTML object>"
      ]
     },
     "metadata": {},
     "output_type": "display_data"
    },
    {
     "data": {
      "text/html": [
       " View project at <a href='https://wandb.ai/nightly/montyhall-ql' target=\"_blank\">https://wandb.ai/nightly/montyhall-ql</a>"
      ],
      "text/plain": [
       "<IPython.core.display.HTML object>"
      ]
     },
     "metadata": {},
     "output_type": "display_data"
    },
    {
     "data": {
      "text/html": [
       " View sweep at <a href='https://wandb.ai/nightly/montyhall-ql/sweeps/y9nid08r' target=\"_blank\">https://wandb.ai/nightly/montyhall-ql/sweeps/y9nid08r</a>"
      ],
      "text/plain": [
       "<IPython.core.display.HTML object>"
      ]
     },
     "metadata": {},
     "output_type": "display_data"
    },
    {
     "data": {
      "text/html": [
       " View run at <a href='https://wandb.ai/nightly/montyhall-ql/runs/zzqzwicq' target=\"_blank\">https://wandb.ai/nightly/montyhall-ql/runs/zzqzwicq</a>"
      ],
      "text/plain": [
       "<IPython.core.display.HTML object>"
      ]
     },
     "metadata": {},
     "output_type": "display_data"
    },
    {
     "name": "stderr",
     "output_type": "stream",
     "text": [
      "\u001b[32m2025-07-08 12:23:40.715\u001b[0m | \u001b[1mINFO    \u001b[0m | \u001b[36msrc.rl.tabular_q_learning\u001b[0m:\u001b[36mtrain\u001b[0m:\u001b[36m225\u001b[0m - \u001b[1mEpisode    25 | R: +0.0 | ε: 0.411\u001b[0m\n",
      "\u001b[32m2025-07-08 12:23:40.722\u001b[0m | \u001b[1mINFO    \u001b[0m | \u001b[36msrc.rl.tabular_q_learning\u001b[0m:\u001b[36mtrain\u001b[0m:\u001b[36m225\u001b[0m - \u001b[1mEpisode    50 | R: +1.0 | ε: 0.169\u001b[0m\n",
      "\u001b[32m2025-07-08 12:23:40.726\u001b[0m | \u001b[1mINFO    \u001b[0m | \u001b[36msrc.rl.tabular_q_learning\u001b[0m:\u001b[36mtrain\u001b[0m:\u001b[36m225\u001b[0m - \u001b[1mEpisode    75 | R: +1.0 | ε: 0.069\u001b[0m\n",
      "\u001b[32m2025-07-08 12:23:40.730\u001b[0m | \u001b[1mINFO    \u001b[0m | \u001b[36msrc.rl.tabular_q_learning\u001b[0m:\u001b[36mtrain\u001b[0m:\u001b[36m225\u001b[0m - \u001b[1mEpisode   100 | R: +1.0 | ε: 0.050\u001b[0m\n",
      "\u001b[32m2025-07-08 12:23:40.737\u001b[0m | \u001b[1mINFO    \u001b[0m | \u001b[36msrc.rl.tabular_q_learning\u001b[0m:\u001b[36mtrain\u001b[0m:\u001b[36m225\u001b[0m - \u001b[1mEpisode   125 | R: +1.0 | ε: 0.050\u001b[0m\n",
      "\u001b[32m2025-07-08 12:23:40.742\u001b[0m | \u001b[32m\u001b[1mSUCCESS \u001b[0m | \u001b[36msrc.rl.tabular_q_learning\u001b[0m:\u001b[36mtrain\u001b[0m:\u001b[36m236\u001b[0m - \u001b[32m\u001b[1mConverged at episode 139 after 0.03s\u001b[0m\n",
      "\u001b[32m2025-07-08 12:23:40.746\u001b[0m | \u001b[1mINFO    \u001b[0m | \u001b[36msrc.rl.tabular_q_learning\u001b[0m:\u001b[36mtrain\u001b[0m:\u001b[36m225\u001b[0m - \u001b[1mEpisode   150 | R: +1.0 | ε: 0.050\u001b[0m\n",
      "\u001b[32m2025-07-08 12:23:40.751\u001b[0m | \u001b[1mINFO    \u001b[0m | \u001b[36msrc.rl.tabular_q_learning\u001b[0m:\u001b[36mtrain\u001b[0m:\u001b[36m225\u001b[0m - \u001b[1mEpisode   175 | R: +1.0 | ε: 0.050\u001b[0m\n",
      "\u001b[32m2025-07-08 12:23:40.757\u001b[0m | \u001b[1mINFO    \u001b[0m | \u001b[36msrc.rl.tabular_q_learning\u001b[0m:\u001b[36mtrain\u001b[0m:\u001b[36m225\u001b[0m - \u001b[1mEpisode   200 | R: +1.0 | ε: 0.050\u001b[0m\n",
      "\u001b[32m2025-07-08 12:23:40.762\u001b[0m | \u001b[1mINFO    \u001b[0m | \u001b[36msrc.rl.tabular_q_learning\u001b[0m:\u001b[36mtrain\u001b[0m:\u001b[36m225\u001b[0m - \u001b[1mEpisode   225 | R: +1.0 | ε: 0.050\u001b[0m\n",
      "\u001b[32m2025-07-08 12:23:40.766\u001b[0m | \u001b[1mINFO    \u001b[0m | \u001b[36msrc.rl.tabular_q_learning\u001b[0m:\u001b[36mtrain\u001b[0m:\u001b[36m225\u001b[0m - \u001b[1mEpisode   250 | R: +1.0 | ε: 0.050\u001b[0m\n",
      "\u001b[32m2025-07-08 12:23:40.772\u001b[0m | \u001b[1mINFO    \u001b[0m | \u001b[36msrc.rl.tabular_q_learning\u001b[0m:\u001b[36mtrain\u001b[0m:\u001b[36m225\u001b[0m - \u001b[1mEpisode   275 | R: +1.0 | ε: 0.050\u001b[0m\n",
      "\u001b[32m2025-07-08 12:23:40.777\u001b[0m | \u001b[1mINFO    \u001b[0m | \u001b[36msrc.rl.tabular_q_learning\u001b[0m:\u001b[36mtrain\u001b[0m:\u001b[36m225\u001b[0m - \u001b[1mEpisode   300 | R: +1.0 | ε: 0.050\u001b[0m\n",
      "\u001b[32m2025-07-08 12:23:40.782\u001b[0m | \u001b[1mINFO    \u001b[0m | \u001b[36msrc.rl.tabular_q_learning\u001b[0m:\u001b[36mtrain\u001b[0m:\u001b[36m225\u001b[0m - \u001b[1mEpisode   325 | R: +1.0 | ε: 0.050\u001b[0m\n",
      "\u001b[32m2025-07-08 12:23:40.791\u001b[0m | \u001b[1mINFO    \u001b[0m | \u001b[36msrc.rl.tabular_q_learning\u001b[0m:\u001b[36mtrain\u001b[0m:\u001b[36m225\u001b[0m - \u001b[1mEpisode   350 | R: +1.0 | ε: 0.050\u001b[0m\n",
      "\u001b[32m2025-07-08 12:23:40.794\u001b[0m | \u001b[1mINFO    \u001b[0m | \u001b[36msrc.rl.tabular_q_learning\u001b[0m:\u001b[36mtrain\u001b[0m:\u001b[36m225\u001b[0m - \u001b[1mEpisode   375 | R: +1.0 | ε: 0.050\u001b[0m\n",
      "\u001b[32m2025-07-08 12:23:40.799\u001b[0m | \u001b[1mINFO    \u001b[0m | \u001b[36msrc.rl.tabular_q_learning\u001b[0m:\u001b[36mtrain\u001b[0m:\u001b[36m225\u001b[0m - \u001b[1mEpisode   400 | R: +1.0 | ε: 0.050\u001b[0m\n",
      "\u001b[32m2025-07-08 12:23:40.803\u001b[0m | \u001b[1mINFO    \u001b[0m | \u001b[36msrc.rl.tabular_q_learning\u001b[0m:\u001b[36mtrain\u001b[0m:\u001b[36m225\u001b[0m - \u001b[1mEpisode   425 | R: +1.0 | ε: 0.050\u001b[0m\n",
      "\u001b[32m2025-07-08 12:23:40.810\u001b[0m | \u001b[1mINFO    \u001b[0m | \u001b[36msrc.rl.tabular_q_learning\u001b[0m:\u001b[36mtrain\u001b[0m:\u001b[36m225\u001b[0m - \u001b[1mEpisode   450 | R: +1.0 | ε: 0.050\u001b[0m\n",
      "\u001b[32m2025-07-08 12:23:40.813\u001b[0m | \u001b[1mINFO    \u001b[0m | \u001b[36msrc.rl.tabular_q_learning\u001b[0m:\u001b[36mtrain\u001b[0m:\u001b[36m225\u001b[0m - \u001b[1mEpisode   475 | R: +1.0 | ε: 0.050\u001b[0m\n",
      "\u001b[32m2025-07-08 12:23:40.819\u001b[0m | \u001b[1mINFO    \u001b[0m | \u001b[36msrc.rl.tabular_q_learning\u001b[0m:\u001b[36mtrain\u001b[0m:\u001b[36m225\u001b[0m - \u001b[1mEpisode   500 | R: +1.0 | ε: 0.050\u001b[0m\n"
     ]
    },
    {
     "data": {
      "text/html": [],
      "text/plain": [
       "<IPython.core.display.HTML object>"
      ]
     },
     "metadata": {},
     "output_type": "display_data"
    },
    {
     "data": {
      "text/html": [
       "<br>    <style><br>        .wandb-row {<br>            display: flex;<br>            flex-direction: row;<br>            flex-wrap: wrap;<br>            justify-content: flex-start;<br>            width: 100%;<br>        }<br>        .wandb-col {<br>            display: flex;<br>            flex-direction: column;<br>            flex-basis: 100%;<br>            flex: 1;<br>            padding: 10px;<br>        }<br>    </style><br><div class=\"wandb-row\"><div class=\"wandb-col\"><h3>Run history:</h3><br/><table class=\"wandb\"><tr><td>best_reward</td><td>▁</td></tr><tr><td>converged_episode</td><td>▁</td></tr><tr><td>train_time_sec</td><td>▁</td></tr></table><br/></div><div class=\"wandb-col\"><h3>Run summary:</h3><br/><table class=\"wandb\"><tr><td>best_reward</td><td>1</td></tr><tr><td>converged_episode</td><td>139</td></tr><tr><td>train_time_sec</td><td>0.03074</td></tr></table><br/></div></div>"
      ],
      "text/plain": [
       "<IPython.core.display.HTML object>"
      ]
     },
     "metadata": {},
     "output_type": "display_data"
    },
    {
     "data": {
      "text/html": [
       " View run <strong style=\"color:#cdcd00\">easy-sweep-9</strong> at: <a href='https://wandb.ai/nightly/montyhall-ql/runs/zzqzwicq' target=\"_blank\">https://wandb.ai/nightly/montyhall-ql/runs/zzqzwicq</a><br> View project at: <a href='https://wandb.ai/nightly/montyhall-ql' target=\"_blank\">https://wandb.ai/nightly/montyhall-ql</a><br>Synced 5 W&B file(s), 0 media file(s), 0 artifact file(s) and 0 other file(s)"
      ],
      "text/plain": [
       "<IPython.core.display.HTML object>"
      ]
     },
     "metadata": {},
     "output_type": "display_data"
    },
    {
     "data": {
      "text/html": [
       "Find logs at: <code>.\\wandb\\run-20250708_122340-zzqzwicq\\logs</code>"
      ],
      "text/plain": [
       "<IPython.core.display.HTML object>"
      ]
     },
     "metadata": {},
     "output_type": "display_data"
    },
    {
     "name": "stderr",
     "output_type": "stream",
     "text": [
      "\u001b[34m\u001b[1mwandb\u001b[0m: Agent Starting Run: uxu1324p with config:\n",
      "\u001b[34m\u001b[1mwandb\u001b[0m: \tdiscount_factor: 0.8567801596632719\n",
      "\u001b[34m\u001b[1mwandb\u001b[0m: \tepsilon_decay: 0.978663256670618\n",
      "\u001b[34m\u001b[1mwandb\u001b[0m: \tlearning_rate: 2.264835305595028e-05\n"
     ]
    },
    {
     "data": {
      "text/html": [
       "Ignoring project 'montyhall-ql' when running a sweep."
      ],
      "text/plain": [
       "<IPython.core.display.HTML object>"
      ]
     },
     "metadata": {},
     "output_type": "display_data"
    },
    {
     "data": {
      "text/html": [
       "Tracking run with wandb version 0.19.11"
      ],
      "text/plain": [
       "<IPython.core.display.HTML object>"
      ]
     },
     "metadata": {},
     "output_type": "display_data"
    },
    {
     "data": {
      "text/html": [
       "Run data is saved locally in <code>c:\\Projects\\amethyst\\Solving-Combinatorial-Problems-using-Reinforcement-Learning\\wandb\\run-20250708_122345-uxu1324p</code>"
      ],
      "text/plain": [
       "<IPython.core.display.HTML object>"
      ]
     },
     "metadata": {},
     "output_type": "display_data"
    },
    {
     "data": {
      "text/html": [
       "Syncing run <strong><a href='https://wandb.ai/nightly/montyhall-ql/runs/uxu1324p' target=\"_blank\">expert-sweep-10</a></strong> to <a href='https://wandb.ai/nightly/montyhall-ql' target=\"_blank\">Weights & Biases</a> (<a href='https://wandb.me/developer-guide' target=\"_blank\">docs</a>)<br>Sweep page: <a href='https://wandb.ai/nightly/montyhall-ql/sweeps/y9nid08r' target=\"_blank\">https://wandb.ai/nightly/montyhall-ql/sweeps/y9nid08r</a>"
      ],
      "text/plain": [
       "<IPython.core.display.HTML object>"
      ]
     },
     "metadata": {},
     "output_type": "display_data"
    },
    {
     "data": {
      "text/html": [
       " View project at <a href='https://wandb.ai/nightly/montyhall-ql' target=\"_blank\">https://wandb.ai/nightly/montyhall-ql</a>"
      ],
      "text/plain": [
       "<IPython.core.display.HTML object>"
      ]
     },
     "metadata": {},
     "output_type": "display_data"
    },
    {
     "data": {
      "text/html": [
       " View sweep at <a href='https://wandb.ai/nightly/montyhall-ql/sweeps/y9nid08r' target=\"_blank\">https://wandb.ai/nightly/montyhall-ql/sweeps/y9nid08r</a>"
      ],
      "text/plain": [
       "<IPython.core.display.HTML object>"
      ]
     },
     "metadata": {},
     "output_type": "display_data"
    },
    {
     "data": {
      "text/html": [
       " View run at <a href='https://wandb.ai/nightly/montyhall-ql/runs/uxu1324p' target=\"_blank\">https://wandb.ai/nightly/montyhall-ql/runs/uxu1324p</a>"
      ],
      "text/plain": [
       "<IPython.core.display.HTML object>"
      ]
     },
     "metadata": {},
     "output_type": "display_data"
    },
    {
     "name": "stderr",
     "output_type": "stream",
     "text": [
      "\u001b[32m2025-07-08 12:23:45.755\u001b[0m | \u001b[1mINFO    \u001b[0m | \u001b[36msrc.rl.tabular_q_learning\u001b[0m:\u001b[36mtrain\u001b[0m:\u001b[36m225\u001b[0m - \u001b[1mEpisode    25 | R: +1.0 | ε: 0.583\u001b[0m\n",
      "\u001b[32m2025-07-08 12:23:45.759\u001b[0m | \u001b[1mINFO    \u001b[0m | \u001b[36msrc.rl.tabular_q_learning\u001b[0m:\u001b[36mtrain\u001b[0m:\u001b[36m225\u001b[0m - \u001b[1mEpisode    50 | R: +1.0 | ε: 0.340\u001b[0m\n",
      "\u001b[32m2025-07-08 12:23:45.766\u001b[0m | \u001b[1mINFO    \u001b[0m | \u001b[36msrc.rl.tabular_q_learning\u001b[0m:\u001b[36mtrain\u001b[0m:\u001b[36m225\u001b[0m - \u001b[1mEpisode    75 | R: +1.0 | ε: 0.198\u001b[0m\n",
      "\u001b[32m2025-07-08 12:23:45.772\u001b[0m | \u001b[1mINFO    \u001b[0m | \u001b[36msrc.rl.tabular_q_learning\u001b[0m:\u001b[36mtrain\u001b[0m:\u001b[36m225\u001b[0m - \u001b[1mEpisode   100 | R: +1.0 | ε: 0.116\u001b[0m\n",
      "\u001b[32m2025-07-08 12:23:45.778\u001b[0m | \u001b[1mINFO    \u001b[0m | \u001b[36msrc.rl.tabular_q_learning\u001b[0m:\u001b[36mtrain\u001b[0m:\u001b[36m225\u001b[0m - \u001b[1mEpisode   125 | R: +1.0 | ε: 0.067\u001b[0m\n",
      "\u001b[32m2025-07-08 12:23:45.786\u001b[0m | \u001b[1mINFO    \u001b[0m | \u001b[36msrc.rl.tabular_q_learning\u001b[0m:\u001b[36mtrain\u001b[0m:\u001b[36m225\u001b[0m - \u001b[1mEpisode   150 | R: +1.0 | ε: 0.050\u001b[0m\n",
      "\u001b[32m2025-07-08 12:23:45.789\u001b[0m | \u001b[1mINFO    \u001b[0m | \u001b[36msrc.rl.tabular_q_learning\u001b[0m:\u001b[36mtrain\u001b[0m:\u001b[36m225\u001b[0m - \u001b[1mEpisode   175 | R: +1.0 | ε: 0.050\u001b[0m\n",
      "\u001b[32m2025-07-08 12:23:45.794\u001b[0m | \u001b[1mINFO    \u001b[0m | \u001b[36msrc.rl.tabular_q_learning\u001b[0m:\u001b[36mtrain\u001b[0m:\u001b[36m225\u001b[0m - \u001b[1mEpisode   200 | R: +1.0 | ε: 0.050\u001b[0m\n",
      "\u001b[32m2025-07-08 12:23:45.803\u001b[0m | \u001b[1mINFO    \u001b[0m | \u001b[36msrc.rl.tabular_q_learning\u001b[0m:\u001b[36mtrain\u001b[0m:\u001b[36m225\u001b[0m - \u001b[1mEpisode   225 | R: +1.0 | ε: 0.050\u001b[0m\n",
      "\u001b[32m2025-07-08 12:23:45.809\u001b[0m | \u001b[1mINFO    \u001b[0m | \u001b[36msrc.rl.tabular_q_learning\u001b[0m:\u001b[36mtrain\u001b[0m:\u001b[36m225\u001b[0m - \u001b[1mEpisode   250 | R: +1.0 | ε: 0.050\u001b[0m\n",
      "\u001b[32m2025-07-08 12:23:45.815\u001b[0m | \u001b[1mINFO    \u001b[0m | \u001b[36msrc.rl.tabular_q_learning\u001b[0m:\u001b[36mtrain\u001b[0m:\u001b[36m225\u001b[0m - \u001b[1mEpisode   275 | R: +1.0 | ε: 0.050\u001b[0m\n",
      "\u001b[32m2025-07-08 12:23:45.822\u001b[0m | \u001b[1mINFO    \u001b[0m | \u001b[36msrc.rl.tabular_q_learning\u001b[0m:\u001b[36mtrain\u001b[0m:\u001b[36m225\u001b[0m - \u001b[1mEpisode   300 | R: +1.0 | ε: 0.050\u001b[0m\n",
      "\u001b[32m2025-07-08 12:23:45.832\u001b[0m | \u001b[1mINFO    \u001b[0m | \u001b[36msrc.rl.tabular_q_learning\u001b[0m:\u001b[36mtrain\u001b[0m:\u001b[36m225\u001b[0m - \u001b[1mEpisode   325 | R: +1.0 | ε: 0.050\u001b[0m\n",
      "\u001b[32m2025-07-08 12:23:45.837\u001b[0m | \u001b[1mINFO    \u001b[0m | \u001b[36msrc.rl.tabular_q_learning\u001b[0m:\u001b[36mtrain\u001b[0m:\u001b[36m225\u001b[0m - \u001b[1mEpisode   350 | R: +1.0 | ε: 0.050\u001b[0m\n",
      "\u001b[32m2025-07-08 12:23:45.845\u001b[0m | \u001b[1mINFO    \u001b[0m | \u001b[36msrc.rl.tabular_q_learning\u001b[0m:\u001b[36mtrain\u001b[0m:\u001b[36m225\u001b[0m - \u001b[1mEpisode   375 | R: +1.0 | ε: 0.050\u001b[0m\n",
      "\u001b[32m2025-07-08 12:23:45.852\u001b[0m | \u001b[1mINFO    \u001b[0m | \u001b[36msrc.rl.tabular_q_learning\u001b[0m:\u001b[36mtrain\u001b[0m:\u001b[36m225\u001b[0m - \u001b[1mEpisode   400 | R: +1.0 | ε: 0.050\u001b[0m\n",
      "\u001b[32m2025-07-08 12:23:45.856\u001b[0m | \u001b[1mINFO    \u001b[0m | \u001b[36msrc.rl.tabular_q_learning\u001b[0m:\u001b[36mtrain\u001b[0m:\u001b[36m225\u001b[0m - \u001b[1mEpisode   425 | R: +1.0 | ε: 0.050\u001b[0m\n",
      "\u001b[32m2025-07-08 12:23:45.859\u001b[0m | \u001b[1mINFO    \u001b[0m | \u001b[36msrc.rl.tabular_q_learning\u001b[0m:\u001b[36mtrain\u001b[0m:\u001b[36m225\u001b[0m - \u001b[1mEpisode   450 | R: +1.0 | ε: 0.050\u001b[0m\n",
      "\u001b[32m2025-07-08 12:23:45.869\u001b[0m | \u001b[1mINFO    \u001b[0m | \u001b[36msrc.rl.tabular_q_learning\u001b[0m:\u001b[36mtrain\u001b[0m:\u001b[36m225\u001b[0m - \u001b[1mEpisode   475 | R: +1.0 | ε: 0.050\u001b[0m\n",
      "\u001b[32m2025-07-08 12:23:45.875\u001b[0m | \u001b[1mINFO    \u001b[0m | \u001b[36msrc.rl.tabular_q_learning\u001b[0m:\u001b[36mtrain\u001b[0m:\u001b[36m225\u001b[0m - \u001b[1mEpisode   500 | R: +1.0 | ε: 0.050\u001b[0m\n"
     ]
    },
    {
     "data": {
      "text/html": [],
      "text/plain": [
       "<IPython.core.display.HTML object>"
      ]
     },
     "metadata": {},
     "output_type": "display_data"
    },
    {
     "data": {
      "text/html": [
       "<br>    <style><br>        .wandb-row {<br>            display: flex;<br>            flex-direction: row;<br>            flex-wrap: wrap;<br>            justify-content: flex-start;<br>            width: 100%;<br>        }<br>        .wandb-col {<br>            display: flex;<br>            flex-direction: column;<br>            flex-basis: 100%;<br>            flex: 1;<br>            padding: 10px;<br>        }<br>    </style><br><div class=\"wandb-row\"><div class=\"wandb-col\"><h3>Run history:</h3><br/><table class=\"wandb\"><tr><td>best_reward</td><td>▁</td></tr><tr><td>converged_episode</td><td>▁</td></tr><tr><td>train_time_sec</td><td>▁</td></tr></table><br/></div><div class=\"wandb-col\"><h3>Run summary:</h3><br/><table class=\"wandb\"><tr><td>best_reward</td><td>1</td></tr><tr><td>converged_episode</td><td>-1</td></tr><tr><td>train_time_sec</td><td>0</td></tr></table><br/></div></div>"
      ],
      "text/plain": [
       "<IPython.core.display.HTML object>"
      ]
     },
     "metadata": {},
     "output_type": "display_data"
    },
    {
     "data": {
      "text/html": [
       " View run <strong style=\"color:#cdcd00\">expert-sweep-10</strong> at: <a href='https://wandb.ai/nightly/montyhall-ql/runs/uxu1324p' target=\"_blank\">https://wandb.ai/nightly/montyhall-ql/runs/uxu1324p</a><br> View project at: <a href='https://wandb.ai/nightly/montyhall-ql' target=\"_blank\">https://wandb.ai/nightly/montyhall-ql</a><br>Synced 5 W&B file(s), 0 media file(s), 0 artifact file(s) and 0 other file(s)"
      ],
      "text/plain": [
       "<IPython.core.display.HTML object>"
      ]
     },
     "metadata": {},
     "output_type": "display_data"
    },
    {
     "data": {
      "text/html": [
       "Find logs at: <code>.\\wandb\\run-20250708_122345-uxu1324p\\logs</code>"
      ],
      "text/plain": [
       "<IPython.core.display.HTML object>"
      ]
     },
     "metadata": {},
     "output_type": "display_data"
    },
    {
     "name": "stderr",
     "output_type": "stream",
     "text": [
      "\u001b[34m\u001b[1mwandb\u001b[0m: Agent Starting Run: m9spw6wb with config:\n",
      "\u001b[34m\u001b[1mwandb\u001b[0m: \tdiscount_factor: 0.8652637570172101\n",
      "\u001b[34m\u001b[1mwandb\u001b[0m: \tepsilon_decay: 0.9610636568623608\n",
      "\u001b[34m\u001b[1mwandb\u001b[0m: \tlearning_rate: 0.00021834740836167323\n"
     ]
    },
    {
     "data": {
      "text/html": [
       "Ignoring project 'montyhall-ql' when running a sweep."
      ],
      "text/plain": [
       "<IPython.core.display.HTML object>"
      ]
     },
     "metadata": {},
     "output_type": "display_data"
    },
    {
     "data": {
      "text/html": [
       "Tracking run with wandb version 0.19.11"
      ],
      "text/plain": [
       "<IPython.core.display.HTML object>"
      ]
     },
     "metadata": {},
     "output_type": "display_data"
    },
    {
     "data": {
      "text/html": [
       "Run data is saved locally in <code>c:\\Projects\\amethyst\\Solving-Combinatorial-Problems-using-Reinforcement-Learning\\wandb\\run-20250708_122350-m9spw6wb</code>"
      ],
      "text/plain": [
       "<IPython.core.display.HTML object>"
      ]
     },
     "metadata": {},
     "output_type": "display_data"
    },
    {
     "data": {
      "text/html": [
       "Syncing run <strong><a href='https://wandb.ai/nightly/montyhall-ql/runs/m9spw6wb' target=\"_blank\">effortless-sweep-11</a></strong> to <a href='https://wandb.ai/nightly/montyhall-ql' target=\"_blank\">Weights & Biases</a> (<a href='https://wandb.me/developer-guide' target=\"_blank\">docs</a>)<br>Sweep page: <a href='https://wandb.ai/nightly/montyhall-ql/sweeps/y9nid08r' target=\"_blank\">https://wandb.ai/nightly/montyhall-ql/sweeps/y9nid08r</a>"
      ],
      "text/plain": [
       "<IPython.core.display.HTML object>"
      ]
     },
     "metadata": {},
     "output_type": "display_data"
    },
    {
     "data": {
      "text/html": [
       " View project at <a href='https://wandb.ai/nightly/montyhall-ql' target=\"_blank\">https://wandb.ai/nightly/montyhall-ql</a>"
      ],
      "text/plain": [
       "<IPython.core.display.HTML object>"
      ]
     },
     "metadata": {},
     "output_type": "display_data"
    },
    {
     "data": {
      "text/html": [
       " View sweep at <a href='https://wandb.ai/nightly/montyhall-ql/sweeps/y9nid08r' target=\"_blank\">https://wandb.ai/nightly/montyhall-ql/sweeps/y9nid08r</a>"
      ],
      "text/plain": [
       "<IPython.core.display.HTML object>"
      ]
     },
     "metadata": {},
     "output_type": "display_data"
    },
    {
     "data": {
      "text/html": [
       " View run at <a href='https://wandb.ai/nightly/montyhall-ql/runs/m9spw6wb' target=\"_blank\">https://wandb.ai/nightly/montyhall-ql/runs/m9spw6wb</a>"
      ],
      "text/plain": [
       "<IPython.core.display.HTML object>"
      ]
     },
     "metadata": {},
     "output_type": "display_data"
    },
    {
     "name": "stderr",
     "output_type": "stream",
     "text": [
      "\u001b[32m2025-07-08 12:23:51.171\u001b[0m | \u001b[1mINFO    \u001b[0m | \u001b[36msrc.rl.tabular_q_learning\u001b[0m:\u001b[36mtrain\u001b[0m:\u001b[36m225\u001b[0m - \u001b[1mEpisode    25 | R: +0.0 | ε: 0.371\u001b[0m\n",
      "\u001b[32m2025-07-08 12:23:51.175\u001b[0m | \u001b[1mINFO    \u001b[0m | \u001b[36msrc.rl.tabular_q_learning\u001b[0m:\u001b[36mtrain\u001b[0m:\u001b[36m225\u001b[0m - \u001b[1mEpisode    50 | R: +1.0 | ε: 0.137\u001b[0m\n",
      "\u001b[32m2025-07-08 12:23:51.178\u001b[0m | \u001b[1mINFO    \u001b[0m | \u001b[36msrc.rl.tabular_q_learning\u001b[0m:\u001b[36mtrain\u001b[0m:\u001b[36m225\u001b[0m - \u001b[1mEpisode    75 | R: +1.0 | ε: 0.051\u001b[0m\n",
      "\u001b[32m2025-07-08 12:23:51.186\u001b[0m | \u001b[1mINFO    \u001b[0m | \u001b[36msrc.rl.tabular_q_learning\u001b[0m:\u001b[36mtrain\u001b[0m:\u001b[36m225\u001b[0m - \u001b[1mEpisode   100 | R: +1.0 | ε: 0.050\u001b[0m\n",
      "\u001b[32m2025-07-08 12:23:51.191\u001b[0m | \u001b[1mINFO    \u001b[0m | \u001b[36msrc.rl.tabular_q_learning\u001b[0m:\u001b[36mtrain\u001b[0m:\u001b[36m225\u001b[0m - \u001b[1mEpisode   125 | R: +1.0 | ε: 0.050\u001b[0m\n",
      "\u001b[32m2025-07-08 12:23:51.198\u001b[0m | \u001b[1mINFO    \u001b[0m | \u001b[36msrc.rl.tabular_q_learning\u001b[0m:\u001b[36mtrain\u001b[0m:\u001b[36m225\u001b[0m - \u001b[1mEpisode   150 | R: +1.0 | ε: 0.050\u001b[0m\n",
      "\u001b[32m2025-07-08 12:23:51.205\u001b[0m | \u001b[1mINFO    \u001b[0m | \u001b[36msrc.rl.tabular_q_learning\u001b[0m:\u001b[36mtrain\u001b[0m:\u001b[36m225\u001b[0m - \u001b[1mEpisode   175 | R: +1.0 | ε: 0.050\u001b[0m\n",
      "\u001b[32m2025-07-08 12:23:51.210\u001b[0m | \u001b[1mINFO    \u001b[0m | \u001b[36msrc.rl.tabular_q_learning\u001b[0m:\u001b[36mtrain\u001b[0m:\u001b[36m225\u001b[0m - \u001b[1mEpisode   200 | R: +1.0 | ε: 0.050\u001b[0m\n",
      "\u001b[32m2025-07-08 12:23:51.216\u001b[0m | \u001b[1mINFO    \u001b[0m | \u001b[36msrc.rl.tabular_q_learning\u001b[0m:\u001b[36mtrain\u001b[0m:\u001b[36m225\u001b[0m - \u001b[1mEpisode   225 | R: +1.0 | ε: 0.050\u001b[0m\n",
      "\u001b[32m2025-07-08 12:23:51.219\u001b[0m | \u001b[32m\u001b[1mSUCCESS \u001b[0m | \u001b[36msrc.rl.tabular_q_learning\u001b[0m:\u001b[36mtrain\u001b[0m:\u001b[36m236\u001b[0m - \u001b[32m\u001b[1mConverged at episode 234 after 0.05s\u001b[0m\n",
      "\u001b[32m2025-07-08 12:23:51.219\u001b[0m | \u001b[1mINFO    \u001b[0m | \u001b[36msrc.rl.tabular_q_learning\u001b[0m:\u001b[36mtrain\u001b[0m:\u001b[36m225\u001b[0m - \u001b[1mEpisode   250 | R: +1.0 | ε: 0.050\u001b[0m\n",
      "\u001b[32m2025-07-08 12:23:51.227\u001b[0m | \u001b[1mINFO    \u001b[0m | \u001b[36msrc.rl.tabular_q_learning\u001b[0m:\u001b[36mtrain\u001b[0m:\u001b[36m225\u001b[0m - \u001b[1mEpisode   275 | R: +1.0 | ε: 0.050\u001b[0m\n",
      "\u001b[32m2025-07-08 12:23:51.235\u001b[0m | \u001b[1mINFO    \u001b[0m | \u001b[36msrc.rl.tabular_q_learning\u001b[0m:\u001b[36mtrain\u001b[0m:\u001b[36m225\u001b[0m - \u001b[1mEpisode   300 | R: +1.0 | ε: 0.050\u001b[0m\n",
      "\u001b[32m2025-07-08 12:23:51.239\u001b[0m | \u001b[1mINFO    \u001b[0m | \u001b[36msrc.rl.tabular_q_learning\u001b[0m:\u001b[36mtrain\u001b[0m:\u001b[36m225\u001b[0m - \u001b[1mEpisode   325 | R: +1.0 | ε: 0.050\u001b[0m\n",
      "\u001b[32m2025-07-08 12:23:51.244\u001b[0m | \u001b[1mINFO    \u001b[0m | \u001b[36msrc.rl.tabular_q_learning\u001b[0m:\u001b[36mtrain\u001b[0m:\u001b[36m225\u001b[0m - \u001b[1mEpisode   350 | R: +1.0 | ε: 0.050\u001b[0m\n",
      "\u001b[32m2025-07-08 12:23:51.249\u001b[0m | \u001b[1mINFO    \u001b[0m | \u001b[36msrc.rl.tabular_q_learning\u001b[0m:\u001b[36mtrain\u001b[0m:\u001b[36m225\u001b[0m - \u001b[1mEpisode   375 | R: +1.0 | ε: 0.050\u001b[0m\n",
      "\u001b[32m2025-07-08 12:23:51.254\u001b[0m | \u001b[1mINFO    \u001b[0m | \u001b[36msrc.rl.tabular_q_learning\u001b[0m:\u001b[36mtrain\u001b[0m:\u001b[36m225\u001b[0m - \u001b[1mEpisode   400 | R: +1.0 | ε: 0.050\u001b[0m\n",
      "\u001b[32m2025-07-08 12:23:51.258\u001b[0m | \u001b[1mINFO    \u001b[0m | \u001b[36msrc.rl.tabular_q_learning\u001b[0m:\u001b[36mtrain\u001b[0m:\u001b[36m225\u001b[0m - \u001b[1mEpisode   425 | R: +1.0 | ε: 0.050\u001b[0m\n",
      "\u001b[32m2025-07-08 12:23:51.262\u001b[0m | \u001b[1mINFO    \u001b[0m | \u001b[36msrc.rl.tabular_q_learning\u001b[0m:\u001b[36mtrain\u001b[0m:\u001b[36m225\u001b[0m - \u001b[1mEpisode   450 | R: +1.0 | ε: 0.050\u001b[0m\n",
      "\u001b[32m2025-07-08 12:23:51.270\u001b[0m | \u001b[1mINFO    \u001b[0m | \u001b[36msrc.rl.tabular_q_learning\u001b[0m:\u001b[36mtrain\u001b[0m:\u001b[36m225\u001b[0m - \u001b[1mEpisode   475 | R: +1.0 | ε: 0.050\u001b[0m\n",
      "\u001b[32m2025-07-08 12:23:51.273\u001b[0m | \u001b[1mINFO    \u001b[0m | \u001b[36msrc.rl.tabular_q_learning\u001b[0m:\u001b[36mtrain\u001b[0m:\u001b[36m225\u001b[0m - \u001b[1mEpisode   500 | R: +1.0 | ε: 0.050\u001b[0m\n"
     ]
    },
    {
     "data": {
      "text/html": [],
      "text/plain": [
       "<IPython.core.display.HTML object>"
      ]
     },
     "metadata": {},
     "output_type": "display_data"
    },
    {
     "data": {
      "text/html": [
       "<br>    <style><br>        .wandb-row {<br>            display: flex;<br>            flex-direction: row;<br>            flex-wrap: wrap;<br>            justify-content: flex-start;<br>            width: 100%;<br>        }<br>        .wandb-col {<br>            display: flex;<br>            flex-direction: column;<br>            flex-basis: 100%;<br>            flex: 1;<br>            padding: 10px;<br>        }<br>    </style><br><div class=\"wandb-row\"><div class=\"wandb-col\"><h3>Run history:</h3><br/><table class=\"wandb\"><tr><td>best_reward</td><td>▁</td></tr><tr><td>converged_episode</td><td>▁</td></tr><tr><td>train_time_sec</td><td>▁</td></tr></table><br/></div><div class=\"wandb-col\"><h3>Run summary:</h3><br/><table class=\"wandb\"><tr><td>best_reward</td><td>1</td></tr><tr><td>converged_episode</td><td>234</td></tr><tr><td>train_time_sec</td><td>0.05279</td></tr></table><br/></div></div>"
      ],
      "text/plain": [
       "<IPython.core.display.HTML object>"
      ]
     },
     "metadata": {},
     "output_type": "display_data"
    },
    {
     "data": {
      "text/html": [
       " View run <strong style=\"color:#cdcd00\">effortless-sweep-11</strong> at: <a href='https://wandb.ai/nightly/montyhall-ql/runs/m9spw6wb' target=\"_blank\">https://wandb.ai/nightly/montyhall-ql/runs/m9spw6wb</a><br> View project at: <a href='https://wandb.ai/nightly/montyhall-ql' target=\"_blank\">https://wandb.ai/nightly/montyhall-ql</a><br>Synced 5 W&B file(s), 0 media file(s), 0 artifact file(s) and 0 other file(s)"
      ],
      "text/plain": [
       "<IPython.core.display.HTML object>"
      ]
     },
     "metadata": {},
     "output_type": "display_data"
    },
    {
     "data": {
      "text/html": [
       "Find logs at: <code>.\\wandb\\run-20250708_122350-m9spw6wb\\logs</code>"
      ],
      "text/plain": [
       "<IPython.core.display.HTML object>"
      ]
     },
     "metadata": {},
     "output_type": "display_data"
    },
    {
     "name": "stderr",
     "output_type": "stream",
     "text": [
      "\u001b[34m\u001b[1mwandb\u001b[0m: Agent Starting Run: fh4dw99v with config:\n",
      "\u001b[34m\u001b[1mwandb\u001b[0m: \tdiscount_factor: 0.9509917393522088\n",
      "\u001b[34m\u001b[1mwandb\u001b[0m: \tepsilon_decay: 0.9709051320106366\n",
      "\u001b[34m\u001b[1mwandb\u001b[0m: \tlearning_rate: 5.636324545343599e-05\n"
     ]
    },
    {
     "data": {
      "text/html": [
       "Ignoring project 'montyhall-ql' when running a sweep."
      ],
      "text/plain": [
       "<IPython.core.display.HTML object>"
      ]
     },
     "metadata": {},
     "output_type": "display_data"
    },
    {
     "data": {
      "text/html": [
       "Tracking run with wandb version 0.19.11"
      ],
      "text/plain": [
       "<IPython.core.display.HTML object>"
      ]
     },
     "metadata": {},
     "output_type": "display_data"
    },
    {
     "data": {
      "text/html": [
       "Run data is saved locally in <code>c:\\Projects\\amethyst\\Solving-Combinatorial-Problems-using-Reinforcement-Learning\\wandb\\run-20250708_122355-fh4dw99v</code>"
      ],
      "text/plain": [
       "<IPython.core.display.HTML object>"
      ]
     },
     "metadata": {},
     "output_type": "display_data"
    },
    {
     "data": {
      "text/html": [
       "Syncing run <strong><a href='https://wandb.ai/nightly/montyhall-ql/runs/fh4dw99v' target=\"_blank\">efficient-sweep-12</a></strong> to <a href='https://wandb.ai/nightly/montyhall-ql' target=\"_blank\">Weights & Biases</a> (<a href='https://wandb.me/developer-guide' target=\"_blank\">docs</a>)<br>Sweep page: <a href='https://wandb.ai/nightly/montyhall-ql/sweeps/y9nid08r' target=\"_blank\">https://wandb.ai/nightly/montyhall-ql/sweeps/y9nid08r</a>"
      ],
      "text/plain": [
       "<IPython.core.display.HTML object>"
      ]
     },
     "metadata": {},
     "output_type": "display_data"
    },
    {
     "data": {
      "text/html": [
       " View project at <a href='https://wandb.ai/nightly/montyhall-ql' target=\"_blank\">https://wandb.ai/nightly/montyhall-ql</a>"
      ],
      "text/plain": [
       "<IPython.core.display.HTML object>"
      ]
     },
     "metadata": {},
     "output_type": "display_data"
    },
    {
     "data": {
      "text/html": [
       " View sweep at <a href='https://wandb.ai/nightly/montyhall-ql/sweeps/y9nid08r' target=\"_blank\">https://wandb.ai/nightly/montyhall-ql/sweeps/y9nid08r</a>"
      ],
      "text/plain": [
       "<IPython.core.display.HTML object>"
      ]
     },
     "metadata": {},
     "output_type": "display_data"
    },
    {
     "data": {
      "text/html": [
       " View run at <a href='https://wandb.ai/nightly/montyhall-ql/runs/fh4dw99v' target=\"_blank\">https://wandb.ai/nightly/montyhall-ql/runs/fh4dw99v</a>"
      ],
      "text/plain": [
       "<IPython.core.display.HTML object>"
      ]
     },
     "metadata": {},
     "output_type": "display_data"
    },
    {
     "name": "stderr",
     "output_type": "stream",
     "text": [
      "\u001b[32m2025-07-08 12:23:56.590\u001b[0m | \u001b[1mINFO    \u001b[0m | \u001b[36msrc.rl.tabular_q_learning\u001b[0m:\u001b[36mtrain\u001b[0m:\u001b[36m225\u001b[0m - \u001b[1mEpisode    25 | R: +1.0 | ε: 0.478\u001b[0m\n",
      "\u001b[32m2025-07-08 12:23:56.595\u001b[0m | \u001b[1mINFO    \u001b[0m | \u001b[36msrc.rl.tabular_q_learning\u001b[0m:\u001b[36mtrain\u001b[0m:\u001b[36m225\u001b[0m - \u001b[1mEpisode    50 | R: +1.0 | ε: 0.228\u001b[0m\n",
      "\u001b[32m2025-07-08 12:23:56.598\u001b[0m | \u001b[1mINFO    \u001b[0m | \u001b[36msrc.rl.tabular_q_learning\u001b[0m:\u001b[36mtrain\u001b[0m:\u001b[36m225\u001b[0m - \u001b[1mEpisode    75 | R: +1.0 | ε: 0.109\u001b[0m\n",
      "\u001b[32m2025-07-08 12:23:56.598\u001b[0m | \u001b[1mINFO    \u001b[0m | \u001b[36msrc.rl.tabular_q_learning\u001b[0m:\u001b[36mtrain\u001b[0m:\u001b[36m225\u001b[0m - \u001b[1mEpisode   100 | R: +1.0 | ε: 0.052\u001b[0m\n",
      "\u001b[32m2025-07-08 12:23:56.610\u001b[0m | \u001b[1mINFO    \u001b[0m | \u001b[36msrc.rl.tabular_q_learning\u001b[0m:\u001b[36mtrain\u001b[0m:\u001b[36m225\u001b[0m - \u001b[1mEpisode   125 | R: +1.0 | ε: 0.050\u001b[0m\n",
      "\u001b[32m2025-07-08 12:23:56.616\u001b[0m | \u001b[1mINFO    \u001b[0m | \u001b[36msrc.rl.tabular_q_learning\u001b[0m:\u001b[36mtrain\u001b[0m:\u001b[36m225\u001b[0m - \u001b[1mEpisode   150 | R: +1.0 | ε: 0.050\u001b[0m\n",
      "\u001b[32m2025-07-08 12:23:56.621\u001b[0m | \u001b[1mINFO    \u001b[0m | \u001b[36msrc.rl.tabular_q_learning\u001b[0m:\u001b[36mtrain\u001b[0m:\u001b[36m225\u001b[0m - \u001b[1mEpisode   175 | R: +1.0 | ε: 0.050\u001b[0m\n",
      "\u001b[32m2025-07-08 12:23:56.627\u001b[0m | \u001b[1mINFO    \u001b[0m | \u001b[36msrc.rl.tabular_q_learning\u001b[0m:\u001b[36mtrain\u001b[0m:\u001b[36m225\u001b[0m - \u001b[1mEpisode   200 | R: +1.0 | ε: 0.050\u001b[0m\n",
      "\u001b[32m2025-07-08 12:23:56.633\u001b[0m | \u001b[1mINFO    \u001b[0m | \u001b[36msrc.rl.tabular_q_learning\u001b[0m:\u001b[36mtrain\u001b[0m:\u001b[36m225\u001b[0m - \u001b[1mEpisode   225 | R: +1.0 | ε: 0.050\u001b[0m\n",
      "\u001b[32m2025-07-08 12:23:56.638\u001b[0m | \u001b[1mINFO    \u001b[0m | \u001b[36msrc.rl.tabular_q_learning\u001b[0m:\u001b[36mtrain\u001b[0m:\u001b[36m225\u001b[0m - \u001b[1mEpisode   250 | R: +1.0 | ε: 0.050\u001b[0m\n",
      "\u001b[32m2025-07-08 12:23:56.645\u001b[0m | \u001b[1mINFO    \u001b[0m | \u001b[36msrc.rl.tabular_q_learning\u001b[0m:\u001b[36mtrain\u001b[0m:\u001b[36m225\u001b[0m - \u001b[1mEpisode   275 | R: +1.0 | ε: 0.050\u001b[0m\n",
      "\u001b[32m2025-07-08 12:23:56.650\u001b[0m | \u001b[1mINFO    \u001b[0m | \u001b[36msrc.rl.tabular_q_learning\u001b[0m:\u001b[36mtrain\u001b[0m:\u001b[36m225\u001b[0m - \u001b[1mEpisode   300 | R: +1.0 | ε: 0.050\u001b[0m\n",
      "\u001b[32m2025-07-08 12:23:56.658\u001b[0m | \u001b[1mINFO    \u001b[0m | \u001b[36msrc.rl.tabular_q_learning\u001b[0m:\u001b[36mtrain\u001b[0m:\u001b[36m225\u001b[0m - \u001b[1mEpisode   325 | R: +1.0 | ε: 0.050\u001b[0m\n",
      "\u001b[32m2025-07-08 12:23:56.664\u001b[0m | \u001b[1mINFO    \u001b[0m | \u001b[36msrc.rl.tabular_q_learning\u001b[0m:\u001b[36mtrain\u001b[0m:\u001b[36m225\u001b[0m - \u001b[1mEpisode   350 | R: +1.0 | ε: 0.050\u001b[0m\n",
      "\u001b[32m2025-07-08 12:23:56.669\u001b[0m | \u001b[32m\u001b[1mSUCCESS \u001b[0m | \u001b[36msrc.rl.tabular_q_learning\u001b[0m:\u001b[36mtrain\u001b[0m:\u001b[36m236\u001b[0m - \u001b[32m\u001b[1mConverged at episode 371 after 0.08s\u001b[0m\n",
      "\u001b[32m2025-07-08 12:23:56.670\u001b[0m | \u001b[1mINFO    \u001b[0m | \u001b[36msrc.rl.tabular_q_learning\u001b[0m:\u001b[36mtrain\u001b[0m:\u001b[36m225\u001b[0m - \u001b[1mEpisode   375 | R: +1.0 | ε: 0.050\u001b[0m\n",
      "\u001b[32m2025-07-08 12:23:56.674\u001b[0m | \u001b[1mINFO    \u001b[0m | \u001b[36msrc.rl.tabular_q_learning\u001b[0m:\u001b[36mtrain\u001b[0m:\u001b[36m225\u001b[0m - \u001b[1mEpisode   400 | R: +1.0 | ε: 0.050\u001b[0m\n",
      "\u001b[32m2025-07-08 12:23:56.674\u001b[0m | \u001b[1mINFO    \u001b[0m | \u001b[36msrc.rl.tabular_q_learning\u001b[0m:\u001b[36mtrain\u001b[0m:\u001b[36m225\u001b[0m - \u001b[1mEpisode   425 | R: +1.0 | ε: 0.050\u001b[0m\n",
      "\u001b[32m2025-07-08 12:23:56.685\u001b[0m | \u001b[1mINFO    \u001b[0m | \u001b[36msrc.rl.tabular_q_learning\u001b[0m:\u001b[36mtrain\u001b[0m:\u001b[36m225\u001b[0m - \u001b[1mEpisode   450 | R: +1.0 | ε: 0.050\u001b[0m\n",
      "\u001b[32m2025-07-08 12:23:56.690\u001b[0m | \u001b[1mINFO    \u001b[0m | \u001b[36msrc.rl.tabular_q_learning\u001b[0m:\u001b[36mtrain\u001b[0m:\u001b[36m225\u001b[0m - \u001b[1mEpisode   475 | R: +1.0 | ε: 0.050\u001b[0m\n",
      "\u001b[32m2025-07-08 12:23:56.696\u001b[0m | \u001b[1mINFO    \u001b[0m | \u001b[36msrc.rl.tabular_q_learning\u001b[0m:\u001b[36mtrain\u001b[0m:\u001b[36m225\u001b[0m - \u001b[1mEpisode   500 | R: +1.0 | ε: 0.050\u001b[0m\n"
     ]
    },
    {
     "data": {
      "text/html": [],
      "text/plain": [
       "<IPython.core.display.HTML object>"
      ]
     },
     "metadata": {},
     "output_type": "display_data"
    },
    {
     "data": {
      "text/html": [
       "<br>    <style><br>        .wandb-row {<br>            display: flex;<br>            flex-direction: row;<br>            flex-wrap: wrap;<br>            justify-content: flex-start;<br>            width: 100%;<br>        }<br>        .wandb-col {<br>            display: flex;<br>            flex-direction: column;<br>            flex-basis: 100%;<br>            flex: 1;<br>            padding: 10px;<br>        }<br>    </style><br><div class=\"wandb-row\"><div class=\"wandb-col\"><h3>Run history:</h3><br/><table class=\"wandb\"><tr><td>best_reward</td><td>▁</td></tr><tr><td>converged_episode</td><td>▁</td></tr><tr><td>train_time_sec</td><td>▁</td></tr></table><br/></div><div class=\"wandb-col\"><h3>Run summary:</h3><br/><table class=\"wandb\"><tr><td>best_reward</td><td>1</td></tr><tr><td>converged_episode</td><td>371</td></tr><tr><td>train_time_sec</td><td>0.08418</td></tr></table><br/></div></div>"
      ],
      "text/plain": [
       "<IPython.core.display.HTML object>"
      ]
     },
     "metadata": {},
     "output_type": "display_data"
    },
    {
     "data": {
      "text/html": [
       " View run <strong style=\"color:#cdcd00\">efficient-sweep-12</strong> at: <a href='https://wandb.ai/nightly/montyhall-ql/runs/fh4dw99v' target=\"_blank\">https://wandb.ai/nightly/montyhall-ql/runs/fh4dw99v</a><br> View project at: <a href='https://wandb.ai/nightly/montyhall-ql' target=\"_blank\">https://wandb.ai/nightly/montyhall-ql</a><br>Synced 5 W&B file(s), 0 media file(s), 0 artifact file(s) and 0 other file(s)"
      ],
      "text/plain": [
       "<IPython.core.display.HTML object>"
      ]
     },
     "metadata": {},
     "output_type": "display_data"
    },
    {
     "data": {
      "text/html": [
       "Find logs at: <code>.\\wandb\\run-20250708_122355-fh4dw99v\\logs</code>"
      ],
      "text/plain": [
       "<IPython.core.display.HTML object>"
      ]
     },
     "metadata": {},
     "output_type": "display_data"
    },
    {
     "name": "stderr",
     "output_type": "stream",
     "text": [
      "\u001b[34m\u001b[1mwandb\u001b[0m: Agent Starting Run: h806ucgk with config:\n",
      "\u001b[34m\u001b[1mwandb\u001b[0m: \tdiscount_factor: 0.9663071619266774\n",
      "\u001b[34m\u001b[1mwandb\u001b[0m: \tepsilon_decay: 0.951086278326894\n",
      "\u001b[34m\u001b[1mwandb\u001b[0m: \tlearning_rate: 0.0011359672561686907\n"
     ]
    },
    {
     "data": {
      "text/html": [
       "Ignoring project 'montyhall-ql' when running a sweep."
      ],
      "text/plain": [
       "<IPython.core.display.HTML object>"
      ]
     },
     "metadata": {},
     "output_type": "display_data"
    },
    {
     "data": {
      "text/html": [
       "Tracking run with wandb version 0.19.11"
      ],
      "text/plain": [
       "<IPython.core.display.HTML object>"
      ]
     },
     "metadata": {},
     "output_type": "display_data"
    },
    {
     "data": {
      "text/html": [
       "Run data is saved locally in <code>c:\\Projects\\amethyst\\Solving-Combinatorial-Problems-using-Reinforcement-Learning\\wandb\\run-20250708_122401-h806ucgk</code>"
      ],
      "text/plain": [
       "<IPython.core.display.HTML object>"
      ]
     },
     "metadata": {},
     "output_type": "display_data"
    },
    {
     "data": {
      "text/html": [
       "Syncing run <strong><a href='https://wandb.ai/nightly/montyhall-ql/runs/h806ucgk' target=\"_blank\">fine-sweep-13</a></strong> to <a href='https://wandb.ai/nightly/montyhall-ql' target=\"_blank\">Weights & Biases</a> (<a href='https://wandb.me/developer-guide' target=\"_blank\">docs</a>)<br>Sweep page: <a href='https://wandb.ai/nightly/montyhall-ql/sweeps/y9nid08r' target=\"_blank\">https://wandb.ai/nightly/montyhall-ql/sweeps/y9nid08r</a>"
      ],
      "text/plain": [
       "<IPython.core.display.HTML object>"
      ]
     },
     "metadata": {},
     "output_type": "display_data"
    },
    {
     "data": {
      "text/html": [
       " View project at <a href='https://wandb.ai/nightly/montyhall-ql' target=\"_blank\">https://wandb.ai/nightly/montyhall-ql</a>"
      ],
      "text/plain": [
       "<IPython.core.display.HTML object>"
      ]
     },
     "metadata": {},
     "output_type": "display_data"
    },
    {
     "data": {
      "text/html": [
       " View sweep at <a href='https://wandb.ai/nightly/montyhall-ql/sweeps/y9nid08r' target=\"_blank\">https://wandb.ai/nightly/montyhall-ql/sweeps/y9nid08r</a>"
      ],
      "text/plain": [
       "<IPython.core.display.HTML object>"
      ]
     },
     "metadata": {},
     "output_type": "display_data"
    },
    {
     "data": {
      "text/html": [
       " View run at <a href='https://wandb.ai/nightly/montyhall-ql/runs/h806ucgk' target=\"_blank\">https://wandb.ai/nightly/montyhall-ql/runs/h806ucgk</a>"
      ],
      "text/plain": [
       "<IPython.core.display.HTML object>"
      ]
     },
     "metadata": {},
     "output_type": "display_data"
    },
    {
     "name": "stderr",
     "output_type": "stream",
     "text": [
      "\u001b[32m2025-07-08 12:24:01.827\u001b[0m | \u001b[1mINFO    \u001b[0m | \u001b[36msrc.rl.tabular_q_learning\u001b[0m:\u001b[36mtrain\u001b[0m:\u001b[36m225\u001b[0m - \u001b[1mEpisode    25 | R: +1.0 | ε: 0.285\u001b[0m\n",
      "\u001b[32m2025-07-08 12:24:01.833\u001b[0m | \u001b[1mINFO    \u001b[0m | \u001b[36msrc.rl.tabular_q_learning\u001b[0m:\u001b[36mtrain\u001b[0m:\u001b[36m225\u001b[0m - \u001b[1mEpisode    50 | R: +1.0 | ε: 0.081\u001b[0m\n",
      "\u001b[32m2025-07-08 12:24:01.839\u001b[0m | \u001b[1mINFO    \u001b[0m | \u001b[36msrc.rl.tabular_q_learning\u001b[0m:\u001b[36mtrain\u001b[0m:\u001b[36m225\u001b[0m - \u001b[1mEpisode    75 | R: +1.0 | ε: 0.050\u001b[0m\n",
      "\u001b[32m2025-07-08 12:24:01.843\u001b[0m | \u001b[1mINFO    \u001b[0m | \u001b[36msrc.rl.tabular_q_learning\u001b[0m:\u001b[36mtrain\u001b[0m:\u001b[36m225\u001b[0m - \u001b[1mEpisode   100 | R: +1.0 | ε: 0.050\u001b[0m\n",
      "\u001b[32m2025-07-08 12:24:01.852\u001b[0m | \u001b[1mINFO    \u001b[0m | \u001b[36msrc.rl.tabular_q_learning\u001b[0m:\u001b[36mtrain\u001b[0m:\u001b[36m225\u001b[0m - \u001b[1mEpisode   125 | R: +1.0 | ε: 0.050\u001b[0m\n",
      "\u001b[32m2025-07-08 12:24:01.856\u001b[0m | \u001b[1mINFO    \u001b[0m | \u001b[36msrc.rl.tabular_q_learning\u001b[0m:\u001b[36mtrain\u001b[0m:\u001b[36m225\u001b[0m - \u001b[1mEpisode   150 | R: +1.0 | ε: 0.050\u001b[0m\n",
      "\u001b[32m2025-07-08 12:24:01.865\u001b[0m | \u001b[1mINFO    \u001b[0m | \u001b[36msrc.rl.tabular_q_learning\u001b[0m:\u001b[36mtrain\u001b[0m:\u001b[36m225\u001b[0m - \u001b[1mEpisode   175 | R: +1.0 | ε: 0.050\u001b[0m\n",
      "\u001b[32m2025-07-08 12:24:01.872\u001b[0m | \u001b[1mINFO    \u001b[0m | \u001b[36msrc.rl.tabular_q_learning\u001b[0m:\u001b[36mtrain\u001b[0m:\u001b[36m225\u001b[0m - \u001b[1mEpisode   200 | R: +1.0 | ε: 0.050\u001b[0m\n",
      "\u001b[32m2025-07-08 12:24:01.882\u001b[0m | \u001b[1mINFO    \u001b[0m | \u001b[36msrc.rl.tabular_q_learning\u001b[0m:\u001b[36mtrain\u001b[0m:\u001b[36m225\u001b[0m - \u001b[1mEpisode   225 | R: +1.0 | ε: 0.050\u001b[0m\n",
      "\u001b[32m2025-07-08 12:24:01.888\u001b[0m | \u001b[1mINFO    \u001b[0m | \u001b[36msrc.rl.tabular_q_learning\u001b[0m:\u001b[36mtrain\u001b[0m:\u001b[36m225\u001b[0m - \u001b[1mEpisode   250 | R: +1.0 | ε: 0.050\u001b[0m\n",
      "\u001b[32m2025-07-08 12:24:01.895\u001b[0m | \u001b[1mINFO    \u001b[0m | \u001b[36msrc.rl.tabular_q_learning\u001b[0m:\u001b[36mtrain\u001b[0m:\u001b[36m225\u001b[0m - \u001b[1mEpisode   275 | R: +1.0 | ε: 0.050\u001b[0m\n",
      "\u001b[32m2025-07-08 12:24:01.902\u001b[0m | \u001b[1mINFO    \u001b[0m | \u001b[36msrc.rl.tabular_q_learning\u001b[0m:\u001b[36mtrain\u001b[0m:\u001b[36m225\u001b[0m - \u001b[1mEpisode   300 | R: +1.0 | ε: 0.050\u001b[0m\n",
      "\u001b[32m2025-07-08 12:24:01.910\u001b[0m | \u001b[1mINFO    \u001b[0m | \u001b[36msrc.rl.tabular_q_learning\u001b[0m:\u001b[36mtrain\u001b[0m:\u001b[36m225\u001b[0m - \u001b[1mEpisode   325 | R: +1.0 | ε: 0.050\u001b[0m\n",
      "\u001b[32m2025-07-08 12:24:01.917\u001b[0m | \u001b[1mINFO    \u001b[0m | \u001b[36msrc.rl.tabular_q_learning\u001b[0m:\u001b[36mtrain\u001b[0m:\u001b[36m225\u001b[0m - \u001b[1mEpisode   350 | R: +1.0 | ε: 0.050\u001b[0m\n",
      "\u001b[32m2025-07-08 12:24:01.924\u001b[0m | \u001b[1mINFO    \u001b[0m | \u001b[36msrc.rl.tabular_q_learning\u001b[0m:\u001b[36mtrain\u001b[0m:\u001b[36m225\u001b[0m - \u001b[1mEpisode   375 | R: +1.0 | ε: 0.050\u001b[0m\n",
      "\u001b[32m2025-07-08 12:24:01.930\u001b[0m | \u001b[1mINFO    \u001b[0m | \u001b[36msrc.rl.tabular_q_learning\u001b[0m:\u001b[36mtrain\u001b[0m:\u001b[36m225\u001b[0m - \u001b[1mEpisode   400 | R: +1.0 | ε: 0.050\u001b[0m\n",
      "\u001b[32m2025-07-08 12:24:01.931\u001b[0m | \u001b[1mINFO    \u001b[0m | \u001b[36msrc.rl.tabular_q_learning\u001b[0m:\u001b[36mtrain\u001b[0m:\u001b[36m225\u001b[0m - \u001b[1mEpisode   425 | R: +1.0 | ε: 0.050\u001b[0m\n",
      "\u001b[32m2025-07-08 12:24:01.939\u001b[0m | \u001b[1mINFO    \u001b[0m | \u001b[36msrc.rl.tabular_q_learning\u001b[0m:\u001b[36mtrain\u001b[0m:\u001b[36m225\u001b[0m - \u001b[1mEpisode   450 | R: +1.0 | ε: 0.050\u001b[0m\n",
      "\u001b[32m2025-07-08 12:24:01.951\u001b[0m | \u001b[1mINFO    \u001b[0m | \u001b[36msrc.rl.tabular_q_learning\u001b[0m:\u001b[36mtrain\u001b[0m:\u001b[36m225\u001b[0m - \u001b[1mEpisode   475 | R: +1.0 | ε: 0.050\u001b[0m\n",
      "\u001b[32m2025-07-08 12:24:01.958\u001b[0m | \u001b[1mINFO    \u001b[0m | \u001b[36msrc.rl.tabular_q_learning\u001b[0m:\u001b[36mtrain\u001b[0m:\u001b[36m225\u001b[0m - \u001b[1mEpisode   500 | R: +1.0 | ε: 0.050\u001b[0m\n"
     ]
    },
    {
     "data": {
      "text/html": [],
      "text/plain": [
       "<IPython.core.display.HTML object>"
      ]
     },
     "metadata": {},
     "output_type": "display_data"
    },
    {
     "data": {
      "text/html": [
       "<br>    <style><br>        .wandb-row {<br>            display: flex;<br>            flex-direction: row;<br>            flex-wrap: wrap;<br>            justify-content: flex-start;<br>            width: 100%;<br>        }<br>        .wandb-col {<br>            display: flex;<br>            flex-direction: column;<br>            flex-basis: 100%;<br>            flex: 1;<br>            padding: 10px;<br>        }<br>    </style><br><div class=\"wandb-row\"><div class=\"wandb-col\"><h3>Run history:</h3><br/><table class=\"wandb\"><tr><td>best_reward</td><td>▁</td></tr><tr><td>converged_episode</td><td>▁</td></tr><tr><td>train_time_sec</td><td>▁</td></tr></table><br/></div><div class=\"wandb-col\"><h3>Run summary:</h3><br/><table class=\"wandb\"><tr><td>best_reward</td><td>1</td></tr><tr><td>converged_episode</td><td>-1</td></tr><tr><td>train_time_sec</td><td>0</td></tr></table><br/></div></div>"
      ],
      "text/plain": [
       "<IPython.core.display.HTML object>"
      ]
     },
     "metadata": {},
     "output_type": "display_data"
    },
    {
     "data": {
      "text/html": [
       " View run <strong style=\"color:#cdcd00\">fine-sweep-13</strong> at: <a href='https://wandb.ai/nightly/montyhall-ql/runs/h806ucgk' target=\"_blank\">https://wandb.ai/nightly/montyhall-ql/runs/h806ucgk</a><br> View project at: <a href='https://wandb.ai/nightly/montyhall-ql' target=\"_blank\">https://wandb.ai/nightly/montyhall-ql</a><br>Synced 5 W&B file(s), 0 media file(s), 0 artifact file(s) and 0 other file(s)"
      ],
      "text/plain": [
       "<IPython.core.display.HTML object>"
      ]
     },
     "metadata": {},
     "output_type": "display_data"
    },
    {
     "data": {
      "text/html": [
       "Find logs at: <code>.\\wandb\\run-20250708_122401-h806ucgk\\logs</code>"
      ],
      "text/plain": [
       "<IPython.core.display.HTML object>"
      ]
     },
     "metadata": {},
     "output_type": "display_data"
    },
    {
     "name": "stderr",
     "output_type": "stream",
     "text": [
      "\u001b[34m\u001b[1mwandb\u001b[0m: Agent Starting Run: d1y8tb68 with config:\n",
      "\u001b[34m\u001b[1mwandb\u001b[0m: \tdiscount_factor: 0.8019427999509405\n",
      "\u001b[34m\u001b[1mwandb\u001b[0m: \tepsilon_decay: 0.978146541353467\n",
      "\u001b[34m\u001b[1mwandb\u001b[0m: \tlearning_rate: 4.457611794898646e-05\n"
     ]
    },
    {
     "data": {
      "text/html": [
       "Ignoring project 'montyhall-ql' when running a sweep."
      ],
      "text/plain": [
       "<IPython.core.display.HTML object>"
      ]
     },
     "metadata": {},
     "output_type": "display_data"
    },
    {
     "data": {
      "text/html": [
       "Tracking run with wandb version 0.19.11"
      ],
      "text/plain": [
       "<IPython.core.display.HTML object>"
      ]
     },
     "metadata": {},
     "output_type": "display_data"
    },
    {
     "data": {
      "text/html": [
       "Run data is saved locally in <code>c:\\Projects\\amethyst\\Solving-Combinatorial-Problems-using-Reinforcement-Learning\\wandb\\run-20250708_122407-d1y8tb68</code>"
      ],
      "text/plain": [
       "<IPython.core.display.HTML object>"
      ]
     },
     "metadata": {},
     "output_type": "display_data"
    },
    {
     "data": {
      "text/html": [
       "Syncing run <strong><a href='https://wandb.ai/nightly/montyhall-ql/runs/d1y8tb68' target=\"_blank\">celestial-sweep-14</a></strong> to <a href='https://wandb.ai/nightly/montyhall-ql' target=\"_blank\">Weights & Biases</a> (<a href='https://wandb.me/developer-guide' target=\"_blank\">docs</a>)<br>Sweep page: <a href='https://wandb.ai/nightly/montyhall-ql/sweeps/y9nid08r' target=\"_blank\">https://wandb.ai/nightly/montyhall-ql/sweeps/y9nid08r</a>"
      ],
      "text/plain": [
       "<IPython.core.display.HTML object>"
      ]
     },
     "metadata": {},
     "output_type": "display_data"
    },
    {
     "data": {
      "text/html": [
       " View project at <a href='https://wandb.ai/nightly/montyhall-ql' target=\"_blank\">https://wandb.ai/nightly/montyhall-ql</a>"
      ],
      "text/plain": [
       "<IPython.core.display.HTML object>"
      ]
     },
     "metadata": {},
     "output_type": "display_data"
    },
    {
     "data": {
      "text/html": [
       " View sweep at <a href='https://wandb.ai/nightly/montyhall-ql/sweeps/y9nid08r' target=\"_blank\">https://wandb.ai/nightly/montyhall-ql/sweeps/y9nid08r</a>"
      ],
      "text/plain": [
       "<IPython.core.display.HTML object>"
      ]
     },
     "metadata": {},
     "output_type": "display_data"
    },
    {
     "data": {
      "text/html": [
       " View run at <a href='https://wandb.ai/nightly/montyhall-ql/runs/d1y8tb68' target=\"_blank\">https://wandb.ai/nightly/montyhall-ql/runs/d1y8tb68</a>"
      ],
      "text/plain": [
       "<IPython.core.display.HTML object>"
      ]
     },
     "metadata": {},
     "output_type": "display_data"
    },
    {
     "name": "stderr",
     "output_type": "stream",
     "text": [
      "\u001b[32m2025-07-08 12:24:08.117\u001b[0m | \u001b[1mINFO    \u001b[0m | \u001b[36msrc.rl.tabular_q_learning\u001b[0m:\u001b[36mtrain\u001b[0m:\u001b[36m225\u001b[0m - \u001b[1mEpisode    25 | R: +1.0 | ε: 0.576\u001b[0m\n",
      "\u001b[32m2025-07-08 12:24:08.123\u001b[0m | \u001b[1mINFO    \u001b[0m | \u001b[36msrc.rl.tabular_q_learning\u001b[0m:\u001b[36mtrain\u001b[0m:\u001b[36m225\u001b[0m - \u001b[1mEpisode    50 | R: +1.0 | ε: 0.331\u001b[0m\n",
      "\u001b[32m2025-07-08 12:24:08.132\u001b[0m | \u001b[1mINFO    \u001b[0m | \u001b[36msrc.rl.tabular_q_learning\u001b[0m:\u001b[36mtrain\u001b[0m:\u001b[36m225\u001b[0m - \u001b[1mEpisode    75 | R: +1.0 | ε: 0.191\u001b[0m\n",
      "\u001b[32m2025-07-08 12:24:08.141\u001b[0m | \u001b[1mINFO    \u001b[0m | \u001b[36msrc.rl.tabular_q_learning\u001b[0m:\u001b[36mtrain\u001b[0m:\u001b[36m225\u001b[0m - \u001b[1mEpisode   100 | R: +1.0 | ε: 0.110\u001b[0m\n",
      "\u001b[32m2025-07-08 12:24:08.149\u001b[0m | \u001b[1mINFO    \u001b[0m | \u001b[36msrc.rl.tabular_q_learning\u001b[0m:\u001b[36mtrain\u001b[0m:\u001b[36m225\u001b[0m - \u001b[1mEpisode   125 | R: +1.0 | ε: 0.063\u001b[0m\n",
      "\u001b[32m2025-07-08 12:24:08.158\u001b[0m | \u001b[1mINFO    \u001b[0m | \u001b[36msrc.rl.tabular_q_learning\u001b[0m:\u001b[36mtrain\u001b[0m:\u001b[36m225\u001b[0m - \u001b[1mEpisode   150 | R: +1.0 | ε: 0.050\u001b[0m\n",
      "\u001b[32m2025-07-08 12:24:08.166\u001b[0m | \u001b[1mINFO    \u001b[0m | \u001b[36msrc.rl.tabular_q_learning\u001b[0m:\u001b[36mtrain\u001b[0m:\u001b[36m225\u001b[0m - \u001b[1mEpisode   175 | R: +1.0 | ε: 0.050\u001b[0m\n",
      "\u001b[32m2025-07-08 12:24:08.179\u001b[0m | \u001b[1mINFO    \u001b[0m | \u001b[36msrc.rl.tabular_q_learning\u001b[0m:\u001b[36mtrain\u001b[0m:\u001b[36m225\u001b[0m - \u001b[1mEpisode   200 | R: +1.0 | ε: 0.050\u001b[0m\n",
      "\u001b[32m2025-07-08 12:24:08.186\u001b[0m | \u001b[1mINFO    \u001b[0m | \u001b[36msrc.rl.tabular_q_learning\u001b[0m:\u001b[36mtrain\u001b[0m:\u001b[36m225\u001b[0m - \u001b[1mEpisode   225 | R: +1.0 | ε: 0.050\u001b[0m\n",
      "\u001b[32m2025-07-08 12:24:08.189\u001b[0m | \u001b[1mINFO    \u001b[0m | \u001b[36msrc.rl.tabular_q_learning\u001b[0m:\u001b[36mtrain\u001b[0m:\u001b[36m225\u001b[0m - \u001b[1mEpisode   250 | R: +1.0 | ε: 0.050\u001b[0m\n",
      "\u001b[32m2025-07-08 12:24:08.199\u001b[0m | \u001b[1mINFO    \u001b[0m | \u001b[36msrc.rl.tabular_q_learning\u001b[0m:\u001b[36mtrain\u001b[0m:\u001b[36m225\u001b[0m - \u001b[1mEpisode   275 | R: +1.0 | ε: 0.050\u001b[0m\n",
      "\u001b[32m2025-07-08 12:24:08.207\u001b[0m | \u001b[1mINFO    \u001b[0m | \u001b[36msrc.rl.tabular_q_learning\u001b[0m:\u001b[36mtrain\u001b[0m:\u001b[36m225\u001b[0m - \u001b[1mEpisode   300 | R: +1.0 | ε: 0.050\u001b[0m\n",
      "\u001b[32m2025-07-08 12:24:08.216\u001b[0m | \u001b[1mINFO    \u001b[0m | \u001b[36msrc.rl.tabular_q_learning\u001b[0m:\u001b[36mtrain\u001b[0m:\u001b[36m225\u001b[0m - \u001b[1mEpisode   325 | R: +1.0 | ε: 0.050\u001b[0m\n",
      "\u001b[32m2025-07-08 12:24:08.225\u001b[0m | \u001b[1mINFO    \u001b[0m | \u001b[36msrc.rl.tabular_q_learning\u001b[0m:\u001b[36mtrain\u001b[0m:\u001b[36m225\u001b[0m - \u001b[1mEpisode   350 | R: +1.0 | ε: 0.050\u001b[0m\n",
      "\u001b[32m2025-07-08 12:24:08.235\u001b[0m | \u001b[1mINFO    \u001b[0m | \u001b[36msrc.rl.tabular_q_learning\u001b[0m:\u001b[36mtrain\u001b[0m:\u001b[36m225\u001b[0m - \u001b[1mEpisode   375 | R: +1.0 | ε: 0.050\u001b[0m\n",
      "\u001b[32m2025-07-08 12:24:08.241\u001b[0m | \u001b[1mINFO    \u001b[0m | \u001b[36msrc.rl.tabular_q_learning\u001b[0m:\u001b[36mtrain\u001b[0m:\u001b[36m225\u001b[0m - \u001b[1mEpisode   400 | R: +1.0 | ε: 0.050\u001b[0m\n",
      "\u001b[32m2025-07-08 12:24:08.247\u001b[0m | \u001b[32m\u001b[1mSUCCESS \u001b[0m | \u001b[36msrc.rl.tabular_q_learning\u001b[0m:\u001b[36mtrain\u001b[0m:\u001b[36m236\u001b[0m - \u001b[32m\u001b[1mConverged at episode 418 after 0.14s\u001b[0m\n",
      "\u001b[32m2025-07-08 12:24:08.250\u001b[0m | \u001b[1mINFO    \u001b[0m | \u001b[36msrc.rl.tabular_q_learning\u001b[0m:\u001b[36mtrain\u001b[0m:\u001b[36m225\u001b[0m - \u001b[1mEpisode   425 | R: +1.0 | ε: 0.050\u001b[0m\n",
      "\u001b[32m2025-07-08 12:24:08.257\u001b[0m | \u001b[1mINFO    \u001b[0m | \u001b[36msrc.rl.tabular_q_learning\u001b[0m:\u001b[36mtrain\u001b[0m:\u001b[36m225\u001b[0m - \u001b[1mEpisode   450 | R: +1.0 | ε: 0.050\u001b[0m\n",
      "\u001b[32m2025-07-08 12:24:08.263\u001b[0m | \u001b[1mINFO    \u001b[0m | \u001b[36msrc.rl.tabular_q_learning\u001b[0m:\u001b[36mtrain\u001b[0m:\u001b[36m225\u001b[0m - \u001b[1mEpisode   475 | R: +1.0 | ε: 0.050\u001b[0m\n",
      "\u001b[32m2025-07-08 12:24:08.271\u001b[0m | \u001b[1mINFO    \u001b[0m | \u001b[36msrc.rl.tabular_q_learning\u001b[0m:\u001b[36mtrain\u001b[0m:\u001b[36m225\u001b[0m - \u001b[1mEpisode   500 | R: +1.0 | ε: 0.050\u001b[0m\n"
     ]
    },
    {
     "data": {
      "text/html": [],
      "text/plain": [
       "<IPython.core.display.HTML object>"
      ]
     },
     "metadata": {},
     "output_type": "display_data"
    },
    {
     "data": {
      "text/html": [
       "<br>    <style><br>        .wandb-row {<br>            display: flex;<br>            flex-direction: row;<br>            flex-wrap: wrap;<br>            justify-content: flex-start;<br>            width: 100%;<br>        }<br>        .wandb-col {<br>            display: flex;<br>            flex-direction: column;<br>            flex-basis: 100%;<br>            flex: 1;<br>            padding: 10px;<br>        }<br>    </style><br><div class=\"wandb-row\"><div class=\"wandb-col\"><h3>Run history:</h3><br/><table class=\"wandb\"><tr><td>best_reward</td><td>▁</td></tr><tr><td>converged_episode</td><td>▁</td></tr><tr><td>train_time_sec</td><td>▁</td></tr></table><br/></div><div class=\"wandb-col\"><h3>Run summary:</h3><br/><table class=\"wandb\"><tr><td>best_reward</td><td>1</td></tr><tr><td>converged_episode</td><td>418</td></tr><tr><td>train_time_sec</td><td>0.13783</td></tr></table><br/></div></div>"
      ],
      "text/plain": [
       "<IPython.core.display.HTML object>"
      ]
     },
     "metadata": {},
     "output_type": "display_data"
    },
    {
     "data": {
      "text/html": [
       " View run <strong style=\"color:#cdcd00\">celestial-sweep-14</strong> at: <a href='https://wandb.ai/nightly/montyhall-ql/runs/d1y8tb68' target=\"_blank\">https://wandb.ai/nightly/montyhall-ql/runs/d1y8tb68</a><br> View project at: <a href='https://wandb.ai/nightly/montyhall-ql' target=\"_blank\">https://wandb.ai/nightly/montyhall-ql</a><br>Synced 5 W&B file(s), 0 media file(s), 0 artifact file(s) and 0 other file(s)"
      ],
      "text/plain": [
       "<IPython.core.display.HTML object>"
      ]
     },
     "metadata": {},
     "output_type": "display_data"
    },
    {
     "data": {
      "text/html": [
       "Find logs at: <code>.\\wandb\\run-20250708_122407-d1y8tb68\\logs</code>"
      ],
      "text/plain": [
       "<IPython.core.display.HTML object>"
      ]
     },
     "metadata": {},
     "output_type": "display_data"
    },
    {
     "name": "stderr",
     "output_type": "stream",
     "text": [
      "\u001b[34m\u001b[1mwandb\u001b[0m: Agent Starting Run: 6ku4qa7p with config:\n",
      "\u001b[34m\u001b[1mwandb\u001b[0m: \tdiscount_factor: 0.8712216991287207\n",
      "\u001b[34m\u001b[1mwandb\u001b[0m: \tepsilon_decay: 0.9931993235919048\n",
      "\u001b[34m\u001b[1mwandb\u001b[0m: \tlearning_rate: 0.0004318870241730845\n"
     ]
    },
    {
     "data": {
      "text/html": [
       "Ignoring project 'montyhall-ql' when running a sweep."
      ],
      "text/plain": [
       "<IPython.core.display.HTML object>"
      ]
     },
     "metadata": {},
     "output_type": "display_data"
    },
    {
     "data": {
      "text/html": [
       "Tracking run with wandb version 0.19.11"
      ],
      "text/plain": [
       "<IPython.core.display.HTML object>"
      ]
     },
     "metadata": {},
     "output_type": "display_data"
    },
    {
     "data": {
      "text/html": [
       "Run data is saved locally in <code>c:\\Projects\\amethyst\\Solving-Combinatorial-Problems-using-Reinforcement-Learning\\wandb\\run-20250708_122412-6ku4qa7p</code>"
      ],
      "text/plain": [
       "<IPython.core.display.HTML object>"
      ]
     },
     "metadata": {},
     "output_type": "display_data"
    },
    {
     "data": {
      "text/html": [
       "Syncing run <strong><a href='https://wandb.ai/nightly/montyhall-ql/runs/6ku4qa7p' target=\"_blank\">astral-sweep-15</a></strong> to <a href='https://wandb.ai/nightly/montyhall-ql' target=\"_blank\">Weights & Biases</a> (<a href='https://wandb.me/developer-guide' target=\"_blank\">docs</a>)<br>Sweep page: <a href='https://wandb.ai/nightly/montyhall-ql/sweeps/y9nid08r' target=\"_blank\">https://wandb.ai/nightly/montyhall-ql/sweeps/y9nid08r</a>"
      ],
      "text/plain": [
       "<IPython.core.display.HTML object>"
      ]
     },
     "metadata": {},
     "output_type": "display_data"
    },
    {
     "data": {
      "text/html": [
       " View project at <a href='https://wandb.ai/nightly/montyhall-ql' target=\"_blank\">https://wandb.ai/nightly/montyhall-ql</a>"
      ],
      "text/plain": [
       "<IPython.core.display.HTML object>"
      ]
     },
     "metadata": {},
     "output_type": "display_data"
    },
    {
     "data": {
      "text/html": [
       " View sweep at <a href='https://wandb.ai/nightly/montyhall-ql/sweeps/y9nid08r' target=\"_blank\">https://wandb.ai/nightly/montyhall-ql/sweeps/y9nid08r</a>"
      ],
      "text/plain": [
       "<IPython.core.display.HTML object>"
      ]
     },
     "metadata": {},
     "output_type": "display_data"
    },
    {
     "data": {
      "text/html": [
       " View run at <a href='https://wandb.ai/nightly/montyhall-ql/runs/6ku4qa7p' target=\"_blank\">https://wandb.ai/nightly/montyhall-ql/runs/6ku4qa7p</a>"
      ],
      "text/plain": [
       "<IPython.core.display.HTML object>"
      ]
     },
     "metadata": {},
     "output_type": "display_data"
    },
    {
     "name": "stderr",
     "output_type": "stream",
     "text": [
      "\u001b[32m2025-07-08 12:24:13.470\u001b[0m | \u001b[1mINFO    \u001b[0m | \u001b[36msrc.rl.tabular_q_learning\u001b[0m:\u001b[36mtrain\u001b[0m:\u001b[36m225\u001b[0m - \u001b[1mEpisode    25 | R: +1.0 | ε: 0.843\u001b[0m\n",
      "\u001b[32m2025-07-08 12:24:13.477\u001b[0m | \u001b[1mINFO    \u001b[0m | \u001b[36msrc.rl.tabular_q_learning\u001b[0m:\u001b[36mtrain\u001b[0m:\u001b[36m225\u001b[0m - \u001b[1mEpisode    50 | R: +1.0 | ε: 0.711\u001b[0m\n",
      "\u001b[32m2025-07-08 12:24:13.484\u001b[0m | \u001b[1mINFO    \u001b[0m | \u001b[36msrc.rl.tabular_q_learning\u001b[0m:\u001b[36mtrain\u001b[0m:\u001b[36m225\u001b[0m - \u001b[1mEpisode    75 | R: +0.0 | ε: 0.599\u001b[0m\n",
      "\u001b[32m2025-07-08 12:24:13.492\u001b[0m | \u001b[1mINFO    \u001b[0m | \u001b[36msrc.rl.tabular_q_learning\u001b[0m:\u001b[36mtrain\u001b[0m:\u001b[36m225\u001b[0m - \u001b[1mEpisode   100 | R: +1.0 | ε: 0.505\u001b[0m\n",
      "\u001b[32m2025-07-08 12:24:13.499\u001b[0m | \u001b[1mINFO    \u001b[0m | \u001b[36msrc.rl.tabular_q_learning\u001b[0m:\u001b[36mtrain\u001b[0m:\u001b[36m225\u001b[0m - \u001b[1mEpisode   125 | R: +1.0 | ε: 0.426\u001b[0m\n",
      "\u001b[32m2025-07-08 12:24:13.508\u001b[0m | \u001b[1mINFO    \u001b[0m | \u001b[36msrc.rl.tabular_q_learning\u001b[0m:\u001b[36mtrain\u001b[0m:\u001b[36m225\u001b[0m - \u001b[1mEpisode   150 | R: +1.0 | ε: 0.359\u001b[0m\n",
      "\u001b[32m2025-07-08 12:24:13.518\u001b[0m | \u001b[1mINFO    \u001b[0m | \u001b[36msrc.rl.tabular_q_learning\u001b[0m:\u001b[36mtrain\u001b[0m:\u001b[36m225\u001b[0m - \u001b[1mEpisode   175 | R: +1.0 | ε: 0.303\u001b[0m\n",
      "\u001b[32m2025-07-08 12:24:13.527\u001b[0m | \u001b[1mINFO    \u001b[0m | \u001b[36msrc.rl.tabular_q_learning\u001b[0m:\u001b[36mtrain\u001b[0m:\u001b[36m225\u001b[0m - \u001b[1mEpisode   200 | R: +1.0 | ε: 0.255\u001b[0m\n",
      "\u001b[32m2025-07-08 12:24:13.538\u001b[0m | \u001b[1mINFO    \u001b[0m | \u001b[36msrc.rl.tabular_q_learning\u001b[0m:\u001b[36mtrain\u001b[0m:\u001b[36m225\u001b[0m - \u001b[1mEpisode   225 | R: +1.0 | ε: 0.215\u001b[0m\n",
      "\u001b[32m2025-07-08 12:24:13.546\u001b[0m | \u001b[1mINFO    \u001b[0m | \u001b[36msrc.rl.tabular_q_learning\u001b[0m:\u001b[36mtrain\u001b[0m:\u001b[36m225\u001b[0m - \u001b[1mEpisode   250 | R: +1.0 | ε: 0.182\u001b[0m\n",
      "\u001b[32m2025-07-08 12:24:13.553\u001b[0m | \u001b[1mINFO    \u001b[0m | \u001b[36msrc.rl.tabular_q_learning\u001b[0m:\u001b[36mtrain\u001b[0m:\u001b[36m225\u001b[0m - \u001b[1mEpisode   275 | R: +1.0 | ε: 0.153\u001b[0m\n",
      "\u001b[32m2025-07-08 12:24:13.561\u001b[0m | \u001b[1mINFO    \u001b[0m | \u001b[36msrc.rl.tabular_q_learning\u001b[0m:\u001b[36mtrain\u001b[0m:\u001b[36m225\u001b[0m - \u001b[1mEpisode   300 | R: +1.0 | ε: 0.129\u001b[0m\n",
      "\u001b[32m2025-07-08 12:24:13.570\u001b[0m | \u001b[1mINFO    \u001b[0m | \u001b[36msrc.rl.tabular_q_learning\u001b[0m:\u001b[36mtrain\u001b[0m:\u001b[36m225\u001b[0m - \u001b[1mEpisode   325 | R: +1.0 | ε: 0.109\u001b[0m\n",
      "\u001b[32m2025-07-08 12:24:13.578\u001b[0m | \u001b[1mINFO    \u001b[0m | \u001b[36msrc.rl.tabular_q_learning\u001b[0m:\u001b[36mtrain\u001b[0m:\u001b[36m225\u001b[0m - \u001b[1mEpisode   350 | R: +1.0 | ε: 0.092\u001b[0m\n",
      "\u001b[32m2025-07-08 12:24:13.585\u001b[0m | \u001b[1mINFO    \u001b[0m | \u001b[36msrc.rl.tabular_q_learning\u001b[0m:\u001b[36mtrain\u001b[0m:\u001b[36m225\u001b[0m - \u001b[1mEpisode   375 | R: +1.0 | ε: 0.077\u001b[0m\n",
      "\u001b[32m2025-07-08 12:24:13.596\u001b[0m | \u001b[1mINFO    \u001b[0m | \u001b[36msrc.rl.tabular_q_learning\u001b[0m:\u001b[36mtrain\u001b[0m:\u001b[36m225\u001b[0m - \u001b[1mEpisode   400 | R: +1.0 | ε: 0.065\u001b[0m\n",
      "\u001b[32m2025-07-08 12:24:13.604\u001b[0m | \u001b[1mINFO    \u001b[0m | \u001b[36msrc.rl.tabular_q_learning\u001b[0m:\u001b[36mtrain\u001b[0m:\u001b[36m225\u001b[0m - \u001b[1mEpisode   425 | R: +1.0 | ε: 0.055\u001b[0m\n",
      "\u001b[32m2025-07-08 12:24:13.611\u001b[0m | \u001b[1mINFO    \u001b[0m | \u001b[36msrc.rl.tabular_q_learning\u001b[0m:\u001b[36mtrain\u001b[0m:\u001b[36m225\u001b[0m - \u001b[1mEpisode   450 | R: +1.0 | ε: 0.050\u001b[0m\n",
      "\u001b[32m2025-07-08 12:24:13.618\u001b[0m | \u001b[1mINFO    \u001b[0m | \u001b[36msrc.rl.tabular_q_learning\u001b[0m:\u001b[36mtrain\u001b[0m:\u001b[36m225\u001b[0m - \u001b[1mEpisode   475 | R: +1.0 | ε: 0.050\u001b[0m\n",
      "\u001b[32m2025-07-08 12:24:13.627\u001b[0m | \u001b[1mINFO    \u001b[0m | \u001b[36msrc.rl.tabular_q_learning\u001b[0m:\u001b[36mtrain\u001b[0m:\u001b[36m225\u001b[0m - \u001b[1mEpisode   500 | R: +1.0 | ε: 0.050\u001b[0m\n"
     ]
    },
    {
     "data": {
      "text/html": [],
      "text/plain": [
       "<IPython.core.display.HTML object>"
      ]
     },
     "metadata": {},
     "output_type": "display_data"
    },
    {
     "data": {
      "text/html": [
       "<br>    <style><br>        .wandb-row {<br>            display: flex;<br>            flex-direction: row;<br>            flex-wrap: wrap;<br>            justify-content: flex-start;<br>            width: 100%;<br>        }<br>        .wandb-col {<br>            display: flex;<br>            flex-direction: column;<br>            flex-basis: 100%;<br>            flex: 1;<br>            padding: 10px;<br>        }<br>    </style><br><div class=\"wandb-row\"><div class=\"wandb-col\"><h3>Run history:</h3><br/><table class=\"wandb\"><tr><td>best_reward</td><td>▁</td></tr><tr><td>converged_episode</td><td>▁</td></tr><tr><td>train_time_sec</td><td>▁</td></tr></table><br/></div><div class=\"wandb-col\"><h3>Run summary:</h3><br/><table class=\"wandb\"><tr><td>best_reward</td><td>1</td></tr><tr><td>converged_episode</td><td>-1</td></tr><tr><td>train_time_sec</td><td>0</td></tr></table><br/></div></div>"
      ],
      "text/plain": [
       "<IPython.core.display.HTML object>"
      ]
     },
     "metadata": {},
     "output_type": "display_data"
    },
    {
     "data": {
      "text/html": [
       " View run <strong style=\"color:#cdcd00\">astral-sweep-15</strong> at: <a href='https://wandb.ai/nightly/montyhall-ql/runs/6ku4qa7p' target=\"_blank\">https://wandb.ai/nightly/montyhall-ql/runs/6ku4qa7p</a><br> View project at: <a href='https://wandb.ai/nightly/montyhall-ql' target=\"_blank\">https://wandb.ai/nightly/montyhall-ql</a><br>Synced 5 W&B file(s), 0 media file(s), 0 artifact file(s) and 0 other file(s)"
      ],
      "text/plain": [
       "<IPython.core.display.HTML object>"
      ]
     },
     "metadata": {},
     "output_type": "display_data"
    },
    {
     "data": {
      "text/html": [
       "Find logs at: <code>.\\wandb\\run-20250708_122412-6ku4qa7p\\logs</code>"
      ],
      "text/plain": [
       "<IPython.core.display.HTML object>"
      ]
     },
     "metadata": {},
     "output_type": "display_data"
    },
    {
     "name": "stderr",
     "output_type": "stream",
     "text": [
      "\u001b[34m\u001b[1mwandb\u001b[0m: Agent Starting Run: pe7mqwoq with config:\n",
      "\u001b[34m\u001b[1mwandb\u001b[0m: \tdiscount_factor: 0.9898668351660084\n",
      "\u001b[34m\u001b[1mwandb\u001b[0m: \tepsilon_decay: 0.99491637281278\n",
      "\u001b[34m\u001b[1mwandb\u001b[0m: \tlearning_rate: 0.005828978567889354\n"
     ]
    },
    {
     "data": {
      "text/html": [
       "Ignoring project 'montyhall-ql' when running a sweep."
      ],
      "text/plain": [
       "<IPython.core.display.HTML object>"
      ]
     },
     "metadata": {},
     "output_type": "display_data"
    },
    {
     "data": {
      "text/html": [
       "Tracking run with wandb version 0.19.11"
      ],
      "text/plain": [
       "<IPython.core.display.HTML object>"
      ]
     },
     "metadata": {},
     "output_type": "display_data"
    },
    {
     "data": {
      "text/html": [
       "Run data is saved locally in <code>c:\\Projects\\amethyst\\Solving-Combinatorial-Problems-using-Reinforcement-Learning\\wandb\\run-20250708_122418-pe7mqwoq</code>"
      ],
      "text/plain": [
       "<IPython.core.display.HTML object>"
      ]
     },
     "metadata": {},
     "output_type": "display_data"
    },
    {
     "data": {
      "text/html": [
       "Syncing run <strong><a href='https://wandb.ai/nightly/montyhall-ql/runs/pe7mqwoq' target=\"_blank\">skilled-sweep-16</a></strong> to <a href='https://wandb.ai/nightly/montyhall-ql' target=\"_blank\">Weights & Biases</a> (<a href='https://wandb.me/developer-guide' target=\"_blank\">docs</a>)<br>Sweep page: <a href='https://wandb.ai/nightly/montyhall-ql/sweeps/y9nid08r' target=\"_blank\">https://wandb.ai/nightly/montyhall-ql/sweeps/y9nid08r</a>"
      ],
      "text/plain": [
       "<IPython.core.display.HTML object>"
      ]
     },
     "metadata": {},
     "output_type": "display_data"
    },
    {
     "data": {
      "text/html": [
       " View project at <a href='https://wandb.ai/nightly/montyhall-ql' target=\"_blank\">https://wandb.ai/nightly/montyhall-ql</a>"
      ],
      "text/plain": [
       "<IPython.core.display.HTML object>"
      ]
     },
     "metadata": {},
     "output_type": "display_data"
    },
    {
     "data": {
      "text/html": [
       " View sweep at <a href='https://wandb.ai/nightly/montyhall-ql/sweeps/y9nid08r' target=\"_blank\">https://wandb.ai/nightly/montyhall-ql/sweeps/y9nid08r</a>"
      ],
      "text/plain": [
       "<IPython.core.display.HTML object>"
      ]
     },
     "metadata": {},
     "output_type": "display_data"
    },
    {
     "data": {
      "text/html": [
       " View run at <a href='https://wandb.ai/nightly/montyhall-ql/runs/pe7mqwoq' target=\"_blank\">https://wandb.ai/nightly/montyhall-ql/runs/pe7mqwoq</a>"
      ],
      "text/plain": [
       "<IPython.core.display.HTML object>"
      ]
     },
     "metadata": {},
     "output_type": "display_data"
    },
    {
     "name": "stderr",
     "output_type": "stream",
     "text": [
      "\u001b[32m2025-07-08 12:24:18.656\u001b[0m | \u001b[1mINFO    \u001b[0m | \u001b[36msrc.rl.tabular_q_learning\u001b[0m:\u001b[36mtrain\u001b[0m:\u001b[36m225\u001b[0m - \u001b[1mEpisode    25 | R: +0.0 | ε: 0.880\u001b[0m\n",
      "\u001b[32m2025-07-08 12:24:18.663\u001b[0m | \u001b[1mINFO    \u001b[0m | \u001b[36msrc.rl.tabular_q_learning\u001b[0m:\u001b[36mtrain\u001b[0m:\u001b[36m225\u001b[0m - \u001b[1mEpisode    50 | R: +1.0 | ε: 0.775\u001b[0m\n",
      "\u001b[32m2025-07-08 12:24:18.670\u001b[0m | \u001b[1mINFO    \u001b[0m | \u001b[36msrc.rl.tabular_q_learning\u001b[0m:\u001b[36mtrain\u001b[0m:\u001b[36m225\u001b[0m - \u001b[1mEpisode    75 | R: +0.0 | ε: 0.682\u001b[0m\n",
      "\u001b[32m2025-07-08 12:24:18.675\u001b[0m | \u001b[1mINFO    \u001b[0m | \u001b[36msrc.rl.tabular_q_learning\u001b[0m:\u001b[36mtrain\u001b[0m:\u001b[36m225\u001b[0m - \u001b[1mEpisode   100 | R: +1.0 | ε: 0.601\u001b[0m\n",
      "\u001b[32m2025-07-08 12:24:18.680\u001b[0m | \u001b[1mINFO    \u001b[0m | \u001b[36msrc.rl.tabular_q_learning\u001b[0m:\u001b[36mtrain\u001b[0m:\u001b[36m225\u001b[0m - \u001b[1mEpisode   125 | R: +0.0 | ε: 0.529\u001b[0m\n",
      "\u001b[32m2025-07-08 12:24:18.690\u001b[0m | \u001b[1mINFO    \u001b[0m | \u001b[36msrc.rl.tabular_q_learning\u001b[0m:\u001b[36mtrain\u001b[0m:\u001b[36m225\u001b[0m - \u001b[1mEpisode   150 | R: +1.0 | ε: 0.466\u001b[0m\n",
      "\u001b[32m2025-07-08 12:24:18.698\u001b[0m | \u001b[1mINFO    \u001b[0m | \u001b[36msrc.rl.tabular_q_learning\u001b[0m:\u001b[36mtrain\u001b[0m:\u001b[36m225\u001b[0m - \u001b[1mEpisode   175 | R: +1.0 | ε: 0.410\u001b[0m\n",
      "\u001b[32m2025-07-08 12:24:18.702\u001b[0m | \u001b[1mINFO    \u001b[0m | \u001b[36msrc.rl.tabular_q_learning\u001b[0m:\u001b[36mtrain\u001b[0m:\u001b[36m225\u001b[0m - \u001b[1mEpisode   200 | R: +1.0 | ε: 0.361\u001b[0m\n",
      "\u001b[32m2025-07-08 12:24:18.707\u001b[0m | \u001b[1mINFO    \u001b[0m | \u001b[36msrc.rl.tabular_q_learning\u001b[0m:\u001b[36mtrain\u001b[0m:\u001b[36m225\u001b[0m - \u001b[1mEpisode   225 | R: +1.0 | ε: 0.318\u001b[0m\n",
      "\u001b[32m2025-07-08 12:24:18.716\u001b[0m | \u001b[1mINFO    \u001b[0m | \u001b[36msrc.rl.tabular_q_learning\u001b[0m:\u001b[36mtrain\u001b[0m:\u001b[36m225\u001b[0m - \u001b[1mEpisode   250 | R: +1.0 | ε: 0.280\u001b[0m\n",
      "\u001b[32m2025-07-08 12:24:18.722\u001b[0m | \u001b[1mINFO    \u001b[0m | \u001b[36msrc.rl.tabular_q_learning\u001b[0m:\u001b[36mtrain\u001b[0m:\u001b[36m225\u001b[0m - \u001b[1mEpisode   275 | R: +1.0 | ε: 0.246\u001b[0m\n",
      "\u001b[32m2025-07-08 12:24:18.730\u001b[0m | \u001b[1mINFO    \u001b[0m | \u001b[36msrc.rl.tabular_q_learning\u001b[0m:\u001b[36mtrain\u001b[0m:\u001b[36m225\u001b[0m - \u001b[1mEpisode   300 | R: +1.0 | ε: 0.217\u001b[0m\n",
      "\u001b[32m2025-07-08 12:24:18.739\u001b[0m | \u001b[1mINFO    \u001b[0m | \u001b[36msrc.rl.tabular_q_learning\u001b[0m:\u001b[36mtrain\u001b[0m:\u001b[36m225\u001b[0m - \u001b[1mEpisode   325 | R: +1.0 | ε: 0.191\u001b[0m\n",
      "\u001b[32m2025-07-08 12:24:18.743\u001b[0m | \u001b[1mINFO    \u001b[0m | \u001b[36msrc.rl.tabular_q_learning\u001b[0m:\u001b[36mtrain\u001b[0m:\u001b[36m225\u001b[0m - \u001b[1mEpisode   350 | R: +1.0 | ε: 0.168\u001b[0m\n",
      "\u001b[32m2025-07-08 12:24:18.752\u001b[0m | \u001b[1mINFO    \u001b[0m | \u001b[36msrc.rl.tabular_q_learning\u001b[0m:\u001b[36mtrain\u001b[0m:\u001b[36m225\u001b[0m - \u001b[1mEpisode   375 | R: +1.0 | ε: 0.148\u001b[0m\n",
      "\u001b[32m2025-07-08 12:24:18.757\u001b[0m | \u001b[1mINFO    \u001b[0m | \u001b[36msrc.rl.tabular_q_learning\u001b[0m:\u001b[36mtrain\u001b[0m:\u001b[36m225\u001b[0m - \u001b[1mEpisode   400 | R: +1.0 | ε: 0.130\u001b[0m\n",
      "\u001b[32m2025-07-08 12:24:18.765\u001b[0m | \u001b[1mINFO    \u001b[0m | \u001b[36msrc.rl.tabular_q_learning\u001b[0m:\u001b[36mtrain\u001b[0m:\u001b[36m225\u001b[0m - \u001b[1mEpisode   425 | R: +1.0 | ε: 0.115\u001b[0m\n",
      "\u001b[32m2025-07-08 12:24:18.771\u001b[0m | \u001b[1mINFO    \u001b[0m | \u001b[36msrc.rl.tabular_q_learning\u001b[0m:\u001b[36mtrain\u001b[0m:\u001b[36m225\u001b[0m - \u001b[1mEpisode   450 | R: +1.0 | ε: 0.101\u001b[0m\n",
      "\u001b[32m2025-07-08 12:24:18.774\u001b[0m | \u001b[1mINFO    \u001b[0m | \u001b[36msrc.rl.tabular_q_learning\u001b[0m:\u001b[36mtrain\u001b[0m:\u001b[36m225\u001b[0m - \u001b[1mEpisode   475 | R: +1.0 | ε: 0.089\u001b[0m\n",
      "\u001b[32m2025-07-08 12:24:18.781\u001b[0m | \u001b[1mINFO    \u001b[0m | \u001b[36msrc.rl.tabular_q_learning\u001b[0m:\u001b[36mtrain\u001b[0m:\u001b[36m225\u001b[0m - \u001b[1mEpisode   500 | R: +1.0 | ε: 0.078\u001b[0m\n"
     ]
    },
    {
     "data": {
      "text/html": [],
      "text/plain": [
       "<IPython.core.display.HTML object>"
      ]
     },
     "metadata": {},
     "output_type": "display_data"
    },
    {
     "data": {
      "text/html": [
       "<br>    <style><br>        .wandb-row {<br>            display: flex;<br>            flex-direction: row;<br>            flex-wrap: wrap;<br>            justify-content: flex-start;<br>            width: 100%;<br>        }<br>        .wandb-col {<br>            display: flex;<br>            flex-direction: column;<br>            flex-basis: 100%;<br>            flex: 1;<br>            padding: 10px;<br>        }<br>    </style><br><div class=\"wandb-row\"><div class=\"wandb-col\"><h3>Run history:</h3><br/><table class=\"wandb\"><tr><td>best_reward</td><td>▁</td></tr><tr><td>converged_episode</td><td>▁</td></tr><tr><td>train_time_sec</td><td>▁</td></tr></table><br/></div><div class=\"wandb-col\"><h3>Run summary:</h3><br/><table class=\"wandb\"><tr><td>best_reward</td><td>1</td></tr><tr><td>converged_episode</td><td>-1</td></tr><tr><td>train_time_sec</td><td>0</td></tr></table><br/></div></div>"
      ],
      "text/plain": [
       "<IPython.core.display.HTML object>"
      ]
     },
     "metadata": {},
     "output_type": "display_data"
    },
    {
     "data": {
      "text/html": [
       " View run <strong style=\"color:#cdcd00\">skilled-sweep-16</strong> at: <a href='https://wandb.ai/nightly/montyhall-ql/runs/pe7mqwoq' target=\"_blank\">https://wandb.ai/nightly/montyhall-ql/runs/pe7mqwoq</a><br> View project at: <a href='https://wandb.ai/nightly/montyhall-ql' target=\"_blank\">https://wandb.ai/nightly/montyhall-ql</a><br>Synced 5 W&B file(s), 0 media file(s), 0 artifact file(s) and 0 other file(s)"
      ],
      "text/plain": [
       "<IPython.core.display.HTML object>"
      ]
     },
     "metadata": {},
     "output_type": "display_data"
    },
    {
     "data": {
      "text/html": [
       "Find logs at: <code>.\\wandb\\run-20250708_122418-pe7mqwoq\\logs</code>"
      ],
      "text/plain": [
       "<IPython.core.display.HTML object>"
      ]
     },
     "metadata": {},
     "output_type": "display_data"
    },
    {
     "name": "stderr",
     "output_type": "stream",
     "text": [
      "\u001b[34m\u001b[1mwandb\u001b[0m: Agent Starting Run: 5fe93kxf with config:\n",
      "\u001b[34m\u001b[1mwandb\u001b[0m: \tdiscount_factor: 0.8326985049703338\n",
      "\u001b[34m\u001b[1mwandb\u001b[0m: \tepsilon_decay: 0.9851499781268076\n",
      "\u001b[34m\u001b[1mwandb\u001b[0m: \tlearning_rate: 0.0032155847535190185\n"
     ]
    },
    {
     "data": {
      "text/html": [
       "Ignoring project 'montyhall-ql' when running a sweep."
      ],
      "text/plain": [
       "<IPython.core.display.HTML object>"
      ]
     },
     "metadata": {},
     "output_type": "display_data"
    },
    {
     "data": {
      "text/html": [
       "Tracking run with wandb version 0.19.11"
      ],
      "text/plain": [
       "<IPython.core.display.HTML object>"
      ]
     },
     "metadata": {},
     "output_type": "display_data"
    },
    {
     "data": {
      "text/html": [
       "Run data is saved locally in <code>c:\\Projects\\amethyst\\Solving-Combinatorial-Problems-using-Reinforcement-Learning\\wandb\\run-20250708_122423-5fe93kxf</code>"
      ],
      "text/plain": [
       "<IPython.core.display.HTML object>"
      ]
     },
     "metadata": {},
     "output_type": "display_data"
    },
    {
     "data": {
      "text/html": [
       "Syncing run <strong><a href='https://wandb.ai/nightly/montyhall-ql/runs/5fe93kxf' target=\"_blank\">glad-sweep-17</a></strong> to <a href='https://wandb.ai/nightly/montyhall-ql' target=\"_blank\">Weights & Biases</a> (<a href='https://wandb.me/developer-guide' target=\"_blank\">docs</a>)<br>Sweep page: <a href='https://wandb.ai/nightly/montyhall-ql/sweeps/y9nid08r' target=\"_blank\">https://wandb.ai/nightly/montyhall-ql/sweeps/y9nid08r</a>"
      ],
      "text/plain": [
       "<IPython.core.display.HTML object>"
      ]
     },
     "metadata": {},
     "output_type": "display_data"
    },
    {
     "data": {
      "text/html": [
       " View project at <a href='https://wandb.ai/nightly/montyhall-ql' target=\"_blank\">https://wandb.ai/nightly/montyhall-ql</a>"
      ],
      "text/plain": [
       "<IPython.core.display.HTML object>"
      ]
     },
     "metadata": {},
     "output_type": "display_data"
    },
    {
     "data": {
      "text/html": [
       " View sweep at <a href='https://wandb.ai/nightly/montyhall-ql/sweeps/y9nid08r' target=\"_blank\">https://wandb.ai/nightly/montyhall-ql/sweeps/y9nid08r</a>"
      ],
      "text/plain": [
       "<IPython.core.display.HTML object>"
      ]
     },
     "metadata": {},
     "output_type": "display_data"
    },
    {
     "data": {
      "text/html": [
       " View run at <a href='https://wandb.ai/nightly/montyhall-ql/runs/5fe93kxf' target=\"_blank\">https://wandb.ai/nightly/montyhall-ql/runs/5fe93kxf</a>"
      ],
      "text/plain": [
       "<IPython.core.display.HTML object>"
      ]
     },
     "metadata": {},
     "output_type": "display_data"
    },
    {
     "name": "stderr",
     "output_type": "stream",
     "text": [
      "\u001b[32m2025-07-08 12:24:23.762\u001b[0m | \u001b[1mINFO    \u001b[0m | \u001b[36msrc.rl.tabular_q_learning\u001b[0m:\u001b[36mtrain\u001b[0m:\u001b[36m225\u001b[0m - \u001b[1mEpisode    25 | R: +0.0 | ε: 0.688\u001b[0m\n",
      "\u001b[32m2025-07-08 12:24:23.769\u001b[0m | \u001b[1mINFO    \u001b[0m | \u001b[36msrc.rl.tabular_q_learning\u001b[0m:\u001b[36mtrain\u001b[0m:\u001b[36m225\u001b[0m - \u001b[1mEpisode    50 | R: +1.0 | ε: 0.473\u001b[0m\n",
      "\u001b[32m2025-07-08 12:24:23.774\u001b[0m | \u001b[1mINFO    \u001b[0m | \u001b[36msrc.rl.tabular_q_learning\u001b[0m:\u001b[36mtrain\u001b[0m:\u001b[36m225\u001b[0m - \u001b[1mEpisode    75 | R: +0.0 | ε: 0.326\u001b[0m\n",
      "\u001b[32m2025-07-08 12:24:23.777\u001b[0m | \u001b[1mINFO    \u001b[0m | \u001b[36msrc.rl.tabular_q_learning\u001b[0m:\u001b[36mtrain\u001b[0m:\u001b[36m225\u001b[0m - \u001b[1mEpisode   100 | R: +1.0 | ε: 0.224\u001b[0m\n",
      "\u001b[32m2025-07-08 12:24:23.785\u001b[0m | \u001b[1mINFO    \u001b[0m | \u001b[36msrc.rl.tabular_q_learning\u001b[0m:\u001b[36mtrain\u001b[0m:\u001b[36m225\u001b[0m - \u001b[1mEpisode   125 | R: +1.0 | ε: 0.154\u001b[0m\n",
      "\u001b[32m2025-07-08 12:24:23.789\u001b[0m | \u001b[1mINFO    \u001b[0m | \u001b[36msrc.rl.tabular_q_learning\u001b[0m:\u001b[36mtrain\u001b[0m:\u001b[36m225\u001b[0m - \u001b[1mEpisode   150 | R: +1.0 | ε: 0.106\u001b[0m\n",
      "\u001b[32m2025-07-08 12:24:23.796\u001b[0m | \u001b[1mINFO    \u001b[0m | \u001b[36msrc.rl.tabular_q_learning\u001b[0m:\u001b[36mtrain\u001b[0m:\u001b[36m225\u001b[0m - \u001b[1mEpisode   175 | R: +1.0 | ε: 0.073\u001b[0m\n",
      "\u001b[32m2025-07-08 12:24:23.801\u001b[0m | \u001b[1mINFO    \u001b[0m | \u001b[36msrc.rl.tabular_q_learning\u001b[0m:\u001b[36mtrain\u001b[0m:\u001b[36m225\u001b[0m - \u001b[1mEpisode   200 | R: +1.0 | ε: 0.050\u001b[0m\n",
      "\u001b[32m2025-07-08 12:24:23.808\u001b[0m | \u001b[1mINFO    \u001b[0m | \u001b[36msrc.rl.tabular_q_learning\u001b[0m:\u001b[36mtrain\u001b[0m:\u001b[36m225\u001b[0m - \u001b[1mEpisode   225 | R: +1.0 | ε: 0.050\u001b[0m\n",
      "\u001b[32m2025-07-08 12:24:23.816\u001b[0m | \u001b[1mINFO    \u001b[0m | \u001b[36msrc.rl.tabular_q_learning\u001b[0m:\u001b[36mtrain\u001b[0m:\u001b[36m225\u001b[0m - \u001b[1mEpisode   250 | R: +1.0 | ε: 0.050\u001b[0m\n",
      "\u001b[32m2025-07-08 12:24:23.816\u001b[0m | \u001b[1mINFO    \u001b[0m | \u001b[36msrc.rl.tabular_q_learning\u001b[0m:\u001b[36mtrain\u001b[0m:\u001b[36m225\u001b[0m - \u001b[1mEpisode   275 | R: +1.0 | ε: 0.050\u001b[0m\n",
      "\u001b[32m2025-07-08 12:24:23.829\u001b[0m | \u001b[1mINFO    \u001b[0m | \u001b[36msrc.rl.tabular_q_learning\u001b[0m:\u001b[36mtrain\u001b[0m:\u001b[36m225\u001b[0m - \u001b[1mEpisode   300 | R: +1.0 | ε: 0.050\u001b[0m\n",
      "\u001b[32m2025-07-08 12:24:23.836\u001b[0m | \u001b[1mINFO    \u001b[0m | \u001b[36msrc.rl.tabular_q_learning\u001b[0m:\u001b[36mtrain\u001b[0m:\u001b[36m225\u001b[0m - \u001b[1mEpisode   325 | R: +1.0 | ε: 0.050\u001b[0m\n",
      "\u001b[32m2025-07-08 12:24:23.844\u001b[0m | \u001b[1mINFO    \u001b[0m | \u001b[36msrc.rl.tabular_q_learning\u001b[0m:\u001b[36mtrain\u001b[0m:\u001b[36m225\u001b[0m - \u001b[1mEpisode   350 | R: +1.0 | ε: 0.050\u001b[0m\n",
      "\u001b[32m2025-07-08 12:24:23.850\u001b[0m | \u001b[32m\u001b[1mSUCCESS \u001b[0m | \u001b[36msrc.rl.tabular_q_learning\u001b[0m:\u001b[36mtrain\u001b[0m:\u001b[36m236\u001b[0m - \u001b[32m\u001b[1mConverged at episode 371 after 0.09s\u001b[0m\n",
      "\u001b[32m2025-07-08 12:24:23.851\u001b[0m | \u001b[1mINFO    \u001b[0m | \u001b[36msrc.rl.tabular_q_learning\u001b[0m:\u001b[36mtrain\u001b[0m:\u001b[36m225\u001b[0m - \u001b[1mEpisode   375 | R: +1.0 | ε: 0.050\u001b[0m\n",
      "\u001b[32m2025-07-08 12:24:23.856\u001b[0m | \u001b[1mINFO    \u001b[0m | \u001b[36msrc.rl.tabular_q_learning\u001b[0m:\u001b[36mtrain\u001b[0m:\u001b[36m225\u001b[0m - \u001b[1mEpisode   400 | R: +1.0 | ε: 0.050\u001b[0m\n",
      "\u001b[32m2025-07-08 12:24:23.859\u001b[0m | \u001b[1mINFO    \u001b[0m | \u001b[36msrc.rl.tabular_q_learning\u001b[0m:\u001b[36mtrain\u001b[0m:\u001b[36m225\u001b[0m - \u001b[1mEpisode   425 | R: +1.0 | ε: 0.050\u001b[0m\n",
      "\u001b[32m2025-07-08 12:24:23.865\u001b[0m | \u001b[1mINFO    \u001b[0m | \u001b[36msrc.rl.tabular_q_learning\u001b[0m:\u001b[36mtrain\u001b[0m:\u001b[36m225\u001b[0m - \u001b[1mEpisode   450 | R: +1.0 | ε: 0.050\u001b[0m\n",
      "\u001b[32m2025-07-08 12:24:23.869\u001b[0m | \u001b[1mINFO    \u001b[0m | \u001b[36msrc.rl.tabular_q_learning\u001b[0m:\u001b[36mtrain\u001b[0m:\u001b[36m225\u001b[0m - \u001b[1mEpisode   475 | R: +1.0 | ε: 0.050\u001b[0m\n",
      "\u001b[32m2025-07-08 12:24:23.874\u001b[0m | \u001b[1mINFO    \u001b[0m | \u001b[36msrc.rl.tabular_q_learning\u001b[0m:\u001b[36mtrain\u001b[0m:\u001b[36m225\u001b[0m - \u001b[1mEpisode   500 | R: +1.0 | ε: 0.050\u001b[0m\n"
     ]
    },
    {
     "data": {
      "text/html": [],
      "text/plain": [
       "<IPython.core.display.HTML object>"
      ]
     },
     "metadata": {},
     "output_type": "display_data"
    },
    {
     "data": {
      "text/html": [
       "<br>    <style><br>        .wandb-row {<br>            display: flex;<br>            flex-direction: row;<br>            flex-wrap: wrap;<br>            justify-content: flex-start;<br>            width: 100%;<br>        }<br>        .wandb-col {<br>            display: flex;<br>            flex-direction: column;<br>            flex-basis: 100%;<br>            flex: 1;<br>            padding: 10px;<br>        }<br>    </style><br><div class=\"wandb-row\"><div class=\"wandb-col\"><h3>Run history:</h3><br/><table class=\"wandb\"><tr><td>best_reward</td><td>▁</td></tr><tr><td>converged_episode</td><td>▁</td></tr><tr><td>train_time_sec</td><td>▁</td></tr></table><br/></div><div class=\"wandb-col\"><h3>Run summary:</h3><br/><table class=\"wandb\"><tr><td>best_reward</td><td>1</td></tr><tr><td>converged_episode</td><td>371</td></tr><tr><td>train_time_sec</td><td>0.09132</td></tr></table><br/></div></div>"
      ],
      "text/plain": [
       "<IPython.core.display.HTML object>"
      ]
     },
     "metadata": {},
     "output_type": "display_data"
    },
    {
     "data": {
      "text/html": [
       " View run <strong style=\"color:#cdcd00\">glad-sweep-17</strong> at: <a href='https://wandb.ai/nightly/montyhall-ql/runs/5fe93kxf' target=\"_blank\">https://wandb.ai/nightly/montyhall-ql/runs/5fe93kxf</a><br> View project at: <a href='https://wandb.ai/nightly/montyhall-ql' target=\"_blank\">https://wandb.ai/nightly/montyhall-ql</a><br>Synced 5 W&B file(s), 0 media file(s), 0 artifact file(s) and 0 other file(s)"
      ],
      "text/plain": [
       "<IPython.core.display.HTML object>"
      ]
     },
     "metadata": {},
     "output_type": "display_data"
    },
    {
     "data": {
      "text/html": [
       "Find logs at: <code>.\\wandb\\run-20250708_122423-5fe93kxf\\logs</code>"
      ],
      "text/plain": [
       "<IPython.core.display.HTML object>"
      ]
     },
     "metadata": {},
     "output_type": "display_data"
    },
    {
     "name": "stderr",
     "output_type": "stream",
     "text": [
      "\u001b[34m\u001b[1mwandb\u001b[0m: Agent Starting Run: 9351tm1q with config:\n",
      "\u001b[34m\u001b[1mwandb\u001b[0m: \tdiscount_factor: 0.998912635507164\n",
      "\u001b[34m\u001b[1mwandb\u001b[0m: \tepsilon_decay: 0.9857915696382678\n",
      "\u001b[34m\u001b[1mwandb\u001b[0m: \tlearning_rate: 0.003057198170426844\n"
     ]
    },
    {
     "data": {
      "text/html": [
       "Ignoring project 'montyhall-ql' when running a sweep."
      ],
      "text/plain": [
       "<IPython.core.display.HTML object>"
      ]
     },
     "metadata": {},
     "output_type": "display_data"
    },
    {
     "data": {
      "text/html": [
       "Tracking run with wandb version 0.19.11"
      ],
      "text/plain": [
       "<IPython.core.display.HTML object>"
      ]
     },
     "metadata": {},
     "output_type": "display_data"
    },
    {
     "data": {
      "text/html": [
       "Run data is saved locally in <code>c:\\Projects\\amethyst\\Solving-Combinatorial-Problems-using-Reinforcement-Learning\\wandb\\run-20250708_122428-9351tm1q</code>"
      ],
      "text/plain": [
       "<IPython.core.display.HTML object>"
      ]
     },
     "metadata": {},
     "output_type": "display_data"
    },
    {
     "data": {
      "text/html": [
       "Syncing run <strong><a href='https://wandb.ai/nightly/montyhall-ql/runs/9351tm1q' target=\"_blank\">breezy-sweep-18</a></strong> to <a href='https://wandb.ai/nightly/montyhall-ql' target=\"_blank\">Weights & Biases</a> (<a href='https://wandb.me/developer-guide' target=\"_blank\">docs</a>)<br>Sweep page: <a href='https://wandb.ai/nightly/montyhall-ql/sweeps/y9nid08r' target=\"_blank\">https://wandb.ai/nightly/montyhall-ql/sweeps/y9nid08r</a>"
      ],
      "text/plain": [
       "<IPython.core.display.HTML object>"
      ]
     },
     "metadata": {},
     "output_type": "display_data"
    },
    {
     "data": {
      "text/html": [
       " View project at <a href='https://wandb.ai/nightly/montyhall-ql' target=\"_blank\">https://wandb.ai/nightly/montyhall-ql</a>"
      ],
      "text/plain": [
       "<IPython.core.display.HTML object>"
      ]
     },
     "metadata": {},
     "output_type": "display_data"
    },
    {
     "data": {
      "text/html": [
       " View sweep at <a href='https://wandb.ai/nightly/montyhall-ql/sweeps/y9nid08r' target=\"_blank\">https://wandb.ai/nightly/montyhall-ql/sweeps/y9nid08r</a>"
      ],
      "text/plain": [
       "<IPython.core.display.HTML object>"
      ]
     },
     "metadata": {},
     "output_type": "display_data"
    },
    {
     "data": {
      "text/html": [
       " View run at <a href='https://wandb.ai/nightly/montyhall-ql/runs/9351tm1q' target=\"_blank\">https://wandb.ai/nightly/montyhall-ql/runs/9351tm1q</a>"
      ],
      "text/plain": [
       "<IPython.core.display.HTML object>"
      ]
     },
     "metadata": {},
     "output_type": "display_data"
    },
    {
     "name": "stderr",
     "output_type": "stream",
     "text": [
      "\u001b[32m2025-07-08 12:24:29.020\u001b[0m | \u001b[1mINFO    \u001b[0m | \u001b[36msrc.rl.tabular_q_learning\u001b[0m:\u001b[36mtrain\u001b[0m:\u001b[36m225\u001b[0m - \u001b[1mEpisode    25 | R: +0.0 | ε: 0.699\u001b[0m\n",
      "\u001b[32m2025-07-08 12:24:29.027\u001b[0m | \u001b[1mINFO    \u001b[0m | \u001b[36msrc.rl.tabular_q_learning\u001b[0m:\u001b[36mtrain\u001b[0m:\u001b[36m225\u001b[0m - \u001b[1mEpisode    50 | R: +1.0 | ε: 0.489\u001b[0m\n",
      "\u001b[32m2025-07-08 12:24:29.033\u001b[0m | \u001b[1mINFO    \u001b[0m | \u001b[36msrc.rl.tabular_q_learning\u001b[0m:\u001b[36mtrain\u001b[0m:\u001b[36m225\u001b[0m - \u001b[1mEpisode    75 | R: +1.0 | ε: 0.342\u001b[0m\n",
      "\u001b[32m2025-07-08 12:24:29.038\u001b[0m | \u001b[1mINFO    \u001b[0m | \u001b[36msrc.rl.tabular_q_learning\u001b[0m:\u001b[36mtrain\u001b[0m:\u001b[36m225\u001b[0m - \u001b[1mEpisode   100 | R: +1.0 | ε: 0.239\u001b[0m\n",
      "\u001b[32m2025-07-08 12:24:29.045\u001b[0m | \u001b[1mINFO    \u001b[0m | \u001b[36msrc.rl.tabular_q_learning\u001b[0m:\u001b[36mtrain\u001b[0m:\u001b[36m225\u001b[0m - \u001b[1mEpisode   125 | R: +1.0 | ε: 0.167\u001b[0m\n",
      "\u001b[32m2025-07-08 12:24:29.050\u001b[0m | \u001b[1mINFO    \u001b[0m | \u001b[36msrc.rl.tabular_q_learning\u001b[0m:\u001b[36mtrain\u001b[0m:\u001b[36m225\u001b[0m - \u001b[1mEpisode   150 | R: +1.0 | ε: 0.117\u001b[0m\n",
      "\u001b[32m2025-07-08 12:24:29.056\u001b[0m | \u001b[1mINFO    \u001b[0m | \u001b[36msrc.rl.tabular_q_learning\u001b[0m:\u001b[36mtrain\u001b[0m:\u001b[36m225\u001b[0m - \u001b[1mEpisode   175 | R: +1.0 | ε: 0.082\u001b[0m\n",
      "\u001b[32m2025-07-08 12:24:29.062\u001b[0m | \u001b[1mINFO    \u001b[0m | \u001b[36msrc.rl.tabular_q_learning\u001b[0m:\u001b[36mtrain\u001b[0m:\u001b[36m225\u001b[0m - \u001b[1mEpisode   200 | R: +1.0 | ε: 0.057\u001b[0m\n",
      "\u001b[32m2025-07-08 12:24:29.068\u001b[0m | \u001b[1mINFO    \u001b[0m | \u001b[36msrc.rl.tabular_q_learning\u001b[0m:\u001b[36mtrain\u001b[0m:\u001b[36m225\u001b[0m - \u001b[1mEpisode   225 | R: +1.0 | ε: 0.050\u001b[0m\n",
      "\u001b[32m2025-07-08 12:24:29.073\u001b[0m | \u001b[1mINFO    \u001b[0m | \u001b[36msrc.rl.tabular_q_learning\u001b[0m:\u001b[36mtrain\u001b[0m:\u001b[36m225\u001b[0m - \u001b[1mEpisode   250 | R: +1.0 | ε: 0.050\u001b[0m\n",
      "\u001b[32m2025-07-08 12:24:29.080\u001b[0m | \u001b[1mINFO    \u001b[0m | \u001b[36msrc.rl.tabular_q_learning\u001b[0m:\u001b[36mtrain\u001b[0m:\u001b[36m225\u001b[0m - \u001b[1mEpisode   275 | R: +1.0 | ε: 0.050\u001b[0m\n",
      "\u001b[32m2025-07-08 12:24:29.090\u001b[0m | \u001b[1mINFO    \u001b[0m | \u001b[36msrc.rl.tabular_q_learning\u001b[0m:\u001b[36mtrain\u001b[0m:\u001b[36m225\u001b[0m - \u001b[1mEpisode   300 | R: +1.0 | ε: 0.050\u001b[0m\n",
      "\u001b[32m2025-07-08 12:24:29.097\u001b[0m | \u001b[1mINFO    \u001b[0m | \u001b[36msrc.rl.tabular_q_learning\u001b[0m:\u001b[36mtrain\u001b[0m:\u001b[36m225\u001b[0m - \u001b[1mEpisode   325 | R: +1.0 | ε: 0.050\u001b[0m\n",
      "\u001b[32m2025-07-08 12:24:29.103\u001b[0m | \u001b[1mINFO    \u001b[0m | \u001b[36msrc.rl.tabular_q_learning\u001b[0m:\u001b[36mtrain\u001b[0m:\u001b[36m225\u001b[0m - \u001b[1mEpisode   350 | R: +1.0 | ε: 0.050\u001b[0m\n",
      "\u001b[32m2025-07-08 12:24:29.107\u001b[0m | \u001b[1mINFO    \u001b[0m | \u001b[36msrc.rl.tabular_q_learning\u001b[0m:\u001b[36mtrain\u001b[0m:\u001b[36m225\u001b[0m - \u001b[1mEpisode   375 | R: +1.0 | ε: 0.050\u001b[0m\n",
      "\u001b[32m2025-07-08 12:24:29.114\u001b[0m | \u001b[1mINFO    \u001b[0m | \u001b[36msrc.rl.tabular_q_learning\u001b[0m:\u001b[36mtrain\u001b[0m:\u001b[36m225\u001b[0m - \u001b[1mEpisode   400 | R: +1.0 | ε: 0.050\u001b[0m\n",
      "\u001b[32m2025-07-08 12:24:29.120\u001b[0m | \u001b[1mINFO    \u001b[0m | \u001b[36msrc.rl.tabular_q_learning\u001b[0m:\u001b[36mtrain\u001b[0m:\u001b[36m225\u001b[0m - \u001b[1mEpisode   425 | R: +1.0 | ε: 0.050\u001b[0m\n",
      "\u001b[32m2025-07-08 12:24:29.125\u001b[0m | \u001b[1mINFO    \u001b[0m | \u001b[36msrc.rl.tabular_q_learning\u001b[0m:\u001b[36mtrain\u001b[0m:\u001b[36m225\u001b[0m - \u001b[1mEpisode   450 | R: +1.0 | ε: 0.050\u001b[0m\n",
      "\u001b[32m2025-07-08 12:24:29.131\u001b[0m | \u001b[1mINFO    \u001b[0m | \u001b[36msrc.rl.tabular_q_learning\u001b[0m:\u001b[36mtrain\u001b[0m:\u001b[36m225\u001b[0m - \u001b[1mEpisode   475 | R: +1.0 | ε: 0.050\u001b[0m\n",
      "\u001b[32m2025-07-08 12:24:29.134\u001b[0m | \u001b[1mINFO    \u001b[0m | \u001b[36msrc.rl.tabular_q_learning\u001b[0m:\u001b[36mtrain\u001b[0m:\u001b[36m225\u001b[0m - \u001b[1mEpisode   500 | R: +1.0 | ε: 0.050\u001b[0m\n"
     ]
    },
    {
     "data": {
      "text/html": [],
      "text/plain": [
       "<IPython.core.display.HTML object>"
      ]
     },
     "metadata": {},
     "output_type": "display_data"
    },
    {
     "data": {
      "text/html": [
       "<br>    <style><br>        .wandb-row {<br>            display: flex;<br>            flex-direction: row;<br>            flex-wrap: wrap;<br>            justify-content: flex-start;<br>            width: 100%;<br>        }<br>        .wandb-col {<br>            display: flex;<br>            flex-direction: column;<br>            flex-basis: 100%;<br>            flex: 1;<br>            padding: 10px;<br>        }<br>    </style><br><div class=\"wandb-row\"><div class=\"wandb-col\"><h3>Run history:</h3><br/><table class=\"wandb\"><tr><td>best_reward</td><td>▁</td></tr><tr><td>converged_episode</td><td>▁</td></tr><tr><td>train_time_sec</td><td>▁</td></tr></table><br/></div><div class=\"wandb-col\"><h3>Run summary:</h3><br/><table class=\"wandb\"><tr><td>best_reward</td><td>1</td></tr><tr><td>converged_episode</td><td>-1</td></tr><tr><td>train_time_sec</td><td>0</td></tr></table><br/></div></div>"
      ],
      "text/plain": [
       "<IPython.core.display.HTML object>"
      ]
     },
     "metadata": {},
     "output_type": "display_data"
    },
    {
     "data": {
      "text/html": [
       " View run <strong style=\"color:#cdcd00\">breezy-sweep-18</strong> at: <a href='https://wandb.ai/nightly/montyhall-ql/runs/9351tm1q' target=\"_blank\">https://wandb.ai/nightly/montyhall-ql/runs/9351tm1q</a><br> View project at: <a href='https://wandb.ai/nightly/montyhall-ql' target=\"_blank\">https://wandb.ai/nightly/montyhall-ql</a><br>Synced 5 W&B file(s), 0 media file(s), 0 artifact file(s) and 0 other file(s)"
      ],
      "text/plain": [
       "<IPython.core.display.HTML object>"
      ]
     },
     "metadata": {},
     "output_type": "display_data"
    },
    {
     "data": {
      "text/html": [
       "Find logs at: <code>.\\wandb\\run-20250708_122428-9351tm1q\\logs</code>"
      ],
      "text/plain": [
       "<IPython.core.display.HTML object>"
      ]
     },
     "metadata": {},
     "output_type": "display_data"
    },
    {
     "name": "stderr",
     "output_type": "stream",
     "text": [
      "\u001b[34m\u001b[1mwandb\u001b[0m: Agent Starting Run: mkfbb919 with config:\n",
      "\u001b[34m\u001b[1mwandb\u001b[0m: \tdiscount_factor: 0.8496350540034602\n",
      "\u001b[34m\u001b[1mwandb\u001b[0m: \tepsilon_decay: 0.9679786128029734\n",
      "\u001b[34m\u001b[1mwandb\u001b[0m: \tlearning_rate: 0.00034051601024434754\n"
     ]
    },
    {
     "data": {
      "text/html": [
       "Ignoring project 'montyhall-ql' when running a sweep."
      ],
      "text/plain": [
       "<IPython.core.display.HTML object>"
      ]
     },
     "metadata": {},
     "output_type": "display_data"
    },
    {
     "data": {
      "text/html": [
       "Tracking run with wandb version 0.19.11"
      ],
      "text/plain": [
       "<IPython.core.display.HTML object>"
      ]
     },
     "metadata": {},
     "output_type": "display_data"
    },
    {
     "data": {
      "text/html": [
       "Run data is saved locally in <code>c:\\Projects\\amethyst\\Solving-Combinatorial-Problems-using-Reinforcement-Learning\\wandb\\run-20250708_122433-mkfbb919</code>"
      ],
      "text/plain": [
       "<IPython.core.display.HTML object>"
      ]
     },
     "metadata": {},
     "output_type": "display_data"
    },
    {
     "data": {
      "text/html": [
       "Syncing run <strong><a href='https://wandb.ai/nightly/montyhall-ql/runs/mkfbb919' target=\"_blank\">dainty-sweep-19</a></strong> to <a href='https://wandb.ai/nightly/montyhall-ql' target=\"_blank\">Weights & Biases</a> (<a href='https://wandb.me/developer-guide' target=\"_blank\">docs</a>)<br>Sweep page: <a href='https://wandb.ai/nightly/montyhall-ql/sweeps/y9nid08r' target=\"_blank\">https://wandb.ai/nightly/montyhall-ql/sweeps/y9nid08r</a>"
      ],
      "text/plain": [
       "<IPython.core.display.HTML object>"
      ]
     },
     "metadata": {},
     "output_type": "display_data"
    },
    {
     "data": {
      "text/html": [
       " View project at <a href='https://wandb.ai/nightly/montyhall-ql' target=\"_blank\">https://wandb.ai/nightly/montyhall-ql</a>"
      ],
      "text/plain": [
       "<IPython.core.display.HTML object>"
      ]
     },
     "metadata": {},
     "output_type": "display_data"
    },
    {
     "data": {
      "text/html": [
       " View sweep at <a href='https://wandb.ai/nightly/montyhall-ql/sweeps/y9nid08r' target=\"_blank\">https://wandb.ai/nightly/montyhall-ql/sweeps/y9nid08r</a>"
      ],
      "text/plain": [
       "<IPython.core.display.HTML object>"
      ]
     },
     "metadata": {},
     "output_type": "display_data"
    },
    {
     "data": {
      "text/html": [
       " View run at <a href='https://wandb.ai/nightly/montyhall-ql/runs/mkfbb919' target=\"_blank\">https://wandb.ai/nightly/montyhall-ql/runs/mkfbb919</a>"
      ],
      "text/plain": [
       "<IPython.core.display.HTML object>"
      ]
     },
     "metadata": {},
     "output_type": "display_data"
    },
    {
     "name": "stderr",
     "output_type": "stream",
     "text": [
      "\u001b[32m2025-07-08 12:24:34.334\u001b[0m | \u001b[1mINFO    \u001b[0m | \u001b[36msrc.rl.tabular_q_learning\u001b[0m:\u001b[36mtrain\u001b[0m:\u001b[36m225\u001b[0m - \u001b[1mEpisode    25 | R: +0.0 | ε: 0.443\u001b[0m\n",
      "\u001b[32m2025-07-08 12:24:34.338\u001b[0m | \u001b[1mINFO    \u001b[0m | \u001b[36msrc.rl.tabular_q_learning\u001b[0m:\u001b[36mtrain\u001b[0m:\u001b[36m225\u001b[0m - \u001b[1mEpisode    50 | R: +1.0 | ε: 0.196\u001b[0m\n",
      "\u001b[32m2025-07-08 12:24:34.346\u001b[0m | \u001b[1mINFO    \u001b[0m | \u001b[36msrc.rl.tabular_q_learning\u001b[0m:\u001b[36mtrain\u001b[0m:\u001b[36m225\u001b[0m - \u001b[1mEpisode    75 | R: +1.0 | ε: 0.087\u001b[0m\n",
      "\u001b[32m2025-07-08 12:24:34.350\u001b[0m | \u001b[1mINFO    \u001b[0m | \u001b[36msrc.rl.tabular_q_learning\u001b[0m:\u001b[36mtrain\u001b[0m:\u001b[36m225\u001b[0m - \u001b[1mEpisode   100 | R: +1.0 | ε: 0.050\u001b[0m\n",
      "\u001b[32m2025-07-08 12:24:34.357\u001b[0m | \u001b[1mINFO    \u001b[0m | \u001b[36msrc.rl.tabular_q_learning\u001b[0m:\u001b[36mtrain\u001b[0m:\u001b[36m225\u001b[0m - \u001b[1mEpisode   125 | R: +1.0 | ε: 0.050\u001b[0m\n",
      "\u001b[32m2025-07-08 12:24:34.367\u001b[0m | \u001b[1mINFO    \u001b[0m | \u001b[36msrc.rl.tabular_q_learning\u001b[0m:\u001b[36mtrain\u001b[0m:\u001b[36m225\u001b[0m - \u001b[1mEpisode   150 | R: +1.0 | ε: 0.050\u001b[0m\n",
      "\u001b[32m2025-07-08 12:24:34.371\u001b[0m | \u001b[1mINFO    \u001b[0m | \u001b[36msrc.rl.tabular_q_learning\u001b[0m:\u001b[36mtrain\u001b[0m:\u001b[36m225\u001b[0m - \u001b[1mEpisode   175 | R: +1.0 | ε: 0.050\u001b[0m\n",
      "\u001b[32m2025-07-08 12:24:34.378\u001b[0m | \u001b[1mINFO    \u001b[0m | \u001b[36msrc.rl.tabular_q_learning\u001b[0m:\u001b[36mtrain\u001b[0m:\u001b[36m225\u001b[0m - \u001b[1mEpisode   200 | R: +1.0 | ε: 0.050\u001b[0m\n",
      "\u001b[32m2025-07-08 12:24:34.386\u001b[0m | \u001b[1mINFO    \u001b[0m | \u001b[36msrc.rl.tabular_q_learning\u001b[0m:\u001b[36mtrain\u001b[0m:\u001b[36m225\u001b[0m - \u001b[1mEpisode   225 | R: +1.0 | ε: 0.050\u001b[0m\n",
      "\u001b[32m2025-07-08 12:24:34.391\u001b[0m | \u001b[32m\u001b[1mSUCCESS \u001b[0m | \u001b[36msrc.rl.tabular_q_learning\u001b[0m:\u001b[36mtrain\u001b[0m:\u001b[36m236\u001b[0m - \u001b[32m\u001b[1mConverged at episode 248 after 0.06s\u001b[0m\n",
      "\u001b[32m2025-07-08 12:24:34.392\u001b[0m | \u001b[1mINFO    \u001b[0m | \u001b[36msrc.rl.tabular_q_learning\u001b[0m:\u001b[36mtrain\u001b[0m:\u001b[36m225\u001b[0m - \u001b[1mEpisode   250 | R: +1.0 | ε: 0.050\u001b[0m\n",
      "\u001b[32m2025-07-08 12:24:34.397\u001b[0m | \u001b[1mINFO    \u001b[0m | \u001b[36msrc.rl.tabular_q_learning\u001b[0m:\u001b[36mtrain\u001b[0m:\u001b[36m225\u001b[0m - \u001b[1mEpisode   275 | R: +1.0 | ε: 0.050\u001b[0m\n",
      "\u001b[32m2025-07-08 12:24:34.402\u001b[0m | \u001b[1mINFO    \u001b[0m | \u001b[36msrc.rl.tabular_q_learning\u001b[0m:\u001b[36mtrain\u001b[0m:\u001b[36m225\u001b[0m - \u001b[1mEpisode   300 | R: +1.0 | ε: 0.050\u001b[0m\n",
      "\u001b[32m2025-07-08 12:24:34.407\u001b[0m | \u001b[1mINFO    \u001b[0m | \u001b[36msrc.rl.tabular_q_learning\u001b[0m:\u001b[36mtrain\u001b[0m:\u001b[36m225\u001b[0m - \u001b[1mEpisode   325 | R: +1.0 | ε: 0.050\u001b[0m\n",
      "\u001b[32m2025-07-08 12:24:34.413\u001b[0m | \u001b[1mINFO    \u001b[0m | \u001b[36msrc.rl.tabular_q_learning\u001b[0m:\u001b[36mtrain\u001b[0m:\u001b[36m225\u001b[0m - \u001b[1mEpisode   350 | R: +1.0 | ε: 0.050\u001b[0m\n",
      "\u001b[32m2025-07-08 12:24:34.418\u001b[0m | \u001b[1mINFO    \u001b[0m | \u001b[36msrc.rl.tabular_q_learning\u001b[0m:\u001b[36mtrain\u001b[0m:\u001b[36m225\u001b[0m - \u001b[1mEpisode   375 | R: +1.0 | ε: 0.050\u001b[0m\n",
      "\u001b[32m2025-07-08 12:24:34.422\u001b[0m | \u001b[1mINFO    \u001b[0m | \u001b[36msrc.rl.tabular_q_learning\u001b[0m:\u001b[36mtrain\u001b[0m:\u001b[36m225\u001b[0m - \u001b[1mEpisode   400 | R: +1.0 | ε: 0.050\u001b[0m\n",
      "\u001b[32m2025-07-08 12:24:34.427\u001b[0m | \u001b[1mINFO    \u001b[0m | \u001b[36msrc.rl.tabular_q_learning\u001b[0m:\u001b[36mtrain\u001b[0m:\u001b[36m225\u001b[0m - \u001b[1mEpisode   425 | R: +1.0 | ε: 0.050\u001b[0m\n",
      "\u001b[32m2025-07-08 12:24:34.432\u001b[0m | \u001b[1mINFO    \u001b[0m | \u001b[36msrc.rl.tabular_q_learning\u001b[0m:\u001b[36mtrain\u001b[0m:\u001b[36m225\u001b[0m - \u001b[1mEpisode   450 | R: +1.0 | ε: 0.050\u001b[0m\n",
      "\u001b[32m2025-07-08 12:24:34.435\u001b[0m | \u001b[1mINFO    \u001b[0m | \u001b[36msrc.rl.tabular_q_learning\u001b[0m:\u001b[36mtrain\u001b[0m:\u001b[36m225\u001b[0m - \u001b[1mEpisode   475 | R: +1.0 | ε: 0.050\u001b[0m\n",
      "\u001b[32m2025-07-08 12:24:34.443\u001b[0m | \u001b[1mINFO    \u001b[0m | \u001b[36msrc.rl.tabular_q_learning\u001b[0m:\u001b[36mtrain\u001b[0m:\u001b[36m225\u001b[0m - \u001b[1mEpisode   500 | R: +1.0 | ε: 0.050\u001b[0m\n"
     ]
    },
    {
     "data": {
      "text/html": [],
      "text/plain": [
       "<IPython.core.display.HTML object>"
      ]
     },
     "metadata": {},
     "output_type": "display_data"
    },
    {
     "data": {
      "text/html": [
       "<br>    <style><br>        .wandb-row {<br>            display: flex;<br>            flex-direction: row;<br>            flex-wrap: wrap;<br>            justify-content: flex-start;<br>            width: 100%;<br>        }<br>        .wandb-col {<br>            display: flex;<br>            flex-direction: column;<br>            flex-basis: 100%;<br>            flex: 1;<br>            padding: 10px;<br>        }<br>    </style><br><div class=\"wandb-row\"><div class=\"wandb-col\"><h3>Run history:</h3><br/><table class=\"wandb\"><tr><td>best_reward</td><td>▁</td></tr><tr><td>converged_episode</td><td>▁</td></tr><tr><td>train_time_sec</td><td>▁</td></tr></table><br/></div><div class=\"wandb-col\"><h3>Run summary:</h3><br/><table class=\"wandb\"><tr><td>best_reward</td><td>1</td></tr><tr><td>converged_episode</td><td>248</td></tr><tr><td>train_time_sec</td><td>0.06098</td></tr></table><br/></div></div>"
      ],
      "text/plain": [
       "<IPython.core.display.HTML object>"
      ]
     },
     "metadata": {},
     "output_type": "display_data"
    },
    {
     "data": {
      "text/html": [
       " View run <strong style=\"color:#cdcd00\">dainty-sweep-19</strong> at: <a href='https://wandb.ai/nightly/montyhall-ql/runs/mkfbb919' target=\"_blank\">https://wandb.ai/nightly/montyhall-ql/runs/mkfbb919</a><br> View project at: <a href='https://wandb.ai/nightly/montyhall-ql' target=\"_blank\">https://wandb.ai/nightly/montyhall-ql</a><br>Synced 5 W&B file(s), 0 media file(s), 0 artifact file(s) and 0 other file(s)"
      ],
      "text/plain": [
       "<IPython.core.display.HTML object>"
      ]
     },
     "metadata": {},
     "output_type": "display_data"
    },
    {
     "data": {
      "text/html": [
       "Find logs at: <code>.\\wandb\\run-20250708_122433-mkfbb919\\logs</code>"
      ],
      "text/plain": [
       "<IPython.core.display.HTML object>"
      ]
     },
     "metadata": {},
     "output_type": "display_data"
    },
    {
     "name": "stderr",
     "output_type": "stream",
     "text": [
      "\u001b[34m\u001b[1mwandb\u001b[0m: Agent Starting Run: abcjdvkw with config:\n",
      "\u001b[34m\u001b[1mwandb\u001b[0m: \tdiscount_factor: 0.9547647436290936\n",
      "\u001b[34m\u001b[1mwandb\u001b[0m: \tepsilon_decay: 0.9827452467333186\n",
      "\u001b[34m\u001b[1mwandb\u001b[0m: \tlearning_rate: 0.0046700217671368175\n"
     ]
    },
    {
     "data": {
      "text/html": [
       "Ignoring project 'montyhall-ql' when running a sweep."
      ],
      "text/plain": [
       "<IPython.core.display.HTML object>"
      ]
     },
     "metadata": {},
     "output_type": "display_data"
    },
    {
     "data": {
      "text/html": [
       "Tracking run with wandb version 0.19.11"
      ],
      "text/plain": [
       "<IPython.core.display.HTML object>"
      ]
     },
     "metadata": {},
     "output_type": "display_data"
    },
    {
     "data": {
      "text/html": [
       "Run data is saved locally in <code>c:\\Projects\\amethyst\\Solving-Combinatorial-Problems-using-Reinforcement-Learning\\wandb\\run-20250708_122439-abcjdvkw</code>"
      ],
      "text/plain": [
       "<IPython.core.display.HTML object>"
      ]
     },
     "metadata": {},
     "output_type": "display_data"
    },
    {
     "data": {
      "text/html": [
       "Syncing run <strong><a href='https://wandb.ai/nightly/montyhall-ql/runs/abcjdvkw' target=\"_blank\">elated-sweep-20</a></strong> to <a href='https://wandb.ai/nightly/montyhall-ql' target=\"_blank\">Weights & Biases</a> (<a href='https://wandb.me/developer-guide' target=\"_blank\">docs</a>)<br>Sweep page: <a href='https://wandb.ai/nightly/montyhall-ql/sweeps/y9nid08r' target=\"_blank\">https://wandb.ai/nightly/montyhall-ql/sweeps/y9nid08r</a>"
      ],
      "text/plain": [
       "<IPython.core.display.HTML object>"
      ]
     },
     "metadata": {},
     "output_type": "display_data"
    },
    {
     "data": {
      "text/html": [
       " View project at <a href='https://wandb.ai/nightly/montyhall-ql' target=\"_blank\">https://wandb.ai/nightly/montyhall-ql</a>"
      ],
      "text/plain": [
       "<IPython.core.display.HTML object>"
      ]
     },
     "metadata": {},
     "output_type": "display_data"
    },
    {
     "data": {
      "text/html": [
       " View sweep at <a href='https://wandb.ai/nightly/montyhall-ql/sweeps/y9nid08r' target=\"_blank\">https://wandb.ai/nightly/montyhall-ql/sweeps/y9nid08r</a>"
      ],
      "text/plain": [
       "<IPython.core.display.HTML object>"
      ]
     },
     "metadata": {},
     "output_type": "display_data"
    },
    {
     "data": {
      "text/html": [
       " View run at <a href='https://wandb.ai/nightly/montyhall-ql/runs/abcjdvkw' target=\"_blank\">https://wandb.ai/nightly/montyhall-ql/runs/abcjdvkw</a>"
      ],
      "text/plain": [
       "<IPython.core.display.HTML object>"
      ]
     },
     "metadata": {},
     "output_type": "display_data"
    },
    {
     "name": "stderr",
     "output_type": "stream",
     "text": [
      "\u001b[32m2025-07-08 12:24:39.715\u001b[0m | \u001b[1mINFO    \u001b[0m | \u001b[36msrc.rl.tabular_q_learning\u001b[0m:\u001b[36mtrain\u001b[0m:\u001b[36m225\u001b[0m - \u001b[1mEpisode    25 | R: +0.0 | ε: 0.647\u001b[0m\n",
      "\u001b[32m2025-07-08 12:24:39.715\u001b[0m | \u001b[1mINFO    \u001b[0m | \u001b[36msrc.rl.tabular_q_learning\u001b[0m:\u001b[36mtrain\u001b[0m:\u001b[36m225\u001b[0m - \u001b[1mEpisode    50 | R: +1.0 | ε: 0.419\u001b[0m\n",
      "\u001b[32m2025-07-08 12:24:39.732\u001b[0m | \u001b[1mINFO    \u001b[0m | \u001b[36msrc.rl.tabular_q_learning\u001b[0m:\u001b[36mtrain\u001b[0m:\u001b[36m225\u001b[0m - \u001b[1mEpisode    75 | R: +1.0 | ε: 0.271\u001b[0m\n",
      "\u001b[32m2025-07-08 12:24:39.736\u001b[0m | \u001b[1mINFO    \u001b[0m | \u001b[36msrc.rl.tabular_q_learning\u001b[0m:\u001b[36mtrain\u001b[0m:\u001b[36m225\u001b[0m - \u001b[1mEpisode   100 | R: +1.0 | ε: 0.175\u001b[0m\n",
      "\u001b[32m2025-07-08 12:24:39.743\u001b[0m | \u001b[1mINFO    \u001b[0m | \u001b[36msrc.rl.tabular_q_learning\u001b[0m:\u001b[36mtrain\u001b[0m:\u001b[36m225\u001b[0m - \u001b[1mEpisode   125 | R: +1.0 | ε: 0.114\u001b[0m\n",
      "\u001b[32m2025-07-08 12:24:39.748\u001b[0m | \u001b[1mINFO    \u001b[0m | \u001b[36msrc.rl.tabular_q_learning\u001b[0m:\u001b[36mtrain\u001b[0m:\u001b[36m225\u001b[0m - \u001b[1mEpisode   150 | R: +1.0 | ε: 0.073\u001b[0m\n",
      "\u001b[32m2025-07-08 12:24:39.752\u001b[0m | \u001b[1mINFO    \u001b[0m | \u001b[36msrc.rl.tabular_q_learning\u001b[0m:\u001b[36mtrain\u001b[0m:\u001b[36m225\u001b[0m - \u001b[1mEpisode   175 | R: +1.0 | ε: 0.050\u001b[0m\n",
      "\u001b[32m2025-07-08 12:24:39.763\u001b[0m | \u001b[1mINFO    \u001b[0m | \u001b[36msrc.rl.tabular_q_learning\u001b[0m:\u001b[36mtrain\u001b[0m:\u001b[36m225\u001b[0m - \u001b[1mEpisode   200 | R: +1.0 | ε: 0.050\u001b[0m\n",
      "\u001b[32m2025-07-08 12:24:39.765\u001b[0m | \u001b[1mINFO    \u001b[0m | \u001b[36msrc.rl.tabular_q_learning\u001b[0m:\u001b[36mtrain\u001b[0m:\u001b[36m225\u001b[0m - \u001b[1mEpisode   225 | R: +1.0 | ε: 0.050\u001b[0m\n",
      "\u001b[32m2025-07-08 12:24:39.765\u001b[0m | \u001b[1mINFO    \u001b[0m | \u001b[36msrc.rl.tabular_q_learning\u001b[0m:\u001b[36mtrain\u001b[0m:\u001b[36m225\u001b[0m - \u001b[1mEpisode   250 | R: +1.0 | ε: 0.050\u001b[0m\n",
      "\u001b[32m2025-07-08 12:24:39.775\u001b[0m | \u001b[1mINFO    \u001b[0m | \u001b[36msrc.rl.tabular_q_learning\u001b[0m:\u001b[36mtrain\u001b[0m:\u001b[36m225\u001b[0m - \u001b[1mEpisode   275 | R: +1.0 | ε: 0.050\u001b[0m\n",
      "\u001b[32m2025-07-08 12:24:39.775\u001b[0m | \u001b[1mINFO    \u001b[0m | \u001b[36msrc.rl.tabular_q_learning\u001b[0m:\u001b[36mtrain\u001b[0m:\u001b[36m225\u001b[0m - \u001b[1mEpisode   300 | R: +1.0 | ε: 0.050\u001b[0m\n",
      "\u001b[32m2025-07-08 12:24:39.793\u001b[0m | \u001b[1mINFO    \u001b[0m | \u001b[36msrc.rl.tabular_q_learning\u001b[0m:\u001b[36mtrain\u001b[0m:\u001b[36m225\u001b[0m - \u001b[1mEpisode   325 | R: +1.0 | ε: 0.050\u001b[0m\n",
      "\u001b[32m2025-07-08 12:24:39.799\u001b[0m | \u001b[1mINFO    \u001b[0m | \u001b[36msrc.rl.tabular_q_learning\u001b[0m:\u001b[36mtrain\u001b[0m:\u001b[36m225\u001b[0m - \u001b[1mEpisode   350 | R: +1.0 | ε: 0.050\u001b[0m\n",
      "\u001b[32m2025-07-08 12:24:39.800\u001b[0m | \u001b[1mINFO    \u001b[0m | \u001b[36msrc.rl.tabular_q_learning\u001b[0m:\u001b[36mtrain\u001b[0m:\u001b[36m225\u001b[0m - \u001b[1mEpisode   375 | R: +1.0 | ε: 0.050\u001b[0m\n",
      "\u001b[32m2025-07-08 12:24:39.800\u001b[0m | \u001b[1mINFO    \u001b[0m | \u001b[36msrc.rl.tabular_q_learning\u001b[0m:\u001b[36mtrain\u001b[0m:\u001b[36m225\u001b[0m - \u001b[1mEpisode   400 | R: +1.0 | ε: 0.050\u001b[0m\n",
      "\u001b[32m2025-07-08 12:24:39.812\u001b[0m | \u001b[32m\u001b[1mSUCCESS \u001b[0m | \u001b[36msrc.rl.tabular_q_learning\u001b[0m:\u001b[36mtrain\u001b[0m:\u001b[36m236\u001b[0m - \u001b[32m\u001b[1mConverged at episode 418 after 0.10s\u001b[0m\n",
      "\u001b[32m2025-07-08 12:24:39.812\u001b[0m | \u001b[1mINFO    \u001b[0m | \u001b[36msrc.rl.tabular_q_learning\u001b[0m:\u001b[36mtrain\u001b[0m:\u001b[36m225\u001b[0m - \u001b[1mEpisode   425 | R: +1.0 | ε: 0.050\u001b[0m\n",
      "\u001b[32m2025-07-08 12:24:39.812\u001b[0m | \u001b[1mINFO    \u001b[0m | \u001b[36msrc.rl.tabular_q_learning\u001b[0m:\u001b[36mtrain\u001b[0m:\u001b[36m225\u001b[0m - \u001b[1mEpisode   450 | R: +1.0 | ε: 0.050\u001b[0m\n",
      "\u001b[32m2025-07-08 12:24:39.828\u001b[0m | \u001b[1mINFO    \u001b[0m | \u001b[36msrc.rl.tabular_q_learning\u001b[0m:\u001b[36mtrain\u001b[0m:\u001b[36m225\u001b[0m - \u001b[1mEpisode   475 | R: +1.0 | ε: 0.050\u001b[0m\n",
      "\u001b[32m2025-07-08 12:24:39.828\u001b[0m | \u001b[1mINFO    \u001b[0m | \u001b[36msrc.rl.tabular_q_learning\u001b[0m:\u001b[36mtrain\u001b[0m:\u001b[36m225\u001b[0m - \u001b[1mEpisode   500 | R: +1.0 | ε: 0.050\u001b[0m\n"
     ]
    },
    {
     "data": {
      "text/html": [],
      "text/plain": [
       "<IPython.core.display.HTML object>"
      ]
     },
     "metadata": {},
     "output_type": "display_data"
    },
    {
     "data": {
      "text/html": [
       "<br>    <style><br>        .wandb-row {<br>            display: flex;<br>            flex-direction: row;<br>            flex-wrap: wrap;<br>            justify-content: flex-start;<br>            width: 100%;<br>        }<br>        .wandb-col {<br>            display: flex;<br>            flex-direction: column;<br>            flex-basis: 100%;<br>            flex: 1;<br>            padding: 10px;<br>        }<br>    </style><br><div class=\"wandb-row\"><div class=\"wandb-col\"><h3>Run history:</h3><br/><table class=\"wandb\"><tr><td>best_reward</td><td>▁</td></tr><tr><td>converged_episode</td><td>▁</td></tr><tr><td>train_time_sec</td><td>▁</td></tr></table><br/></div><div class=\"wandb-col\"><h3>Run summary:</h3><br/><table class=\"wandb\"><tr><td>best_reward</td><td>1</td></tr><tr><td>converged_episode</td><td>418</td></tr><tr><td>train_time_sec</td><td>0.10239</td></tr></table><br/></div></div>"
      ],
      "text/plain": [
       "<IPython.core.display.HTML object>"
      ]
     },
     "metadata": {},
     "output_type": "display_data"
    },
    {
     "data": {
      "text/html": [
       " View run <strong style=\"color:#cdcd00\">elated-sweep-20</strong> at: <a href='https://wandb.ai/nightly/montyhall-ql/runs/abcjdvkw' target=\"_blank\">https://wandb.ai/nightly/montyhall-ql/runs/abcjdvkw</a><br> View project at: <a href='https://wandb.ai/nightly/montyhall-ql' target=\"_blank\">https://wandb.ai/nightly/montyhall-ql</a><br>Synced 5 W&B file(s), 0 media file(s), 0 artifact file(s) and 0 other file(s)"
      ],
      "text/plain": [
       "<IPython.core.display.HTML object>"
      ]
     },
     "metadata": {},
     "output_type": "display_data"
    },
    {
     "data": {
      "text/html": [
       "Find logs at: <code>.\\wandb\\run-20250708_122439-abcjdvkw\\logs</code>"
      ],
      "text/plain": [
       "<IPython.core.display.HTML object>"
      ]
     },
     "metadata": {},
     "output_type": "display_data"
    },
    {
     "name": "stderr",
     "output_type": "stream",
     "text": [
      "\u001b[34m\u001b[1mwandb\u001b[0m: Agent Starting Run: zfv2glq1 with config:\n",
      "\u001b[34m\u001b[1mwandb\u001b[0m: \tdiscount_factor: 0.970820590775128\n",
      "\u001b[34m\u001b[1mwandb\u001b[0m: \tepsilon_decay: 0.95241361616306\n",
      "\u001b[34m\u001b[1mwandb\u001b[0m: \tlearning_rate: 0.0002355771258593976\n"
     ]
    },
    {
     "data": {
      "text/html": [
       "Ignoring project 'montyhall-ql' when running a sweep."
      ],
      "text/plain": [
       "<IPython.core.display.HTML object>"
      ]
     },
     "metadata": {},
     "output_type": "display_data"
    },
    {
     "data": {
      "text/html": [
       "Tracking run with wandb version 0.19.11"
      ],
      "text/plain": [
       "<IPython.core.display.HTML object>"
      ]
     },
     "metadata": {},
     "output_type": "display_data"
    },
    {
     "data": {
      "text/html": [
       "Run data is saved locally in <code>c:\\Projects\\amethyst\\Solving-Combinatorial-Problems-using-Reinforcement-Learning\\wandb\\run-20250708_122444-zfv2glq1</code>"
      ],
      "text/plain": [
       "<IPython.core.display.HTML object>"
      ]
     },
     "metadata": {},
     "output_type": "display_data"
    },
    {
     "data": {
      "text/html": [
       "Syncing run <strong><a href='https://wandb.ai/nightly/montyhall-ql/runs/zfv2glq1' target=\"_blank\">rich-sweep-21</a></strong> to <a href='https://wandb.ai/nightly/montyhall-ql' target=\"_blank\">Weights & Biases</a> (<a href='https://wandb.me/developer-guide' target=\"_blank\">docs</a>)<br>Sweep page: <a href='https://wandb.ai/nightly/montyhall-ql/sweeps/y9nid08r' target=\"_blank\">https://wandb.ai/nightly/montyhall-ql/sweeps/y9nid08r</a>"
      ],
      "text/plain": [
       "<IPython.core.display.HTML object>"
      ]
     },
     "metadata": {},
     "output_type": "display_data"
    },
    {
     "data": {
      "text/html": [
       " View project at <a href='https://wandb.ai/nightly/montyhall-ql' target=\"_blank\">https://wandb.ai/nightly/montyhall-ql</a>"
      ],
      "text/plain": [
       "<IPython.core.display.HTML object>"
      ]
     },
     "metadata": {},
     "output_type": "display_data"
    },
    {
     "data": {
      "text/html": [
       " View sweep at <a href='https://wandb.ai/nightly/montyhall-ql/sweeps/y9nid08r' target=\"_blank\">https://wandb.ai/nightly/montyhall-ql/sweeps/y9nid08r</a>"
      ],
      "text/plain": [
       "<IPython.core.display.HTML object>"
      ]
     },
     "metadata": {},
     "output_type": "display_data"
    },
    {
     "data": {
      "text/html": [
       " View run at <a href='https://wandb.ai/nightly/montyhall-ql/runs/zfv2glq1' target=\"_blank\">https://wandb.ai/nightly/montyhall-ql/runs/zfv2glq1</a>"
      ],
      "text/plain": [
       "<IPython.core.display.HTML object>"
      ]
     },
     "metadata": {},
     "output_type": "display_data"
    },
    {
     "name": "stderr",
     "output_type": "stream",
     "text": [
      "\u001b[32m2025-07-08 12:24:45.440\u001b[0m | \u001b[1mINFO    \u001b[0m | \u001b[36msrc.rl.tabular_q_learning\u001b[0m:\u001b[36mtrain\u001b[0m:\u001b[36m225\u001b[0m - \u001b[1mEpisode    25 | R: +1.0 | ε: 0.296\u001b[0m\n",
      "\u001b[32m2025-07-08 12:24:45.440\u001b[0m | \u001b[1mINFO    \u001b[0m | \u001b[36msrc.rl.tabular_q_learning\u001b[0m:\u001b[36mtrain\u001b[0m:\u001b[36m225\u001b[0m - \u001b[1mEpisode    50 | R: +1.0 | ε: 0.087\u001b[0m\n",
      "\u001b[32m2025-07-08 12:24:45.453\u001b[0m | \u001b[1mINFO    \u001b[0m | \u001b[36msrc.rl.tabular_q_learning\u001b[0m:\u001b[36mtrain\u001b[0m:\u001b[36m225\u001b[0m - \u001b[1mEpisode    75 | R: +1.0 | ε: 0.050\u001b[0m\n",
      "\u001b[32m2025-07-08 12:24:45.459\u001b[0m | \u001b[1mINFO    \u001b[0m | \u001b[36msrc.rl.tabular_q_learning\u001b[0m:\u001b[36mtrain\u001b[0m:\u001b[36m225\u001b[0m - \u001b[1mEpisode   100 | R: +1.0 | ε: 0.050\u001b[0m\n",
      "\u001b[32m2025-07-08 12:24:45.465\u001b[0m | \u001b[1mINFO    \u001b[0m | \u001b[36msrc.rl.tabular_q_learning\u001b[0m:\u001b[36mtrain\u001b[0m:\u001b[36m225\u001b[0m - \u001b[1mEpisode   125 | R: +1.0 | ε: 0.050\u001b[0m\n",
      "\u001b[32m2025-07-08 12:24:45.467\u001b[0m | \u001b[32m\u001b[1mSUCCESS \u001b[0m | \u001b[36msrc.rl.tabular_q_learning\u001b[0m:\u001b[36mtrain\u001b[0m:\u001b[36m236\u001b[0m - \u001b[32m\u001b[1mConverged at episode 133 after 0.03s\u001b[0m\n",
      "\u001b[32m2025-07-08 12:24:45.471\u001b[0m | \u001b[1mINFO    \u001b[0m | \u001b[36msrc.rl.tabular_q_learning\u001b[0m:\u001b[36mtrain\u001b[0m:\u001b[36m225\u001b[0m - \u001b[1mEpisode   150 | R: +1.0 | ε: 0.050\u001b[0m\n",
      "\u001b[32m2025-07-08 12:24:45.476\u001b[0m | \u001b[1mINFO    \u001b[0m | \u001b[36msrc.rl.tabular_q_learning\u001b[0m:\u001b[36mtrain\u001b[0m:\u001b[36m225\u001b[0m - \u001b[1mEpisode   175 | R: +1.0 | ε: 0.050\u001b[0m\n",
      "\u001b[32m2025-07-08 12:24:45.476\u001b[0m | \u001b[1mINFO    \u001b[0m | \u001b[36msrc.rl.tabular_q_learning\u001b[0m:\u001b[36mtrain\u001b[0m:\u001b[36m225\u001b[0m - \u001b[1mEpisode   200 | R: +1.0 | ε: 0.050\u001b[0m\n",
      "\u001b[32m2025-07-08 12:24:45.486\u001b[0m | \u001b[1mINFO    \u001b[0m | \u001b[36msrc.rl.tabular_q_learning\u001b[0m:\u001b[36mtrain\u001b[0m:\u001b[36m225\u001b[0m - \u001b[1mEpisode   225 | R: +1.0 | ε: 0.050\u001b[0m\n",
      "\u001b[32m2025-07-08 12:24:45.491\u001b[0m | \u001b[1mINFO    \u001b[0m | \u001b[36msrc.rl.tabular_q_learning\u001b[0m:\u001b[36mtrain\u001b[0m:\u001b[36m225\u001b[0m - \u001b[1mEpisode   250 | R: +1.0 | ε: 0.050\u001b[0m\n",
      "\u001b[32m2025-07-08 12:24:45.494\u001b[0m | \u001b[1mINFO    \u001b[0m | \u001b[36msrc.rl.tabular_q_learning\u001b[0m:\u001b[36mtrain\u001b[0m:\u001b[36m225\u001b[0m - \u001b[1mEpisode   275 | R: +1.0 | ε: 0.050\u001b[0m\n",
      "\u001b[32m2025-07-08 12:24:45.494\u001b[0m | \u001b[1mINFO    \u001b[0m | \u001b[36msrc.rl.tabular_q_learning\u001b[0m:\u001b[36mtrain\u001b[0m:\u001b[36m225\u001b[0m - \u001b[1mEpisode   300 | R: +1.0 | ε: 0.050\u001b[0m\n",
      "\u001b[32m2025-07-08 12:24:45.507\u001b[0m | \u001b[1mINFO    \u001b[0m | \u001b[36msrc.rl.tabular_q_learning\u001b[0m:\u001b[36mtrain\u001b[0m:\u001b[36m225\u001b[0m - \u001b[1mEpisode   325 | R: +1.0 | ε: 0.050\u001b[0m\n",
      "\u001b[32m2025-07-08 12:24:45.516\u001b[0m | \u001b[1mINFO    \u001b[0m | \u001b[36msrc.rl.tabular_q_learning\u001b[0m:\u001b[36mtrain\u001b[0m:\u001b[36m225\u001b[0m - \u001b[1mEpisode   350 | R: +1.0 | ε: 0.050\u001b[0m\n",
      "\u001b[32m2025-07-08 12:24:45.521\u001b[0m | \u001b[1mINFO    \u001b[0m | \u001b[36msrc.rl.tabular_q_learning\u001b[0m:\u001b[36mtrain\u001b[0m:\u001b[36m225\u001b[0m - \u001b[1mEpisode   375 | R: +1.0 | ε: 0.050\u001b[0m\n",
      "\u001b[32m2025-07-08 12:24:45.526\u001b[0m | \u001b[1mINFO    \u001b[0m | \u001b[36msrc.rl.tabular_q_learning\u001b[0m:\u001b[36mtrain\u001b[0m:\u001b[36m225\u001b[0m - \u001b[1mEpisode   400 | R: +1.0 | ε: 0.050\u001b[0m\n",
      "\u001b[32m2025-07-08 12:24:45.528\u001b[0m | \u001b[1mINFO    \u001b[0m | \u001b[36msrc.rl.tabular_q_learning\u001b[0m:\u001b[36mtrain\u001b[0m:\u001b[36m225\u001b[0m - \u001b[1mEpisode   425 | R: +1.0 | ε: 0.050\u001b[0m\n",
      "\u001b[32m2025-07-08 12:24:45.534\u001b[0m | \u001b[1mINFO    \u001b[0m | \u001b[36msrc.rl.tabular_q_learning\u001b[0m:\u001b[36mtrain\u001b[0m:\u001b[36m225\u001b[0m - \u001b[1mEpisode   450 | R: +1.0 | ε: 0.050\u001b[0m\n",
      "\u001b[32m2025-07-08 12:24:45.539\u001b[0m | \u001b[1mINFO    \u001b[0m | \u001b[36msrc.rl.tabular_q_learning\u001b[0m:\u001b[36mtrain\u001b[0m:\u001b[36m225\u001b[0m - \u001b[1mEpisode   475 | R: +1.0 | ε: 0.050\u001b[0m\n",
      "\u001b[32m2025-07-08 12:24:45.543\u001b[0m | \u001b[1mINFO    \u001b[0m | \u001b[36msrc.rl.tabular_q_learning\u001b[0m:\u001b[36mtrain\u001b[0m:\u001b[36m225\u001b[0m - \u001b[1mEpisode   500 | R: +1.0 | ε: 0.050\u001b[0m\n"
     ]
    },
    {
     "data": {
      "text/html": [],
      "text/plain": [
       "<IPython.core.display.HTML object>"
      ]
     },
     "metadata": {},
     "output_type": "display_data"
    },
    {
     "data": {
      "text/html": [
       "<br>    <style><br>        .wandb-row {<br>            display: flex;<br>            flex-direction: row;<br>            flex-wrap: wrap;<br>            justify-content: flex-start;<br>            width: 100%;<br>        }<br>        .wandb-col {<br>            display: flex;<br>            flex-direction: column;<br>            flex-basis: 100%;<br>            flex: 1;<br>            padding: 10px;<br>        }<br>    </style><br><div class=\"wandb-row\"><div class=\"wandb-col\"><h3>Run history:</h3><br/><table class=\"wandb\"><tr><td>best_reward</td><td>▁</td></tr><tr><td>converged_episode</td><td>▁</td></tr><tr><td>train_time_sec</td><td>▁</td></tr></table><br/></div><div class=\"wandb-col\"><h3>Run summary:</h3><br/><table class=\"wandb\"><tr><td>best_reward</td><td>1</td></tr><tr><td>converged_episode</td><td>133</td></tr><tr><td>train_time_sec</td><td>0.02811</td></tr></table><br/></div></div>"
      ],
      "text/plain": [
       "<IPython.core.display.HTML object>"
      ]
     },
     "metadata": {},
     "output_type": "display_data"
    },
    {
     "data": {
      "text/html": [
       " View run <strong style=\"color:#cdcd00\">rich-sweep-21</strong> at: <a href='https://wandb.ai/nightly/montyhall-ql/runs/zfv2glq1' target=\"_blank\">https://wandb.ai/nightly/montyhall-ql/runs/zfv2glq1</a><br> View project at: <a href='https://wandb.ai/nightly/montyhall-ql' target=\"_blank\">https://wandb.ai/nightly/montyhall-ql</a><br>Synced 5 W&B file(s), 0 media file(s), 0 artifact file(s) and 0 other file(s)"
      ],
      "text/plain": [
       "<IPython.core.display.HTML object>"
      ]
     },
     "metadata": {},
     "output_type": "display_data"
    },
    {
     "data": {
      "text/html": [
       "Find logs at: <code>.\\wandb\\run-20250708_122444-zfv2glq1\\logs</code>"
      ],
      "text/plain": [
       "<IPython.core.display.HTML object>"
      ]
     },
     "metadata": {},
     "output_type": "display_data"
    },
    {
     "name": "stderr",
     "output_type": "stream",
     "text": [
      "\u001b[34m\u001b[1mwandb\u001b[0m: Agent Starting Run: xg8w6p3s with config:\n",
      "\u001b[34m\u001b[1mwandb\u001b[0m: \tdiscount_factor: 0.9538183600569295\n",
      "\u001b[34m\u001b[1mwandb\u001b[0m: \tepsilon_decay: 0.9851465420700252\n",
      "\u001b[34m\u001b[1mwandb\u001b[0m: \tlearning_rate: 2.254896837874753e-05\n"
     ]
    },
    {
     "data": {
      "text/html": [
       "Ignoring project 'montyhall-ql' when running a sweep."
      ],
      "text/plain": [
       "<IPython.core.display.HTML object>"
      ]
     },
     "metadata": {},
     "output_type": "display_data"
    },
    {
     "data": {
      "text/html": [
       "Tracking run with wandb version 0.19.11"
      ],
      "text/plain": [
       "<IPython.core.display.HTML object>"
      ]
     },
     "metadata": {},
     "output_type": "display_data"
    },
    {
     "data": {
      "text/html": [
       "Run data is saved locally in <code>c:\\Projects\\amethyst\\Solving-Combinatorial-Problems-using-Reinforcement-Learning\\wandb\\run-20250708_122451-xg8w6p3s</code>"
      ],
      "text/plain": [
       "<IPython.core.display.HTML object>"
      ]
     },
     "metadata": {},
     "output_type": "display_data"
    },
    {
     "data": {
      "text/html": [
       "Syncing run <strong><a href='https://wandb.ai/nightly/montyhall-ql/runs/xg8w6p3s' target=\"_blank\">earthy-sweep-22</a></strong> to <a href='https://wandb.ai/nightly/montyhall-ql' target=\"_blank\">Weights & Biases</a> (<a href='https://wandb.me/developer-guide' target=\"_blank\">docs</a>)<br>Sweep page: <a href='https://wandb.ai/nightly/montyhall-ql/sweeps/y9nid08r' target=\"_blank\">https://wandb.ai/nightly/montyhall-ql/sweeps/y9nid08r</a>"
      ],
      "text/plain": [
       "<IPython.core.display.HTML object>"
      ]
     },
     "metadata": {},
     "output_type": "display_data"
    },
    {
     "data": {
      "text/html": [
       " View project at <a href='https://wandb.ai/nightly/montyhall-ql' target=\"_blank\">https://wandb.ai/nightly/montyhall-ql</a>"
      ],
      "text/plain": [
       "<IPython.core.display.HTML object>"
      ]
     },
     "metadata": {},
     "output_type": "display_data"
    },
    {
     "data": {
      "text/html": [
       " View sweep at <a href='https://wandb.ai/nightly/montyhall-ql/sweeps/y9nid08r' target=\"_blank\">https://wandb.ai/nightly/montyhall-ql/sweeps/y9nid08r</a>"
      ],
      "text/plain": [
       "<IPython.core.display.HTML object>"
      ]
     },
     "metadata": {},
     "output_type": "display_data"
    },
    {
     "data": {
      "text/html": [
       " View run at <a href='https://wandb.ai/nightly/montyhall-ql/runs/xg8w6p3s' target=\"_blank\">https://wandb.ai/nightly/montyhall-ql/runs/xg8w6p3s</a>"
      ],
      "text/plain": [
       "<IPython.core.display.HTML object>"
      ]
     },
     "metadata": {},
     "output_type": "display_data"
    },
    {
     "name": "stderr",
     "output_type": "stream",
     "text": [
      "\u001b[32m2025-07-08 12:24:52.390\u001b[0m | \u001b[1mINFO    \u001b[0m | \u001b[36msrc.rl.tabular_q_learning\u001b[0m:\u001b[36mtrain\u001b[0m:\u001b[36m225\u001b[0m - \u001b[1mEpisode    25 | R: +0.0 | ε: 0.688\u001b[0m\n",
      "\u001b[32m2025-07-08 12:24:52.395\u001b[0m | \u001b[1mINFO    \u001b[0m | \u001b[36msrc.rl.tabular_q_learning\u001b[0m:\u001b[36mtrain\u001b[0m:\u001b[36m225\u001b[0m - \u001b[1mEpisode    50 | R: +1.0 | ε: 0.473\u001b[0m\n",
      "\u001b[32m2025-07-08 12:24:52.402\u001b[0m | \u001b[1mINFO    \u001b[0m | \u001b[36msrc.rl.tabular_q_learning\u001b[0m:\u001b[36mtrain\u001b[0m:\u001b[36m225\u001b[0m - \u001b[1mEpisode    75 | R: +0.0 | ε: 0.326\u001b[0m\n",
      "\u001b[32m2025-07-08 12:24:52.407\u001b[0m | \u001b[1mINFO    \u001b[0m | \u001b[36msrc.rl.tabular_q_learning\u001b[0m:\u001b[36mtrain\u001b[0m:\u001b[36m225\u001b[0m - \u001b[1mEpisode   100 | R: +1.0 | ε: 0.224\u001b[0m\n",
      "\u001b[32m2025-07-08 12:24:52.414\u001b[0m | \u001b[1mINFO    \u001b[0m | \u001b[36msrc.rl.tabular_q_learning\u001b[0m:\u001b[36mtrain\u001b[0m:\u001b[36m225\u001b[0m - \u001b[1mEpisode   125 | R: +1.0 | ε: 0.154\u001b[0m\n",
      "\u001b[32m2025-07-08 12:24:52.418\u001b[0m | \u001b[1mINFO    \u001b[0m | \u001b[36msrc.rl.tabular_q_learning\u001b[0m:\u001b[36mtrain\u001b[0m:\u001b[36m225\u001b[0m - \u001b[1mEpisode   150 | R: +1.0 | ε: 0.106\u001b[0m\n",
      "\u001b[32m2025-07-08 12:24:52.425\u001b[0m | \u001b[1mINFO    \u001b[0m | \u001b[36msrc.rl.tabular_q_learning\u001b[0m:\u001b[36mtrain\u001b[0m:\u001b[36m225\u001b[0m - \u001b[1mEpisode   175 | R: +1.0 | ε: 0.073\u001b[0m\n",
      "\u001b[32m2025-07-08 12:24:52.432\u001b[0m | \u001b[1mINFO    \u001b[0m | \u001b[36msrc.rl.tabular_q_learning\u001b[0m:\u001b[36mtrain\u001b[0m:\u001b[36m225\u001b[0m - \u001b[1mEpisode   200 | R: +1.0 | ε: 0.050\u001b[0m\n",
      "\u001b[32m2025-07-08 12:24:52.436\u001b[0m | \u001b[1mINFO    \u001b[0m | \u001b[36msrc.rl.tabular_q_learning\u001b[0m:\u001b[36mtrain\u001b[0m:\u001b[36m225\u001b[0m - \u001b[1mEpisode   225 | R: +1.0 | ε: 0.050\u001b[0m\n",
      "\u001b[32m2025-07-08 12:24:52.442\u001b[0m | \u001b[1mINFO    \u001b[0m | \u001b[36msrc.rl.tabular_q_learning\u001b[0m:\u001b[36mtrain\u001b[0m:\u001b[36m225\u001b[0m - \u001b[1mEpisode   250 | R: +1.0 | ε: 0.050\u001b[0m\n",
      "\u001b[32m2025-07-08 12:24:52.449\u001b[0m | \u001b[1mINFO    \u001b[0m | \u001b[36msrc.rl.tabular_q_learning\u001b[0m:\u001b[36mtrain\u001b[0m:\u001b[36m225\u001b[0m - \u001b[1mEpisode   275 | R: +1.0 | ε: 0.050\u001b[0m\n",
      "\u001b[32m2025-07-08 12:24:52.453\u001b[0m | \u001b[1mINFO    \u001b[0m | \u001b[36msrc.rl.tabular_q_learning\u001b[0m:\u001b[36mtrain\u001b[0m:\u001b[36m225\u001b[0m - \u001b[1mEpisode   300 | R: +1.0 | ε: 0.050\u001b[0m\n",
      "\u001b[32m2025-07-08 12:24:52.456\u001b[0m | \u001b[1mINFO    \u001b[0m | \u001b[36msrc.rl.tabular_q_learning\u001b[0m:\u001b[36mtrain\u001b[0m:\u001b[36m225\u001b[0m - \u001b[1mEpisode   325 | R: +1.0 | ε: 0.050\u001b[0m\n",
      "\u001b[32m2025-07-08 12:24:52.468\u001b[0m | \u001b[1mINFO    \u001b[0m | \u001b[36msrc.rl.tabular_q_learning\u001b[0m:\u001b[36mtrain\u001b[0m:\u001b[36m225\u001b[0m - \u001b[1mEpisode   350 | R: +1.0 | ε: 0.050\u001b[0m\n",
      "\u001b[32m2025-07-08 12:24:52.474\u001b[0m | \u001b[1mINFO    \u001b[0m | \u001b[36msrc.rl.tabular_q_learning\u001b[0m:\u001b[36mtrain\u001b[0m:\u001b[36m225\u001b[0m - \u001b[1mEpisode   375 | R: +1.0 | ε: 0.050\u001b[0m\n",
      "\u001b[32m2025-07-08 12:24:52.478\u001b[0m | \u001b[32m\u001b[1mSUCCESS \u001b[0m | \u001b[36msrc.rl.tabular_q_learning\u001b[0m:\u001b[36mtrain\u001b[0m:\u001b[36m236\u001b[0m - \u001b[32m\u001b[1mConverged at episode 394 after 0.09s\u001b[0m\n",
      "\u001b[32m2025-07-08 12:24:52.478\u001b[0m | \u001b[1mINFO    \u001b[0m | \u001b[36msrc.rl.tabular_q_learning\u001b[0m:\u001b[36mtrain\u001b[0m:\u001b[36m225\u001b[0m - \u001b[1mEpisode   400 | R: +1.0 | ε: 0.050\u001b[0m\n",
      "\u001b[32m2025-07-08 12:24:52.485\u001b[0m | \u001b[1mINFO    \u001b[0m | \u001b[36msrc.rl.tabular_q_learning\u001b[0m:\u001b[36mtrain\u001b[0m:\u001b[36m225\u001b[0m - \u001b[1mEpisode   425 | R: +1.0 | ε: 0.050\u001b[0m\n",
      "\u001b[32m2025-07-08 12:24:52.489\u001b[0m | \u001b[1mINFO    \u001b[0m | \u001b[36msrc.rl.tabular_q_learning\u001b[0m:\u001b[36mtrain\u001b[0m:\u001b[36m225\u001b[0m - \u001b[1mEpisode   450 | R: +1.0 | ε: 0.050\u001b[0m\n",
      "\u001b[32m2025-07-08 12:24:52.494\u001b[0m | \u001b[1mINFO    \u001b[0m | \u001b[36msrc.rl.tabular_q_learning\u001b[0m:\u001b[36mtrain\u001b[0m:\u001b[36m225\u001b[0m - \u001b[1mEpisode   475 | R: +1.0 | ε: 0.050\u001b[0m\n",
      "\u001b[32m2025-07-08 12:24:52.498\u001b[0m | \u001b[1mINFO    \u001b[0m | \u001b[36msrc.rl.tabular_q_learning\u001b[0m:\u001b[36mtrain\u001b[0m:\u001b[36m225\u001b[0m - \u001b[1mEpisode   500 | R: +1.0 | ε: 0.050\u001b[0m\n"
     ]
    },
    {
     "data": {
      "text/html": [],
      "text/plain": [
       "<IPython.core.display.HTML object>"
      ]
     },
     "metadata": {},
     "output_type": "display_data"
    },
    {
     "data": {
      "text/html": [
       "<br>    <style><br>        .wandb-row {<br>            display: flex;<br>            flex-direction: row;<br>            flex-wrap: wrap;<br>            justify-content: flex-start;<br>            width: 100%;<br>        }<br>        .wandb-col {<br>            display: flex;<br>            flex-direction: column;<br>            flex-basis: 100%;<br>            flex: 1;<br>            padding: 10px;<br>        }<br>    </style><br><div class=\"wandb-row\"><div class=\"wandb-col\"><h3>Run history:</h3><br/><table class=\"wandb\"><tr><td>best_reward</td><td>▁</td></tr><tr><td>converged_episode</td><td>▁</td></tr><tr><td>train_time_sec</td><td>▁</td></tr></table><br/></div><div class=\"wandb-col\"><h3>Run summary:</h3><br/><table class=\"wandb\"><tr><td>best_reward</td><td>1</td></tr><tr><td>converged_episode</td><td>394</td></tr><tr><td>train_time_sec</td><td>0.0939</td></tr></table><br/></div></div>"
      ],
      "text/plain": [
       "<IPython.core.display.HTML object>"
      ]
     },
     "metadata": {},
     "output_type": "display_data"
    },
    {
     "data": {
      "text/html": [
       " View run <strong style=\"color:#cdcd00\">earthy-sweep-22</strong> at: <a href='https://wandb.ai/nightly/montyhall-ql/runs/xg8w6p3s' target=\"_blank\">https://wandb.ai/nightly/montyhall-ql/runs/xg8w6p3s</a><br> View project at: <a href='https://wandb.ai/nightly/montyhall-ql' target=\"_blank\">https://wandb.ai/nightly/montyhall-ql</a><br>Synced 5 W&B file(s), 0 media file(s), 0 artifact file(s) and 0 other file(s)"
      ],
      "text/plain": [
       "<IPython.core.display.HTML object>"
      ]
     },
     "metadata": {},
     "output_type": "display_data"
    },
    {
     "data": {
      "text/html": [
       "Find logs at: <code>.\\wandb\\run-20250708_122451-xg8w6p3s\\logs</code>"
      ],
      "text/plain": [
       "<IPython.core.display.HTML object>"
      ]
     },
     "metadata": {},
     "output_type": "display_data"
    },
    {
     "name": "stderr",
     "output_type": "stream",
     "text": [
      "\u001b[34m\u001b[1mwandb\u001b[0m: Agent Starting Run: aqyrq137 with config:\n",
      "\u001b[34m\u001b[1mwandb\u001b[0m: \tdiscount_factor: 0.8177348735918408\n",
      "\u001b[34m\u001b[1mwandb\u001b[0m: \tepsilon_decay: 0.9701228586400026\n",
      "\u001b[34m\u001b[1mwandb\u001b[0m: \tlearning_rate: 4.023326745952532e-05\n"
     ]
    },
    {
     "data": {
      "text/html": [
       "Ignoring project 'montyhall-ql' when running a sweep."
      ],
      "text/plain": [
       "<IPython.core.display.HTML object>"
      ]
     },
     "metadata": {},
     "output_type": "display_data"
    },
    {
     "data": {
      "text/html": [
       "Tracking run with wandb version 0.19.11"
      ],
      "text/plain": [
       "<IPython.core.display.HTML object>"
      ]
     },
     "metadata": {},
     "output_type": "display_data"
    },
    {
     "data": {
      "text/html": [
       "Run data is saved locally in <code>c:\\Projects\\amethyst\\Solving-Combinatorial-Problems-using-Reinforcement-Learning\\wandb\\run-20250708_122456-aqyrq137</code>"
      ],
      "text/plain": [
       "<IPython.core.display.HTML object>"
      ]
     },
     "metadata": {},
     "output_type": "display_data"
    },
    {
     "data": {
      "text/html": [
       "Syncing run <strong><a href='https://wandb.ai/nightly/montyhall-ql/runs/aqyrq137' target=\"_blank\">major-sweep-23</a></strong> to <a href='https://wandb.ai/nightly/montyhall-ql' target=\"_blank\">Weights & Biases</a> (<a href='https://wandb.me/developer-guide' target=\"_blank\">docs</a>)<br>Sweep page: <a href='https://wandb.ai/nightly/montyhall-ql/sweeps/y9nid08r' target=\"_blank\">https://wandb.ai/nightly/montyhall-ql/sweeps/y9nid08r</a>"
      ],
      "text/plain": [
       "<IPython.core.display.HTML object>"
      ]
     },
     "metadata": {},
     "output_type": "display_data"
    },
    {
     "data": {
      "text/html": [
       " View project at <a href='https://wandb.ai/nightly/montyhall-ql' target=\"_blank\">https://wandb.ai/nightly/montyhall-ql</a>"
      ],
      "text/plain": [
       "<IPython.core.display.HTML object>"
      ]
     },
     "metadata": {},
     "output_type": "display_data"
    },
    {
     "data": {
      "text/html": [
       " View sweep at <a href='https://wandb.ai/nightly/montyhall-ql/sweeps/y9nid08r' target=\"_blank\">https://wandb.ai/nightly/montyhall-ql/sweeps/y9nid08r</a>"
      ],
      "text/plain": [
       "<IPython.core.display.HTML object>"
      ]
     },
     "metadata": {},
     "output_type": "display_data"
    },
    {
     "data": {
      "text/html": [
       " View run at <a href='https://wandb.ai/nightly/montyhall-ql/runs/aqyrq137' target=\"_blank\">https://wandb.ai/nightly/montyhall-ql/runs/aqyrq137</a>"
      ],
      "text/plain": [
       "<IPython.core.display.HTML object>"
      ]
     },
     "metadata": {},
     "output_type": "display_data"
    },
    {
     "name": "stderr",
     "output_type": "stream",
     "text": [
      "\u001b[32m2025-07-08 12:24:56.791\u001b[0m | \u001b[1mINFO    \u001b[0m | \u001b[36msrc.rl.tabular_q_learning\u001b[0m:\u001b[36mtrain\u001b[0m:\u001b[36m225\u001b[0m - \u001b[1mEpisode    25 | R: +1.0 | ε: 0.468\u001b[0m\n",
      "\u001b[32m2025-07-08 12:24:56.796\u001b[0m | \u001b[1mINFO    \u001b[0m | \u001b[36msrc.rl.tabular_q_learning\u001b[0m:\u001b[36mtrain\u001b[0m:\u001b[36m225\u001b[0m - \u001b[1mEpisode    50 | R: +1.0 | ε: 0.219\u001b[0m\n",
      "\u001b[32m2025-07-08 12:24:56.796\u001b[0m | \u001b[1mINFO    \u001b[0m | \u001b[36msrc.rl.tabular_q_learning\u001b[0m:\u001b[36mtrain\u001b[0m:\u001b[36m225\u001b[0m - \u001b[1mEpisode    75 | R: +1.0 | ε: 0.103\u001b[0m\n",
      "\u001b[32m2025-07-08 12:24:56.803\u001b[0m | \u001b[1mINFO    \u001b[0m | \u001b[36msrc.rl.tabular_q_learning\u001b[0m:\u001b[36mtrain\u001b[0m:\u001b[36m225\u001b[0m - \u001b[1mEpisode   100 | R: +1.0 | ε: 0.050\u001b[0m\n",
      "\u001b[32m2025-07-08 12:24:56.812\u001b[0m | \u001b[1mINFO    \u001b[0m | \u001b[36msrc.rl.tabular_q_learning\u001b[0m:\u001b[36mtrain\u001b[0m:\u001b[36m225\u001b[0m - \u001b[1mEpisode   125 | R: +1.0 | ε: 0.050\u001b[0m\n",
      "\u001b[32m2025-07-08 12:24:56.819\u001b[0m | \u001b[1mINFO    \u001b[0m | \u001b[36msrc.rl.tabular_q_learning\u001b[0m:\u001b[36mtrain\u001b[0m:\u001b[36m225\u001b[0m - \u001b[1mEpisode   150 | R: +1.0 | ε: 0.050\u001b[0m\n",
      "\u001b[32m2025-07-08 12:24:56.826\u001b[0m | \u001b[1mINFO    \u001b[0m | \u001b[36msrc.rl.tabular_q_learning\u001b[0m:\u001b[36mtrain\u001b[0m:\u001b[36m225\u001b[0m - \u001b[1mEpisode   175 | R: +1.0 | ε: 0.050\u001b[0m\n",
      "\u001b[32m2025-07-08 12:24:56.832\u001b[0m | \u001b[1mINFO    \u001b[0m | \u001b[36msrc.rl.tabular_q_learning\u001b[0m:\u001b[36mtrain\u001b[0m:\u001b[36m225\u001b[0m - \u001b[1mEpisode   200 | R: +1.0 | ε: 0.050\u001b[0m\n",
      "\u001b[32m2025-07-08 12:24:56.838\u001b[0m | \u001b[1mINFO    \u001b[0m | \u001b[36msrc.rl.tabular_q_learning\u001b[0m:\u001b[36mtrain\u001b[0m:\u001b[36m225\u001b[0m - \u001b[1mEpisode   225 | R: +1.0 | ε: 0.050\u001b[0m\n",
      "\u001b[32m2025-07-08 12:24:56.838\u001b[0m | \u001b[1mINFO    \u001b[0m | \u001b[36msrc.rl.tabular_q_learning\u001b[0m:\u001b[36mtrain\u001b[0m:\u001b[36m225\u001b[0m - \u001b[1mEpisode   250 | R: +1.0 | ε: 0.050\u001b[0m\n",
      "\u001b[32m2025-07-08 12:24:56.849\u001b[0m | \u001b[1mINFO    \u001b[0m | \u001b[36msrc.rl.tabular_q_learning\u001b[0m:\u001b[36mtrain\u001b[0m:\u001b[36m225\u001b[0m - \u001b[1mEpisode   275 | R: +1.0 | ε: 0.050\u001b[0m\n",
      "\u001b[32m2025-07-08 12:24:56.855\u001b[0m | \u001b[1mINFO    \u001b[0m | \u001b[36msrc.rl.tabular_q_learning\u001b[0m:\u001b[36mtrain\u001b[0m:\u001b[36m225\u001b[0m - \u001b[1mEpisode   300 | R: +1.0 | ε: 0.050\u001b[0m\n",
      "\u001b[32m2025-07-08 12:24:56.860\u001b[0m | \u001b[1mINFO    \u001b[0m | \u001b[36msrc.rl.tabular_q_learning\u001b[0m:\u001b[36mtrain\u001b[0m:\u001b[36m225\u001b[0m - \u001b[1mEpisode   325 | R: +1.0 | ε: 0.050\u001b[0m\n",
      "\u001b[32m2025-07-08 12:24:56.871\u001b[0m | \u001b[1mINFO    \u001b[0m | \u001b[36msrc.rl.tabular_q_learning\u001b[0m:\u001b[36mtrain\u001b[0m:\u001b[36m225\u001b[0m - \u001b[1mEpisode   350 | R: +1.0 | ε: 0.050\u001b[0m\n",
      "\u001b[32m2025-07-08 12:24:56.876\u001b[0m | \u001b[32m\u001b[1mSUCCESS \u001b[0m | \u001b[36msrc.rl.tabular_q_learning\u001b[0m:\u001b[36mtrain\u001b[0m:\u001b[36m236\u001b[0m - \u001b[32m\u001b[1mConverged at episode 371 after 0.09s\u001b[0m\n",
      "\u001b[32m2025-07-08 12:24:56.878\u001b[0m | \u001b[1mINFO    \u001b[0m | \u001b[36msrc.rl.tabular_q_learning\u001b[0m:\u001b[36mtrain\u001b[0m:\u001b[36m225\u001b[0m - \u001b[1mEpisode   375 | R: +1.0 | ε: 0.050\u001b[0m\n",
      "\u001b[32m2025-07-08 12:24:56.879\u001b[0m | \u001b[1mINFO    \u001b[0m | \u001b[36msrc.rl.tabular_q_learning\u001b[0m:\u001b[36mtrain\u001b[0m:\u001b[36m225\u001b[0m - \u001b[1mEpisode   400 | R: +1.0 | ε: 0.050\u001b[0m\n",
      "\u001b[32m2025-07-08 12:24:56.887\u001b[0m | \u001b[1mINFO    \u001b[0m | \u001b[36msrc.rl.tabular_q_learning\u001b[0m:\u001b[36mtrain\u001b[0m:\u001b[36m225\u001b[0m - \u001b[1mEpisode   425 | R: +1.0 | ε: 0.050\u001b[0m\n",
      "\u001b[32m2025-07-08 12:24:56.892\u001b[0m | \u001b[1mINFO    \u001b[0m | \u001b[36msrc.rl.tabular_q_learning\u001b[0m:\u001b[36mtrain\u001b[0m:\u001b[36m225\u001b[0m - \u001b[1mEpisode   450 | R: +1.0 | ε: 0.050\u001b[0m\n",
      "\u001b[32m2025-07-08 12:24:56.897\u001b[0m | \u001b[1mINFO    \u001b[0m | \u001b[36msrc.rl.tabular_q_learning\u001b[0m:\u001b[36mtrain\u001b[0m:\u001b[36m225\u001b[0m - \u001b[1mEpisode   475 | R: +1.0 | ε: 0.050\u001b[0m\n",
      "\u001b[32m2025-07-08 12:24:56.900\u001b[0m | \u001b[1mINFO    \u001b[0m | \u001b[36msrc.rl.tabular_q_learning\u001b[0m:\u001b[36mtrain\u001b[0m:\u001b[36m225\u001b[0m - \u001b[1mEpisode   500 | R: +1.0 | ε: 0.050\u001b[0m\n"
     ]
    },
    {
     "data": {
      "text/html": [],
      "text/plain": [
       "<IPython.core.display.HTML object>"
      ]
     },
     "metadata": {},
     "output_type": "display_data"
    },
    {
     "data": {
      "text/html": [
       "<br>    <style><br>        .wandb-row {<br>            display: flex;<br>            flex-direction: row;<br>            flex-wrap: wrap;<br>            justify-content: flex-start;<br>            width: 100%;<br>        }<br>        .wandb-col {<br>            display: flex;<br>            flex-direction: column;<br>            flex-basis: 100%;<br>            flex: 1;<br>            padding: 10px;<br>        }<br>    </style><br><div class=\"wandb-row\"><div class=\"wandb-col\"><h3>Run history:</h3><br/><table class=\"wandb\"><tr><td>best_reward</td><td>▁</td></tr><tr><td>converged_episode</td><td>▁</td></tr><tr><td>train_time_sec</td><td>▁</td></tr></table><br/></div><div class=\"wandb-col\"><h3>Run summary:</h3><br/><table class=\"wandb\"><tr><td>best_reward</td><td>1</td></tr><tr><td>converged_episode</td><td>371</td></tr><tr><td>train_time_sec</td><td>0.09043</td></tr></table><br/></div></div>"
      ],
      "text/plain": [
       "<IPython.core.display.HTML object>"
      ]
     },
     "metadata": {},
     "output_type": "display_data"
    },
    {
     "data": {
      "text/html": [
       " View run <strong style=\"color:#cdcd00\">major-sweep-23</strong> at: <a href='https://wandb.ai/nightly/montyhall-ql/runs/aqyrq137' target=\"_blank\">https://wandb.ai/nightly/montyhall-ql/runs/aqyrq137</a><br> View project at: <a href='https://wandb.ai/nightly/montyhall-ql' target=\"_blank\">https://wandb.ai/nightly/montyhall-ql</a><br>Synced 5 W&B file(s), 0 media file(s), 0 artifact file(s) and 0 other file(s)"
      ],
      "text/plain": [
       "<IPython.core.display.HTML object>"
      ]
     },
     "metadata": {},
     "output_type": "display_data"
    },
    {
     "data": {
      "text/html": [
       "Find logs at: <code>.\\wandb\\run-20250708_122456-aqyrq137\\logs</code>"
      ],
      "text/plain": [
       "<IPython.core.display.HTML object>"
      ]
     },
     "metadata": {},
     "output_type": "display_data"
    },
    {
     "name": "stderr",
     "output_type": "stream",
     "text": [
      "\u001b[34m\u001b[1mwandb\u001b[0m: Agent Starting Run: vwp748lw with config:\n",
      "\u001b[34m\u001b[1mwandb\u001b[0m: \tdiscount_factor: 0.8088473411123643\n",
      "\u001b[34m\u001b[1mwandb\u001b[0m: \tepsilon_decay: 0.96237112826234\n",
      "\u001b[34m\u001b[1mwandb\u001b[0m: \tlearning_rate: 0.0022644380133819805\n"
     ]
    },
    {
     "data": {
      "text/html": [
       "Ignoring project 'montyhall-ql' when running a sweep."
      ],
      "text/plain": [
       "<IPython.core.display.HTML object>"
      ]
     },
     "metadata": {},
     "output_type": "display_data"
    },
    {
     "data": {
      "text/html": [
       "Tracking run with wandb version 0.19.11"
      ],
      "text/plain": [
       "<IPython.core.display.HTML object>"
      ]
     },
     "metadata": {},
     "output_type": "display_data"
    },
    {
     "data": {
      "text/html": [
       "Run data is saved locally in <code>c:\\Projects\\amethyst\\Solving-Combinatorial-Problems-using-Reinforcement-Learning\\wandb\\run-20250708_122501-vwp748lw</code>"
      ],
      "text/plain": [
       "<IPython.core.display.HTML object>"
      ]
     },
     "metadata": {},
     "output_type": "display_data"
    },
    {
     "data": {
      "text/html": [
       "Syncing run <strong><a href='https://wandb.ai/nightly/montyhall-ql/runs/vwp748lw' target=\"_blank\">fiery-sweep-24</a></strong> to <a href='https://wandb.ai/nightly/montyhall-ql' target=\"_blank\">Weights & Biases</a> (<a href='https://wandb.me/developer-guide' target=\"_blank\">docs</a>)<br>Sweep page: <a href='https://wandb.ai/nightly/montyhall-ql/sweeps/y9nid08r' target=\"_blank\">https://wandb.ai/nightly/montyhall-ql/sweeps/y9nid08r</a>"
      ],
      "text/plain": [
       "<IPython.core.display.HTML object>"
      ]
     },
     "metadata": {},
     "output_type": "display_data"
    },
    {
     "data": {
      "text/html": [
       " View project at <a href='https://wandb.ai/nightly/montyhall-ql' target=\"_blank\">https://wandb.ai/nightly/montyhall-ql</a>"
      ],
      "text/plain": [
       "<IPython.core.display.HTML object>"
      ]
     },
     "metadata": {},
     "output_type": "display_data"
    },
    {
     "data": {
      "text/html": [
       " View sweep at <a href='https://wandb.ai/nightly/montyhall-ql/sweeps/y9nid08r' target=\"_blank\">https://wandb.ai/nightly/montyhall-ql/sweeps/y9nid08r</a>"
      ],
      "text/plain": [
       "<IPython.core.display.HTML object>"
      ]
     },
     "metadata": {},
     "output_type": "display_data"
    },
    {
     "data": {
      "text/html": [
       " View run at <a href='https://wandb.ai/nightly/montyhall-ql/runs/vwp748lw' target=\"_blank\">https://wandb.ai/nightly/montyhall-ql/runs/vwp748lw</a>"
      ],
      "text/plain": [
       "<IPython.core.display.HTML object>"
      ]
     },
     "metadata": {},
     "output_type": "display_data"
    },
    {
     "name": "stderr",
     "output_type": "stream",
     "text": [
      "\u001b[32m2025-07-08 12:25:02.190\u001b[0m | \u001b[1mINFO    \u001b[0m | \u001b[36msrc.rl.tabular_q_learning\u001b[0m:\u001b[36mtrain\u001b[0m:\u001b[36m225\u001b[0m - \u001b[1mEpisode    25 | R: +0.0 | ε: 0.383\u001b[0m\n",
      "\u001b[32m2025-07-08 12:25:02.196\u001b[0m | \u001b[1mINFO    \u001b[0m | \u001b[36msrc.rl.tabular_q_learning\u001b[0m:\u001b[36mtrain\u001b[0m:\u001b[36m225\u001b[0m - \u001b[1mEpisode    50 | R: +1.0 | ε: 0.147\u001b[0m\n",
      "\u001b[32m2025-07-08 12:25:02.203\u001b[0m | \u001b[1mINFO    \u001b[0m | \u001b[36msrc.rl.tabular_q_learning\u001b[0m:\u001b[36mtrain\u001b[0m:\u001b[36m225\u001b[0m - \u001b[1mEpisode    75 | R: +1.0 | ε: 0.056\u001b[0m\n",
      "\u001b[32m2025-07-08 12:25:02.207\u001b[0m | \u001b[1mINFO    \u001b[0m | \u001b[36msrc.rl.tabular_q_learning\u001b[0m:\u001b[36mtrain\u001b[0m:\u001b[36m225\u001b[0m - \u001b[1mEpisode   100 | R: +1.0 | ε: 0.050\u001b[0m\n",
      "\u001b[32m2025-07-08 12:25:02.214\u001b[0m | \u001b[1mINFO    \u001b[0m | \u001b[36msrc.rl.tabular_q_learning\u001b[0m:\u001b[36mtrain\u001b[0m:\u001b[36m225\u001b[0m - \u001b[1mEpisode   125 | R: +1.0 | ε: 0.050\u001b[0m\n",
      "\u001b[32m2025-07-08 12:25:02.219\u001b[0m | \u001b[1mINFO    \u001b[0m | \u001b[36msrc.rl.tabular_q_learning\u001b[0m:\u001b[36mtrain\u001b[0m:\u001b[36m225\u001b[0m - \u001b[1mEpisode   150 | R: +1.0 | ε: 0.050\u001b[0m\n",
      "\u001b[32m2025-07-08 12:25:02.224\u001b[0m | \u001b[1mINFO    \u001b[0m | \u001b[36msrc.rl.tabular_q_learning\u001b[0m:\u001b[36mtrain\u001b[0m:\u001b[36m225\u001b[0m - \u001b[1mEpisode   175 | R: +1.0 | ε: 0.050\u001b[0m\n",
      "\u001b[32m2025-07-08 12:25:02.226\u001b[0m | \u001b[1mINFO    \u001b[0m | \u001b[36msrc.rl.tabular_q_learning\u001b[0m:\u001b[36mtrain\u001b[0m:\u001b[36m225\u001b[0m - \u001b[1mEpisode   200 | R: +1.0 | ε: 0.050\u001b[0m\n",
      "\u001b[32m2025-07-08 12:25:02.236\u001b[0m | \u001b[1mINFO    \u001b[0m | \u001b[36msrc.rl.tabular_q_learning\u001b[0m:\u001b[36mtrain\u001b[0m:\u001b[36m225\u001b[0m - \u001b[1mEpisode   225 | R: +1.0 | ε: 0.050\u001b[0m\n",
      "\u001b[32m2025-07-08 12:25:02.241\u001b[0m | \u001b[1mINFO    \u001b[0m | \u001b[36msrc.rl.tabular_q_learning\u001b[0m:\u001b[36mtrain\u001b[0m:\u001b[36m225\u001b[0m - \u001b[1mEpisode   250 | R: +1.0 | ε: 0.050\u001b[0m\n",
      "\u001b[32m2025-07-08 12:25:02.247\u001b[0m | \u001b[1mINFO    \u001b[0m | \u001b[36msrc.rl.tabular_q_learning\u001b[0m:\u001b[36mtrain\u001b[0m:\u001b[36m225\u001b[0m - \u001b[1mEpisode   275 | R: +1.0 | ε: 0.050\u001b[0m\n",
      "\u001b[32m2025-07-08 12:25:02.253\u001b[0m | \u001b[1mINFO    \u001b[0m | \u001b[36msrc.rl.tabular_q_learning\u001b[0m:\u001b[36mtrain\u001b[0m:\u001b[36m225\u001b[0m - \u001b[1mEpisode   300 | R: +1.0 | ε: 0.050\u001b[0m\n",
      "\u001b[32m2025-07-08 12:25:02.260\u001b[0m | \u001b[1mINFO    \u001b[0m | \u001b[36msrc.rl.tabular_q_learning\u001b[0m:\u001b[36mtrain\u001b[0m:\u001b[36m225\u001b[0m - \u001b[1mEpisode   325 | R: +1.0 | ε: 0.050\u001b[0m\n",
      "\u001b[32m2025-07-08 12:25:02.260\u001b[0m | \u001b[1mINFO    \u001b[0m | \u001b[36msrc.rl.tabular_q_learning\u001b[0m:\u001b[36mtrain\u001b[0m:\u001b[36m225\u001b[0m - \u001b[1mEpisode   350 | R: +1.0 | ε: 0.050\u001b[0m\n",
      "\u001b[32m2025-07-08 12:25:02.272\u001b[0m | \u001b[1mINFO    \u001b[0m | \u001b[36msrc.rl.tabular_q_learning\u001b[0m:\u001b[36mtrain\u001b[0m:\u001b[36m225\u001b[0m - \u001b[1mEpisode   375 | R: +1.0 | ε: 0.050\u001b[0m\n",
      "\u001b[32m2025-07-08 12:25:02.276\u001b[0m | \u001b[1mINFO    \u001b[0m | \u001b[36msrc.rl.tabular_q_learning\u001b[0m:\u001b[36mtrain\u001b[0m:\u001b[36m225\u001b[0m - \u001b[1mEpisode   400 | R: +1.0 | ε: 0.050\u001b[0m\n",
      "\u001b[32m2025-07-08 12:25:02.283\u001b[0m | \u001b[1mINFO    \u001b[0m | \u001b[36msrc.rl.tabular_q_learning\u001b[0m:\u001b[36mtrain\u001b[0m:\u001b[36m225\u001b[0m - \u001b[1mEpisode   425 | R: +1.0 | ε: 0.050\u001b[0m\n",
      "\u001b[32m2025-07-08 12:25:02.289\u001b[0m | \u001b[1mINFO    \u001b[0m | \u001b[36msrc.rl.tabular_q_learning\u001b[0m:\u001b[36mtrain\u001b[0m:\u001b[36m225\u001b[0m - \u001b[1mEpisode   450 | R: +1.0 | ε: 0.050\u001b[0m\n",
      "\u001b[32m2025-07-08 12:25:02.295\u001b[0m | \u001b[1mINFO    \u001b[0m | \u001b[36msrc.rl.tabular_q_learning\u001b[0m:\u001b[36mtrain\u001b[0m:\u001b[36m225\u001b[0m - \u001b[1mEpisode   475 | R: +1.0 | ε: 0.050\u001b[0m\n",
      "\u001b[32m2025-07-08 12:25:02.296\u001b[0m | \u001b[1mINFO    \u001b[0m | \u001b[36msrc.rl.tabular_q_learning\u001b[0m:\u001b[36mtrain\u001b[0m:\u001b[36m225\u001b[0m - \u001b[1mEpisode   500 | R: +1.0 | ε: 0.050\u001b[0m\n"
     ]
    },
    {
     "data": {
      "text/html": [],
      "text/plain": [
       "<IPython.core.display.HTML object>"
      ]
     },
     "metadata": {},
     "output_type": "display_data"
    },
    {
     "data": {
      "text/html": [
       "<br>    <style><br>        .wandb-row {<br>            display: flex;<br>            flex-direction: row;<br>            flex-wrap: wrap;<br>            justify-content: flex-start;<br>            width: 100%;<br>        }<br>        .wandb-col {<br>            display: flex;<br>            flex-direction: column;<br>            flex-basis: 100%;<br>            flex: 1;<br>            padding: 10px;<br>        }<br>    </style><br><div class=\"wandb-row\"><div class=\"wandb-col\"><h3>Run history:</h3><br/><table class=\"wandb\"><tr><td>best_reward</td><td>▁</td></tr><tr><td>converged_episode</td><td>▁</td></tr><tr><td>train_time_sec</td><td>▁</td></tr></table><br/></div><div class=\"wandb-col\"><h3>Run summary:</h3><br/><table class=\"wandb\"><tr><td>best_reward</td><td>1</td></tr><tr><td>converged_episode</td><td>-1</td></tr><tr><td>train_time_sec</td><td>0</td></tr></table><br/></div></div>"
      ],
      "text/plain": [
       "<IPython.core.display.HTML object>"
      ]
     },
     "metadata": {},
     "output_type": "display_data"
    },
    {
     "data": {
      "text/html": [
       " View run <strong style=\"color:#cdcd00\">fiery-sweep-24</strong> at: <a href='https://wandb.ai/nightly/montyhall-ql/runs/vwp748lw' target=\"_blank\">https://wandb.ai/nightly/montyhall-ql/runs/vwp748lw</a><br> View project at: <a href='https://wandb.ai/nightly/montyhall-ql' target=\"_blank\">https://wandb.ai/nightly/montyhall-ql</a><br>Synced 5 W&B file(s), 0 media file(s), 0 artifact file(s) and 0 other file(s)"
      ],
      "text/plain": [
       "<IPython.core.display.HTML object>"
      ]
     },
     "metadata": {},
     "output_type": "display_data"
    },
    {
     "data": {
      "text/html": [
       "Find logs at: <code>.\\wandb\\run-20250708_122501-vwp748lw\\logs</code>"
      ],
      "text/plain": [
       "<IPython.core.display.HTML object>"
      ]
     },
     "metadata": {},
     "output_type": "display_data"
    },
    {
     "name": "stderr",
     "output_type": "stream",
     "text": [
      "\u001b[34m\u001b[1mwandb\u001b[0m: Agent Starting Run: 801lae58 with config:\n",
      "\u001b[34m\u001b[1mwandb\u001b[0m: \tdiscount_factor: 0.9335897176625362\n",
      "\u001b[34m\u001b[1mwandb\u001b[0m: \tepsilon_decay: 0.9950782053671584\n",
      "\u001b[34m\u001b[1mwandb\u001b[0m: \tlearning_rate: 0.008147763733846554\n"
     ]
    },
    {
     "data": {
      "text/html": [
       "Ignoring project 'montyhall-ql' when running a sweep."
      ],
      "text/plain": [
       "<IPython.core.display.HTML object>"
      ]
     },
     "metadata": {},
     "output_type": "display_data"
    },
    {
     "data": {
      "text/html": [
       "Tracking run with wandb version 0.19.11"
      ],
      "text/plain": [
       "<IPython.core.display.HTML object>"
      ]
     },
     "metadata": {},
     "output_type": "display_data"
    },
    {
     "data": {
      "text/html": [
       "Run data is saved locally in <code>c:\\Projects\\amethyst\\Solving-Combinatorial-Problems-using-Reinforcement-Learning\\wandb\\run-20250708_122506-801lae58</code>"
      ],
      "text/plain": [
       "<IPython.core.display.HTML object>"
      ]
     },
     "metadata": {},
     "output_type": "display_data"
    },
    {
     "data": {
      "text/html": [
       "Syncing run <strong><a href='https://wandb.ai/nightly/montyhall-ql/runs/801lae58' target=\"_blank\">fine-sweep-25</a></strong> to <a href='https://wandb.ai/nightly/montyhall-ql' target=\"_blank\">Weights & Biases</a> (<a href='https://wandb.me/developer-guide' target=\"_blank\">docs</a>)<br>Sweep page: <a href='https://wandb.ai/nightly/montyhall-ql/sweeps/y9nid08r' target=\"_blank\">https://wandb.ai/nightly/montyhall-ql/sweeps/y9nid08r</a>"
      ],
      "text/plain": [
       "<IPython.core.display.HTML object>"
      ]
     },
     "metadata": {},
     "output_type": "display_data"
    },
    {
     "data": {
      "text/html": [
       " View project at <a href='https://wandb.ai/nightly/montyhall-ql' target=\"_blank\">https://wandb.ai/nightly/montyhall-ql</a>"
      ],
      "text/plain": [
       "<IPython.core.display.HTML object>"
      ]
     },
     "metadata": {},
     "output_type": "display_data"
    },
    {
     "data": {
      "text/html": [
       " View sweep at <a href='https://wandb.ai/nightly/montyhall-ql/sweeps/y9nid08r' target=\"_blank\">https://wandb.ai/nightly/montyhall-ql/sweeps/y9nid08r</a>"
      ],
      "text/plain": [
       "<IPython.core.display.HTML object>"
      ]
     },
     "metadata": {},
     "output_type": "display_data"
    },
    {
     "data": {
      "text/html": [
       " View run at <a href='https://wandb.ai/nightly/montyhall-ql/runs/801lae58' target=\"_blank\">https://wandb.ai/nightly/montyhall-ql/runs/801lae58</a>"
      ],
      "text/plain": [
       "<IPython.core.display.HTML object>"
      ]
     },
     "metadata": {},
     "output_type": "display_data"
    },
    {
     "name": "stderr",
     "output_type": "stream",
     "text": [
      "\u001b[32m2025-07-08 12:25:07.450\u001b[0m | \u001b[1mINFO    \u001b[0m | \u001b[36msrc.rl.tabular_q_learning\u001b[0m:\u001b[36mtrain\u001b[0m:\u001b[36m225\u001b[0m - \u001b[1mEpisode    25 | R: +0.0 | ε: 0.884\u001b[0m\n",
      "\u001b[32m2025-07-08 12:25:07.455\u001b[0m | \u001b[1mINFO    \u001b[0m | \u001b[36msrc.rl.tabular_q_learning\u001b[0m:\u001b[36mtrain\u001b[0m:\u001b[36m225\u001b[0m - \u001b[1mEpisode    50 | R: +1.0 | ε: 0.781\u001b[0m\n",
      "\u001b[32m2025-07-08 12:25:07.464\u001b[0m | \u001b[1mINFO    \u001b[0m | \u001b[36msrc.rl.tabular_q_learning\u001b[0m:\u001b[36mtrain\u001b[0m:\u001b[36m225\u001b[0m - \u001b[1mEpisode    75 | R: +0.0 | ε: 0.691\u001b[0m\n",
      "\u001b[32m2025-07-08 12:25:07.471\u001b[0m | \u001b[1mINFO    \u001b[0m | \u001b[36msrc.rl.tabular_q_learning\u001b[0m:\u001b[36mtrain\u001b[0m:\u001b[36m225\u001b[0m - \u001b[1mEpisode   100 | R: +1.0 | ε: 0.611\u001b[0m\n",
      "\u001b[32m2025-07-08 12:25:07.478\u001b[0m | \u001b[1mINFO    \u001b[0m | \u001b[36msrc.rl.tabular_q_learning\u001b[0m:\u001b[36mtrain\u001b[0m:\u001b[36m225\u001b[0m - \u001b[1mEpisode   125 | R: +0.0 | ε: 0.540\u001b[0m\n",
      "\u001b[32m2025-07-08 12:25:07.483\u001b[0m | \u001b[1mINFO    \u001b[0m | \u001b[36msrc.rl.tabular_q_learning\u001b[0m:\u001b[36mtrain\u001b[0m:\u001b[36m225\u001b[0m - \u001b[1mEpisode   150 | R: +1.0 | ε: 0.477\u001b[0m\n",
      "\u001b[32m2025-07-08 12:25:07.495\u001b[0m | \u001b[1mINFO    \u001b[0m | \u001b[36msrc.rl.tabular_q_learning\u001b[0m:\u001b[36mtrain\u001b[0m:\u001b[36m225\u001b[0m - \u001b[1mEpisode   175 | R: +0.0 | ε: 0.422\u001b[0m\n",
      "\u001b[32m2025-07-08 12:25:07.496\u001b[0m | \u001b[1mINFO    \u001b[0m | \u001b[36msrc.rl.tabular_q_learning\u001b[0m:\u001b[36mtrain\u001b[0m:\u001b[36m225\u001b[0m - \u001b[1mEpisode   200 | R: +1.0 | ε: 0.373\u001b[0m\n",
      "\u001b[32m2025-07-08 12:25:07.511\u001b[0m | \u001b[1mINFO    \u001b[0m | \u001b[36msrc.rl.tabular_q_learning\u001b[0m:\u001b[36mtrain\u001b[0m:\u001b[36m225\u001b[0m - \u001b[1mEpisode   225 | R: +1.0 | ε: 0.330\u001b[0m\n",
      "\u001b[32m2025-07-08 12:25:07.519\u001b[0m | \u001b[1mINFO    \u001b[0m | \u001b[36msrc.rl.tabular_q_learning\u001b[0m:\u001b[36mtrain\u001b[0m:\u001b[36m225\u001b[0m - \u001b[1mEpisode   250 | R: +1.0 | ε: 0.291\u001b[0m\n",
      "\u001b[32m2025-07-08 12:25:07.524\u001b[0m | \u001b[1mINFO    \u001b[0m | \u001b[36msrc.rl.tabular_q_learning\u001b[0m:\u001b[36mtrain\u001b[0m:\u001b[36m225\u001b[0m - \u001b[1mEpisode   275 | R: +1.0 | ε: 0.257\u001b[0m\n",
      "\u001b[32m2025-07-08 12:25:07.532\u001b[0m | \u001b[1mINFO    \u001b[0m | \u001b[36msrc.rl.tabular_q_learning\u001b[0m:\u001b[36mtrain\u001b[0m:\u001b[36m225\u001b[0m - \u001b[1mEpisode   300 | R: +1.0 | ε: 0.228\u001b[0m\n",
      "\u001b[32m2025-07-08 12:25:07.539\u001b[0m | \u001b[1mINFO    \u001b[0m | \u001b[36msrc.rl.tabular_q_learning\u001b[0m:\u001b[36mtrain\u001b[0m:\u001b[36m225\u001b[0m - \u001b[1mEpisode   325 | R: +1.0 | ε: 0.201\u001b[0m\n",
      "\u001b[32m2025-07-08 12:25:07.545\u001b[0m | \u001b[1mINFO    \u001b[0m | \u001b[36msrc.rl.tabular_q_learning\u001b[0m:\u001b[36mtrain\u001b[0m:\u001b[36m225\u001b[0m - \u001b[1mEpisode   350 | R: +1.0 | ε: 0.178\u001b[0m\n",
      "\u001b[32m2025-07-08 12:25:07.551\u001b[0m | \u001b[1mINFO    \u001b[0m | \u001b[36msrc.rl.tabular_q_learning\u001b[0m:\u001b[36mtrain\u001b[0m:\u001b[36m225\u001b[0m - \u001b[1mEpisode   375 | R: +1.0 | ε: 0.157\u001b[0m\n",
      "\u001b[32m2025-07-08 12:25:07.559\u001b[0m | \u001b[1mINFO    \u001b[0m | \u001b[36msrc.rl.tabular_q_learning\u001b[0m:\u001b[36mtrain\u001b[0m:\u001b[36m225\u001b[0m - \u001b[1mEpisode   400 | R: +1.0 | ε: 0.139\u001b[0m\n",
      "\u001b[32m2025-07-08 12:25:07.566\u001b[0m | \u001b[1mINFO    \u001b[0m | \u001b[36msrc.rl.tabular_q_learning\u001b[0m:\u001b[36mtrain\u001b[0m:\u001b[36m225\u001b[0m - \u001b[1mEpisode   425 | R: +1.0 | ε: 0.123\u001b[0m\n",
      "\u001b[32m2025-07-08 12:25:07.572\u001b[0m | \u001b[1mINFO    \u001b[0m | \u001b[36msrc.rl.tabular_q_learning\u001b[0m:\u001b[36mtrain\u001b[0m:\u001b[36m225\u001b[0m - \u001b[1mEpisode   450 | R: +1.0 | ε: 0.109\u001b[0m\n",
      "\u001b[32m2025-07-08 12:25:07.579\u001b[0m | \u001b[1mINFO    \u001b[0m | \u001b[36msrc.rl.tabular_q_learning\u001b[0m:\u001b[36mtrain\u001b[0m:\u001b[36m225\u001b[0m - \u001b[1mEpisode   475 | R: +1.0 | ε: 0.096\u001b[0m\n",
      "\u001b[32m2025-07-08 12:25:07.586\u001b[0m | \u001b[1mINFO    \u001b[0m | \u001b[36msrc.rl.tabular_q_learning\u001b[0m:\u001b[36mtrain\u001b[0m:\u001b[36m225\u001b[0m - \u001b[1mEpisode   500 | R: +1.0 | ε: 0.085\u001b[0m\n"
     ]
    },
    {
     "data": {
      "text/html": [],
      "text/plain": [
       "<IPython.core.display.HTML object>"
      ]
     },
     "metadata": {},
     "output_type": "display_data"
    },
    {
     "data": {
      "text/html": [
       "<br>    <style><br>        .wandb-row {<br>            display: flex;<br>            flex-direction: row;<br>            flex-wrap: wrap;<br>            justify-content: flex-start;<br>            width: 100%;<br>        }<br>        .wandb-col {<br>            display: flex;<br>            flex-direction: column;<br>            flex-basis: 100%;<br>            flex: 1;<br>            padding: 10px;<br>        }<br>    </style><br><div class=\"wandb-row\"><div class=\"wandb-col\"><h3>Run history:</h3><br/><table class=\"wandb\"><tr><td>best_reward</td><td>▁</td></tr><tr><td>converged_episode</td><td>▁</td></tr><tr><td>train_time_sec</td><td>▁</td></tr></table><br/></div><div class=\"wandb-col\"><h3>Run summary:</h3><br/><table class=\"wandb\"><tr><td>best_reward</td><td>1</td></tr><tr><td>converged_episode</td><td>-1</td></tr><tr><td>train_time_sec</td><td>0</td></tr></table><br/></div></div>"
      ],
      "text/plain": [
       "<IPython.core.display.HTML object>"
      ]
     },
     "metadata": {},
     "output_type": "display_data"
    },
    {
     "data": {
      "text/html": [
       " View run <strong style=\"color:#cdcd00\">fine-sweep-25</strong> at: <a href='https://wandb.ai/nightly/montyhall-ql/runs/801lae58' target=\"_blank\">https://wandb.ai/nightly/montyhall-ql/runs/801lae58</a><br> View project at: <a href='https://wandb.ai/nightly/montyhall-ql' target=\"_blank\">https://wandb.ai/nightly/montyhall-ql</a><br>Synced 5 W&B file(s), 0 media file(s), 0 artifact file(s) and 0 other file(s)"
      ],
      "text/plain": [
       "<IPython.core.display.HTML object>"
      ]
     },
     "metadata": {},
     "output_type": "display_data"
    },
    {
     "data": {
      "text/html": [
       "Find logs at: <code>.\\wandb\\run-20250708_122506-801lae58\\logs</code>"
      ],
      "text/plain": [
       "<IPython.core.display.HTML object>"
      ]
     },
     "metadata": {},
     "output_type": "display_data"
    },
    {
     "name": "stderr",
     "output_type": "stream",
     "text": [
      "\u001b[34m\u001b[1mwandb\u001b[0m: Agent Starting Run: jzcukpc2 with config:\n",
      "\u001b[34m\u001b[1mwandb\u001b[0m: \tdiscount_factor: 0.8596660022774031\n",
      "\u001b[34m\u001b[1mwandb\u001b[0m: \tepsilon_decay: 0.983959073873028\n",
      "\u001b[34m\u001b[1mwandb\u001b[0m: \tlearning_rate: 0.0001400278104473869\n"
     ]
    },
    {
     "data": {
      "text/html": [
       "Ignoring project 'montyhall-ql' when running a sweep."
      ],
      "text/plain": [
       "<IPython.core.display.HTML object>"
      ]
     },
     "metadata": {},
     "output_type": "display_data"
    },
    {
     "data": {
      "text/html": [
       "Tracking run with wandb version 0.19.11"
      ],
      "text/plain": [
       "<IPython.core.display.HTML object>"
      ]
     },
     "metadata": {},
     "output_type": "display_data"
    },
    {
     "data": {
      "text/html": [
       "Run data is saved locally in <code>c:\\Projects\\amethyst\\Solving-Combinatorial-Problems-using-Reinforcement-Learning\\wandb\\run-20250708_122512-jzcukpc2</code>"
      ],
      "text/plain": [
       "<IPython.core.display.HTML object>"
      ]
     },
     "metadata": {},
     "output_type": "display_data"
    },
    {
     "data": {
      "text/html": [
       "Syncing run <strong><a href='https://wandb.ai/nightly/montyhall-ql/runs/jzcukpc2' target=\"_blank\">rare-sweep-26</a></strong> to <a href='https://wandb.ai/nightly/montyhall-ql' target=\"_blank\">Weights & Biases</a> (<a href='https://wandb.me/developer-guide' target=\"_blank\">docs</a>)<br>Sweep page: <a href='https://wandb.ai/nightly/montyhall-ql/sweeps/y9nid08r' target=\"_blank\">https://wandb.ai/nightly/montyhall-ql/sweeps/y9nid08r</a>"
      ],
      "text/plain": [
       "<IPython.core.display.HTML object>"
      ]
     },
     "metadata": {},
     "output_type": "display_data"
    },
    {
     "data": {
      "text/html": [
       " View project at <a href='https://wandb.ai/nightly/montyhall-ql' target=\"_blank\">https://wandb.ai/nightly/montyhall-ql</a>"
      ],
      "text/plain": [
       "<IPython.core.display.HTML object>"
      ]
     },
     "metadata": {},
     "output_type": "display_data"
    },
    {
     "data": {
      "text/html": [
       " View sweep at <a href='https://wandb.ai/nightly/montyhall-ql/sweeps/y9nid08r' target=\"_blank\">https://wandb.ai/nightly/montyhall-ql/sweeps/y9nid08r</a>"
      ],
      "text/plain": [
       "<IPython.core.display.HTML object>"
      ]
     },
     "metadata": {},
     "output_type": "display_data"
    },
    {
     "data": {
      "text/html": [
       " View run at <a href='https://wandb.ai/nightly/montyhall-ql/runs/jzcukpc2' target=\"_blank\">https://wandb.ai/nightly/montyhall-ql/runs/jzcukpc2</a>"
      ],
      "text/plain": [
       "<IPython.core.display.HTML object>"
      ]
     },
     "metadata": {},
     "output_type": "display_data"
    },
    {
     "name": "stderr",
     "output_type": "stream",
     "text": [
      "\u001b[32m2025-07-08 12:25:12.870\u001b[0m | \u001b[1mINFO    \u001b[0m | \u001b[36msrc.rl.tabular_q_learning\u001b[0m:\u001b[36mtrain\u001b[0m:\u001b[36m225\u001b[0m - \u001b[1mEpisode    25 | R: +1.0 | ε: 0.667\u001b[0m\n",
      "\u001b[32m2025-07-08 12:25:12.881\u001b[0m | \u001b[1mINFO    \u001b[0m | \u001b[36msrc.rl.tabular_q_learning\u001b[0m:\u001b[36mtrain\u001b[0m:\u001b[36m225\u001b[0m - \u001b[1mEpisode    50 | R: +1.0 | ε: 0.446\u001b[0m\n",
      "\u001b[32m2025-07-08 12:25:12.888\u001b[0m | \u001b[1mINFO    \u001b[0m | \u001b[36msrc.rl.tabular_q_learning\u001b[0m:\u001b[36mtrain\u001b[0m:\u001b[36m225\u001b[0m - \u001b[1mEpisode    75 | R: +1.0 | ε: 0.297\u001b[0m\n",
      "\u001b[32m2025-07-08 12:25:12.893\u001b[0m | \u001b[1mINFO    \u001b[0m | \u001b[36msrc.rl.tabular_q_learning\u001b[0m:\u001b[36mtrain\u001b[0m:\u001b[36m225\u001b[0m - \u001b[1mEpisode   100 | R: +1.0 | ε: 0.198\u001b[0m\n",
      "\u001b[32m2025-07-08 12:25:12.898\u001b[0m | \u001b[1mINFO    \u001b[0m | \u001b[36msrc.rl.tabular_q_learning\u001b[0m:\u001b[36mtrain\u001b[0m:\u001b[36m225\u001b[0m - \u001b[1mEpisode   125 | R: +1.0 | ε: 0.132\u001b[0m\n",
      "\u001b[32m2025-07-08 12:25:12.907\u001b[0m | \u001b[1mINFO    \u001b[0m | \u001b[36msrc.rl.tabular_q_learning\u001b[0m:\u001b[36mtrain\u001b[0m:\u001b[36m225\u001b[0m - \u001b[1mEpisode   150 | R: +1.0 | ε: 0.088\u001b[0m\n",
      "\u001b[32m2025-07-08 12:25:12.913\u001b[0m | \u001b[1mINFO    \u001b[0m | \u001b[36msrc.rl.tabular_q_learning\u001b[0m:\u001b[36mtrain\u001b[0m:\u001b[36m225\u001b[0m - \u001b[1mEpisode   175 | R: +1.0 | ε: 0.059\u001b[0m\n",
      "\u001b[32m2025-07-08 12:25:12.918\u001b[0m | \u001b[1mINFO    \u001b[0m | \u001b[36msrc.rl.tabular_q_learning\u001b[0m:\u001b[36mtrain\u001b[0m:\u001b[36m225\u001b[0m - \u001b[1mEpisode   200 | R: +1.0 | ε: 0.050\u001b[0m\n",
      "\u001b[32m2025-07-08 12:25:12.927\u001b[0m | \u001b[1mINFO    \u001b[0m | \u001b[36msrc.rl.tabular_q_learning\u001b[0m:\u001b[36mtrain\u001b[0m:\u001b[36m225\u001b[0m - \u001b[1mEpisode   225 | R: +1.0 | ε: 0.050\u001b[0m\n",
      "\u001b[32m2025-07-08 12:25:12.935\u001b[0m | \u001b[1mINFO    \u001b[0m | \u001b[36msrc.rl.tabular_q_learning\u001b[0m:\u001b[36mtrain\u001b[0m:\u001b[36m225\u001b[0m - \u001b[1mEpisode   250 | R: +1.0 | ε: 0.050\u001b[0m\n",
      "\u001b[32m2025-07-08 12:25:12.942\u001b[0m | \u001b[1mINFO    \u001b[0m | \u001b[36msrc.rl.tabular_q_learning\u001b[0m:\u001b[36mtrain\u001b[0m:\u001b[36m225\u001b[0m - \u001b[1mEpisode   275 | R: +1.0 | ε: 0.050\u001b[0m\n",
      "\u001b[32m2025-07-08 12:25:12.947\u001b[0m | \u001b[1mINFO    \u001b[0m | \u001b[36msrc.rl.tabular_q_learning\u001b[0m:\u001b[36mtrain\u001b[0m:\u001b[36m225\u001b[0m - \u001b[1mEpisode   300 | R: +1.0 | ε: 0.050\u001b[0m\n",
      "\u001b[32m2025-07-08 12:25:12.954\u001b[0m | \u001b[1mINFO    \u001b[0m | \u001b[36msrc.rl.tabular_q_learning\u001b[0m:\u001b[36mtrain\u001b[0m:\u001b[36m225\u001b[0m - \u001b[1mEpisode   325 | R: +1.0 | ε: 0.050\u001b[0m\n",
      "\u001b[32m2025-07-08 12:25:12.961\u001b[0m | \u001b[1mINFO    \u001b[0m | \u001b[36msrc.rl.tabular_q_learning\u001b[0m:\u001b[36mtrain\u001b[0m:\u001b[36m225\u001b[0m - \u001b[1mEpisode   350 | R: +1.0 | ε: 0.050\u001b[0m\n",
      "\u001b[32m2025-07-08 12:25:12.968\u001b[0m | \u001b[1mINFO    \u001b[0m | \u001b[36msrc.rl.tabular_q_learning\u001b[0m:\u001b[36mtrain\u001b[0m:\u001b[36m225\u001b[0m - \u001b[1mEpisode   375 | R: +1.0 | ε: 0.050\u001b[0m\n",
      "\u001b[32m2025-07-08 12:25:12.972\u001b[0m | \u001b[32m\u001b[1mSUCCESS \u001b[0m | \u001b[36msrc.rl.tabular_q_learning\u001b[0m:\u001b[36mtrain\u001b[0m:\u001b[36m236\u001b[0m - \u001b[32m\u001b[1mConverged at episode 394 after 0.10s\u001b[0m\n",
      "\u001b[32m2025-07-08 12:25:12.974\u001b[0m | \u001b[1mINFO    \u001b[0m | \u001b[36msrc.rl.tabular_q_learning\u001b[0m:\u001b[36mtrain\u001b[0m:\u001b[36m225\u001b[0m - \u001b[1mEpisode   400 | R: +1.0 | ε: 0.050\u001b[0m\n",
      "\u001b[32m2025-07-08 12:25:12.981\u001b[0m | \u001b[1mINFO    \u001b[0m | \u001b[36msrc.rl.tabular_q_learning\u001b[0m:\u001b[36mtrain\u001b[0m:\u001b[36m225\u001b[0m - \u001b[1mEpisode   425 | R: +1.0 | ε: 0.050\u001b[0m\n",
      "\u001b[32m2025-07-08 12:25:12.986\u001b[0m | \u001b[1mINFO    \u001b[0m | \u001b[36msrc.rl.tabular_q_learning\u001b[0m:\u001b[36mtrain\u001b[0m:\u001b[36m225\u001b[0m - \u001b[1mEpisode   450 | R: +1.0 | ε: 0.050\u001b[0m\n",
      "\u001b[32m2025-07-08 12:25:12.993\u001b[0m | \u001b[1mINFO    \u001b[0m | \u001b[36msrc.rl.tabular_q_learning\u001b[0m:\u001b[36mtrain\u001b[0m:\u001b[36m225\u001b[0m - \u001b[1mEpisode   475 | R: +1.0 | ε: 0.050\u001b[0m\n",
      "\u001b[32m2025-07-08 12:25:13.000\u001b[0m | \u001b[1mINFO    \u001b[0m | \u001b[36msrc.rl.tabular_q_learning\u001b[0m:\u001b[36mtrain\u001b[0m:\u001b[36m225\u001b[0m - \u001b[1mEpisode   500 | R: +1.0 | ε: 0.050\u001b[0m\n"
     ]
    },
    {
     "data": {
      "text/html": [],
      "text/plain": [
       "<IPython.core.display.HTML object>"
      ]
     },
     "metadata": {},
     "output_type": "display_data"
    },
    {
     "data": {
      "text/html": [
       "<br>    <style><br>        .wandb-row {<br>            display: flex;<br>            flex-direction: row;<br>            flex-wrap: wrap;<br>            justify-content: flex-start;<br>            width: 100%;<br>        }<br>        .wandb-col {<br>            display: flex;<br>            flex-direction: column;<br>            flex-basis: 100%;<br>            flex: 1;<br>            padding: 10px;<br>        }<br>    </style><br><div class=\"wandb-row\"><div class=\"wandb-col\"><h3>Run history:</h3><br/><table class=\"wandb\"><tr><td>best_reward</td><td>▁</td></tr><tr><td>converged_episode</td><td>▁</td></tr><tr><td>train_time_sec</td><td>▁</td></tr></table><br/></div><div class=\"wandb-col\"><h3>Run summary:</h3><br/><table class=\"wandb\"><tr><td>best_reward</td><td>1</td></tr><tr><td>converged_episode</td><td>394</td></tr><tr><td>train_time_sec</td><td>0.1042</td></tr></table><br/></div></div>"
      ],
      "text/plain": [
       "<IPython.core.display.HTML object>"
      ]
     },
     "metadata": {},
     "output_type": "display_data"
    },
    {
     "data": {
      "text/html": [
       " View run <strong style=\"color:#cdcd00\">rare-sweep-26</strong> at: <a href='https://wandb.ai/nightly/montyhall-ql/runs/jzcukpc2' target=\"_blank\">https://wandb.ai/nightly/montyhall-ql/runs/jzcukpc2</a><br> View project at: <a href='https://wandb.ai/nightly/montyhall-ql' target=\"_blank\">https://wandb.ai/nightly/montyhall-ql</a><br>Synced 5 W&B file(s), 0 media file(s), 0 artifact file(s) and 0 other file(s)"
      ],
      "text/plain": [
       "<IPython.core.display.HTML object>"
      ]
     },
     "metadata": {},
     "output_type": "display_data"
    },
    {
     "data": {
      "text/html": [
       "Find logs at: <code>.\\wandb\\run-20250708_122512-jzcukpc2\\logs</code>"
      ],
      "text/plain": [
       "<IPython.core.display.HTML object>"
      ]
     },
     "metadata": {},
     "output_type": "display_data"
    },
    {
     "name": "stderr",
     "output_type": "stream",
     "text": [
      "\u001b[34m\u001b[1mwandb\u001b[0m: Agent Starting Run: f2trz9pt with config:\n",
      "\u001b[34m\u001b[1mwandb\u001b[0m: \tdiscount_factor: 0.976450106785821\n",
      "\u001b[34m\u001b[1mwandb\u001b[0m: \tepsilon_decay: 0.9582160481480064\n",
      "\u001b[34m\u001b[1mwandb\u001b[0m: \tlearning_rate: 0.00015604842928113692\n"
     ]
    },
    {
     "data": {
      "text/html": [
       "Ignoring project 'montyhall-ql' when running a sweep."
      ],
      "text/plain": [
       "<IPython.core.display.HTML object>"
      ]
     },
     "metadata": {},
     "output_type": "display_data"
    },
    {
     "data": {
      "text/html": [
       "Tracking run with wandb version 0.19.11"
      ],
      "text/plain": [
       "<IPython.core.display.HTML object>"
      ]
     },
     "metadata": {},
     "output_type": "display_data"
    },
    {
     "data": {
      "text/html": [
       "Run data is saved locally in <code>c:\\Projects\\amethyst\\Solving-Combinatorial-Problems-using-Reinforcement-Learning\\wandb\\run-20250708_122517-f2trz9pt</code>"
      ],
      "text/plain": [
       "<IPython.core.display.HTML object>"
      ]
     },
     "metadata": {},
     "output_type": "display_data"
    },
    {
     "data": {
      "text/html": [
       "Syncing run <strong><a href='https://wandb.ai/nightly/montyhall-ql/runs/f2trz9pt' target=\"_blank\">cool-sweep-27</a></strong> to <a href='https://wandb.ai/nightly/montyhall-ql' target=\"_blank\">Weights & Biases</a> (<a href='https://wandb.me/developer-guide' target=\"_blank\">docs</a>)<br>Sweep page: <a href='https://wandb.ai/nightly/montyhall-ql/sweeps/y9nid08r' target=\"_blank\">https://wandb.ai/nightly/montyhall-ql/sweeps/y9nid08r</a>"
      ],
      "text/plain": [
       "<IPython.core.display.HTML object>"
      ]
     },
     "metadata": {},
     "output_type": "display_data"
    },
    {
     "data": {
      "text/html": [
       " View project at <a href='https://wandb.ai/nightly/montyhall-ql' target=\"_blank\">https://wandb.ai/nightly/montyhall-ql</a>"
      ],
      "text/plain": [
       "<IPython.core.display.HTML object>"
      ]
     },
     "metadata": {},
     "output_type": "display_data"
    },
    {
     "data": {
      "text/html": [
       " View sweep at <a href='https://wandb.ai/nightly/montyhall-ql/sweeps/y9nid08r' target=\"_blank\">https://wandb.ai/nightly/montyhall-ql/sweeps/y9nid08r</a>"
      ],
      "text/plain": [
       "<IPython.core.display.HTML object>"
      ]
     },
     "metadata": {},
     "output_type": "display_data"
    },
    {
     "data": {
      "text/html": [
       " View run at <a href='https://wandb.ai/nightly/montyhall-ql/runs/f2trz9pt' target=\"_blank\">https://wandb.ai/nightly/montyhall-ql/runs/f2trz9pt</a>"
      ],
      "text/plain": [
       "<IPython.core.display.HTML object>"
      ]
     },
     "metadata": {},
     "output_type": "display_data"
    },
    {
     "name": "stderr",
     "output_type": "stream",
     "text": [
      "\u001b[32m2025-07-08 12:25:18.191\u001b[0m | \u001b[1mINFO    \u001b[0m | \u001b[36msrc.rl.tabular_q_learning\u001b[0m:\u001b[36mtrain\u001b[0m:\u001b[36m225\u001b[0m - \u001b[1mEpisode    25 | R: +1.0 | ε: 0.344\u001b[0m\n",
      "\u001b[32m2025-07-08 12:25:18.198\u001b[0m | \u001b[1mINFO    \u001b[0m | \u001b[36msrc.rl.tabular_q_learning\u001b[0m:\u001b[36mtrain\u001b[0m:\u001b[36m225\u001b[0m - \u001b[1mEpisode    50 | R: +1.0 | ε: 0.118\u001b[0m\n",
      "\u001b[32m2025-07-08 12:25:18.206\u001b[0m | \u001b[1mINFO    \u001b[0m | \u001b[36msrc.rl.tabular_q_learning\u001b[0m:\u001b[36mtrain\u001b[0m:\u001b[36m225\u001b[0m - \u001b[1mEpisode    75 | R: +1.0 | ε: 0.050\u001b[0m\n",
      "\u001b[32m2025-07-08 12:25:18.211\u001b[0m | \u001b[1mINFO    \u001b[0m | \u001b[36msrc.rl.tabular_q_learning\u001b[0m:\u001b[36mtrain\u001b[0m:\u001b[36m225\u001b[0m - \u001b[1mEpisode   100 | R: +1.0 | ε: 0.050\u001b[0m\n",
      "\u001b[32m2025-07-08 12:25:18.217\u001b[0m | \u001b[1mINFO    \u001b[0m | \u001b[36msrc.rl.tabular_q_learning\u001b[0m:\u001b[36mtrain\u001b[0m:\u001b[36m225\u001b[0m - \u001b[1mEpisode   125 | R: +1.0 | ε: 0.050\u001b[0m\n",
      "\u001b[32m2025-07-08 12:25:18.227\u001b[0m | \u001b[1mINFO    \u001b[0m | \u001b[36msrc.rl.tabular_q_learning\u001b[0m:\u001b[36mtrain\u001b[0m:\u001b[36m225\u001b[0m - \u001b[1mEpisode   150 | R: +1.0 | ε: 0.050\u001b[0m\n",
      "\u001b[32m2025-07-08 12:25:18.234\u001b[0m | \u001b[1mINFO    \u001b[0m | \u001b[36msrc.rl.tabular_q_learning\u001b[0m:\u001b[36mtrain\u001b[0m:\u001b[36m225\u001b[0m - \u001b[1mEpisode   175 | R: +1.0 | ε: 0.050\u001b[0m\n",
      "\u001b[32m2025-07-08 12:25:18.239\u001b[0m | \u001b[1mINFO    \u001b[0m | \u001b[36msrc.rl.tabular_q_learning\u001b[0m:\u001b[36mtrain\u001b[0m:\u001b[36m225\u001b[0m - \u001b[1mEpisode   200 | R: +1.0 | ε: 0.050\u001b[0m\n",
      "\u001b[32m2025-07-08 12:25:18.248\u001b[0m | \u001b[1mINFO    \u001b[0m | \u001b[36msrc.rl.tabular_q_learning\u001b[0m:\u001b[36mtrain\u001b[0m:\u001b[36m225\u001b[0m - \u001b[1mEpisode   225 | R: +1.0 | ε: 0.050\u001b[0m\n",
      "\u001b[32m2025-07-08 12:25:18.251\u001b[0m | \u001b[1mINFO    \u001b[0m | \u001b[36msrc.rl.tabular_q_learning\u001b[0m:\u001b[36mtrain\u001b[0m:\u001b[36m225\u001b[0m - \u001b[1mEpisode   250 | R: +1.0 | ε: 0.050\u001b[0m\n",
      "\u001b[32m2025-07-08 12:25:18.263\u001b[0m | \u001b[1mINFO    \u001b[0m | \u001b[36msrc.rl.tabular_q_learning\u001b[0m:\u001b[36mtrain\u001b[0m:\u001b[36m225\u001b[0m - \u001b[1mEpisode   275 | R: +1.0 | ε: 0.050\u001b[0m\n",
      "\u001b[32m2025-07-08 12:25:18.265\u001b[0m | \u001b[1mINFO    \u001b[0m | \u001b[36msrc.rl.tabular_q_learning\u001b[0m:\u001b[36mtrain\u001b[0m:\u001b[36m225\u001b[0m - \u001b[1mEpisode   300 | R: +1.0 | ε: 0.050\u001b[0m\n",
      "\u001b[32m2025-07-08 12:25:18.272\u001b[0m | \u001b[1mINFO    \u001b[0m | \u001b[36msrc.rl.tabular_q_learning\u001b[0m:\u001b[36mtrain\u001b[0m:\u001b[36m225\u001b[0m - \u001b[1mEpisode   325 | R: +1.0 | ε: 0.050\u001b[0m\n",
      "\u001b[32m2025-07-08 12:25:18.282\u001b[0m | \u001b[32m\u001b[1mSUCCESS \u001b[0m | \u001b[36msrc.rl.tabular_q_learning\u001b[0m:\u001b[36mtrain\u001b[0m:\u001b[36m236\u001b[0m - \u001b[32m\u001b[1mConverged at episode 346 after 0.10s\u001b[0m\n",
      "\u001b[32m2025-07-08 12:25:18.285\u001b[0m | \u001b[1mINFO    \u001b[0m | \u001b[36msrc.rl.tabular_q_learning\u001b[0m:\u001b[36mtrain\u001b[0m:\u001b[36m225\u001b[0m - \u001b[1mEpisode   350 | R: +1.0 | ε: 0.050\u001b[0m\n",
      "\u001b[32m2025-07-08 12:25:18.286\u001b[0m | \u001b[1mINFO    \u001b[0m | \u001b[36msrc.rl.tabular_q_learning\u001b[0m:\u001b[36mtrain\u001b[0m:\u001b[36m225\u001b[0m - \u001b[1mEpisode   375 | R: +1.0 | ε: 0.050\u001b[0m\n",
      "\u001b[32m2025-07-08 12:25:18.294\u001b[0m | \u001b[1mINFO    \u001b[0m | \u001b[36msrc.rl.tabular_q_learning\u001b[0m:\u001b[36mtrain\u001b[0m:\u001b[36m225\u001b[0m - \u001b[1mEpisode   400 | R: +1.0 | ε: 0.050\u001b[0m\n",
      "\u001b[32m2025-07-08 12:25:18.300\u001b[0m | \u001b[1mINFO    \u001b[0m | \u001b[36msrc.rl.tabular_q_learning\u001b[0m:\u001b[36mtrain\u001b[0m:\u001b[36m225\u001b[0m - \u001b[1mEpisode   425 | R: +1.0 | ε: 0.050\u001b[0m\n",
      "\u001b[32m2025-07-08 12:25:18.307\u001b[0m | \u001b[1mINFO    \u001b[0m | \u001b[36msrc.rl.tabular_q_learning\u001b[0m:\u001b[36mtrain\u001b[0m:\u001b[36m225\u001b[0m - \u001b[1mEpisode   450 | R: +1.0 | ε: 0.050\u001b[0m\n",
      "\u001b[32m2025-07-08 12:25:18.313\u001b[0m | \u001b[1mINFO    \u001b[0m | \u001b[36msrc.rl.tabular_q_learning\u001b[0m:\u001b[36mtrain\u001b[0m:\u001b[36m225\u001b[0m - \u001b[1mEpisode   475 | R: +1.0 | ε: 0.050\u001b[0m\n",
      "\u001b[32m2025-07-08 12:25:18.318\u001b[0m | \u001b[1mINFO    \u001b[0m | \u001b[36msrc.rl.tabular_q_learning\u001b[0m:\u001b[36mtrain\u001b[0m:\u001b[36m225\u001b[0m - \u001b[1mEpisode   500 | R: +1.0 | ε: 0.050\u001b[0m\n"
     ]
    },
    {
     "data": {
      "text/html": [],
      "text/plain": [
       "<IPython.core.display.HTML object>"
      ]
     },
     "metadata": {},
     "output_type": "display_data"
    },
    {
     "data": {
      "text/html": [
       "<br>    <style><br>        .wandb-row {<br>            display: flex;<br>            flex-direction: row;<br>            flex-wrap: wrap;<br>            justify-content: flex-start;<br>            width: 100%;<br>        }<br>        .wandb-col {<br>            display: flex;<br>            flex-direction: column;<br>            flex-basis: 100%;<br>            flex: 1;<br>            padding: 10px;<br>        }<br>    </style><br><div class=\"wandb-row\"><div class=\"wandb-col\"><h3>Run history:</h3><br/><table class=\"wandb\"><tr><td>best_reward</td><td>▁</td></tr><tr><td>converged_episode</td><td>▁</td></tr><tr><td>train_time_sec</td><td>▁</td></tr></table><br/></div><div class=\"wandb-col\"><h3>Run summary:</h3><br/><table class=\"wandb\"><tr><td>best_reward</td><td>1</td></tr><tr><td>converged_episode</td><td>346</td></tr><tr><td>train_time_sec</td><td>0.09649</td></tr></table><br/></div></div>"
      ],
      "text/plain": [
       "<IPython.core.display.HTML object>"
      ]
     },
     "metadata": {},
     "output_type": "display_data"
    },
    {
     "data": {
      "text/html": [
       " View run <strong style=\"color:#cdcd00\">cool-sweep-27</strong> at: <a href='https://wandb.ai/nightly/montyhall-ql/runs/f2trz9pt' target=\"_blank\">https://wandb.ai/nightly/montyhall-ql/runs/f2trz9pt</a><br> View project at: <a href='https://wandb.ai/nightly/montyhall-ql' target=\"_blank\">https://wandb.ai/nightly/montyhall-ql</a><br>Synced 5 W&B file(s), 0 media file(s), 0 artifact file(s) and 0 other file(s)"
      ],
      "text/plain": [
       "<IPython.core.display.HTML object>"
      ]
     },
     "metadata": {},
     "output_type": "display_data"
    },
    {
     "data": {
      "text/html": [
       "Find logs at: <code>.\\wandb\\run-20250708_122517-f2trz9pt\\logs</code>"
      ],
      "text/plain": [
       "<IPython.core.display.HTML object>"
      ]
     },
     "metadata": {},
     "output_type": "display_data"
    },
    {
     "name": "stderr",
     "output_type": "stream",
     "text": [
      "\u001b[34m\u001b[1mwandb\u001b[0m: Agent Starting Run: evv630w7 with config:\n",
      "\u001b[34m\u001b[1mwandb\u001b[0m: \tdiscount_factor: 0.926922896184746\n",
      "\u001b[34m\u001b[1mwandb\u001b[0m: \tepsilon_decay: 0.9547566175257344\n",
      "\u001b[34m\u001b[1mwandb\u001b[0m: \tlearning_rate: 0.002531806096348185\n"
     ]
    },
    {
     "data": {
      "text/html": [
       "Ignoring project 'montyhall-ql' when running a sweep."
      ],
      "text/plain": [
       "<IPython.core.display.HTML object>"
      ]
     },
     "metadata": {},
     "output_type": "display_data"
    },
    {
     "data": {
      "text/html": [
       "Tracking run with wandb version 0.19.11"
      ],
      "text/plain": [
       "<IPython.core.display.HTML object>"
      ]
     },
     "metadata": {},
     "output_type": "display_data"
    },
    {
     "data": {
      "text/html": [
       "Run data is saved locally in <code>c:\\Projects\\amethyst\\Solving-Combinatorial-Problems-using-Reinforcement-Learning\\wandb\\run-20250708_122523-evv630w7</code>"
      ],
      "text/plain": [
       "<IPython.core.display.HTML object>"
      ]
     },
     "metadata": {},
     "output_type": "display_data"
    },
    {
     "data": {
      "text/html": [
       "Syncing run <strong><a href='https://wandb.ai/nightly/montyhall-ql/runs/evv630w7' target=\"_blank\">upbeat-sweep-28</a></strong> to <a href='https://wandb.ai/nightly/montyhall-ql' target=\"_blank\">Weights & Biases</a> (<a href='https://wandb.me/developer-guide' target=\"_blank\">docs</a>)<br>Sweep page: <a href='https://wandb.ai/nightly/montyhall-ql/sweeps/y9nid08r' target=\"_blank\">https://wandb.ai/nightly/montyhall-ql/sweeps/y9nid08r</a>"
      ],
      "text/plain": [
       "<IPython.core.display.HTML object>"
      ]
     },
     "metadata": {},
     "output_type": "display_data"
    },
    {
     "data": {
      "text/html": [
       " View project at <a href='https://wandb.ai/nightly/montyhall-ql' target=\"_blank\">https://wandb.ai/nightly/montyhall-ql</a>"
      ],
      "text/plain": [
       "<IPython.core.display.HTML object>"
      ]
     },
     "metadata": {},
     "output_type": "display_data"
    },
    {
     "data": {
      "text/html": [
       " View sweep at <a href='https://wandb.ai/nightly/montyhall-ql/sweeps/y9nid08r' target=\"_blank\">https://wandb.ai/nightly/montyhall-ql/sweeps/y9nid08r</a>"
      ],
      "text/plain": [
       "<IPython.core.display.HTML object>"
      ]
     },
     "metadata": {},
     "output_type": "display_data"
    },
    {
     "data": {
      "text/html": [
       " View run at <a href='https://wandb.ai/nightly/montyhall-ql/runs/evv630w7' target=\"_blank\">https://wandb.ai/nightly/montyhall-ql/runs/evv630w7</a>"
      ],
      "text/plain": [
       "<IPython.core.display.HTML object>"
      ]
     },
     "metadata": {},
     "output_type": "display_data"
    },
    {
     "name": "stderr",
     "output_type": "stream",
     "text": [
      "\u001b[32m2025-07-08 12:25:23.684\u001b[0m | \u001b[1mINFO    \u001b[0m | \u001b[36msrc.rl.tabular_q_learning\u001b[0m:\u001b[36mtrain\u001b[0m:\u001b[36m225\u001b[0m - \u001b[1mEpisode    25 | R: +1.0 | ε: 0.314\u001b[0m\n",
      "\u001b[32m2025-07-08 12:25:23.698\u001b[0m | \u001b[1mINFO    \u001b[0m | \u001b[36msrc.rl.tabular_q_learning\u001b[0m:\u001b[36mtrain\u001b[0m:\u001b[36m225\u001b[0m - \u001b[1mEpisode    50 | R: +1.0 | ε: 0.099\u001b[0m\n",
      "\u001b[32m2025-07-08 12:25:23.703\u001b[0m | \u001b[1mINFO    \u001b[0m | \u001b[36msrc.rl.tabular_q_learning\u001b[0m:\u001b[36mtrain\u001b[0m:\u001b[36m225\u001b[0m - \u001b[1mEpisode    75 | R: +1.0 | ε: 0.050\u001b[0m\n",
      "\u001b[32m2025-07-08 12:25:23.712\u001b[0m | \u001b[1mINFO    \u001b[0m | \u001b[36msrc.rl.tabular_q_learning\u001b[0m:\u001b[36mtrain\u001b[0m:\u001b[36m225\u001b[0m - \u001b[1mEpisode   100 | R: +1.0 | ε: 0.050\u001b[0m\n",
      "\u001b[32m2025-07-08 12:25:23.719\u001b[0m | \u001b[1mINFO    \u001b[0m | \u001b[36msrc.rl.tabular_q_learning\u001b[0m:\u001b[36mtrain\u001b[0m:\u001b[36m225\u001b[0m - \u001b[1mEpisode   125 | R: +1.0 | ε: 0.050\u001b[0m\n",
      "\u001b[32m2025-07-08 12:25:23.721\u001b[0m | \u001b[32m\u001b[1mSUCCESS \u001b[0m | \u001b[36msrc.rl.tabular_q_learning\u001b[0m:\u001b[36mtrain\u001b[0m:\u001b[36m236\u001b[0m - \u001b[32m\u001b[1mConverged at episode 133 after 0.04s\u001b[0m\n",
      "\u001b[32m2025-07-08 12:25:23.726\u001b[0m | \u001b[1mINFO    \u001b[0m | \u001b[36msrc.rl.tabular_q_learning\u001b[0m:\u001b[36mtrain\u001b[0m:\u001b[36m225\u001b[0m - \u001b[1mEpisode   150 | R: +1.0 | ε: 0.050\u001b[0m\n",
      "\u001b[32m2025-07-08 12:25:23.731\u001b[0m | \u001b[1mINFO    \u001b[0m | \u001b[36msrc.rl.tabular_q_learning\u001b[0m:\u001b[36mtrain\u001b[0m:\u001b[36m225\u001b[0m - \u001b[1mEpisode   175 | R: +1.0 | ε: 0.050\u001b[0m\n",
      "\u001b[32m2025-07-08 12:25:23.736\u001b[0m | \u001b[1mINFO    \u001b[0m | \u001b[36msrc.rl.tabular_q_learning\u001b[0m:\u001b[36mtrain\u001b[0m:\u001b[36m225\u001b[0m - \u001b[1mEpisode   200 | R: +1.0 | ε: 0.050\u001b[0m\n",
      "\u001b[32m2025-07-08 12:25:23.736\u001b[0m | \u001b[1mINFO    \u001b[0m | \u001b[36msrc.rl.tabular_q_learning\u001b[0m:\u001b[36mtrain\u001b[0m:\u001b[36m225\u001b[0m - \u001b[1mEpisode   225 | R: +1.0 | ε: 0.050\u001b[0m\n",
      "\u001b[32m2025-07-08 12:25:23.743\u001b[0m | \u001b[1mINFO    \u001b[0m | \u001b[36msrc.rl.tabular_q_learning\u001b[0m:\u001b[36mtrain\u001b[0m:\u001b[36m225\u001b[0m - \u001b[1mEpisode   250 | R: +1.0 | ε: 0.050\u001b[0m\n",
      "\u001b[32m2025-07-08 12:25:23.753\u001b[0m | \u001b[1mINFO    \u001b[0m | \u001b[36msrc.rl.tabular_q_learning\u001b[0m:\u001b[36mtrain\u001b[0m:\u001b[36m225\u001b[0m - \u001b[1mEpisode   275 | R: +1.0 | ε: 0.050\u001b[0m\n",
      "\u001b[32m2025-07-08 12:25:23.757\u001b[0m | \u001b[1mINFO    \u001b[0m | \u001b[36msrc.rl.tabular_q_learning\u001b[0m:\u001b[36mtrain\u001b[0m:\u001b[36m225\u001b[0m - \u001b[1mEpisode   300 | R: +1.0 | ε: 0.050\u001b[0m\n",
      "\u001b[32m2025-07-08 12:25:23.764\u001b[0m | \u001b[1mINFO    \u001b[0m | \u001b[36msrc.rl.tabular_q_learning\u001b[0m:\u001b[36mtrain\u001b[0m:\u001b[36m225\u001b[0m - \u001b[1mEpisode   325 | R: +1.0 | ε: 0.050\u001b[0m\n",
      "\u001b[32m2025-07-08 12:25:23.773\u001b[0m | \u001b[1mINFO    \u001b[0m | \u001b[36msrc.rl.tabular_q_learning\u001b[0m:\u001b[36mtrain\u001b[0m:\u001b[36m225\u001b[0m - \u001b[1mEpisode   350 | R: +1.0 | ε: 0.050\u001b[0m\n",
      "\u001b[32m2025-07-08 12:25:23.779\u001b[0m | \u001b[1mINFO    \u001b[0m | \u001b[36msrc.rl.tabular_q_learning\u001b[0m:\u001b[36mtrain\u001b[0m:\u001b[36m225\u001b[0m - \u001b[1mEpisode   375 | R: +1.0 | ε: 0.050\u001b[0m\n",
      "\u001b[32m2025-07-08 12:25:23.783\u001b[0m | \u001b[1mINFO    \u001b[0m | \u001b[36msrc.rl.tabular_q_learning\u001b[0m:\u001b[36mtrain\u001b[0m:\u001b[36m225\u001b[0m - \u001b[1mEpisode   400 | R: +1.0 | ε: 0.050\u001b[0m\n",
      "\u001b[32m2025-07-08 12:25:23.792\u001b[0m | \u001b[1mINFO    \u001b[0m | \u001b[36msrc.rl.tabular_q_learning\u001b[0m:\u001b[36mtrain\u001b[0m:\u001b[36m225\u001b[0m - \u001b[1mEpisode   425 | R: +1.0 | ε: 0.050\u001b[0m\n",
      "\u001b[32m2025-07-08 12:25:23.798\u001b[0m | \u001b[1mINFO    \u001b[0m | \u001b[36msrc.rl.tabular_q_learning\u001b[0m:\u001b[36mtrain\u001b[0m:\u001b[36m225\u001b[0m - \u001b[1mEpisode   450 | R: +1.0 | ε: 0.050\u001b[0m\n",
      "\u001b[32m2025-07-08 12:25:23.798\u001b[0m | \u001b[1mINFO    \u001b[0m | \u001b[36msrc.rl.tabular_q_learning\u001b[0m:\u001b[36mtrain\u001b[0m:\u001b[36m225\u001b[0m - \u001b[1mEpisode   475 | R: +1.0 | ε: 0.050\u001b[0m\n",
      "\u001b[32m2025-07-08 12:25:23.811\u001b[0m | \u001b[1mINFO    \u001b[0m | \u001b[36msrc.rl.tabular_q_learning\u001b[0m:\u001b[36mtrain\u001b[0m:\u001b[36m225\u001b[0m - \u001b[1mEpisode   500 | R: +1.0 | ε: 0.050\u001b[0m\n"
     ]
    },
    {
     "data": {
      "text/html": [],
      "text/plain": [
       "<IPython.core.display.HTML object>"
      ]
     },
     "metadata": {},
     "output_type": "display_data"
    },
    {
     "data": {
      "text/html": [
       "<br>    <style><br>        .wandb-row {<br>            display: flex;<br>            flex-direction: row;<br>            flex-wrap: wrap;<br>            justify-content: flex-start;<br>            width: 100%;<br>        }<br>        .wandb-col {<br>            display: flex;<br>            flex-direction: column;<br>            flex-basis: 100%;<br>            flex: 1;<br>            padding: 10px;<br>        }<br>    </style><br><div class=\"wandb-row\"><div class=\"wandb-col\"><h3>Run history:</h3><br/><table class=\"wandb\"><tr><td>best_reward</td><td>▁</td></tr><tr><td>converged_episode</td><td>▁</td></tr><tr><td>train_time_sec</td><td>▁</td></tr></table><br/></div><div class=\"wandb-col\"><h3>Run summary:</h3><br/><table class=\"wandb\"><tr><td>best_reward</td><td>1</td></tr><tr><td>converged_episode</td><td>133</td></tr><tr><td>train_time_sec</td><td>0.03755</td></tr></table><br/></div></div>"
      ],
      "text/plain": [
       "<IPython.core.display.HTML object>"
      ]
     },
     "metadata": {},
     "output_type": "display_data"
    },
    {
     "data": {
      "text/html": [
       " View run <strong style=\"color:#cdcd00\">upbeat-sweep-28</strong> at: <a href='https://wandb.ai/nightly/montyhall-ql/runs/evv630w7' target=\"_blank\">https://wandb.ai/nightly/montyhall-ql/runs/evv630w7</a><br> View project at: <a href='https://wandb.ai/nightly/montyhall-ql' target=\"_blank\">https://wandb.ai/nightly/montyhall-ql</a><br>Synced 5 W&B file(s), 0 media file(s), 0 artifact file(s) and 0 other file(s)"
      ],
      "text/plain": [
       "<IPython.core.display.HTML object>"
      ]
     },
     "metadata": {},
     "output_type": "display_data"
    },
    {
     "data": {
      "text/html": [
       "Find logs at: <code>.\\wandb\\run-20250708_122523-evv630w7\\logs</code>"
      ],
      "text/plain": [
       "<IPython.core.display.HTML object>"
      ]
     },
     "metadata": {},
     "output_type": "display_data"
    },
    {
     "name": "stderr",
     "output_type": "stream",
     "text": [
      "\u001b[34m\u001b[1mwandb\u001b[0m: Agent Starting Run: m1vxyi5z with config:\n",
      "\u001b[34m\u001b[1mwandb\u001b[0m: \tdiscount_factor: 0.9199196700975204\n",
      "\u001b[34m\u001b[1mwandb\u001b[0m: \tepsilon_decay: 0.9959496271212284\n",
      "\u001b[34m\u001b[1mwandb\u001b[0m: \tlearning_rate: 0.0075310023770832355\n"
     ]
    },
    {
     "data": {
      "text/html": [
       "Ignoring project 'montyhall-ql' when running a sweep."
      ],
      "text/plain": [
       "<IPython.core.display.HTML object>"
      ]
     },
     "metadata": {},
     "output_type": "display_data"
    },
    {
     "data": {
      "text/html": [
       "Tracking run with wandb version 0.19.11"
      ],
      "text/plain": [
       "<IPython.core.display.HTML object>"
      ]
     },
     "metadata": {},
     "output_type": "display_data"
    },
    {
     "data": {
      "text/html": [
       "Run data is saved locally in <code>c:\\Projects\\amethyst\\Solving-Combinatorial-Problems-using-Reinforcement-Learning\\wandb\\run-20250708_122528-m1vxyi5z</code>"
      ],
      "text/plain": [
       "<IPython.core.display.HTML object>"
      ]
     },
     "metadata": {},
     "output_type": "display_data"
    },
    {
     "data": {
      "text/html": [
       "Syncing run <strong><a href='https://wandb.ai/nightly/montyhall-ql/runs/m1vxyi5z' target=\"_blank\">flowing-sweep-29</a></strong> to <a href='https://wandb.ai/nightly/montyhall-ql' target=\"_blank\">Weights & Biases</a> (<a href='https://wandb.me/developer-guide' target=\"_blank\">docs</a>)<br>Sweep page: <a href='https://wandb.ai/nightly/montyhall-ql/sweeps/y9nid08r' target=\"_blank\">https://wandb.ai/nightly/montyhall-ql/sweeps/y9nid08r</a>"
      ],
      "text/plain": [
       "<IPython.core.display.HTML object>"
      ]
     },
     "metadata": {},
     "output_type": "display_data"
    },
    {
     "data": {
      "text/html": [
       " View project at <a href='https://wandb.ai/nightly/montyhall-ql' target=\"_blank\">https://wandb.ai/nightly/montyhall-ql</a>"
      ],
      "text/plain": [
       "<IPython.core.display.HTML object>"
      ]
     },
     "metadata": {},
     "output_type": "display_data"
    },
    {
     "data": {
      "text/html": [
       " View sweep at <a href='https://wandb.ai/nightly/montyhall-ql/sweeps/y9nid08r' target=\"_blank\">https://wandb.ai/nightly/montyhall-ql/sweeps/y9nid08r</a>"
      ],
      "text/plain": [
       "<IPython.core.display.HTML object>"
      ]
     },
     "metadata": {},
     "output_type": "display_data"
    },
    {
     "data": {
      "text/html": [
       " View run at <a href='https://wandb.ai/nightly/montyhall-ql/runs/m1vxyi5z' target=\"_blank\">https://wandb.ai/nightly/montyhall-ql/runs/m1vxyi5z</a>"
      ],
      "text/plain": [
       "<IPython.core.display.HTML object>"
      ]
     },
     "metadata": {},
     "output_type": "display_data"
    },
    {
     "name": "stderr",
     "output_type": "stream",
     "text": [
      "\u001b[32m2025-07-08 12:25:28.979\u001b[0m | \u001b[1mINFO    \u001b[0m | \u001b[36msrc.rl.tabular_q_learning\u001b[0m:\u001b[36mtrain\u001b[0m:\u001b[36m225\u001b[0m - \u001b[1mEpisode    25 | R: +0.0 | ε: 0.904\u001b[0m\n",
      "\u001b[32m2025-07-08 12:25:28.989\u001b[0m | \u001b[1mINFO    \u001b[0m | \u001b[36msrc.rl.tabular_q_learning\u001b[0m:\u001b[36mtrain\u001b[0m:\u001b[36m225\u001b[0m - \u001b[1mEpisode    50 | R: +1.0 | ε: 0.816\u001b[0m\n",
      "\u001b[32m2025-07-08 12:25:28.996\u001b[0m | \u001b[1mINFO    \u001b[0m | \u001b[36msrc.rl.tabular_q_learning\u001b[0m:\u001b[36mtrain\u001b[0m:\u001b[36m225\u001b[0m - \u001b[1mEpisode    75 | R: +0.0 | ε: 0.738\u001b[0m\n",
      "\u001b[32m2025-07-08 12:25:28.999\u001b[0m | \u001b[1mINFO    \u001b[0m | \u001b[36msrc.rl.tabular_q_learning\u001b[0m:\u001b[36mtrain\u001b[0m:\u001b[36m225\u001b[0m - \u001b[1mEpisode   100 | R: +1.0 | ε: 0.666\u001b[0m\n",
      "\u001b[32m2025-07-08 12:25:29.011\u001b[0m | \u001b[1mINFO    \u001b[0m | \u001b[36msrc.rl.tabular_q_learning\u001b[0m:\u001b[36mtrain\u001b[0m:\u001b[36m225\u001b[0m - \u001b[1mEpisode   125 | R: +1.0 | ε: 0.602\u001b[0m\n",
      "\u001b[32m2025-07-08 12:25:29.019\u001b[0m | \u001b[1mINFO    \u001b[0m | \u001b[36msrc.rl.tabular_q_learning\u001b[0m:\u001b[36mtrain\u001b[0m:\u001b[36m225\u001b[0m - \u001b[1mEpisode   150 | R: +1.0 | ε: 0.544\u001b[0m\n",
      "\u001b[32m2025-07-08 12:25:29.027\u001b[0m | \u001b[1mINFO    \u001b[0m | \u001b[36msrc.rl.tabular_q_learning\u001b[0m:\u001b[36mtrain\u001b[0m:\u001b[36m225\u001b[0m - \u001b[1mEpisode   175 | R: +1.0 | ε: 0.492\u001b[0m\n",
      "\u001b[32m2025-07-08 12:25:29.035\u001b[0m | \u001b[1mINFO    \u001b[0m | \u001b[36msrc.rl.tabular_q_learning\u001b[0m:\u001b[36mtrain\u001b[0m:\u001b[36m225\u001b[0m - \u001b[1mEpisode   200 | R: +1.0 | ε: 0.444\u001b[0m\n",
      "\u001b[32m2025-07-08 12:25:29.042\u001b[0m | \u001b[1mINFO    \u001b[0m | \u001b[36msrc.rl.tabular_q_learning\u001b[0m:\u001b[36mtrain\u001b[0m:\u001b[36m225\u001b[0m - \u001b[1mEpisode   225 | R: +1.0 | ε: 0.401\u001b[0m\n",
      "\u001b[32m2025-07-08 12:25:29.051\u001b[0m | \u001b[1mINFO    \u001b[0m | \u001b[36msrc.rl.tabular_q_learning\u001b[0m:\u001b[36mtrain\u001b[0m:\u001b[36m225\u001b[0m - \u001b[1mEpisode   250 | R: +1.0 | ε: 0.363\u001b[0m\n",
      "\u001b[32m2025-07-08 12:25:29.055\u001b[0m | \u001b[1mINFO    \u001b[0m | \u001b[36msrc.rl.tabular_q_learning\u001b[0m:\u001b[36mtrain\u001b[0m:\u001b[36m225\u001b[0m - \u001b[1mEpisode   275 | R: +1.0 | ε: 0.328\u001b[0m\n",
      "\u001b[32m2025-07-08 12:25:29.062\u001b[0m | \u001b[1mINFO    \u001b[0m | \u001b[36msrc.rl.tabular_q_learning\u001b[0m:\u001b[36mtrain\u001b[0m:\u001b[36m225\u001b[0m - \u001b[1mEpisode   300 | R: +1.0 | ε: 0.296\u001b[0m\n",
      "\u001b[32m2025-07-08 12:25:29.071\u001b[0m | \u001b[1mINFO    \u001b[0m | \u001b[36msrc.rl.tabular_q_learning\u001b[0m:\u001b[36mtrain\u001b[0m:\u001b[36m225\u001b[0m - \u001b[1mEpisode   325 | R: +1.0 | ε: 0.267\u001b[0m\n",
      "\u001b[32m2025-07-08 12:25:29.076\u001b[0m | \u001b[1mINFO    \u001b[0m | \u001b[36msrc.rl.tabular_q_learning\u001b[0m:\u001b[36mtrain\u001b[0m:\u001b[36m225\u001b[0m - \u001b[1mEpisode   350 | R: +1.0 | ε: 0.242\u001b[0m\n",
      "\u001b[32m2025-07-08 12:25:29.084\u001b[0m | \u001b[1mINFO    \u001b[0m | \u001b[36msrc.rl.tabular_q_learning\u001b[0m:\u001b[36mtrain\u001b[0m:\u001b[36m225\u001b[0m - \u001b[1mEpisode   375 | R: +1.0 | ε: 0.218\u001b[0m\n",
      "\u001b[32m2025-07-08 12:25:29.090\u001b[0m | \u001b[1mINFO    \u001b[0m | \u001b[36msrc.rl.tabular_q_learning\u001b[0m:\u001b[36mtrain\u001b[0m:\u001b[36m225\u001b[0m - \u001b[1mEpisode   400 | R: +1.0 | ε: 0.197\u001b[0m\n",
      "\u001b[32m2025-07-08 12:25:29.097\u001b[0m | \u001b[1mINFO    \u001b[0m | \u001b[36msrc.rl.tabular_q_learning\u001b[0m:\u001b[36mtrain\u001b[0m:\u001b[36m225\u001b[0m - \u001b[1mEpisode   425 | R: +1.0 | ε: 0.178\u001b[0m\n",
      "\u001b[32m2025-07-08 12:25:29.104\u001b[0m | \u001b[1mINFO    \u001b[0m | \u001b[36msrc.rl.tabular_q_learning\u001b[0m:\u001b[36mtrain\u001b[0m:\u001b[36m225\u001b[0m - \u001b[1mEpisode   450 | R: +1.0 | ε: 0.161\u001b[0m\n",
      "\u001b[32m2025-07-08 12:25:29.111\u001b[0m | \u001b[1mINFO    \u001b[0m | \u001b[36msrc.rl.tabular_q_learning\u001b[0m:\u001b[36mtrain\u001b[0m:\u001b[36m225\u001b[0m - \u001b[1mEpisode   475 | R: +1.0 | ε: 0.145\u001b[0m\n",
      "\u001b[32m2025-07-08 12:25:29.118\u001b[0m | \u001b[1mINFO    \u001b[0m | \u001b[36msrc.rl.tabular_q_learning\u001b[0m:\u001b[36mtrain\u001b[0m:\u001b[36m225\u001b[0m - \u001b[1mEpisode   500 | R: +1.0 | ε: 0.131\u001b[0m\n"
     ]
    },
    {
     "data": {
      "text/html": [],
      "text/plain": [
       "<IPython.core.display.HTML object>"
      ]
     },
     "metadata": {},
     "output_type": "display_data"
    },
    {
     "data": {
      "text/html": [
       "<br>    <style><br>        .wandb-row {<br>            display: flex;<br>            flex-direction: row;<br>            flex-wrap: wrap;<br>            justify-content: flex-start;<br>            width: 100%;<br>        }<br>        .wandb-col {<br>            display: flex;<br>            flex-direction: column;<br>            flex-basis: 100%;<br>            flex: 1;<br>            padding: 10px;<br>        }<br>    </style><br><div class=\"wandb-row\"><div class=\"wandb-col\"><h3>Run history:</h3><br/><table class=\"wandb\"><tr><td>best_reward</td><td>▁</td></tr><tr><td>converged_episode</td><td>▁</td></tr><tr><td>train_time_sec</td><td>▁</td></tr></table><br/></div><div class=\"wandb-col\"><h3>Run summary:</h3><br/><table class=\"wandb\"><tr><td>best_reward</td><td>1</td></tr><tr><td>converged_episode</td><td>-1</td></tr><tr><td>train_time_sec</td><td>0</td></tr></table><br/></div></div>"
      ],
      "text/plain": [
       "<IPython.core.display.HTML object>"
      ]
     },
     "metadata": {},
     "output_type": "display_data"
    },
    {
     "data": {
      "text/html": [
       " View run <strong style=\"color:#cdcd00\">flowing-sweep-29</strong> at: <a href='https://wandb.ai/nightly/montyhall-ql/runs/m1vxyi5z' target=\"_blank\">https://wandb.ai/nightly/montyhall-ql/runs/m1vxyi5z</a><br> View project at: <a href='https://wandb.ai/nightly/montyhall-ql' target=\"_blank\">https://wandb.ai/nightly/montyhall-ql</a><br>Synced 5 W&B file(s), 0 media file(s), 0 artifact file(s) and 0 other file(s)"
      ],
      "text/plain": [
       "<IPython.core.display.HTML object>"
      ]
     },
     "metadata": {},
     "output_type": "display_data"
    },
    {
     "data": {
      "text/html": [
       "Find logs at: <code>.\\wandb\\run-20250708_122528-m1vxyi5z\\logs</code>"
      ],
      "text/plain": [
       "<IPython.core.display.HTML object>"
      ]
     },
     "metadata": {},
     "output_type": "display_data"
    },
    {
     "name": "stderr",
     "output_type": "stream",
     "text": [
      "\u001b[34m\u001b[1mwandb\u001b[0m: Agent Starting Run: o889krs2 with config:\n",
      "\u001b[34m\u001b[1mwandb\u001b[0m: \tdiscount_factor: 0.953422520597212\n",
      "\u001b[34m\u001b[1mwandb\u001b[0m: \tepsilon_decay: 0.9665424957161276\n",
      "\u001b[34m\u001b[1mwandb\u001b[0m: \tlearning_rate: 1.1341730277056614e-05\n"
     ]
    },
    {
     "data": {
      "text/html": [
       "Ignoring project 'montyhall-ql' when running a sweep."
      ],
      "text/plain": [
       "<IPython.core.display.HTML object>"
      ]
     },
     "metadata": {},
     "output_type": "display_data"
    },
    {
     "data": {
      "text/html": [
       "Tracking run with wandb version 0.19.11"
      ],
      "text/plain": [
       "<IPython.core.display.HTML object>"
      ]
     },
     "metadata": {},
     "output_type": "display_data"
    },
    {
     "data": {
      "text/html": [
       "Run data is saved locally in <code>c:\\Projects\\amethyst\\Solving-Combinatorial-Problems-using-Reinforcement-Learning\\wandb\\run-20250708_122533-o889krs2</code>"
      ],
      "text/plain": [
       "<IPython.core.display.HTML object>"
      ]
     },
     "metadata": {},
     "output_type": "display_data"
    },
    {
     "data": {
      "text/html": [
       "Syncing run <strong><a href='https://wandb.ai/nightly/montyhall-ql/runs/o889krs2' target=\"_blank\">amber-sweep-30</a></strong> to <a href='https://wandb.ai/nightly/montyhall-ql' target=\"_blank\">Weights & Biases</a> (<a href='https://wandb.me/developer-guide' target=\"_blank\">docs</a>)<br>Sweep page: <a href='https://wandb.ai/nightly/montyhall-ql/sweeps/y9nid08r' target=\"_blank\">https://wandb.ai/nightly/montyhall-ql/sweeps/y9nid08r</a>"
      ],
      "text/plain": [
       "<IPython.core.display.HTML object>"
      ]
     },
     "metadata": {},
     "output_type": "display_data"
    },
    {
     "data": {
      "text/html": [
       " View project at <a href='https://wandb.ai/nightly/montyhall-ql' target=\"_blank\">https://wandb.ai/nightly/montyhall-ql</a>"
      ],
      "text/plain": [
       "<IPython.core.display.HTML object>"
      ]
     },
     "metadata": {},
     "output_type": "display_data"
    },
    {
     "data": {
      "text/html": [
       " View sweep at <a href='https://wandb.ai/nightly/montyhall-ql/sweeps/y9nid08r' target=\"_blank\">https://wandb.ai/nightly/montyhall-ql/sweeps/y9nid08r</a>"
      ],
      "text/plain": [
       "<IPython.core.display.HTML object>"
      ]
     },
     "metadata": {},
     "output_type": "display_data"
    },
    {
     "data": {
      "text/html": [
       " View run at <a href='https://wandb.ai/nightly/montyhall-ql/runs/o889krs2' target=\"_blank\">https://wandb.ai/nightly/montyhall-ql/runs/o889krs2</a>"
      ],
      "text/plain": [
       "<IPython.core.display.HTML object>"
      ]
     },
     "metadata": {},
     "output_type": "display_data"
    },
    {
     "name": "stderr",
     "output_type": "stream",
     "text": [
      "\u001b[32m2025-07-08 12:25:34.383\u001b[0m | \u001b[1mINFO    \u001b[0m | \u001b[36msrc.rl.tabular_q_learning\u001b[0m:\u001b[36mtrain\u001b[0m:\u001b[36m225\u001b[0m - \u001b[1mEpisode    25 | R: +1.0 | ε: 0.427\u001b[0m\n",
      "\u001b[32m2025-07-08 12:25:34.390\u001b[0m | \u001b[1mINFO    \u001b[0m | \u001b[36msrc.rl.tabular_q_learning\u001b[0m:\u001b[36mtrain\u001b[0m:\u001b[36m225\u001b[0m - \u001b[1mEpisode    50 | R: +1.0 | ε: 0.182\u001b[0m\n",
      "\u001b[32m2025-07-08 12:25:34.394\u001b[0m | \u001b[1mINFO    \u001b[0m | \u001b[36msrc.rl.tabular_q_learning\u001b[0m:\u001b[36mtrain\u001b[0m:\u001b[36m225\u001b[0m - \u001b[1mEpisode    75 | R: +1.0 | ε: 0.078\u001b[0m\n",
      "\u001b[32m2025-07-08 12:25:34.404\u001b[0m | \u001b[1mINFO    \u001b[0m | \u001b[36msrc.rl.tabular_q_learning\u001b[0m:\u001b[36mtrain\u001b[0m:\u001b[36m225\u001b[0m - \u001b[1mEpisode   100 | R: +1.0 | ε: 0.050\u001b[0m\n",
      "\u001b[32m2025-07-08 12:25:34.410\u001b[0m | \u001b[1mINFO    \u001b[0m | \u001b[36msrc.rl.tabular_q_learning\u001b[0m:\u001b[36mtrain\u001b[0m:\u001b[36m225\u001b[0m - \u001b[1mEpisode   125 | R: +1.0 | ε: 0.050\u001b[0m\n",
      "\u001b[32m2025-07-08 12:25:34.417\u001b[0m | \u001b[1mINFO    \u001b[0m | \u001b[36msrc.rl.tabular_q_learning\u001b[0m:\u001b[36mtrain\u001b[0m:\u001b[36m225\u001b[0m - \u001b[1mEpisode   150 | R: +1.0 | ε: 0.050\u001b[0m\n",
      "\u001b[32m2025-07-08 12:25:34.423\u001b[0m | \u001b[1mINFO    \u001b[0m | \u001b[36msrc.rl.tabular_q_learning\u001b[0m:\u001b[36mtrain\u001b[0m:\u001b[36m225\u001b[0m - \u001b[1mEpisode   175 | R: +1.0 | ε: 0.050\u001b[0m\n",
      "\u001b[32m2025-07-08 12:25:34.429\u001b[0m | \u001b[1mINFO    \u001b[0m | \u001b[36msrc.rl.tabular_q_learning\u001b[0m:\u001b[36mtrain\u001b[0m:\u001b[36m225\u001b[0m - \u001b[1mEpisode   200 | R: +1.0 | ε: 0.050\u001b[0m\n",
      "\u001b[32m2025-07-08 12:25:34.439\u001b[0m | \u001b[1mINFO    \u001b[0m | \u001b[36msrc.rl.tabular_q_learning\u001b[0m:\u001b[36mtrain\u001b[0m:\u001b[36m225\u001b[0m - \u001b[1mEpisode   225 | R: +1.0 | ε: 0.050\u001b[0m\n",
      "\u001b[32m2025-07-08 12:25:34.445\u001b[0m | \u001b[32m\u001b[1mSUCCESS \u001b[0m | \u001b[36msrc.rl.tabular_q_learning\u001b[0m:\u001b[36mtrain\u001b[0m:\u001b[36m236\u001b[0m - \u001b[32m\u001b[1mConverged at episode 248 after 0.07s\u001b[0m\n",
      "\u001b[32m2025-07-08 12:25:34.445\u001b[0m | \u001b[1mINFO    \u001b[0m | \u001b[36msrc.rl.tabular_q_learning\u001b[0m:\u001b[36mtrain\u001b[0m:\u001b[36m225\u001b[0m - \u001b[1mEpisode   250 | R: +1.0 | ε: 0.050\u001b[0m\n",
      "\u001b[32m2025-07-08 12:25:34.452\u001b[0m | \u001b[1mINFO    \u001b[0m | \u001b[36msrc.rl.tabular_q_learning\u001b[0m:\u001b[36mtrain\u001b[0m:\u001b[36m225\u001b[0m - \u001b[1mEpisode   275 | R: +1.0 | ε: 0.050\u001b[0m\n",
      "\u001b[32m2025-07-08 12:25:34.463\u001b[0m | \u001b[1mINFO    \u001b[0m | \u001b[36msrc.rl.tabular_q_learning\u001b[0m:\u001b[36mtrain\u001b[0m:\u001b[36m225\u001b[0m - \u001b[1mEpisode   300 | R: +1.0 | ε: 0.050\u001b[0m\n",
      "\u001b[32m2025-07-08 12:25:34.464\u001b[0m | \u001b[1mINFO    \u001b[0m | \u001b[36msrc.rl.tabular_q_learning\u001b[0m:\u001b[36mtrain\u001b[0m:\u001b[36m225\u001b[0m - \u001b[1mEpisode   325 | R: +1.0 | ε: 0.050\u001b[0m\n",
      "\u001b[32m2025-07-08 12:25:34.474\u001b[0m | \u001b[1mINFO    \u001b[0m | \u001b[36msrc.rl.tabular_q_learning\u001b[0m:\u001b[36mtrain\u001b[0m:\u001b[36m225\u001b[0m - \u001b[1mEpisode   350 | R: +1.0 | ε: 0.050\u001b[0m\n",
      "\u001b[32m2025-07-08 12:25:34.480\u001b[0m | \u001b[1mINFO    \u001b[0m | \u001b[36msrc.rl.tabular_q_learning\u001b[0m:\u001b[36mtrain\u001b[0m:\u001b[36m225\u001b[0m - \u001b[1mEpisode   375 | R: +1.0 | ε: 0.050\u001b[0m\n",
      "\u001b[32m2025-07-08 12:25:34.487\u001b[0m | \u001b[1mINFO    \u001b[0m | \u001b[36msrc.rl.tabular_q_learning\u001b[0m:\u001b[36mtrain\u001b[0m:\u001b[36m225\u001b[0m - \u001b[1mEpisode   400 | R: +1.0 | ε: 0.050\u001b[0m\n",
      "\u001b[32m2025-07-08 12:25:34.492\u001b[0m | \u001b[1mINFO    \u001b[0m | \u001b[36msrc.rl.tabular_q_learning\u001b[0m:\u001b[36mtrain\u001b[0m:\u001b[36m225\u001b[0m - \u001b[1mEpisode   425 | R: +1.0 | ε: 0.050\u001b[0m\n",
      "\u001b[32m2025-07-08 12:25:34.499\u001b[0m | \u001b[1mINFO    \u001b[0m | \u001b[36msrc.rl.tabular_q_learning\u001b[0m:\u001b[36mtrain\u001b[0m:\u001b[36m225\u001b[0m - \u001b[1mEpisode   450 | R: +1.0 | ε: 0.050\u001b[0m\n",
      "\u001b[32m2025-07-08 12:25:34.501\u001b[0m | \u001b[1mINFO    \u001b[0m | \u001b[36msrc.rl.tabular_q_learning\u001b[0m:\u001b[36mtrain\u001b[0m:\u001b[36m225\u001b[0m - \u001b[1mEpisode   475 | R: +1.0 | ε: 0.050\u001b[0m\n",
      "\u001b[32m2025-07-08 12:25:34.506\u001b[0m | \u001b[1mINFO    \u001b[0m | \u001b[36msrc.rl.tabular_q_learning\u001b[0m:\u001b[36mtrain\u001b[0m:\u001b[36m225\u001b[0m - \u001b[1mEpisode   500 | R: +1.0 | ε: 0.050\u001b[0m\n"
     ]
    },
    {
     "data": {
      "text/html": [],
      "text/plain": [
       "<IPython.core.display.HTML object>"
      ]
     },
     "metadata": {},
     "output_type": "display_data"
    },
    {
     "data": {
      "text/html": [
       "<br>    <style><br>        .wandb-row {<br>            display: flex;<br>            flex-direction: row;<br>            flex-wrap: wrap;<br>            justify-content: flex-start;<br>            width: 100%;<br>        }<br>        .wandb-col {<br>            display: flex;<br>            flex-direction: column;<br>            flex-basis: 100%;<br>            flex: 1;<br>            padding: 10px;<br>        }<br>    </style><br><div class=\"wandb-row\"><div class=\"wandb-col\"><h3>Run history:</h3><br/><table class=\"wandb\"><tr><td>best_reward</td><td>▁</td></tr><tr><td>converged_episode</td><td>▁</td></tr><tr><td>train_time_sec</td><td>▁</td></tr></table><br/></div><div class=\"wandb-col\"><h3>Run summary:</h3><br/><table class=\"wandb\"><tr><td>best_reward</td><td>1</td></tr><tr><td>converged_episode</td><td>248</td></tr><tr><td>train_time_sec</td><td>0.06932</td></tr></table><br/></div></div>"
      ],
      "text/plain": [
       "<IPython.core.display.HTML object>"
      ]
     },
     "metadata": {},
     "output_type": "display_data"
    },
    {
     "data": {
      "text/html": [
       " View run <strong style=\"color:#cdcd00\">amber-sweep-30</strong> at: <a href='https://wandb.ai/nightly/montyhall-ql/runs/o889krs2' target=\"_blank\">https://wandb.ai/nightly/montyhall-ql/runs/o889krs2</a><br> View project at: <a href='https://wandb.ai/nightly/montyhall-ql' target=\"_blank\">https://wandb.ai/nightly/montyhall-ql</a><br>Synced 5 W&B file(s), 0 media file(s), 0 artifact file(s) and 0 other file(s)"
      ],
      "text/plain": [
       "<IPython.core.display.HTML object>"
      ]
     },
     "metadata": {},
     "output_type": "display_data"
    },
    {
     "data": {
      "text/html": [
       "Find logs at: <code>.\\wandb\\run-20250708_122533-o889krs2\\logs</code>"
      ],
      "text/plain": [
       "<IPython.core.display.HTML object>"
      ]
     },
     "metadata": {},
     "output_type": "display_data"
    }
   ],
   "source": [
    "sweep_config = dict(\n",
    "    name   = \"montyhall-bayes\",\n",
    "    method = \"bayes\",                      # The search method used: grid | random | bayes. Random & Bayes work best.\n",
    "    metric = dict(name=\"best_reward\", goal=\"maximize\"),\n",
    "    parameters = dict(\n",
    "        learning_rate   = dict(min=1e-5,  max=1e-2,  distribution=\"log_uniform_values\"),\n",
    "        discount_factor = dict(min=0.8,   max=0.999, distribution=\"uniform\"),\n",
    "        epsilon_decay   = dict(min=0.95,  max=0.9999,distribution=\"uniform\"),\n",
    "    ),\n",
    "    early_terminate = dict(type=\"hyperband\", min_iter=10),\n",
    ")\n",
    "\n",
    "sweep_id = wandb.sweep(sweep_config, project=\"montyhall-ql\")\n",
    "wandb.agent(sweep_id, function=train_sweep, count=30) # 30 trials"
   ]
  },
  {
   "cell_type": "markdown",
   "id": "a76f92f8",
   "metadata": {},
   "source": [
    "# Viewing the results\n",
    "If you navigate to the sweep URL on Weights & Biases (wandb.ai), you'll see the data logged in various formats such as table and graphs, where you can visualise the hyperparameter space. You should see something like the following:\n",
    "\n",
    "![wandb dashboard](assets/wandb.png)\n",
    "\n",
    "Explore this dashboard fully for more information on how the tuning and sweeps went.\n",
    "\n",
    "We can programmatically print the best hyperparameters as below:"
   ]
  },
  {
   "cell_type": "code",
   "execution_count": 25,
   "id": "33934220",
   "metadata": {},
   "outputs": [
    {
     "name": "stdout",
     "output_type": "stream",
     "text": [
      "🏆  flowing-sweep-29\n",
      "   • best_reward       : 1\n",
      "   • converged_episode : -1\n",
      "   • hyperparams: {'learning_rate': 0.0075310023770832355, 'discount_factor': 0.9199196700975204, 'epsilon_decay': 0.9959496271212284}\n"
     ]
    }
   ],
   "source": [
    "api   = wandb.Api()\n",
    "sweep = api.sweep(f\"{os.getenv(\"WANDB_ENTITY\")}/montyhall-ql/{sweep_id}\")\n",
    "best  = max(sweep.runs, key=lambda r: r.summary.get(\"best_reward\", float(\"-inf\")))\n",
    "\n",
    "\n",
    "\n",
    "# ── 2. Rank runs: highest reward FIRST, then earliest convergence ────────\n",
    "def sort_key(run):\n",
    "    # Reward: want *larger* → negate so larger becomes “smaller” for sort()\n",
    "    reward = -run.summary.get(\"best_reward\", float(\"-inf\"))\n",
    "    # Convergence episode: want *smaller*\n",
    "    conv_ep = run.summary.get(\"converged_episode\", float(\"inf\"))\n",
    "    return (reward, conv_ep)\n",
    "\n",
    "best_run = min(sweep.runs, key=sort_key)\n",
    "\n",
    "# ── 3. Print the winner’s details ────────────────────────────────────────\n",
    "print(f\"🏆  {best_run.name}\")\n",
    "print(f\"   • best_reward       : {best_run.summary['best_reward']}\")\n",
    "print(f\"   • converged_episode : {best_run.summary['converged_episode']}\")\n",
    "print(f\"   • hyperparams:\", {k: best_run.config[k] for k in ('learning_rate',\n",
    "                                                    'discount_factor',\n",
    "                                                    'epsilon_decay')})"
   ]
  },
  {
   "cell_type": "markdown",
   "id": "0a834d17",
   "metadata": {},
   "source": [
    "# Conclusion\n",
    "\n",
    "In this notebook, we learnt the following:\n",
    "* Instantiating environments with the Gymnasium library\n",
    "* Deployed our previously implemented Reinforcement Learning algorithm, Tabular Q Learning, on the aforementioned environment \n",
    "* How to visualise training performance through plotting with Matplotlib\n",
    "* How to perform hyperparameter tuning\n",
    "* Followed best practices for experiment tracking and storage of results in an archival manner\n",
    "\n",
    "## Extension activity\n",
    "As an extension to this, you can consider the following task:\n",
    "> Based on our trained RL algorithm, using optimal hyperparameters above, how often is it optimal to switch or stay with the first selected door? \n",
    "\n",
    "You can do this by using the `.test()` method and collecting some basic statistics using the rolled-out policy.\n",
    "\n",
    "## Next notebook\n",
    "In the next notebook (3. Environment Creation), we will learn how to create your own environment. This allows solving any arbitrary combinatorial problem, allowing you to formally define the \"problem space\" for any problem you can think of. "
   ]
  }
 ],
 "metadata": {
  "kernelspec": {
   "display_name": ".venv",
   "language": "python",
   "name": "python3"
  },
  "language_info": {
   "codemirror_mode": {
    "name": "ipython",
    "version": 3
   },
   "file_extension": ".py",
   "mimetype": "text/x-python",
   "name": "python",
   "nbconvert_exporter": "python",
   "pygments_lexer": "ipython3",
   "version": "3.12.7"
  }
 },
 "nbformat": 4,
 "nbformat_minor": 5
}
